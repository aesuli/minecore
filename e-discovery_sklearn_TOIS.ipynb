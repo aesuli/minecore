{
 "cells": [
  {
   "cell_type": "markdown",
   "metadata": {},
   "source": [
    "# MINECORE - TOIS replication\n",
    "Implementation and replication of the experiments of the e-discovery method presented in Oard, Sebastiani, Vinjumur: \"Jointly Minimizing the Expected Costs of Review for Responsiveness and Privilege in E-Discovery.\" https://doi.org/10.1145/3268928"
   ]
  },
  {
   "cell_type": "markdown",
   "metadata": {},
   "source": [
    "## Dataset"
   ]
  },
  {
   "cell_type": "code",
   "execution_count": 1,
   "metadata": {
    "scrolled": true
   },
   "outputs": [
   ],
   "source": [
    "from sklearn.datasets import fetch_rcv1\n",
    "rcv1 = fetch_rcv1()"
   ]
  },
  {
   "cell_type": "code",
   "execution_count": 2,
   "metadata": {
    "scrolled": true
   },
   "outputs": [
    {
     "data": {
      "text/plain": [
       "(804414, 103)"
      ]
     },
     "execution_count": 2,
     "metadata": {},
     "output_type": "execute_result"
    }
   ],
   "source": [
    "rcv1.target.shape"
   ]
  },
  {
   "cell_type": "markdown",
   "metadata": {},
   "source": [
    "The paper uses only the first quarter of the test set, yet results do not differ significantly when run on the full test set."
   ]
  },
  {
   "cell_type": "code",
   "execution_count": 3,
   "metadata": {
    "scrolled": true
   },
   "outputs": [
    {
     "data": {
      "text/plain": [
       "(23149, 199328)"
      ]
     },
     "execution_count": 3,
     "metadata": {},
     "output_type": "execute_result"
    }
   ],
   "source": [
    "TRAINING_SET_END = 23149\n",
    "TEST_SET_START = TRAINING_SET_END\n",
    "SMALL_TEST_SET_END = TRAINING_SET_END+199328\n",
    "FULL_TEST_SET_END = rcv1.target.shape[0]\n",
    "TEST_SET_END = SMALL_TEST_SET_END\n",
    "TRAINING_SET_END, TEST_SET_END-TEST_SET_START"
   ]
  },
  {
   "cell_type": "code",
   "execution_count": 4,
   "metadata": {
    "scrolled": true
   },
   "outputs": [],
   "source": [
    "import numpy as np\n",
    "quarter_y_arr = dict()\n",
    "for i,c in enumerate(rcv1.target_names):\n",
    "    quarter_y_arr[c] = np.asarray(rcv1.target[TEST_SET_START:TEST_SET_END,i].todense()).squeeze()"
   ]
  },
  {
   "cell_type": "code",
   "execution_count": 5,
   "metadata": {},
   "outputs": [
    {
     "data": {
      "text/plain": [
       "(199328,)"
      ]
     },
     "execution_count": 5,
     "metadata": {},
     "output_type": "execute_result"
    }
   ],
   "source": [
    "quarter_y_arr['C11'].shape"
   ]
  },
  {
   "cell_type": "code",
   "execution_count": 6,
   "metadata": {
    "scrolled": true
   },
   "outputs": [],
   "source": [
    "import numpy as np\n",
    "full_y_arr = dict()\n",
    "for i,c in enumerate(rcv1.target_names):\n",
    "    full_y_arr[c] = np.asarray(rcv1.target[0:TEST_SET_END,i].todense()).squeeze()"
   ]
  },
  {
   "cell_type": "code",
   "execution_count": 7,
   "metadata": {},
   "outputs": [
    {
     "data": {
      "text/plain": [
       "(222477,)"
      ]
     },
     "execution_count": 7,
     "metadata": {},
     "output_type": "execute_result"
    }
   ],
   "source": [
    "full_y_arr['C11'].shape"
   ]
  },
  {
   "cell_type": "markdown",
   "metadata": {},
   "source": [
    "Following the paper in using the first quarter of the test set."
   ]
  },
  {
   "cell_type": "code",
   "execution_count": 8,
   "metadata": {},
   "outputs": [],
   "source": [
    "y_arr = quarter_y_arr"
   ]
  },
  {
   "cell_type": "markdown",
   "metadata": {},
   "source": [
    "### Relevant r-p class pairs\n",
    "These below are the class pairs tested in the paper."
   ]
  },
  {
   "cell_type": "code",
   "execution_count": 9,
   "metadata": {},
   "outputs": [],
   "source": [
    "pairs = [('M12', 'M14'), ('M12', 'CCAT'), ('M12', 'M132'), ('M12', 'E21'), ('M12', 'M131'), ('M132', 'GPOL'), \n",
    "         ('M132', 'CCAT'), ('M132', 'M12'), ('M132', 'M131'), ('M132', 'GCAT'), ('M131', 'CCAT'), ('M131', 'M132'), \n",
    "         ('M131', 'E12'), ('M131', 'ECAT'), ('M131', 'M12'), ('E12', 'M11'), ('E12', 'GDIP'), ('E12', 'E212'), \n",
    "         ('E12', 'M131'), ('E12', 'E21'), ('C21', 'C17'), ('C21', 'C15'), ('C21', 'ECAT'), ('C21', 'C31'), \n",
    "         ('C21', 'M141'), ('E212', 'GPOL'), ('E212', 'E12'), ('E212', 'M12'), ('E212', 'MCAT'), ('E212', 'C17'), \n",
    "         ('GCRIM', 'E212'), ('GCRIM', 'C15'), ('GCRIM', 'C18'), ('GCRIM', 'GDIP'), ('GCRIM', 'GPOL'), ('C24', 'GDIP'), \n",
    "         ('C24', 'C15'), ('C24', 'C31'), ('C24', 'MCAT'), ('C24', 'C21'), ('GVIO', 'C21'), ('GVIO', 'C24'), ('GVIO', 'CCAT'), \n",
    "         ('GVIO', 'ECAT'), ('GVIO', 'GCRIM'), ('C13', 'M12'), ('C13', 'C15'), ('C13', 'GPOL'), ('C13', 'M14'), ('C13', 'MCAT'), \n",
    "         ('GDIP', 'C31'), ('GDIP', 'E12'), ('GDIP', 'CCAT'), ('GDIP', 'ECAT'), ('GDIP', 'GPOL'), ('C31', 'C151'), \n",
    "         ('C31', 'C15'), ('C31', 'ECAT'), ('C31', 'C21'), ('C31', 'M14'), ('C181', 'C151'), ('C181', 'GCAT'), \n",
    "         ('C181', 'C152'), ('C181', 'C15'), ('C181', 'C17'), ('M141', 'ECAT'), ('M141', 'GCAT'), ('M141', 'C24'),\n",
    "         ('M141', 'C31'), ('M141', 'C21'), ('M11', 'ECAT'), ('M11', 'C152'), ('M11', 'M132'), ('M11', 'M13'), \n",
    "         ('M11', 'CCAT'), ('E21', 'C31'), ('E21', 'M12'), ('E21', 'MCAT'), ('E21', 'E12'), ('E21', 'GPOL'), \n",
    "         ('C17', 'MCAT'), ('C17', 'C152'), ('C17', 'C15'), ('C17', 'C18'), ('C17', 'ECAT'), ('M13', 'E21'), \n",
    "         ('M13', 'M11'), ('M13', 'GCAT'), ('M13', 'E12'), ('M13', 'ECAT'), ('C18', 'E12'), ('C18', 'GCAT'), \n",
    "         ('C18', 'C152'), ('C18', 'C15'), ('C18', 'C17'), ('GPOL', 'MCAT'), ('GPOL', 'CCAT'), ('GPOL', 'GCRIM'), \n",
    "         ('GPOL', 'E21'), ('GPOL', 'GVIO'), ('C152', 'M11'), ('C152', 'C17'), ('C152', 'C31'), ('C152', 'C181'), \n",
    "         ('C152', 'C18'), ('M14', 'M132'), ('M14', 'M13'), ('M14', 'GCAT'), ('M14', 'C24'), ('M14', 'C31'), ('C151', 'C181'), \n",
    "         ('C151', 'C18'), ('C151', 'C17'), ('C151', 'C31'), ('C151', 'C152'), ('ECAT', 'GVIO'), ('ECAT', 'C17'), \n",
    "         ('ECAT', 'M13'), ('ECAT', 'GPOL'), ('ECAT', 'MCAT')]"
   ]
  },
  {
   "cell_type": "markdown",
   "metadata": {},
   "source": [
    "## Timining utils"
   ]
  },
  {
   "cell_type": "code",
   "execution_count": 10,
   "metadata": {
    "scrolled": true
   },
   "outputs": [],
   "source": [
    "import time\n",
    "import re\n",
    "\n",
    "_timer_curr_name = None\n",
    "_timer_curr_start = 0\n",
    "_timers = dict()\n",
    "\n",
    "def timer(name=None):\n",
    "    global _timer_curr_name,_timer_curr_start,_timers\n",
    "    now = time.time()\n",
    "    if _timer_curr_name:\n",
    "        _timers[_timer_curr_name] = now-_timer_curr_start\n",
    "    _timer_curr_start = now\n",
    "    _timer_curr_name = name\n",
    "    \n",
    "def dump_timers(regex='.*'):\n",
    "    global _timers\n",
    "    for key in _timers:\n",
    "        if re.fullmatch(regex,key):\n",
    "            print(key, f'{_timers[key]:9.3f}')\n",
    "            \n",
    "def del_timer(name):\n",
    "    try:\n",
    "        del _timers[name]\n",
    "    except:\n",
    "        pass"
   ]
  },
  {
   "cell_type": "markdown",
   "metadata": {
    "collapsed": true
   },
   "source": [
    "## Classifiers\n",
    "Differently from the paper I use sklearn. Results are not significantly different."
   ]
  },
  {
   "cell_type": "code",
   "execution_count": 11,
   "metadata": {
    "scrolled": true
   },
   "outputs": [],
   "source": [
    "from sklearn.svm import LinearSVC\n",
    "from sklearn.calibration import CalibratedClassifierCV\n",
    "import numpy as np"
   ]
  },
  {
   "cell_type": "code",
   "execution_count": 12,
   "metadata": {
    "scrolled": true
   },
   "outputs": [],
   "source": [
    "kfold = 10"
   ]
  },
  {
   "cell_type": "code",
   "execution_count": 13,
   "metadata": {
    "scrolled": true
   },
   "outputs": [
    {
     "data": {
      "text/plain": [
       "{'C13',\n",
       " 'C15',\n",
       " 'C151',\n",
       " 'C152',\n",
       " 'C17',\n",
       " 'C18',\n",
       " 'C181',\n",
       " 'C21',\n",
       " 'C24',\n",
       " 'C31',\n",
       " 'CCAT',\n",
       " 'E12',\n",
       " 'E21',\n",
       " 'E212',\n",
       " 'ECAT',\n",
       " 'GCAT',\n",
       " 'GCRIM',\n",
       " 'GDIP',\n",
       " 'GPOL',\n",
       " 'GVIO',\n",
       " 'M11',\n",
       " 'M12',\n",
       " 'M13',\n",
       " 'M131',\n",
       " 'M132',\n",
       " 'M14',\n",
       " 'M141',\n",
       " 'MCAT'}"
      ]
     },
     "execution_count": 13,
     "metadata": {},
     "output_type": "execute_result"
    }
   ],
   "source": [
    "labels = set()\n",
    "for cr,cp in pairs:\n",
    "    labels.add(cr)\n",
    "    labels.add(cp)\n",
    "labels"
   ]
  },
  {
   "cell_type": "code",
   "execution_count": 14,
   "metadata": {
    "scrolled": true
   },
   "outputs": [
    {
     "name": "stdout",
     "output_type": "stream",
     "text": [
      "GDIP 73 1004\n",
      "C13 2 947\n"
     ]
    },
    {
     "name": "stdout",
     "output_type": "stream",
     "text": [
      "GVIO 89 1115\n"
     ]
    },
    {
     "name": "stdout",
     "output_type": "stream",
     "text": [
      "ECAT 59 3449\n"
     ]
    },
    {
     "name": "stdout",
     "output_type": "stream",
     "text": [
      "E212 46 853\n"
     ]
    },
    {
     "name": "stdout",
     "output_type": "stream",
     "text": [
      "MCAT 102 5882\n"
     ]
    },
    {
     "name": "stdout",
     "output_type": "stream",
     "text": [
      "C31 22 1058\n"
     ]
    },
    {
     "name": "stdout",
     "output_type": "stream",
     "text": [
      "M131 96 943\n"
     ]
    },
    {
     "name": "stdout",
     "output_type": "stream",
     "text": [
      "M13 95 1596\n"
     ]
    },
    {
     "name": "stdout",
     "output_type": "stream",
     "text": [
      "M132 97 699\n"
     ]
    },
    {
     "name": "stdout",
     "output_type": "stream",
     "text": [
      "M14 98 2541\n"
     ]
    },
    {
     "name": "stdout",
     "output_type": "stream",
     "text": [
      "C18 14 1462\n"
     ]
    },
    {
     "name": "stdout",
     "output_type": "stream",
     "text": [
      "M141 99 1508\n"
     ]
    },
    {
     "name": "stdout",
     "output_type": "stream",
     "text": [
      "GCRIM 71 1133\n"
     ]
    },
    {
     "name": "stdout",
     "output_type": "stream",
     "text": [
      "C181 15 1205\n"
     ]
    },
    {
     "name": "stdout",
     "output_type": "stream",
     "text": [
      "C21 18 793\n"
     ]
    },
    {
     "name": "stdout",
     "output_type": "stream",
     "text": [
      "GPOL 83 1647\n"
     ]
    },
    {
     "name": "stdout",
     "output_type": "stream",
     "text": [
      "C152 7 1930\n"
     ]
    },
    {
     "name": "stdout",
     "output_type": "stream",
     "text": [
      "C151 5 2366\n"
     ]
    },
    {
     "name": "stdout",
     "output_type": "stream",
     "text": [
      "E12 35 679\n"
     ]
    },
    {
     "name": "stdout",
     "output_type": "stream",
     "text": [
      "GCAT 70 6970\n"
     ]
    },
    {
     "name": "stdout",
     "output_type": "stream",
     "text": [
      "CCAT 33 10786\n"
     ]
    },
    {
     "name": "stdout",
     "output_type": "stream",
     "text": [
      "M12 94 732\n"
     ]
    },
    {
     "name": "stdout",
     "output_type": "stream",
     "text": [
      "E21 44 1255\n"
     ]
    },
    {
     "name": "stdout",
     "output_type": "stream",
     "text": [
      "C17 9 1172\n"
     ]
    },
    {
     "name": "stdout",
     "output_type": "stream",
     "text": [
      "C24 21 922\n"
     ]
    },
    {
     "name": "stdout",
     "output_type": "stream",
     "text": [
      "C15 4 4179\n"
     ]
    },
    {
     "name": "stdout",
     "output_type": "stream",
     "text": [
      "M11 93 1294\n"
     ]
    }
   ],
   "source": [
    "classifiers = dict()\n",
    "train_X = rcv1.data[0:TRAINING_SET_END]\n",
    "for label in labels:\n",
    "    timer('learn '+label)\n",
    "    label_idx = rcv1.target_names.tolist().index(label)\n",
    "    learner = LinearSVC(loss='hinge')\n",
    "    train_y = np.asarray(rcv1.target[0:TRAINING_SET_END,[label_idx]].todense()).squeeze()\n",
    "    print(label, label_idx,train_y.sum())\n",
    "    label_kfold = min(train_y.sum(),kfold)\n",
    "    calibrator = CalibratedClassifierCV(learner,cv=label_kfold, method='sigmoid')\n",
    "    classifiers[label] = calibrator.fit(train_X,train_y)\n",
    "timer()"
   ]
  },
  {
   "cell_type": "code",
   "execution_count": 15,
   "metadata": {
    "scrolled": true
   },
   "outputs": [
    {
     "name": "stdout",
     "output_type": "stream",
     "text": [
      "learn GDIP     3.729\n",
      "learn C13     8.203\n",
      "learn GVIO     4.126\n",
      "learn ECAT    10.557\n",
      "learn E212     3.348\n",
      "learn MCAT     8.972\n",
      "learn C31     6.968\n",
      "learn M131     3.265\n",
      "learn M13     4.579\n",
      "learn M132     3.794\n",
      "learn M14     5.714\n",
      "learn C18     5.865\n",
      "learn M141     4.425\n",
      "learn GCRIM     5.199\n",
      "learn C181     4.967\n",
      "learn C21     6.677\n",
      "learn GPOL     7.526\n",
      "learn C152     7.157\n",
      "learn C151     4.648\n",
      "learn E12     5.631\n",
      "learn GCAT    11.099\n",
      "learn CCAT    13.895\n",
      "learn M12     3.446\n",
      "learn E21     3.552\n",
      "learn C17     5.280\n",
      "learn C24     3.987\n",
      "learn C15     7.994\n",
      "learn M11     4.608\n"
     ]
    }
   ],
   "source": [
    "dump_timers()"
   ]
  },
  {
   "cell_type": "code",
   "execution_count": 16,
   "metadata": {
    "scrolled": true
   },
   "outputs": [],
   "source": [
    "import pickle"
   ]
  },
  {
   "cell_type": "code",
   "execution_count": 17,
   "metadata": {
    "scrolled": true
   },
   "outputs": [],
   "source": [
    "with open('classifiers_TOIS.pkl',mode='wb') as outputfile:\n",
    "    pickle.dump(classifiers,outputfile)"
   ]
  },
  {
   "cell_type": "code",
   "execution_count": 18,
   "metadata": {
    "scrolled": true
   },
   "outputs": [
    {
     "name": "stdout",
     "output_type": "stream",
     "text": [
      "GDIP 73\n",
      "C13 2\n",
      "GVIO 89\n",
      "ECAT 59\n",
      "E212 46\n",
      "MCAT 102\n",
      "C31 22\n",
      "M131 96\n",
      "M13 95\n",
      "M132 97\n",
      "M14 98\n",
      "C18 14\n",
      "M141 99\n",
      "GCRIM 71\n",
      "C181 15\n",
      "C21 18\n",
      "GPOL 83\n",
      "C152 7\n",
      "C151 5\n",
      "E12 35\n",
      "GCAT 70\n",
      "CCAT 33\n",
      "M12 94\n",
      "E21 44\n",
      "C17 9\n",
      "C24 21\n",
      "C15 4\n",
      "M11 93\n"
     ]
    }
   ],
   "source": [
    "posterior_probabilities = dict()\n",
    "test_X = rcv1.data[TEST_SET_START:TEST_SET_END,:]\n",
    "for label in labels:\n",
    "    timer('classify '+label)\n",
    "    label_idx = rcv1.target_names.tolist().index(label)\n",
    "    print(label,label_idx)\n",
    "    clf = classifiers[label]\n",
    "    proba = clf.predict_proba(test_X)\n",
    "    posterior_probabilities[label] = proba\n",
    "timer()"
   ]
  },
  {
   "cell_type": "code",
   "execution_count": 19,
   "metadata": {
    "scrolled": true
   },
   "outputs": [],
   "source": [
    "with open('times_TOIS.pkl', mode='wb') as outputfile:\n",
    "    pickle.dump(_timers,outputfile)"
   ]
  },
  {
   "cell_type": "code",
   "execution_count": 20,
   "metadata": {
    "scrolled": true
   },
   "outputs": [],
   "source": [
    "with open('posterior_probabilities_TOIS.pkl',mode='wb') as outputfile:\n",
    "    pickle.dump(posterior_probabilities,outputfile)"
   ]
  },
  {
   "cell_type": "code",
   "execution_count": 21,
   "metadata": {},
   "outputs": [],
   "source": [
    "import pickle\n",
    "with open('times_TOIS.pkl',mode='rb') as inputfile:\n",
    "    _timers = pickle.load(inputfile)\n",
    "with open('classifiers_TOIS.pkl',mode='rb') as inputfile:\n",
    "    classifiers = pickle.load(inputfile)\n",
    "with open('posterior_probabilities_TOIS.pkl',mode='rb') as inputfile:\n",
    "    posterior_probabilities = pickle.load(inputfile)"
   ]
  },
  {
   "cell_type": "markdown",
   "metadata": {},
   "source": [
    "## evaluation of classifiers"
   ]
  },
  {
   "cell_type": "code",
   "execution_count": 22,
   "metadata": {
    "scrolled": true
   },
   "outputs": [],
   "source": [
    "from sklearn.calibration import calibration_curve\n",
    "import matplotlib.pyplot as plt"
   ]
  },
  {
   "cell_type": "code",
   "execution_count": 23,
   "metadata": {
    "scrolled": true
   },
   "outputs": [
    {
     "data": {
      "image/png": "[encoded data removed]",
      "text/plain": [
       "<Figure size 432x288 with 1 Axes>"
      ]
     },
     "metadata": {
      "needs_background": "light"
     },
     "output_type": "display_data"
    }
   ],
   "source": [
    "for label in labels:\n",
    "    label_idx = rcv1.target_names.tolist().index(label)\n",
    "    fraction_of_positives, mean_predicted_value = calibration_curve(np.asarray(rcv1.target[TEST_SET_START:TEST_SET_END,[label_idx]].todense()).squeeze(),posterior_probabilities[label][:,1],n_bins=10)\n",
    "    plt.plot(mean_predicted_value, fraction_of_positives, \"s-\")"
   ]
  },
  {
   "cell_type": "code",
   "execution_count": 24,
   "metadata": {
    "scrolled": true
   },
   "outputs": [
    {
     "name": "stdout",
     "output_type": "stream",
     "text": [
      "GDIP 6077 188072 1287 3892 0.97401769947022 0.701205792419085\n",
      "C13 2607 188726 1117 6878 0.9598902311767539 0.3947308653191006\n",
      "GVIO 5404 189673 1142 3109 0.9786733424305667 0.7177103393319609\n",
      "ECAT 22125 166143 2849 8211 0.9445135655803499 0.8000361598264328\n",
      "E212 5100 191742 340 2146 0.9875280943971745 0.8040359451363708\n",
      "MCAT 41365 150520 2979 4464 0.9626595360410981 0.917458662792632\n",
      "C31 3181 187926 890 7331 0.958756421576497 0.43626140026057736\n",
      "M131 5054 192549 349 1376 0.9913459222989244 0.8542212456688921\n",
      "M13 9827 186602 647 2252 0.9854561326055546 0.8714583425708331\n",
      "M132 4678 192880 516 1254 0.9911201637502006 0.8409131763436994\n",
      "M14 17521 178600 1109 2098 0.9839109407609569 0.9161546707103454\n",
      "C18 9467 184598 1774 3489 0.9735962835126023 0.782493697565814\n",
      "M141 9968 187856 770 734 0.9924546476159897 0.9298507462686567\n",
      "GCRIM 5212 190924 840 2352 0.9839861936105314 0.7655699177438308\n",
      "C181 7247 187128 1548 3405 0.9751515090704768 0.7453077595516018\n",
      "C21 2364 191682 505 4777 0.9735009632364745 0.4723276723276723\n",
      "GPOL 9898 182424 2034 4972 0.9648519023920372 0.738601596895754\n",
      "C152 14571 177910 1906 4941 0.9656495825975276 0.8097474228236405\n",
      "C151 17636 177919 785 2988 0.9810713999036763 0.9033679088231528\n",
      "E12 2950 191794 967 3617 0.9770027291700112 0.562762304463945\n",
      "GCAT 55439 135328 3354 5207 0.9570506903194734 0.9283232445013773\n",
      "CCAT 90306 95961 5344 7717 0.9344748354471023 0.9325615857656978\n",
      "M12 4092 193294 601 1341 0.9902572644084122 0.8082164724471657\n",
      "E21 7517 187781 740 3290 0.979782067747632 0.7886067981535879\n",
      "C17 7628 186724 1145 3831 0.9750361213677958 0.7540529853697113\n",
      "C24 3368 190105 1086 4769 0.970626304382726 0.5349853069652927\n",
      "C15 34295 158320 1647 5066 0.9663218413870606 0.9108534852529115\n",
      "M11 9343 187768 688 1529 0.9888776288328784 0.8939386690905612\n",
      "macro 0.9738415719675252 0.768419791942511\n",
      "micro 414240 5020949 38959 107036 0.9738415719675252 0.850180866620488\n"
     ]
    }
   ],
   "source": [
    "gtp = 0\n",
    "gtn = 0\n",
    "gfp = 0\n",
    "gfn = 0\n",
    "f1_values = list()\n",
    "accu_values = list()\n",
    "for label in labels:\n",
    "    label_idx = rcv1.target_names.tolist().index(label)\n",
    "    evaluation = ((np.asarray(rcv1.target[TRAINING_SET_END:TEST_SET_END,[label_idx]].todense()).squeeze()*2)+(posterior_probabilities[label][:,1]>0.5))\n",
    "    tp = (evaluation==3).sum()\n",
    "    tn = (evaluation==0).sum()\n",
    "    fp = (evaluation==1).sum()\n",
    "    fn = (evaluation==2).sum()\n",
    "    gtp += tp\n",
    "    gtn += tn\n",
    "    gfp += fp\n",
    "    gfn += fn\n",
    "    accu_values.append((tp+tn)/(tp+tn+fp+fn))\n",
    "    f1_values.append((2*tp)/(2*tp+fp+fn))\n",
    "    print(label, tp,tn,fp,fn, (tp+tn)/(tp+tn+fp+fn),(2*tp)/(2*tp+fp+fn))\n",
    "\n",
    "print('macro',np.mean(accu_values),np.mean(f1_values))\n",
    "print(\"micro\", gtp,gtn,gfp,gfn, (gtp+gtn)/(gtp+gtn+gfp+gfn),(2*gtp)/(2*gtp+gfp+gfn))"
   ]
  },
  {
   "cell_type": "markdown",
   "metadata": {},
   "source": [
    "## Cost structures"
   ]
  },
  {
   "cell_type": "code",
   "execution_count": 25,
   "metadata": {},
   "outputs": [],
   "source": [
    "cost_structures = [{\n",
    "    'cost_r': 1.,\n",
    "    'cost_p': 5.,\n",
    "    'cost_PP' : 0.,\n",
    "    'cost_PL' : 600.,\n",
    "    'cost_PW' : 5.,\n",
    "    'cost_LP' : 150.,\n",
    "    'cost_LL' : 0.,\n",
    "    'cost_LW' : 3.,\n",
    "    'cost_WP' : 15.,\n",
    "    'cost_WL' : 15.,\n",
    "    'cost_WW' : 0.,},\n",
    "    {\n",
    "    'cost_r': 1.,\n",
    "    'cost_p': 5.,\n",
    "    'cost_PP' : 0.,\n",
    "    'cost_PL' : 100.,\n",
    "    'cost_PW' : 0.03,\n",
    "    'cost_LP' : 10.,\n",
    "    'cost_LL' : 0.,\n",
    "    'cost_LW' : 2.,\n",
    "    'cost_WP' : 8.,\n",
    "    'cost_WL' : 8.,\n",
    "    'cost_WW' : 0.,},\n",
    "    {\n",
    "    'cost_r': 1.,\n",
    "    'cost_p': 5.,\n",
    "    'cost_PP' : 0.,\n",
    "    'cost_PL' : 1000.,\n",
    "    'cost_PW' : 0.1,\n",
    "    'cost_LP' : 1.,\n",
    "    'cost_LL' : 0.,\n",
    "    'cost_LW' : 1.,\n",
    "    'cost_WP' : 1.,\n",
    "    'cost_WL' : 1.,\n",
    "    'cost_WW' : 0.,},]"
   ]
  },
  {
   "cell_type": "markdown",
   "metadata": {},
   "source": [
    "Select a cost structure and run all the cells below to complete the experiments for that cost structure"
   ]
  },
  {
   "cell_type": "code",
   "execution_count": 26,
   "metadata": {},
   "outputs": [],
   "source": [
    "selected_cost_structure = 0"
   ]
  },
  {
   "cell_type": "code",
   "execution_count": 27,
   "metadata": {},
   "outputs": [],
   "source": [
    "cost_r = cost_structures[selected_cost_structure]['cost_r']\n",
    "cost_p = cost_structures[selected_cost_structure]['cost_p']\n",
    "cost_PP = cost_structures[selected_cost_structure]['cost_PP']\n",
    "cost_PL = cost_structures[selected_cost_structure]['cost_PL']\n",
    "cost_PW = cost_structures[selected_cost_structure]['cost_PW']\n",
    "cost_LP = cost_structures[selected_cost_structure]['cost_LP']\n",
    "cost_LL = cost_structures[selected_cost_structure]['cost_LL']\n",
    "cost_LW = cost_structures[selected_cost_structure]['cost_LW']\n",
    "cost_WP = cost_structures[selected_cost_structure]['cost_WP']\n",
    "cost_WL = cost_structures[selected_cost_structure]['cost_WL']\n",
    "cost_WW = cost_structures[selected_cost_structure]['cost_WW']"
   ]
  },
  {
   "cell_type": "code",
   "execution_count": 28,
   "metadata": {
    "scrolled": true
   },
   "outputs": [],
   "source": [
    "label_to_idx = {'P':0,'L':1,'W':2}\n",
    "cost_matrix = {'P':{'P':cost_PP,'L':cost_PL,'W':cost_PW},\n",
    "        'L':{'P':cost_LP,'L':cost_LL,'W':cost_LW},\n",
    "        'W':{'P':cost_WP,'L':cost_WL,'W':cost_WW},}"
   ]
  },
  {
   "cell_type": "markdown",
   "metadata": {},
   "source": [
    "## Manual Method"
   ]
  },
  {
   "cell_type": "code",
   "execution_count": 29,
   "metadata": {
    "scrolled": true
   },
   "outputs": [
    {
     "data": {
      "text/plain": [
       "[(('M12', 'M14'), 226493.0, 0.0, 226493.0),\n",
       " (('M12', 'CCAT'), 226493.0, 0.0, 226493.0),\n",
       " (('M12', 'M132'), 226493.0, 0.0, 226493.0),\n",
       " (('M12', 'E21'), 226493.0, 0.0, 226493.0),\n",
       " (('M12', 'M131'), 226493.0, 0.0, 226493.0),\n",
       " (('M132', 'GPOL'), 228988.0, 0.0, 228988.0),\n",
       " (('M132', 'CCAT'), 228988.0, 0.0, 228988.0),\n",
       " (('M132', 'M12'), 228988.0, 0.0, 228988.0),\n",
       " (('M132', 'M131'), 228988.0, 0.0, 228988.0),\n",
       " (('M132', 'GCAT'), 228988.0, 0.0, 228988.0),\n",
       " (('M131', 'CCAT'), 231478.0, 0.0, 231478.0),\n",
       " (('M131', 'M132'), 231478.0, 0.0, 231478.0),\n",
       " (('M131', 'E12'), 231478.0, 0.0, 231478.0),\n",
       " (('M131', 'ECAT'), 231478.0, 0.0, 231478.0),\n",
       " (('M131', 'M12'), 231478.0, 0.0, 231478.0),\n",
       " (('E12', 'M11'), 232163.0, 0.0, 232163.0),\n",
       " (('E12', 'GDIP'), 232163.0, 0.0, 232163.0),\n",
       " (('E12', 'E212'), 232163.0, 0.0, 232163.0),\n",
       " (('E12', 'M131'), 232163.0, 0.0, 232163.0),\n",
       " (('E12', 'E21'), 232163.0, 0.0, 232163.0),\n",
       " (('C21', 'C17'), 235033.0, 0.0, 235033.0),\n",
       " (('C21', 'C15'), 235033.0, 0.0, 235033.0),\n",
       " (('C21', 'ECAT'), 235033.0, 0.0, 235033.0),\n",
       " (('C21', 'C31'), 235033.0, 0.0, 235033.0),\n",
       " (('C21', 'M141'), 235033.0, 0.0, 235033.0),\n",
       " (('E212', 'GPOL'), 235558.0, 0.0, 235558.0),\n",
       " (('E212', 'E12'), 235558.0, 0.0, 235558.0),\n",
       " (('E212', 'M12'), 235558.0, 0.0, 235558.0),\n",
       " (('E212', 'MCAT'), 235558.0, 0.0, 235558.0),\n",
       " (('E212', 'C17'), 235558.0, 0.0, 235558.0),\n",
       " (('GCRIM', 'E212'), 237148.0, 0.0, 237148.0),\n",
       " (('GCRIM', 'C15'), 237148.0, 0.0, 237148.0),\n",
       " (('GCRIM', 'C18'), 237148.0, 0.0, 237148.0),\n",
       " (('GCRIM', 'GDIP'), 237148.0, 0.0, 237148.0),\n",
       " (('GCRIM', 'GPOL'), 237148.0, 0.0, 237148.0),\n",
       " (('C24', 'GDIP'), 240013.0, 0.0, 240013.0),\n",
       " (('C24', 'C15'), 240013.0, 0.0, 240013.0),\n",
       " (('C24', 'C31'), 240013.0, 0.0, 240013.0),\n",
       " (('C24', 'MCAT'), 240013.0, 0.0, 240013.0),\n",
       " (('C24', 'C21'), 240013.0, 0.0, 240013.0),\n",
       " (('GVIO', 'C21'), 241893.0, 0.0, 241893.0),\n",
       " (('GVIO', 'C24'), 241893.0, 0.0, 241893.0),\n",
       " (('GVIO', 'CCAT'), 241893.0, 0.0, 241893.0),\n",
       " (('GVIO', 'ECAT'), 241893.0, 0.0, 241893.0),\n",
       " (('GVIO', 'GCRIM'), 241893.0, 0.0, 241893.0),\n",
       " (('C13', 'M12'), 246753.0, 0.0, 246753.0),\n",
       " (('C13', 'C15'), 246753.0, 0.0, 246753.0),\n",
       " (('C13', 'GPOL'), 246753.0, 0.0, 246753.0),\n",
       " (('C13', 'M14'), 246753.0, 0.0, 246753.0),\n",
       " (('C13', 'MCAT'), 246753.0, 0.0, 246753.0),\n",
       " (('GDIP', 'C31'), 249173.0, 0.0, 249173.0),\n",
       " (('GDIP', 'E12'), 249173.0, 0.0, 249173.0),\n",
       " (('GDIP', 'CCAT'), 249173.0, 0.0, 249173.0),\n",
       " (('GDIP', 'ECAT'), 249173.0, 0.0, 249173.0),\n",
       " (('GDIP', 'GPOL'), 249173.0, 0.0, 249173.0),\n",
       " (('C31', 'C151'), 251888.0, 0.0, 251888.0),\n",
       " (('C31', 'C15'), 251888.0, 0.0, 251888.0),\n",
       " (('C31', 'ECAT'), 251888.0, 0.0, 251888.0),\n",
       " (('C31', 'C21'), 251888.0, 0.0, 251888.0),\n",
       " (('C31', 'M14'), 251888.0, 0.0, 251888.0),\n",
       " (('C181', 'C151'), 252588.0, 0.0, 252588.0),\n",
       " (('C181', 'GCAT'), 252588.0, 0.0, 252588.0),\n",
       " (('C181', 'C152'), 252588.0, 0.0, 252588.0),\n",
       " (('C181', 'C15'), 252588.0, 0.0, 252588.0),\n",
       " (('C181', 'C17'), 252588.0, 0.0, 252588.0),\n",
       " (('M141', 'ECAT'), 252838.0, 0.0, 252838.0),\n",
       " (('M141', 'GCAT'), 252838.0, 0.0, 252838.0),\n",
       " (('M141', 'C24'), 252838.0, 0.0, 252838.0),\n",
       " (('M141', 'C31'), 252838.0, 0.0, 252838.0),\n",
       " (('M141', 'C21'), 252838.0, 0.0, 252838.0),\n",
       " (('M11', 'ECAT'), 253688.0, 0.0, 253688.0),\n",
       " (('M11', 'C152'), 253688.0, 0.0, 253688.0),\n",
       " (('M11', 'M132'), 253688.0, 0.0, 253688.0),\n",
       " (('M11', 'M13'), 253688.0, 0.0, 253688.0),\n",
       " (('M11', 'CCAT'), 253688.0, 0.0, 253688.0),\n",
       " (('E21', 'C31'), 253363.0, 0.0, 253363.0),\n",
       " (('E21', 'M12'), 253363.0, 0.0, 253363.0),\n",
       " (('E21', 'MCAT'), 253363.0, 0.0, 253363.0),\n",
       " (('E21', 'E12'), 253363.0, 0.0, 253363.0),\n",
       " (('E21', 'GPOL'), 253363.0, 0.0, 253363.0),\n",
       " (('C17', 'MCAT'), 256623.0, 0.0, 256623.0),\n",
       " (('C17', 'C152'), 256623.0, 0.0, 256623.0),\n",
       " (('C17', 'C15'), 256623.0, 0.0, 256623.0),\n",
       " (('C17', 'C18'), 256623.0, 0.0, 256623.0),\n",
       " (('C17', 'ECAT'), 256623.0, 0.0, 256623.0),\n",
       " (('M13', 'E21'), 259723.0, 0.0, 259723.0),\n",
       " (('M13', 'M11'), 259723.0, 0.0, 259723.0),\n",
       " (('M13', 'GCAT'), 259723.0, 0.0, 259723.0),\n",
       " (('M13', 'E12'), 259723.0, 0.0, 259723.0),\n",
       " (('M13', 'ECAT'), 259723.0, 0.0, 259723.0),\n",
       " (('C18', 'E12'), 264108.0, 0.0, 264108.0),\n",
       " (('C18', 'GCAT'), 264108.0, 0.0, 264108.0),\n",
       " (('C18', 'C152'), 264108.0, 0.0, 264108.0),\n",
       " (('C18', 'C15'), 264108.0, 0.0, 264108.0),\n",
       " (('C18', 'C17'), 264108.0, 0.0, 264108.0),\n",
       " (('GPOL', 'MCAT'), 273678.0, 0.0, 273678.0),\n",
       " (('GPOL', 'CCAT'), 273678.0, 0.0, 273678.0),\n",
       " (('GPOL', 'GCRIM'), 273678.0, 0.0, 273678.0),\n",
       " (('GPOL', 'E21'), 273678.0, 0.0, 273678.0),\n",
       " (('GPOL', 'GVIO'), 273678.0, 0.0, 273678.0),\n",
       " (('C152', 'M11'), 296888.0, 0.0, 296888.0),\n",
       " (('C152', 'C17'), 296888.0, 0.0, 296888.0),\n",
       " (('C152', 'C31'), 296888.0, 0.0, 296888.0),\n",
       " (('C152', 'C181'), 296888.0, 0.0, 296888.0),\n",
       " (('C152', 'C18'), 296888.0, 0.0, 296888.0),\n",
       " (('M14', 'M132'), 297423.0, 0.0, 297423.0),\n",
       " (('M14', 'M13'), 297423.0, 0.0, 297423.0),\n",
       " (('M14', 'GCAT'), 297423.0, 0.0, 297423.0),\n",
       " (('M14', 'C24'), 297423.0, 0.0, 297423.0),\n",
       " (('M14', 'C31'), 297423.0, 0.0, 297423.0),\n",
       " (('C151', 'C181'), 302448.0, 0.0, 302448.0),\n",
       " (('C151', 'C18'), 302448.0, 0.0, 302448.0),\n",
       " (('C151', 'C17'), 302448.0, 0.0, 302448.0),\n",
       " (('C151', 'C31'), 302448.0, 0.0, 302448.0),\n",
       " (('C151', 'C152'), 302448.0, 0.0, 302448.0),\n",
       " (('ECAT', 'GVIO'), 351008.0, 0.0, 351008.0),\n",
       " (('ECAT', 'C17'), 351008.0, 0.0, 351008.0),\n",
       " (('ECAT', 'M13'), 351008.0, 0.0, 351008.0),\n",
       " (('ECAT', 'GPOL'), 351008.0, 0.0, 351008.0),\n",
       " (('ECAT', 'MCAT'), 351008.0, 0.0, 351008.0)]"
      ]
     },
     "execution_count": 29,
     "metadata": {},
     "output_type": "execute_result"
    }
   ],
   "source": [
    "cost_manual = dict()\n",
    "cost_manual_ann = dict()\n",
    "cost_manual_misc = dict()\n",
    "for c_r,c_p in pairs:\n",
    "    timer(' '.join(['FM',c_r,c_p]))\n",
    "    cost_ann = cost_r*(TEST_SET_END-TEST_SET_START)+cost_p*y_arr[c_r].sum()\n",
    "    cost_misc = 0.0\n",
    "    cost_manual_ann[(c_r,c_p)] = cost_ann\n",
    "    cost_manual_misc[(c_r,c_p)] = cost_misc\n",
    "    cost_manual[(c_r,c_p)] = cost_ann+cost_misc    \n",
    "timer()\n",
    "list(zip(cost_manual,cost_manual_ann.values(),cost_manual_misc.values(),cost_manual.values()))"
   ]
  },
  {
   "cell_type": "code",
   "execution_count": 30,
   "metadata": {
    "scrolled": true
   },
   "outputs": [
    {
     "name": "stdout",
     "output_type": "stream",
     "text": [
      "M12 M14\n",
      "M12 CCAT\n",
      "M12 M132\n",
      "M12 E21\n",
      "M12 M131\n",
      "M132 GPOL\n",
      "M132 CCAT\n",
      "M132 M12\n",
      "M132 M131\n",
      "M132 GCAT\n",
      "M131 CCAT\n",
      "M131 M132\n",
      "M131 E12\n",
      "M131 ECAT\n",
      "M131 M12\n",
      "E12 M11\n",
      "E12 GDIP\n",
      "E12 E212\n",
      "E12 M131\n",
      "E12 E21\n",
      "C21 C17\n",
      "C21 C15\n",
      "C21 ECAT\n",
      "C21 C31\n",
      "C21 M141\n",
      "E212 GPOL\n",
      "E212 E12\n",
      "E212 M12\n",
      "E212 MCAT\n",
      "E212 C17\n",
      "GCRIM E212\n",
      "GCRIM C15\n",
      "GCRIM C18\n",
      "GCRIM GDIP\n",
      "GCRIM GPOL\n",
      "C24 GDIP\n",
      "C24 C15\n",
      "C24 C31\n",
      "C24 MCAT\n",
      "C24 C21\n",
      "GVIO C21\n",
      "GVIO C24\n",
      "GVIO CCAT\n",
      "GVIO ECAT\n",
      "GVIO GCRIM\n",
      "C13 M12\n",
      "C13 C15\n",
      "C13 GPOL\n",
      "C13 M14\n",
      "C13 MCAT\n",
      "GDIP C31\n",
      "GDIP E12\n",
      "GDIP CCAT\n",
      "GDIP ECAT\n",
      "GDIP GPOL\n",
      "C31 C151\n",
      "C31 C15\n",
      "C31 ECAT\n",
      "C31 C21\n",
      "C31 M14\n",
      "C181 C151\n",
      "C181 GCAT\n",
      "C181 C152\n",
      "C181 C15\n",
      "C181 C17\n",
      "M141 ECAT\n",
      "M141 GCAT\n",
      "M141 C24\n",
      "M141 C31\n",
      "M141 C21\n",
      "M11 ECAT\n",
      "M11 C152\n",
      "M11 M132\n",
      "M11 M13\n",
      "M11 CCAT\n",
      "E21 C31\n",
      "E21 M12\n",
      "E21 MCAT\n",
      "E21 E12\n",
      "E21 GPOL\n",
      "C17 MCAT\n",
      "C17 C152\n",
      "C17 C15\n",
      "C17 C18\n",
      "C17 ECAT\n",
      "M13 E21\n",
      "M13 M11\n",
      "M13 GCAT\n",
      "M13 E12\n",
      "M13 ECAT\n",
      "C18 E12\n",
      "C18 GCAT\n",
      "C18 C152\n",
      "C18 C15\n",
      "C18 C17\n",
      "GPOL MCAT\n",
      "GPOL CCAT\n",
      "GPOL GCRIM\n",
      "GPOL E21\n",
      "GPOL GVIO\n",
      "C152 M11\n",
      "C152 C17\n",
      "C152 C31\n",
      "C152 C181\n",
      "C152 C18\n",
      "M14 M132\n",
      "M14 M13\n",
      "M14 GCAT\n",
      "M14 C24\n",
      "M14 C31\n",
      "C151 C181\n",
      "C151 C18\n",
      "C151 C17\n",
      "C151 C31\n",
      "C151 C152\n",
      "ECAT GVIO\n",
      "ECAT C17\n",
      "ECAT M13\n",
      "ECAT GPOL\n",
      "ECAT MCAT\n"
     ]
    }
   ],
   "source": [
    "manual_labels = dict()\n",
    "for c_r,c_p in pairs:\n",
    "    print(c_r,c_p)\n",
    "    \n",
    "    y_r = y_arr[c_r]\n",
    "    y_p = y_arr[c_p]\n",
    "    y = np.zeros(y_p.shape,dtype=int)\n",
    "    y[y_r==0]=label_to_idx['W']\n",
    "    y[np.logical_and(y_r==1,y_p==1)]=label_to_idx['L']\n",
    "    y[np.logical_and(y_r==1,y_p==0)]=label_to_idx['P']\n",
    "    manual_labels[(c_r,c_p)] = y"
   ]
  },
  {
   "cell_type": "markdown",
   "metadata": {},
   "source": [
    "## Fully Automated Method"
   ]
  },
  {
   "cell_type": "code",
   "execution_count": 31,
   "metadata": {
    "scrolled": true
   },
   "outputs": [],
   "source": [
    "def get_h_risk_h(c_r_prob, c_p_prob, cost_matrix, need_risk=True):\n",
    "    c_P_prob = c_r_prob*(1-c_p_prob)\n",
    "    c_L_prob = c_r_prob*c_p_prob\n",
    "    c_W_prob = 1-c_r_prob\n",
    "\n",
    "    risk_P = cost_matrix['P']['P']*c_P_prob+cost_matrix['P']['L']*c_L_prob+cost_matrix['P']['W']*c_W_prob\n",
    "    risk_L = cost_matrix['L']['P']*c_P_prob+cost_matrix['L']['L']*c_L_prob+cost_matrix['L']['W']*c_W_prob\n",
    "    risk_W = cost_matrix['W']['P']*c_P_prob+cost_matrix['W']['L']*c_L_prob+cost_matrix['W']['W']*c_W_prob\n",
    "\n",
    "    # NOTE: the order of the following vstack must follow the label_to_idx mapping\n",
    "    risks = np.vstack((risk_P,risk_L,risk_W)).T\n",
    "    h = risks.argmin(1)\n",
    "    if need_risk:\n",
    "        risk_h = np.asarray([risks[i,h[i]] for i in range(h.shape[0])])\n",
    "    else:\n",
    "        risk_h = None\n",
    "    return h,risk_h"
   ]
  },
  {
   "cell_type": "code",
   "execution_count": 32,
   "metadata": {
    "scrolled": true
   },
   "outputs": [
    {
     "name": "stdout",
     "output_type": "stream",
     "text": [
      "M12 M14\n",
      "M12 CCAT\n",
      "M12 M132\n",
      "M12 E21\n",
      "M12 M131\n",
      "M132 GPOL\n",
      "M132 CCAT\n",
      "M132 M12\n",
      "M132 M131\n",
      "M132 GCAT\n",
      "M131 CCAT\n",
      "M131 M132\n",
      "M131 E12\n",
      "M131 ECAT\n",
      "M131 M12\n",
      "E12 M11\n",
      "E12 GDIP\n",
      "E12 E212\n",
      "E12 M131\n",
      "E12 E21\n",
      "C21 C17\n",
      "C21 C15\n",
      "C21 ECAT\n",
      "C21 C31\n",
      "C21 M141\n",
      "E212 GPOL\n",
      "E212 E12\n",
      "E212 M12\n",
      "E212 MCAT\n",
      "E212 C17\n",
      "GCRIM E212\n",
      "GCRIM C15\n",
      "GCRIM C18\n",
      "GCRIM GDIP\n",
      "GCRIM GPOL\n",
      "C24 GDIP\n",
      "C24 C15\n",
      "C24 C31\n",
      "C24 MCAT\n",
      "C24 C21\n",
      "GVIO C21\n",
      "GVIO C24\n",
      "GVIO CCAT\n",
      "GVIO ECAT\n",
      "GVIO GCRIM\n",
      "C13 M12\n",
      "C13 C15\n",
      "C13 GPOL\n",
      "C13 M14\n",
      "C13 MCAT\n",
      "GDIP C31\n",
      "GDIP E12\n",
      "GDIP CCAT\n",
      "GDIP ECAT\n",
      "GDIP GPOL\n",
      "C31 C151\n",
      "C31 C15\n",
      "C31 ECAT\n",
      "C31 C21\n",
      "C31 M14\n",
      "C181 C151\n",
      "C181 GCAT\n",
      "C181 C152\n",
      "C181 C15\n",
      "C181 C17\n",
      "M141 ECAT\n",
      "M141 GCAT\n",
      "M141 C24\n",
      "M141 C31\n",
      "M141 C21\n",
      "M11 ECAT\n",
      "M11 C152\n",
      "M11 M132\n",
      "M11 M13\n",
      "M11 CCAT\n",
      "E21 C31\n",
      "E21 M12\n",
      "E21 MCAT\n",
      "E21 E12\n",
      "E21 GPOL\n",
      "C17 MCAT\n",
      "C17 C152\n",
      "C17 C15\n",
      "C17 C18\n",
      "C17 ECAT\n",
      "M13 E21\n",
      "M13 M11\n",
      "M13 GCAT\n",
      "M13 E12\n",
      "M13 ECAT\n",
      "C18 E12\n",
      "C18 GCAT\n",
      "C18 C152\n",
      "C18 C15\n",
      "C18 C17\n",
      "GPOL MCAT\n",
      "GPOL CCAT\n",
      "GPOL GCRIM\n",
      "GPOL E21\n",
      "GPOL GVIO\n",
      "C152 M11\n",
      "C152 C17\n",
      "C152 C31\n",
      "C152 C181\n",
      "C152 C18\n",
      "M14 M132\n",
      "M14 M13\n",
      "M14 GCAT\n",
      "M14 C24\n",
      "M14 C31\n",
      "C151 C181\n",
      "C151 C18\n",
      "C151 C17\n",
      "C151 C31\n",
      "C151 C152\n",
      "ECAT GVIO\n",
      "ECAT C17\n",
      "ECAT M13\n",
      "ECAT GPOL\n",
      "ECAT MCAT\n"
     ]
    }
   ],
   "source": [
    "from sklearn.metrics import confusion_matrix\n",
    "cm_auto = dict()\n",
    "for c_r,c_p in pairs:\n",
    "    print(c_r,c_p)\n",
    "    timer(' '.join(['FA',c_r,c_p]))\n",
    "    c_r_probs = posterior_probabilities[c_r]\n",
    "    c_p_probs = posterior_probabilities[c_p]\n",
    "    \n",
    "    h = get_h_risk_h(c_r_probs[:,1], c_p_probs[:,1], cost_matrix, need_risk=False)[0]\n",
    "    \n",
    "    cm_auto[(c_r,c_p)] = confusion_matrix(manual_labels[(c_r,c_p)],h)\n",
    "timer()"
   ]
  },
  {
   "cell_type": "code",
   "execution_count": 33,
   "metadata": {
    "scrolled": true
   },
   "outputs": [
    {
     "data": {
      "text/plain": [
       "[(('M12', 'M14'), 0.0, 26075.0, 26075.0),\n",
       " (('M12', 'CCAT'), 0.0, 46491.0, 46491.0),\n",
       " (('M12', 'M132'), 0.0, 52419.0, 52419.0),\n",
       " (('M12', 'E21'), 0.0, 70517.0, 70517.0),\n",
       " (('M12', 'M131'), 0.0, 175097.0, 175097.0),\n",
       " (('M132', 'GPOL'), 0.0, 30758.0, 30758.0),\n",
       " (('M132', 'CCAT'), 0.0, 44360.0, 44360.0),\n",
       " (('M132', 'M12'), 0.0, 36926.0, 36926.0),\n",
       " (('M132', 'M131'), 0.0, 64651.0, 64651.0),\n",
       " (('M132', 'GCAT'), 0.0, 39854.0, 39854.0),\n",
       " (('M131', 'CCAT'), 0.0, 56818.0, 56818.0),\n",
       " (('M131', 'M132'), 0.0, 50169.0, 50169.0),\n",
       " (('M131', 'E12'), 0.0, 84698.0, 84698.0),\n",
       " (('M131', 'ECAT'), 0.0, 91846.0, 91846.0),\n",
       " (('M131', 'M12'), 0.0, 73386.0, 73386.0),\n",
       " (('E12', 'M11'), 0.0, 55694.0, 55694.0),\n",
       " (('E12', 'GDIP'), 0.0, 75425.0, 75425.0),\n",
       " (('E12', 'E212'), 0.0, 72265.0, 72265.0),\n",
       " (('E12', 'M131'), 0.0, 86500.0, 86500.0),\n",
       " (('E12', 'E21'), 0.0, 91993.0, 91993.0),\n",
       " (('C21', 'C17'), 0.0, 76959.0, 76959.0),\n",
       " (('C21', 'C15'), 0.0, 83158.0, 83158.0),\n",
       " (('C21', 'ECAT'), 0.0, 90665.0, 90665.0),\n",
       " (('C21', 'C31'), 0.0, 101818.0, 101818.0),\n",
       " (('C21', 'M141'), 0.0, 100547.0, 100547.0),\n",
       " (('E212', 'GPOL'), 0.0, 44927.0, 44927.0),\n",
       " (('E212', 'E12'), 0.0, 38260.0, 38260.0),\n",
       " (('E212', 'M12'), 0.0, 69769.0, 69769.0),\n",
       " (('E212', 'MCAT'), 0.0, 73446.0, 73446.0),\n",
       " (('E212', 'C17'), 0.0, 63841.0, 63841.0),\n",
       " (('GCRIM', 'E212'), 0.0, 43567.0, 43567.0),\n",
       " (('GCRIM', 'C15'), 0.0, 55805.0, 55805.0),\n",
       " (('GCRIM', 'C18'), 0.0, 46567.0, 46567.0),\n",
       " (('GCRIM', 'GDIP'), 0.0, 74047.0, 74047.0),\n",
       " (('GCRIM', 'GPOL'), 0.0, 101354.0, 101354.0),\n",
       " (('C24', 'GDIP'), 0.0, 76655.0, 76655.0),\n",
       " (('C24', 'C15'), 0.0, 88768.0, 88768.0),\n",
       " (('C24', 'C31'), 0.0, 104683.0, 104683.0),\n",
       " (('C24', 'MCAT'), 0.0, 115712.0, 115712.0),\n",
       " (('C24', 'C21'), 0.0, 139559.0, 139559.0),\n",
       " (('GVIO', 'C21'), 0.0, 63485.0, 63485.0),\n",
       " (('GVIO', 'C24'), 0.0, 61355.0, 61355.0),\n",
       " (('GVIO', 'CCAT'), 0.0, 81402.0, 81402.0),\n",
       " (('GVIO', 'ECAT'), 0.0, 93263.0, 93263.0),\n",
       " (('GVIO', 'GCRIM'), 0.0, 90817.0, 90817.0),\n",
       " (('C13', 'M12'), 0.0, 104083.0, 104083.0),\n",
       " (('C13', 'C15'), 0.0, 124828.0, 124828.0),\n",
       " (('C13', 'GPOL'), 0.0, 128192.0, 128192.0),\n",
       " (('C13', 'M14'), 0.0, 114928.0, 114928.0),\n",
       " (('C13', 'MCAT'), 0.0, 133409.0, 133409.0),\n",
       " (('GDIP', 'C31'), 0.0, 95968.0, 95968.0),\n",
       " (('GDIP', 'E12'), 0.0, 82074.0, 82074.0),\n",
       " (('GDIP', 'CCAT'), 0.0, 111201.0, 111201.0),\n",
       " (('GDIP', 'ECAT'), 0.0, 146084.0, 146084.0),\n",
       " (('GDIP', 'GPOL'), 0.0, 165356.0, 165356.0),\n",
       " (('C31', 'C151'), 0.0, 124187.0, 124187.0),\n",
       " (('C31', 'C15'), 0.0, 138968.0, 138968.0),\n",
       " (('C31', 'ECAT'), 0.0, 156604.0, 156604.0),\n",
       " (('C31', 'C21'), 0.0, 156900.0, 156900.0),\n",
       " (('C31', 'M14'), 0.0, 136230.0, 136230.0),\n",
       " (('C181', 'C151'), 0.0, 84974.0, 84974.0),\n",
       " (('C181', 'GCAT'), 0.0, 98757.0, 98757.0),\n",
       " (('C181', 'C152'), 0.0, 138037.0, 138037.0),\n",
       " (('C181', 'C15'), 0.0, 145931.0, 145931.0),\n",
       " (('C181', 'C17'), 0.0, 124942.0, 124942.0),\n",
       " (('M141', 'ECAT'), 0.0, 58870.0, 58870.0),\n",
       " (('M141', 'GCAT'), 0.0, 61027.0, 61027.0),\n",
       " (('M141', 'C24'), 0.0, 75257.0, 75257.0),\n",
       " (('M141', 'C31'), 0.0, 113369.0, 113369.0),\n",
       " (('M141', 'C21'), 0.0, 98867.0, 98867.0),\n",
       " (('M11', 'ECAT'), 0.0, 66410.0, 66410.0),\n",
       " (('M11', 'C152'), 0.0, 115812.0, 115812.0),\n",
       " (('M11', 'M132'), 0.0, 55202.0, 55202.0),\n",
       " (('M11', 'M13'), 0.0, 71989.0, 71989.0),\n",
       " (('M11', 'CCAT'), 0.0, 125037.0, 125037.0),\n",
       " (('E21', 'C31'), 0.0, 74280.0, 74280.0),\n",
       " (('E21', 'M12'), 0.0, 92354.0, 92354.0),\n",
       " (('E21', 'MCAT'), 0.0, 109796.0, 109796.0),\n",
       " (('E21', 'E12'), 0.0, 95539.0, 95539.0),\n",
       " (('E21', 'GPOL'), 0.0, 112591.0, 112591.0),\n",
       " (('C17', 'MCAT'), 0.0, 93445.0, 93445.0),\n",
       " (('C17', 'C152'), 0.0, 116996.0, 116996.0),\n",
       " (('C17', 'C15'), 0.0, 140847.0, 140847.0),\n",
       " (('C17', 'C18'), 0.0, 142063.0, 142063.0),\n",
       " (('C17', 'ECAT'), 0.0, 116808.0, 116808.0),\n",
       " (('M13', 'E21'), 0.0, 52249.0, 52249.0),\n",
       " (('M13', 'M11'), 0.0, 44907.0, 44907.0),\n",
       " (('M13', 'GCAT'), 0.0, 56338.0, 56338.0),\n",
       " (('M13', 'E12'), 0.0, 149068.0, 149068.0),\n",
       " (('M13', 'ECAT'), 0.0, 158273.0, 158273.0),\n",
       " (('C18', 'E12'), 0.0, 119535.0, 119535.0),\n",
       " (('C18', 'GCAT'), 0.0, 122764.0, 122764.0),\n",
       " (('C18', 'C152'), 0.0, 158961.0, 158961.0),\n",
       " (('C18', 'C15'), 0.0, 170909.0, 170909.0),\n",
       " (('C18', 'C17'), 0.0, 175170.0, 175170.0),\n",
       " (('GPOL', 'MCAT'), 0.0, 106524.0, 106524.0),\n",
       " (('GPOL', 'CCAT'), 0.0, 178987.0, 178987.0),\n",
       " (('GPOL', 'GCRIM'), 0.0, 143000.0, 143000.0),\n",
       " (('GPOL', 'E21'), 0.0, 131772.0, 131772.0),\n",
       " (('GPOL', 'GVIO'), 0.0, 178911.0, 178911.0),\n",
       " (('C152', 'M11'), 0.0, 133964.0, 133964.0),\n",
       " (('C152', 'C17'), 0.0, 121091.0, 121091.0),\n",
       " (('C152', 'C31'), 0.0, 142826.0, 142826.0),\n",
       " (('C152', 'C181'), 0.0, 134568.0, 134568.0),\n",
       " (('C152', 'C18'), 0.0, 141090.0, 141090.0),\n",
       " (('M14', 'M132'), 0.0, 45835.0, 45835.0),\n",
       " (('M14', 'M13'), 0.0, 56520.0, 56520.0),\n",
       " (('M14', 'GCAT'), 0.0, 108447.0, 108447.0),\n",
       " (('M14', 'C24'), 0.0, 134691.0, 134691.0),\n",
       " (('M14', 'C31'), 0.0, 204277.0, 204277.0),\n",
       " (('C151', 'C181'), 0.0, 68086.0, 68086.0),\n",
       " (('C151', 'C18'), 0.0, 72673.0, 72673.0),\n",
       " (('C151', 'C17'), 0.0, 82386.0, 82386.0),\n",
       " (('C151', 'C31'), 0.0, 87066.0, 87066.0),\n",
       " (('C151', 'C152'), 0.0, 157796.0, 157796.0),\n",
       " (('ECAT', 'GVIO'), 0.0, 154835.0, 154835.0),\n",
       " (('ECAT', 'C17'), 0.0, 226106.0, 226106.0),\n",
       " (('ECAT', 'M13'), 0.0, 253882.0, 253882.0),\n",
       " (('ECAT', 'GPOL'), 0.0, 297417.0, 297417.0),\n",
       " (('ECAT', 'MCAT'), 0.0, 350634.0, 350634.0)]"
      ]
     },
     "execution_count": 33,
     "metadata": {},
     "output_type": "execute_result"
    }
   ],
   "source": [
    "cost_auto = dict()\n",
    "cost_auto_ann = dict()\n",
    "cost_auto_misc = dict()\n",
    "for c_r,c_p in pairs:\n",
    "    cm = cm_auto[(c_r,c_p)]\n",
    "    cost_misc = 0.0\n",
    "    for true_label in label_to_idx.keys():\n",
    "        for pred_label in label_to_idx.keys():\n",
    "            cost_misc += cost_matrix[true_label][pred_label]*cm[label_to_idx[pred_label],label_to_idx[true_label]]\n",
    "    cost_ann = 0.0\n",
    "    cost_auto_ann[(c_r,c_p)] = cost_ann\n",
    "    cost_auto_misc[(c_r,c_p)] = cost_misc\n",
    "    cost_auto[(c_r,c_p)] = cost_ann+cost_misc\n",
    "list(zip(cost_auto,cost_auto_ann.values(),cost_auto_misc.values(),cost_auto.values()))"
   ]
  },
  {
   "cell_type": "markdown",
   "metadata": {},
   "source": [
    "## Hybrid Method"
   ]
  },
  {
   "cell_type": "code",
   "execution_count": 34,
   "metadata": {
    "scrolled": true
   },
   "outputs": [
    {
     "name": "stdout",
     "output_type": "stream",
     "text": [
      "M12 M14\n",
      "M12 CCAT\n",
      "M12 M132\n",
      "M12 E21\n",
      "M12 M131\n",
      "M132 GPOL\n",
      "M132 CCAT\n",
      "M132 M12\n",
      "M132 M131\n",
      "M132 GCAT\n",
      "M131 CCAT\n",
      "M131 M132\n",
      "M131 E12\n",
      "M131 ECAT\n",
      "M131 M12\n",
      "E12 M11\n",
      "E12 GDIP\n",
      "E12 E212\n",
      "E12 M131\n",
      "E12 E21\n",
      "C21 C17\n",
      "C21 C15\n",
      "C21 ECAT\n",
      "C21 C31\n",
      "C21 M141\n",
      "E212 GPOL\n",
      "E212 E12\n",
      "E212 M12\n",
      "E212 MCAT\n",
      "E212 C17\n",
      "GCRIM E212\n",
      "GCRIM C15\n",
      "GCRIM C18\n",
      "GCRIM GDIP\n",
      "GCRIM GPOL\n",
      "C24 GDIP\n",
      "C24 C15\n",
      "C24 C31\n",
      "C24 MCAT\n",
      "C24 C21\n",
      "GVIO C21\n",
      "GVIO C24\n",
      "GVIO CCAT\n",
      "GVIO ECAT\n",
      "GVIO GCRIM\n",
      "C13 M12\n",
      "C13 C15\n",
      "C13 GPOL\n",
      "C13 M14\n",
      "C13 MCAT\n",
      "GDIP C31\n",
      "GDIP E12\n",
      "GDIP CCAT\n",
      "GDIP ECAT\n",
      "GDIP GPOL\n",
      "C31 C151\n",
      "C31 C15\n",
      "C31 ECAT\n",
      "C31 C21\n",
      "C31 M14\n",
      "C181 C151\n",
      "C181 GCAT\n",
      "C181 C152\n",
      "C181 C15\n",
      "C181 C17\n",
      "M141 ECAT\n",
      "M141 GCAT\n",
      "M141 C24\n",
      "M141 C31\n",
      "M141 C21\n",
      "M11 ECAT\n",
      "M11 C152\n",
      "M11 M132\n",
      "M11 M13\n",
      "M11 CCAT\n",
      "E21 C31\n",
      "E21 M12\n",
      "E21 MCAT\n",
      "E21 E12\n",
      "E21 GPOL\n",
      "C17 MCAT\n",
      "C17 C152\n",
      "C17 C15\n",
      "C17 C18\n",
      "C17 ECAT\n",
      "M13 E21\n",
      "M13 M11\n",
      "M13 GCAT\n",
      "M13 E12\n",
      "M13 ECAT\n",
      "C18 E12\n",
      "C18 GCAT\n",
      "C18 C152\n",
      "C18 C15\n",
      "C18 C17\n",
      "GPOL MCAT\n",
      "GPOL CCAT\n",
      "GPOL GCRIM\n",
      "GPOL E21\n",
      "GPOL GVIO\n",
      "C152 M11\n",
      "C152 C17\n",
      "C152 C31\n",
      "C152 C181\n",
      "C152 C18\n",
      "M14 M132\n",
      "M14 M13\n",
      "M14 GCAT\n",
      "M14 C24\n",
      "M14 C31\n",
      "C151 C181\n",
      "C151 C18\n",
      "C151 C17\n",
      "C151 C31\n",
      "C151 C152\n",
      "ECAT GVIO\n",
      "ECAT C17\n",
      "ECAT M13\n",
      "ECAT GPOL\n",
      "ECAT MCAT\n"
     ]
    }
   ],
   "source": [
    "tau_rs = dict()\n",
    "tau_ps = dict()\n",
    "cm_2 = dict()\n",
    "cm_3 = dict()\n",
    "for c_r,c_p in pairs:\n",
    "    print(c_r,c_p)\n",
    "    timer(' '.join(['RM',c_r,c_p]))\n",
    "    c_r_probs = posterior_probabilities[c_r]\n",
    "    c_p_probs = posterior_probabilities[c_p]\n",
    "\n",
    "    # phase one - automatic step\n",
    "    risk_h_auto = get_h_risk_h(c_r_probs[:,1], c_p_probs[:,1], cost_matrix, need_risk=True)[1]\n",
    "\n",
    "    # phase two - responsiveness\n",
    "    # cr case\n",
    "    risk_h_2_cr = get_h_risk_h(np.ones_like(c_r_probs[:,1]),c_p_probs[:,1],cost_matrix, need_risk=True)[1]\n",
    "\n",
    "    # ncr case\n",
    "    risk_h_2_ncr = get_h_risk_h(np.zeros_like(c_r_probs[:,1]),c_p_probs[:,1],cost_matrix, need_risk=True)[1]\n",
    "\n",
    "    # expected risk\n",
    "    e_risk_h_2 = risk_h_2_cr*c_r_probs[:,1]+ risk_h_2_ncr*c_r_probs[:,0]\n",
    "    \n",
    "    delta_or = e_risk_h_2 + np.ones(c_r_probs[:,0].shape)*cost_r - risk_h_auto\n",
    "    \n",
    "    tau_rs[(c_r,c_p)] = (delta_or<0).sum()\n",
    "    \n",
    "    c_r_probs_2 = np.copy(c_r_probs[:,1])\n",
    "\n",
    "    y_r = y_arr[c_r]\n",
    "    c_r_probs_2[np.logical_and(delta_or<0,y_r==1)] = 1\n",
    "    c_r_probs_2[np.logical_and(delta_or<0,y_r==0)] = 0\n",
    "    \n",
    "    h_2, risk_h_2 = get_h_risk_h(c_r_probs_2,c_p_probs[:,1],cost_matrix, need_risk=True)\n",
    "\n",
    "    cm_2[(c_r,c_p)] = confusion_matrix(manual_labels[(c_r,c_p)],h_2)\n",
    "    \n",
    "    # phase three - privilege\n",
    "    # cp case\n",
    "    risk_h_3_cp = get_h_risk_h(c_r_probs_2,np.ones_like(c_p_probs[:,1]),cost_matrix, need_risk=True)[1]\n",
    "\n",
    "    # ncp case\n",
    "    risk_h_3_ncp = get_h_risk_h(c_r_probs_2,np.zeros_like(c_p_probs[:,1]),cost_matrix, need_risk=True)[1]\n",
    "\n",
    "    # expected risk\n",
    "    e_risk_h_3 = risk_h_3_cp*c_p_probs[:,1]+ risk_h_3_ncp*c_p_probs[:,0]\n",
    "        \n",
    "    delta_op = e_risk_h_3 + np.ones(c_p_probs[:,0].shape)*cost_p - risk_h_2\n",
    "    \n",
    "    tau_ps[(c_r,c_p)] = (delta_op<0).sum()\n",
    "    \n",
    "    c_p_probs_3 = np.copy(c_p_probs[:,1])\n",
    "\n",
    "    y_p = y_arr[c_p]\n",
    "    c_p_probs_3[np.logical_and(delta_op<0,y_p==1)] = 1\n",
    "    c_p_probs_3[np.logical_and(delta_op<0,y_p==0)] = 0\n",
    "    \n",
    "    h_3 = get_h_risk_h(c_r_probs_2,c_p_probs_3,cost_matrix, need_risk=False)[0]\n",
    "    cm_3[(c_r,c_p)] = confusion_matrix(manual_labels[(c_r,c_p)],h_3)\n",
    "\n",
    "timer()\n",
    "    "
   ]
  },
  {
   "cell_type": "code",
   "execution_count": 35,
   "metadata": {
    "scrolled": true
   },
   "outputs": [
    {
     "data": {
      "text/plain": [
       "{('M12', 'M14'): 3527,\n",
       " ('M12', 'CCAT'): 1896,\n",
       " ('M12', 'M132'): 3078,\n",
       " ('M12', 'E21'): 2346,\n",
       " ('M12', 'M131'): 2922,\n",
       " ('M132', 'GPOL'): 2587,\n",
       " ('M132', 'CCAT'): 2109,\n",
       " ('M132', 'M12'): 2747,\n",
       " ('M132', 'M131'): 2889,\n",
       " ('M132', 'GCAT'): 2638,\n",
       " ('M131', 'CCAT'): 1284,\n",
       " ('M131', 'M132'): 1817,\n",
       " ('M131', 'E12'): 1384,\n",
       " ('M131', 'ECAT'): 852,\n",
       " ('M131', 'M12'): 1592,\n",
       " ('E12', 'M11'): 8673,\n",
       " ('E12', 'GDIP'): 7358,\n",
       " ('E12', 'E212'): 7546,\n",
       " ('E12', 'M131'): 7607,\n",
       " ('E12', 'E21'): 5474,\n",
       " ('C21', 'C17'): 6123,\n",
       " ('C21', 'C15'): 4825,\n",
       " ('C21', 'ECAT'): 3484,\n",
       " ('C21', 'C31'): 1877,\n",
       " ('C21', 'M141'): 7597,\n",
       " ('E212', 'GPOL'): 2428,\n",
       " ('E212', 'E12'): 2415,\n",
       " ('E212', 'M12'): 2318,\n",
       " ('E212', 'MCAT'): 2002,\n",
       " ('E212', 'C17'): 1781,\n",
       " ('GCRIM', 'E212'): 6581,\n",
       " ('GCRIM', 'C15'): 5036,\n",
       " ('GCRIM', 'C18'): 5415,\n",
       " ('GCRIM', 'GDIP'): 4118,\n",
       " ('GCRIM', 'GPOL'): 2336,\n",
       " ('C24', 'GDIP'): 9378,\n",
       " ('C24', 'C15'): 6541,\n",
       " ('C24', 'C31'): 3853,\n",
       " ('C24', 'MCAT'): 7081,\n",
       " ('C24', 'C21'): 3193,\n",
       " ('GVIO', 'C21'): 5387,\n",
       " ('GVIO', 'C24'): 6781,\n",
       " ('GVIO', 'CCAT'): 4005,\n",
       " ('GVIO', 'ECAT'): 3487,\n",
       " ('GVIO', 'GCRIM'): 5308,\n",
       " ('C13', 'M12'): 18504,\n",
       " ('C13', 'C15'): 12007,\n",
       " ('C13', 'GPOL'): 9333,\n",
       " ('C13', 'M14'): 15883,\n",
       " ('C13', 'MCAT'): 10420,\n",
       " ('GDIP', 'C31'): 5196,\n",
       " ('GDIP', 'E12'): 6936,\n",
       " ('GDIP', 'CCAT'): 4258,\n",
       " ('GDIP', 'ECAT'): 3046,\n",
       " ('GDIP', 'GPOL'): 3203,\n",
       " ('C31', 'C151'): 14526,\n",
       " ('C31', 'C15'): 11290,\n",
       " ('C31', 'ECAT'): 6858,\n",
       " ('C31', 'C21'): 7920,\n",
       " ('C31', 'M14'): 15169,\n",
       " ('C181', 'C151'): 8195,\n",
       " ('C181', 'GCAT'): 6571,\n",
       " ('C181', 'C152'): 5190,\n",
       " ('C181', 'C15'): 4854,\n",
       " ('C181', 'C17'): 6386,\n",
       " ('M141', 'ECAT'): 1186,\n",
       " ('M141', 'GCAT'): 1431,\n",
       " ('M141', 'C24'): 1482,\n",
       " ('M141', 'C31'): 789,\n",
       " ('M141', 'C21'): 1177,\n",
       " ('M11', 'ECAT'): 3039,\n",
       " ('M11', 'C152'): 2019,\n",
       " ('M11', 'M132'): 4170,\n",
       " ('M11', 'M13'): 3805,\n",
       " ('M11', 'CCAT'): 1819,\n",
       " ('E21', 'C31'): 5159,\n",
       " ('E21', 'M12'): 6849,\n",
       " ('E21', 'MCAT'): 4787,\n",
       " ('E21', 'E12'): 4609,\n",
       " ('E21', 'GPOL'): 3964,\n",
       " ('C17', 'MCAT'): 6689,\n",
       " ('C17', 'C152'): 5944,\n",
       " ('C17', 'C15'): 5437,\n",
       " ('C17', 'C18'): 6132,\n",
       " ('C17', 'ECAT'): 4916,\n",
       " ('M13', 'E21'): 4465,\n",
       " ('M13', 'M11'): 5266,\n",
       " ('M13', 'GCAT'): 4172,\n",
       " ('M13', 'E12'): 2890,\n",
       " ('M13', 'ECAT'): 2467,\n",
       " ('C18', 'E12'): 9524,\n",
       " ('C18', 'GCAT'): 6849,\n",
       " ('C18', 'C152'): 6206,\n",
       " ('C18', 'C15'): 5697,\n",
       " ('C18', 'C17'): 7202,\n",
       " ('GPOL', 'MCAT'): 12079,\n",
       " ('GPOL', 'CCAT'): 6964,\n",
       " ('GPOL', 'GCRIM'): 12112,\n",
       " ('GPOL', 'E21'): 11929,\n",
       " ('GPOL', 'GVIO'): 9787,\n",
       " ('C152', 'M11'): 15813,\n",
       " ('C152', 'C17'): 12387,\n",
       " ('C152', 'C31'): 9319,\n",
       " ('C152', 'C181'): 12272,\n",
       " ('C152', 'C18'): 12425,\n",
       " ('M14', 'M132'): 5432,\n",
       " ('M14', 'M13'): 5113,\n",
       " ('M14', 'GCAT'): 3064,\n",
       " ('M14', 'C24'): 3029,\n",
       " ('M14', 'C31'): 1806,\n",
       " ('C151', 'C181'): 6275,\n",
       " ('C151', 'C18'): 6197,\n",
       " ('C151', 'C17'): 5987,\n",
       " ('C151', 'C31'): 3748,\n",
       " ('C151', 'C152'): 3249,\n",
       " ('ECAT', 'GVIO'): 24721,\n",
       " ('ECAT', 'C17'): 22970,\n",
       " ('ECAT', 'M13'): 25468,\n",
       " ('ECAT', 'GPOL'): 16634,\n",
       " ('ECAT', 'MCAT'): 17637}"
      ]
     },
     "execution_count": 35,
     "metadata": {},
     "output_type": "execute_result"
    }
   ],
   "source": [
    "tau_rs"
   ]
  },
  {
   "cell_type": "code",
   "execution_count": 36,
   "metadata": {
    "scrolled": true
   },
   "outputs": [
    {
     "data": {
      "text/plain": [
       "[(('M12', 'M14'), 3527.0, 19470.0, 22997.0),\n",
       " (('M12', 'CCAT'), 1896.0, 46475.0, 48371.0),\n",
       " (('M12', 'M132'), 3078.0, 48777.0, 51855.0),\n",
       " (('M12', 'E21'), 2346.0, 69632.0, 71978.0),\n",
       " (('M12', 'M131'), 2922.0, 185890.0, 188812.0),\n",
       " (('M132', 'GPOL'), 2587.0, 24532.0, 27119.0),\n",
       " (('M132', 'CCAT'), 2109.0, 40999.0, 43108.0),\n",
       " (('M132', 'M12'), 2747.0, 32177.0, 34924.0),\n",
       " (('M132', 'M131'), 2889.0, 67026.0, 69915.0),\n",
       " (('M132', 'GCAT'), 2638.0, 35148.0, 37786.0),\n",
       " (('M131', 'CCAT'), 1284.0, 54509.0, 55793.0),\n",
       " (('M131', 'M132'), 1817.0, 53801.0, 55618.0),\n",
       " (('M131', 'E12'), 1384.0, 82094.0, 83478.0),\n",
       " (('M131', 'ECAT'), 852.0, 89970.0, 90822.0),\n",
       " (('M131', 'M12'), 1592.0, 72400.0, 73992.0),\n",
       " (('E12', 'M11'), 8673.0, 31508.0, 40181.0),\n",
       " (('E12', 'GDIP'), 7358.0, 59165.0, 66523.0),\n",
       " (('E12', 'E212'), 7546.0, 56050.0, 63596.0),\n",
       " (('E12', 'M131'), 7607.0, 68476.0, 76083.0),\n",
       " (('E12', 'E21'), 5474.0, 83517.0, 88991.0),\n",
       " (('C21', 'C17'), 6123.0, 59635.0, 65758.0),\n",
       " (('C21', 'C15'), 4825.0, 70410.0, 75235.0),\n",
       " (('C21', 'ECAT'), 3484.0, 81195.0, 84679.0),\n",
       " (('C21', 'C31'), 1877.0, 105751.0, 107628.0),\n",
       " (('C21', 'M141'), 7597.0, 82648.0, 90245.0),\n",
       " (('E212', 'GPOL'), 2428.0, 38650.0, 41078.0),\n",
       " (('E212', 'E12'), 2415.0, 31210.0, 33625.0),\n",
       " (('E212', 'M12'), 2318.0, 70154.0, 72472.0),\n",
       " (('E212', 'MCAT'), 2002.0, 70279.0, 72281.0),\n",
       " (('E212', 'C17'), 1781.0, 64904.0, 66685.0),\n",
       " (('GCRIM', 'E212'), 6581.0, 27176.0, 33757.0),\n",
       " (('GCRIM', 'C15'), 5036.0, 41631.0, 46667.0),\n",
       " (('GCRIM', 'C18'), 5415.0, 33774.0, 39189.0),\n",
       " (('GCRIM', 'GDIP'), 4118.0, 66157.0, 70275.0),\n",
       " (('GCRIM', 'GPOL'), 2336.0, 96210.0, 98546.0),\n",
       " (('C24', 'GDIP'), 9378.0, 47550.0, 56928.0),\n",
       " (('C24', 'C15'), 6541.0, 69395.0, 75936.0),\n",
       " (('C24', 'C31'), 3853.0, 94845.0, 98698.0),\n",
       " (('C24', 'MCAT'), 7081.0, 99258.0, 106339.0),\n",
       " (('C24', 'C21'), 3193.0, 140522.0, 143715.0),\n",
       " (('GVIO', 'C21'), 5387.0, 47750.0, 53137.0),\n",
       " (('GVIO', 'C24'), 6781.0, 42970.0, 49751.0),\n",
       " (('GVIO', 'CCAT'), 4005.0, 78150.0, 82155.0),\n",
       " (('GVIO', 'ECAT'), 3487.0, 83945.0, 87432.0),\n",
       " (('GVIO', 'GCRIM'), 5308.0, 78832.0, 84140.0),\n",
       " (('C13', 'M12'), 18504.0, 56355.0, 74859.0),\n",
       " (('C13', 'C15'), 12007.0, 100966.0, 112973.0),\n",
       " (('C13', 'GPOL'), 9333.0, 106477.0, 115810.0),\n",
       " (('C13', 'M14'), 15883.0, 81367.0, 97250.0),\n",
       " (('C13', 'MCAT'), 10420.0, 115222.0, 125642.0),\n",
       " (('GDIP', 'C31'), 5196.0, 77495.0, 82691.0),\n",
       " (('GDIP', 'E12'), 6936.0, 63170.0, 70106.0),\n",
       " (('GDIP', 'CCAT'), 4258.0, 98917.0, 103175.0),\n",
       " (('GDIP', 'ECAT'), 3046.0, 143921.0, 146967.0),\n",
       " (('GDIP', 'GPOL'), 3203.0, 167279.0, 170482.0),\n",
       " (('C31', 'C151'), 14526.0, 86106.0, 100632.0),\n",
       " (('C31', 'C15'), 11290.0, 121853.0, 133143.0),\n",
       " (('C31', 'ECAT'), 6858.0, 146925.0, 153783.0),\n",
       " (('C31', 'C21'), 7920.0, 182224.0, 190144.0),\n",
       " (('C31', 'M14'), 15169.0, 117089.0, 132258.0),\n",
       " (('C181', 'C151'), 8195.0, 65511.0, 73706.0),\n",
       " (('C181', 'GCAT'), 6571.0, 82104.0, 88675.0),\n",
       " (('C181', 'C152'), 5190.0, 127788.0, 132978.0),\n",
       " (('C181', 'C15'), 4854.0, 138201.0, 143055.0),\n",
       " (('C181', 'C17'), 6386.0, 125928.0, 132314.0),\n",
       " (('M141', 'ECAT'), 1186.0, 58873.0, 60059.0),\n",
       " (('M141', 'GCAT'), 1431.0, 59477.0, 60908.0),\n",
       " (('M141', 'C24'), 1482.0, 73556.0, 75038.0),\n",
       " (('M141', 'C31'), 789.0, 114728.0, 115517.0),\n",
       " (('M141', 'C21'), 1177.0, 98061.0, 99238.0),\n",
       " (('M11', 'ECAT'), 3039.0, 61690.0, 64729.0),\n",
       " (('M11', 'C152'), 2019.0, 113642.0, 115661.0),\n",
       " (('M11', 'M132'), 4170.0, 49475.0, 53645.0),\n",
       " (('M11', 'M13'), 3805.0, 67108.0, 70913.0),\n",
       " (('M11', 'CCAT'), 1819.0, 125244.0, 127063.0),\n",
       " (('E21', 'C31'), 5159.0, 60435.0, 65594.0),\n",
       " (('E21', 'M12'), 6849.0, 82805.0, 89654.0),\n",
       " (('E21', 'MCAT'), 4787.0, 102315.0, 107102.0),\n",
       " (('E21', 'E12'), 4609.0, 99531.0, 104140.0),\n",
       " (('E21', 'GPOL'), 3964.0, 112872.0, 116836.0),\n",
       " (('C17', 'MCAT'), 6689.0, 79690.0, 86379.0),\n",
       " (('C17', 'C152'), 5944.0, 106107.0, 112051.0),\n",
       " (('C17', 'C15'), 5437.0, 139441.0, 144878.0),\n",
       " (('C17', 'C18'), 6132.0, 139749.0, 145881.0),\n",
       " (('C17', 'ECAT'), 4916.0, 106370.0, 111286.0),\n",
       " (('M13', 'E21'), 4465.0, 41235.0, 45700.0),\n",
       " (('M13', 'M11'), 5266.0, 32323.0, 37589.0),\n",
       " (('M13', 'GCAT'), 4172.0, 46360.0, 50532.0),\n",
       " (('M13', 'E12'), 2890.0, 146750.0, 149640.0),\n",
       " (('M13', 'ECAT'), 2467.0, 155969.0, 158436.0),\n",
       " (('C18', 'E12'), 9524.0, 104235.0, 113759.0),\n",
       " (('C18', 'GCAT'), 6849.0, 106408.0, 113257.0),\n",
       " (('C18', 'C152'), 6206.0, 147626.0, 153832.0),\n",
       " (('C18', 'C15'), 5697.0, 163779.0, 169476.0),\n",
       " (('C18', 'C17'), 7202.0, 170398.0, 177600.0),\n",
       " (('GPOL', 'MCAT'), 12079.0, 72240.0, 84319.0),\n",
       " (('GPOL', 'CCAT'), 6964.0, 166911.0, 173875.0),\n",
       " (('GPOL', 'GCRIM'), 12112.0, 116996.0, 129108.0),\n",
       " (('GPOL', 'E21'), 11929.0, 108189.0, 120118.0),\n",
       " (('GPOL', 'GVIO'), 9787.0, 166594.0, 176381.0),\n",
       " (('C152', 'M11'), 15813.0, 107615.0, 123428.0),\n",
       " (('C152', 'C17'), 12387.0, 96426.0, 108813.0),\n",
       " (('C152', 'C31'), 9319.0, 123788.0, 133107.0),\n",
       " (('C152', 'C181'), 12272.0, 112629.0, 124901.0),\n",
       " (('C152', 'C18'), 12425.0, 122129.0, 134554.0),\n",
       " (('M14', 'M132'), 5432.0, 29943.0, 35375.0),\n",
       " (('M14', 'M13'), 5113.0, 41036.0, 46149.0),\n",
       " (('M14', 'GCAT'), 3064.0, 102831.0, 105895.0),\n",
       " (('M14', 'C24'), 3029.0, 125783.0, 128812.0),\n",
       " (('M14', 'C31'), 1806.0, 207740.0, 209546.0),\n",
       " (('C151', 'C181'), 6275.0, 55281.0, 61556.0),\n",
       " (('C151', 'C18'), 6197.0, 61131.0, 67328.0),\n",
       " (('C151', 'C17'), 5987.0, 69742.0, 75729.0),\n",
       " (('C151', 'C31'), 3748.0, 84060.0, 87808.0),\n",
       " (('C151', 'C152'), 3249.0, 157381.0, 160630.0),\n",
       " (('ECAT', 'GVIO'), 24721.0, 99740.0, 124461.0),\n",
       " (('ECAT', 'C17'), 22970.0, 186901.0, 209871.0),\n",
       " (('ECAT', 'M13'), 25468.0, 211946.0, 237414.0),\n",
       " (('ECAT', 'GPOL'), 16634.0, 274404.0, 291038.0),\n",
       " (('ECAT', 'MCAT'), 17637.0, 322831.0, 340468.0)]"
      ]
     },
     "execution_count": 36,
     "metadata": {},
     "output_type": "execute_result"
    }
   ],
   "source": [
    "cost_2 = dict()\n",
    "cost_2_ann = dict()\n",
    "cost_2_misc = dict()\n",
    "for c_r,c_p in pairs:\n",
    "    cm = cm_2[(c_r,c_p)]\n",
    "    cost_misc = 0.0\n",
    "    for true_label in label_to_idx.keys():\n",
    "        for pred_label in label_to_idx.keys():\n",
    "            cost_misc += cost_matrix[true_label][pred_label]*cm[label_to_idx[pred_label],label_to_idx[true_label]]\n",
    "    cost_ann = tau_rs[(c_r,c_p)]*cost_r\n",
    "    cost_2_ann[(c_r,c_p)] = cost_ann\n",
    "    cost_2_misc[(c_r,c_p)] = cost_misc\n",
    "    cost_2[(c_r,c_p)] = cost_ann+cost_misc   \n",
    "list(zip(cost_2,cost_2_ann.values(),cost_2_misc.values(),cost_2.values()))"
   ]
  },
  {
   "cell_type": "code",
   "execution_count": 37,
   "metadata": {
    "scrolled": true
   },
   "outputs": [
    {
     "data": {
      "text/plain": [
       "{('M12', 'M14'): 1207,\n",
       " ('M12', 'CCAT'): 2358,\n",
       " ('M12', 'M132'): 1417,\n",
       " ('M12', 'E21'): 2459,\n",
       " ('M12', 'M131'): 1881,\n",
       " ('M132', 'GPOL'): 1523,\n",
       " ('M132', 'CCAT'): 2552,\n",
       " ('M132', 'M12'): 2348,\n",
       " ('M132', 'M131'): 2056,\n",
       " ('M132', 'GCAT'): 1673,\n",
       " ('M131', 'CCAT'): 3172,\n",
       " ('M131', 'M132'): 1840,\n",
       " ('M131', 'E12'): 2547,\n",
       " ('M131', 'ECAT'): 3864,\n",
       " ('M131', 'M12'): 2354,\n",
       " ('E12', 'M11'): 521,\n",
       " ('E12', 'GDIP'): 1170,\n",
       " ('E12', 'E212'): 1431,\n",
       " ('E12', 'M131'): 1691,\n",
       " ('E12', 'E21'): 2070,\n",
       " ('C21', 'C17'): 1255,\n",
       " ('C21', 'C15'): 1764,\n",
       " ('C21', 'ECAT'): 2099,\n",
       " ('C21', 'C31'): 2471,\n",
       " ('C21', 'M141'): 1178,\n",
       " ('E212', 'GPOL'): 3731,\n",
       " ('E212', 'E12'): 2016,\n",
       " ('E212', 'M12'): 2129,\n",
       " ('E212', 'MCAT'): 3688,\n",
       " ('E212', 'C17'): 2973,\n",
       " ('GCRIM', 'E212'): 1066,\n",
       " ('GCRIM', 'C15'): 3093,\n",
       " ('GCRIM', 'C18'): 1973,\n",
       " ('GCRIM', 'GDIP'): 3017,\n",
       " ('GCRIM', 'GPOL'): 5351,\n",
       " ('C24', 'GDIP'): 1587,\n",
       " ('C24', 'C15'): 2963,\n",
       " ('C24', 'C31'): 3912,\n",
       " ('C24', 'MCAT'): 2497,\n",
       " ('C24', 'C21'): 4264,\n",
       " ('GVIO', 'C21'): 4895,\n",
       " ('GVIO', 'C24'): 3351,\n",
       " ('GVIO', 'CCAT'): 3778,\n",
       " ('GVIO', 'ECAT'): 4755,\n",
       " ('GVIO', 'GCRIM'): 3444,\n",
       " ('C13', 'M12'): 527,\n",
       " ('C13', 'C15'): 2039,\n",
       " ('C13', 'GPOL'): 3278,\n",
       " ('C13', 'M14'): 1488,\n",
       " ('C13', 'MCAT'): 2644,\n",
       " ('GDIP', 'C31'): 6051,\n",
       " ('GDIP', 'E12'): 4256,\n",
       " ('GDIP', 'CCAT'): 4927,\n",
       " ('GDIP', 'ECAT'): 6823,\n",
       " ('GDIP', 'GPOL'): 6493,\n",
       " ('C31', 'C151'): 2254,\n",
       " ('C31', 'C15'): 2880,\n",
       " ('C31', 'ECAT'): 3760,\n",
       " ('C31', 'C21'): 3764,\n",
       " ('C31', 'M14'): 2455,\n",
       " ('C181', 'C151'): 4463,\n",
       " ('C181', 'GCAT'): 4593,\n",
       " ('C181', 'C152'): 6967,\n",
       " ('C181', 'C15'): 6791,\n",
       " ('C181', 'C17'): 5681,\n",
       " ('M141', 'ECAT'): 5556,\n",
       " ('M141', 'GCAT'): 4702,\n",
       " ('M141', 'C24'): 5449,\n",
       " ('M141', 'C31'): 7444,\n",
       " ('M141', 'C21'): 5414,\n",
       " ('M11', 'ECAT'): 3265,\n",
       " ('M11', 'C152'): 6525,\n",
       " ('M11', 'M132'): 3073,\n",
       " ('M11', 'M13'): 4022,\n",
       " ('M11', 'CCAT'): 6385,\n",
       " ('E21', 'C31'): 4891,\n",
       " ('E21', 'M12'): 2925,\n",
       " ('E21', 'MCAT'): 5355,\n",
       " ('E21', 'E12'): 4210,\n",
       " ('E21', 'GPOL'): 6429,\n",
       " ('C17', 'MCAT'): 4915,\n",
       " ('C17', 'C152'): 5080,\n",
       " ('C17', 'C15'): 5901,\n",
       " ('C17', 'C18'): 4573,\n",
       " ('C17', 'ECAT'): 6105,\n",
       " ('M13', 'E21'): 2156,\n",
       " ('M13', 'M11'): 1453,\n",
       " ('M13', 'GCAT'): 2699,\n",
       " ('M13', 'E12'): 5600,\n",
       " ('M13', 'ECAT'): 7342,\n",
       " ('C18', 'E12'): 5525,\n",
       " ('C18', 'GCAT'): 6160,\n",
       " ('C18', 'C152'): 8609,\n",
       " ('C18', 'C15'): 8456,\n",
       " ('C18', 'C17'): 7291,\n",
       " ('GPOL', 'MCAT'): 5946,\n",
       " ('GPOL', 'CCAT'): 7377,\n",
       " ('GPOL', 'GCRIM'): 5109,\n",
       " ('GPOL', 'E21'): 6310,\n",
       " ('GPOL', 'GVIO'): 7538,\n",
       " ('C152', 'M11'): 4392,\n",
       " ('C152', 'C17'): 5612,\n",
       " ('C152', 'C31'): 9656,\n",
       " ('C152', 'C181'): 5345,\n",
       " ('C152', 'C18'): 5228,\n",
       " ('M14', 'M132'): 2661,\n",
       " ('M14', 'M13'): 4470,\n",
       " ('M14', 'GCAT'): 7963,\n",
       " ('M14', 'C24'): 9194,\n",
       " ('M14', 'C31'): 12731,\n",
       " ('C151', 'C181'): 2928,\n",
       " ('C151', 'C18'): 2918,\n",
       " ('C151', 'C17'): 5342,\n",
       " ('C151', 'C31'): 5450,\n",
       " ('C151', 'C152'): 10161,\n",
       " ('ECAT', 'GVIO'): 5442,\n",
       " ('ECAT', 'C17'): 8522,\n",
       " ('ECAT', 'M13'): 9337,\n",
       " ('ECAT', 'GPOL'): 15666,\n",
       " ('ECAT', 'MCAT'): 16572}"
      ]
     },
     "execution_count": 37,
     "metadata": {},
     "output_type": "execute_result"
    }
   ],
   "source": [
    "tau_ps"
   ]
  },
  {
   "cell_type": "code",
   "execution_count": 38,
   "metadata": {
    "scrolled": true
   },
   "outputs": [
    {
     "data": {
      "text/plain": [
       "[(('M12', 'M14'), 9562.0, 13812.0, 23374.0),\n",
       " (('M12', 'CCAT'), 13686.0, 20834.0, 34520.0),\n",
       " (('M12', 'M132'), 10163.0, 27793.0, 37956.0),\n",
       " (('M12', 'E21'), 14641.0, 29730.0, 44371.0),\n",
       " (('M12', 'M131'), 12327.0, 116456.0, 128783.0),\n",
       " (('M132', 'GPOL'), 10202.0, 13226.0, 23428.0),\n",
       " (('M132', 'CCAT'), 14869.0, 18227.0, 33096.0),\n",
       " (('M132', 'M12'), 14487.0, 17109.0, 31596.0),\n",
       " (('M132', 'M131'), 13169.0, 35835.0, 49004.0),\n",
       " (('M132', 'GCAT'), 11003.0, 18939.0, 29942.0),\n",
       " (('M131', 'CCAT'), 17144.0, 23209.0, 40353.0),\n",
       " (('M131', 'M132'), 11017.0, 27784.0, 38801.0),\n",
       " (('M131', 'E12'), 14119.0, 38194.0, 52313.0),\n",
       " (('M131', 'ECAT'), 20172.0, 32376.0, 52548.0),\n",
       " (('M131', 'M12'), 13362.0, 38586.0, 51948.0),\n",
       " (('E12', 'M11'), 11278.0, 30086.0, 41364.0),\n",
       " (('E12', 'GDIP'), 13208.0, 48571.0, 61779.0),\n",
       " (('E12', 'E212'), 14701.0, 40356.0, 55057.0),\n",
       " (('E12', 'M131'), 16062.0, 45986.0, 62048.0),\n",
       " (('E12', 'E21'), 15824.0, 52885.0, 68709.0),\n",
       " (('C21', 'C17'), 12398.0, 52598.0, 64996.0),\n",
       " (('C21', 'C15'), 13645.0, 59255.0, 72900.0),\n",
       " (('C21', 'ECAT'), 13979.0, 66630.0, 80609.0),\n",
       " (('C21', 'C31'), 14232.0, 72340.0, 86572.0),\n",
       " (('C21', 'M141'), 13487.0, 63999.0, 77486.0),\n",
       " (('E212', 'GPOL'), 21083.0, 24611.0, 45694.0),\n",
       " (('E212', 'E12'), 12495.0, 25080.0, 37575.0),\n",
       " (('E212', 'M12'), 12963.0, 40859.0, 53822.0),\n",
       " (('E212', 'MCAT'), 20442.0, 36986.0, 57428.0),\n",
       " (('E212', 'C17'), 16646.0, 36756.0, 53402.0),\n",
       " (('GCRIM', 'E212'), 11911.0, 15609.0, 27520.0),\n",
       " (('GCRIM', 'C15'), 20501.0, 23187.0, 43688.0),\n",
       " (('GCRIM', 'C18'), 15280.0, 20132.0, 35412.0),\n",
       " (('GCRIM', 'GDIP'), 19203.0, 36013.0, 55216.0),\n",
       " (('GCRIM', 'GPOL'), 29091.0, 35034.0, 64125.0),\n",
       " (('C24', 'GDIP'), 17313.0, 42619.0, 59932.0),\n",
       " (('C24', 'C15'), 21356.0, 52140.0, 73496.0),\n",
       " (('C24', 'C31'), 23413.0, 63751.0, 87164.0),\n",
       " (('C24', 'MCAT'), 19566.0, 69067.0, 88633.0),\n",
       " (('C24', 'C21'), 24513.0, 71347.0, 95860.0),\n",
       " (('GVIO', 'C21'), 29862.0, 31808.0, 61670.0),\n",
       " (('GVIO', 'C24'), 23536.0, 28553.0, 52089.0),\n",
       " (('GVIO', 'CCAT'), 22895.0, 42924.0, 65819.0),\n",
       " (('GVIO', 'ECAT'), 27262.0, 44322.0, 71584.0),\n",
       " (('GVIO', 'GCRIM'), 22528.0, 40113.0, 62641.0),\n",
       " (('C13', 'M12'), 21139.0, 50797.0, 71936.0),\n",
       " (('C13', 'C15'), 22202.0, 82693.0, 104895.0),\n",
       " (('C13', 'GPOL'), 25723.0, 82414.0, 108137.0),\n",
       " (('C13', 'M14'), 23323.0, 66996.0, 90319.0),\n",
       " (('C13', 'MCAT'), 23640.0, 85814.0, 109454.0),\n",
       " (('GDIP', 'C31'), 35451.0, 42799.0, 78250.0),\n",
       " (('GDIP', 'E12'), 28216.0, 39397.0, 67613.0),\n",
       " (('GDIP', 'CCAT'), 28893.0, 53738.0, 82631.0),\n",
       " (('GDIP', 'ECAT'), 37161.0, 61572.0, 98733.0),\n",
       " (('GDIP', 'GPOL'), 35668.0, 66907.0, 102575.0),\n",
       " (('C31', 'C151'), 25796.0, 68455.0, 94251.0),\n",
       " (('C31', 'C15'), 25690.0, 84890.0, 110580.0),\n",
       " (('C31', 'ECAT'), 25658.0, 100926.0, 126584.0),\n",
       " (('C31', 'C21'), 26740.0, 112126.0, 138866.0),\n",
       " (('C31', 'M14'), 27444.0, 89342.0, 116786.0),\n",
       " (('C181', 'C151'), 30510.0, 37480.0, 67990.0),\n",
       " (('C181', 'GCAT'), 29536.0, 43822.0, 73358.0),\n",
       " (('C181', 'C152'), 40025.0, 53034.0, 93059.0),\n",
       " (('C181', 'C15'), 38809.0, 58652.0, 97461.0),\n",
       " (('C181', 'C17'), 34791.0, 57226.0, 92017.0),\n",
       " (('M141', 'ECAT'), 28966.0, 12714.0, 41680.0),\n",
       " (('M141', 'GCAT'), 24941.0, 18319.0, 43260.0),\n",
       " (('M141', 'C24'), 28727.0, 16980.0, 45707.0),\n",
       " (('M141', 'C31'), 38009.0, 23333.0, 61342.0),\n",
       " (('M141', 'C21'), 28247.0, 33404.0, 61651.0),\n",
       " (('M11', 'ECAT'), 19364.0, 32562.0, 51926.0),\n",
       " (('M11', 'C152'), 34644.0, 35069.0, 69713.0),\n",
       " (('M11', 'M132'), 19535.0, 18485.0, 38020.0),\n",
       " (('M11', 'M13'), 23915.0, 25376.0, 49291.0),\n",
       " (('M11', 'CCAT'), 33744.0, 42290.0, 76034.0),\n",
       " (('E21', 'C31'), 29614.0, 34365.0, 63979.0),\n",
       " (('E21', 'M12'), 21474.0, 49172.0, 70646.0),\n",
       " (('E21', 'MCAT'), 31562.0, 52532.0, 84094.0),\n",
       " (('E21', 'E12'), 25659.0, 52243.0, 77902.0),\n",
       " (('E21', 'GPOL'), 36109.0, 46210.0, 82319.0),\n",
       " (('C17', 'MCAT'), 31264.0, 48162.0, 79426.0),\n",
       " (('C17', 'C152'), 31344.0, 56930.0, 88274.0),\n",
       " (('C17', 'C15'), 34942.0, 73763.0, 108705.0),\n",
       " (('C17', 'C18'), 28997.0, 72866.0, 101863.0),\n",
       " (('C17', 'ECAT'), 35441.0, 49906.0, 85347.0),\n",
       " (('M13', 'E21'), 15245.0, 24539.0, 39784.0),\n",
       " (('M13', 'M11'), 12531.0, 24037.0, 36568.0),\n",
       " (('M13', 'GCAT'), 17667.0, 28764.0, 46431.0),\n",
       " (('M13', 'E12'), 30890.0, 60620.0, 91510.0),\n",
       " (('M13', 'ECAT'), 39177.0, 51909.0, 91086.0),\n",
       " (('C18', 'E12'), 37149.0, 49069.0, 86218.0),\n",
       " (('C18', 'GCAT'), 37649.0, 48414.0, 86063.0),\n",
       " (('C18', 'C152'), 49251.0, 55686.0, 104937.0),\n",
       " (('C18', 'C15'), 47977.0, 64145.0, 112122.0),\n",
       " (('C18', 'C17'), 43657.0, 75119.0, 118776.0),\n",
       " (('GPOL', 'MCAT'), 41809.0, 44402.0, 86211.0),\n",
       " (('GPOL', 'CCAT'), 43849.0, 78104.0, 121953.0),\n",
       " (('GPOL', 'GCRIM'), 37657.0, 56456.0, 94113.0),\n",
       " (('GPOL', 'E21'), 43479.0, 48292.0, 91771.0),\n",
       " (('GPOL', 'GVIO'), 47477.0, 69205.0, 116682.0),\n",
       " (('C152', 'M11'), 37773.0, 64594.0, 102367.0),\n",
       " (('C152', 'C17'), 40447.0, 63162.0, 103609.0),\n",
       " (('C152', 'C31'), 57599.0, 62476.0, 120075.0),\n",
       " (('C152', 'C181'), 38997.0, 63695.0, 102692.0),\n",
       " (('C152', 'C18'), 38565.0, 69358.0, 107923.0),\n",
       " (('M14', 'M132'), 18737.0, 18176.0, 36913.0),\n",
       " (('M14', 'M13'), 27463.0, 21185.0, 48648.0),\n",
       " (('M14', 'GCAT'), 42879.0, 37294.0, 80173.0),\n",
       " (('M14', 'C24'), 48999.0, 40855.0, 89854.0),\n",
       " (('M14', 'C31'), 65461.0, 49014.0, 114475.0),\n",
       " (('C151', 'C181'), 20915.0, 35186.0, 56101.0),\n",
       " (('C151', 'C18'), 20787.0, 40927.0, 61714.0),\n",
       " (('C151', 'C17'), 32697.0, 35246.0, 67943.0),\n",
       " (('C151', 'C31'), 30998.0, 46378.0, 77376.0),\n",
       " (('C151', 'C152'), 54054.0, 49447.0, 103501.0),\n",
       " (('ECAT', 'GVIO'), 51931.0, 67467.0, 119398.0),\n",
       " (('ECAT', 'C17'), 65580.0, 106939.0, 172519.0),\n",
       " (('ECAT', 'M13'), 72153.0, 87082.0, 159235.0),\n",
       " (('ECAT', 'GPOL'), 94964.0, 107765.0, 202729.0),\n",
       " (('ECAT', 'MCAT'), 100497.0, 127515.0, 228012.0)]"
      ]
     },
     "execution_count": 38,
     "metadata": {},
     "output_type": "execute_result"
    }
   ],
   "source": [
    "cost_3 = dict()\n",
    "cost_3_ann = dict()\n",
    "cost_3_misc = dict()\n",
    "for c_r,c_p in pairs:\n",
    "    cm = cm_3[(c_r,c_p)]\n",
    "    cost_misc = 0.0\n",
    "    for true_label in label_to_idx.keys():\n",
    "        for pred_label in label_to_idx.keys():\n",
    "            cost_misc += cost_matrix[true_label][pred_label]*cm[label_to_idx[pred_label],label_to_idx[true_label]]\n",
    "    cost_ann = tau_rs[(c_r,c_p)]*cost_r+tau_ps[(c_r,c_p)]*cost_p\n",
    "    cost_3_ann[(c_r,c_p)] = cost_ann\n",
    "    cost_3_misc[(c_r,c_p)] = cost_misc\n",
    "    cost_3[(c_r,c_p)] = cost_ann+cost_misc   \n",
    "list(zip(cost_3,cost_3_ann.values(),cost_3_misc.values(),cost_3.values()))"
   ]
  },
  {
   "cell_type": "markdown",
   "metadata": {},
   "source": [
    "## Uncertainty Ranking"
   ]
  },
  {
   "cell_type": "code",
   "execution_count": 39,
   "metadata": {
    "scrolled": true
   },
   "outputs": [
    {
     "name": "stdout",
     "output_type": "stream",
     "text": [
      "M12 M14\n",
      "M12 CCAT\n",
      "M12 M132\n",
      "M12 E21\n",
      "M12 M131\n",
      "M132 GPOL\n",
      "M132 CCAT\n",
      "M132 M12\n",
      "M132 M131\n",
      "M132 GCAT\n",
      "M131 CCAT\n",
      "M131 M132\n",
      "M131 E12\n",
      "M131 ECAT\n",
      "M131 M12\n",
      "E12 M11\n",
      "E12 GDIP\n",
      "E12 E212\n",
      "E12 M131\n",
      "E12 E21\n",
      "C21 C17\n",
      "C21 C15\n",
      "C21 ECAT\n",
      "C21 C31\n",
      "C21 M141\n",
      "E212 GPOL\n",
      "E212 E12\n",
      "E212 M12\n",
      "E212 MCAT\n",
      "E212 C17\n",
      "GCRIM E212\n",
      "GCRIM C15\n",
      "GCRIM C18\n",
      "GCRIM GDIP\n",
      "GCRIM GPOL\n",
      "C24 GDIP\n",
      "C24 C15\n",
      "C24 C31\n",
      "C24 MCAT\n",
      "C24 C21\n",
      "GVIO C21\n",
      "GVIO C24\n",
      "GVIO CCAT\n",
      "GVIO ECAT\n",
      "GVIO GCRIM\n",
      "C13 M12\n",
      "C13 C15\n",
      "C13 GPOL\n",
      "C13 M14\n",
      "C13 MCAT\n",
      "GDIP C31\n",
      "GDIP E12\n",
      "GDIP CCAT\n",
      "GDIP ECAT\n",
      "GDIP GPOL\n",
      "C31 C151\n",
      "C31 C15\n",
      "C31 ECAT\n",
      "C31 C21\n",
      "C31 M14\n",
      "C181 C151\n",
      "C181 GCAT\n",
      "C181 C152\n",
      "C181 C15\n",
      "C181 C17\n",
      "M141 ECAT\n",
      "M141 GCAT\n",
      "M141 C24\n",
      "M141 C31\n",
      "M141 C21\n",
      "M11 ECAT\n",
      "M11 C152\n",
      "M11 M132\n",
      "M11 M13\n",
      "M11 CCAT\n",
      "E21 C31\n",
      "E21 M12\n",
      "E21 MCAT\n",
      "E21 E12\n",
      "E21 GPOL\n",
      "C17 MCAT\n",
      "C17 C152\n",
      "C17 C15\n",
      "C17 C18\n",
      "C17 ECAT\n",
      "M13 E21\n",
      "M13 M11\n",
      "M13 GCAT\n",
      "M13 E12\n",
      "M13 ECAT\n",
      "C18 E12\n",
      "C18 GCAT\n",
      "C18 C152\n",
      "C18 C15\n",
      "C18 C17\n",
      "GPOL MCAT\n",
      "GPOL CCAT\n",
      "GPOL GCRIM\n",
      "GPOL E21\n",
      "GPOL GVIO\n",
      "C152 M11\n",
      "C152 C17\n",
      "C152 C31\n",
      "C152 C181\n",
      "C152 C18\n",
      "M14 M132\n",
      "M14 M13\n",
      "M14 GCAT\n",
      "M14 C24\n",
      "M14 C31\n",
      "C151 C181\n",
      "C151 C18\n",
      "C151 C17\n",
      "C151 C31\n",
      "C151 C152\n",
      "ECAT GVIO\n",
      "ECAT C17\n",
      "ECAT M13\n",
      "ECAT GPOL\n",
      "ECAT MCAT\n"
     ]
    }
   ],
   "source": [
    "from sklearn.metrics import confusion_matrix\n",
    "cm_ur = dict()\n",
    "for c_r,c_p in pairs:\n",
    "    print(c_r,c_p)\n",
    "    timer(' '.join(['UR',c_r,c_p]))\n",
    "    c_r_probs = posterior_probabilities[c_r]\n",
    "    c_p_probs = posterior_probabilities[c_p]\n",
    "    \n",
    "    uncertainty_c_r = np.abs(c_r_probs[:,1]-0.5)\n",
    "    u_r_idxs = np.argsort(uncertainty_c_r)[:tau_rs[(c_r,c_p)]]\n",
    "    u_r_idxs_bool = np.zeros_like(uncertainty_c_r)\n",
    "    u_r_idxs_bool[u_r_idxs] = 1\n",
    "\n",
    "    y_r = y_arr[c_r]\n",
    "    c_r_probs_ur = np.copy(c_r_probs[:,1])\n",
    "    c_r_probs_ur[np.logical_and(u_r_idxs_bool==1,y_r==1)] = 1\n",
    "    c_r_probs_ur[np.logical_and(u_r_idxs_bool==1,y_r==0)] = 0\n",
    "\n",
    "    uncertainty_c_p = np.abs(c_p_probs[u_r_idxs,1]-0.5)\n",
    "    u_p_idxs = np.argsort(uncertainty_c_p)[:tau_ps[(c_r,c_p)]]\n",
    "    u_p_idxs_bool = np.zeros_like(uncertainty_c_r)\n",
    "    u_p_idxs_bool[u_p_idxs] = 1\n",
    "    \n",
    "    y_p = y_arr[c_p]\n",
    "    c_p_probs_ur = np.copy(c_p_probs[:,1])\n",
    "    c_p_probs_ur[np.logical_and(u_p_idxs_bool==1,y_p==1)] = 1\n",
    "    c_p_probs_ur[np.logical_and(u_p_idxs_bool==1,y_p==0)] = 0\n",
    "\n",
    "    h = get_h_risk_h(c_r_probs_ur, c_p_probs_ur, cost_matrix, need_risk=False)[0]\n",
    "    \n",
    "    cm_ur[(c_r,c_p)] = confusion_matrix(manual_labels[(c_r,c_p)],h)\n",
    "\n",
    "timer()"
   ]
  },
  {
   "cell_type": "code",
   "execution_count": 40,
   "metadata": {},
   "outputs": [
    {
     "data": {
      "text/plain": [
       "[(('M12', 'M14'), 9562.0, 18905.0, 28467.0),\n",
       " (('M12', 'CCAT'), 13686.0, 45459.0, 59145.0),\n",
       " (('M12', 'M132'), 10163.0, 52693.0, 62856.0),\n",
       " (('M12', 'E21'), 14641.0, 71825.0, 86466.0),\n",
       " (('M12', 'M131'), 12327.0, 183848.0, 196175.0),\n",
       " (('M132', 'GPOL'), 10202.0, 25858.0, 36060.0),\n",
       " (('M132', 'CCAT'), 14869.0, 41311.0, 56180.0),\n",
       " (('M132', 'M12'), 14487.0, 33571.0, 48058.0),\n",
       " (('M132', 'M131'), 13169.0, 66010.0, 79179.0),\n",
       " (('M132', 'GCAT'), 11003.0, 35683.0, 46686.0),\n",
       " (('M131', 'CCAT'), 17144.0, 56138.0, 73282.0),\n",
       " (('M131', 'M132'), 11017.0, 53994.0, 65011.0),\n",
       " (('M131', 'E12'), 14119.0, 83039.0, 97158.0),\n",
       " (('M131', 'ECAT'), 20172.0, 90873.0, 111045.0),\n",
       " (('M131', 'M12'), 13362.0, 72966.0, 86328.0),\n",
       " (('E12', 'M11'), 11278.0, 33555.0, 44833.0),\n",
       " (('E12', 'GDIP'), 13208.0, 62650.0, 75858.0),\n",
       " (('E12', 'E212'), 14701.0, 61310.0, 76011.0),\n",
       " (('E12', 'M131'), 16062.0, 75009.0, 91071.0),\n",
       " (('E12', 'E21'), 15824.0, 90028.0, 105852.0),\n",
       " (('C21', 'C17'), 12398.0, 61710.0, 74108.0),\n",
       " (('C21', 'C15'), 13645.0, 72700.0, 86345.0),\n",
       " (('C21', 'ECAT'), 13979.0, 84599.0, 98578.0),\n",
       " (('C21', 'C31'), 14232.0, 103470.0, 117702.0),\n",
       " (('C21', 'M141'), 13487.0, 85596.0, 99083.0),\n",
       " (('E212', 'GPOL'), 21083.0, 39445.0, 60528.0),\n",
       " (('E212', 'E12'), 12495.0, 34015.0, 46510.0),\n",
       " (('E212', 'M12'), 12963.0, 69949.0, 82912.0),\n",
       " (('E212', 'MCAT'), 20442.0, 71910.0, 92352.0),\n",
       " (('E212', 'C17'), 16646.0, 63580.0, 80226.0),\n",
       " (('GCRIM', 'E212'), 11911.0, 28155.0, 40066.0),\n",
       " (('GCRIM', 'C15'), 20501.0, 43100.0, 63601.0),\n",
       " (('GCRIM', 'C18'), 15280.0, 35213.0, 50493.0),\n",
       " (('GCRIM', 'GDIP'), 19203.0, 71736.0, 90939.0),\n",
       " (('GCRIM', 'GPOL'), 29091.0, 98965.0, 128056.0),\n",
       " (('C24', 'GDIP'), 17313.0, 49910.0, 67223.0),\n",
       " (('C24', 'C15'), 21356.0, 73689.0, 95045.0),\n",
       " (('C24', 'C31'), 23413.0, 99032.0, 122445.0),\n",
       " (('C24', 'MCAT'), 19566.0, 103170.0, 122736.0),\n",
       " (('C24', 'C21'), 24513.0, 140276.0, 164789.0),\n",
       " (('GVIO', 'C21'), 29862.0, 47865.0, 77727.0),\n",
       " (('GVIO', 'C24'), 23536.0, 44890.0, 68426.0),\n",
       " (('GVIO', 'CCAT'), 22895.0, 77513.0, 100408.0),\n",
       " (('GVIO', 'ECAT'), 27262.0, 88662.0, 115924.0),\n",
       " (('GVIO', 'GCRIM'), 22528.0, 84918.0, 107446.0),\n",
       " (('C13', 'M12'), 21139.0, 57935.0, 79074.0),\n",
       " (('C13', 'C15'), 22202.0, 100945.0, 123147.0),\n",
       " (('C13', 'GPOL'), 25723.0, 111633.0, 137356.0),\n",
       " (('C13', 'M14'), 23323.0, 86466.0, 109789.0),\n",
       " (('C13', 'MCAT'), 23640.0, 121846.0, 145486.0),\n",
       " (('GDIP', 'C31'), 35451.0, 79233.0, 114684.0),\n",
       " (('GDIP', 'E12'), 28216.0, 64958.0, 93174.0),\n",
       " (('GDIP', 'CCAT'), 28893.0, 103625.0, 132518.0),\n",
       " (('GDIP', 'ECAT'), 37161.0, 140468.0, 177629.0),\n",
       " (('GDIP', 'GPOL'), 35668.0, 162415.0, 198083.0),\n",
       " (('C31', 'C151'), 25796.0, 91860.0, 117656.0),\n",
       " (('C31', 'C15'), 25690.0, 129446.0, 155136.0),\n",
       " (('C31', 'ECAT'), 25658.0, 153031.0, 178689.0),\n",
       " (('C31', 'C21'), 26740.0, 176097.0, 202837.0),\n",
       " (('C31', 'M14'), 27444.0, 124173.0, 151617.0),\n",
       " (('C181', 'C151'), 30510.0, 67657.0, 98167.0),\n",
       " (('C181', 'GCAT'), 29536.0, 86412.0, 115948.0),\n",
       " (('C181', 'C152'), 40025.0, 131124.0, 171149.0),\n",
       " (('C181', 'C15'), 38809.0, 142356.0, 181165.0),\n",
       " (('C181', 'C17'), 34791.0, 123935.0, 158726.0),\n",
       " (('M141', 'ECAT'), 28966.0, 58816.0, 87782.0),\n",
       " (('M141', 'GCAT'), 24941.0, 59636.0, 84577.0),\n",
       " (('M141', 'C24'), 28727.0, 74359.0, 103086.0),\n",
       " (('M141', 'C31'), 38009.0, 115448.0, 153457.0),\n",
       " (('M141', 'C21'), 28247.0, 98173.0, 126420.0),\n",
       " (('M11', 'ECAT'), 19364.0, 62448.0, 81812.0),\n",
       " (('M11', 'C152'), 34644.0, 115949.0, 150593.0),\n",
       " (('M11', 'M132'), 19535.0, 51030.0, 70565.0),\n",
       " (('M11', 'M13'), 23915.0, 67888.0, 91803.0),\n",
       " (('M11', 'CCAT'), 33744.0, 124074.0, 157818.0),\n",
       " (('E21', 'C31'), 29614.0, 62548.0, 92162.0),\n",
       " (('E21', 'M12'), 21474.0, 86733.0, 108207.0),\n",
       " (('E21', 'MCAT'), 31562.0, 102845.0, 134407.0),\n",
       " (('E21', 'E12'), 25659.0, 96800.0, 122459.0),\n",
       " (('E21', 'GPOL'), 36109.0, 112841.0, 148950.0),\n",
       " (('C17', 'MCAT'), 31264.0, 81112.0, 112376.0),\n",
       " (('C17', 'C152'), 31344.0, 108223.0, 139567.0),\n",
       " (('C17', 'C15'), 34942.0, 137413.0, 172355.0),\n",
       " (('C17', 'C18'), 28997.0, 142282.0, 171279.0),\n",
       " (('C17', 'ECAT'), 35441.0, 108173.0, 143614.0),\n",
       " (('M13', 'E21'), 15245.0, 43915.0, 59160.0),\n",
       " (('M13', 'M11'), 12531.0, 34199.0, 46730.0),\n",
       " (('M13', 'GCAT'), 17667.0, 49275.0, 66942.0),\n",
       " (('M13', 'E12'), 30890.0, 145084.0, 175974.0),\n",
       " (('M13', 'ECAT'), 39177.0, 154481.0, 193658.0),\n",
       " (('C18', 'E12'), 37149.0, 108431.0, 145580.0),\n",
       " (('C18', 'GCAT'), 37649.0, 108166.0, 145815.0),\n",
       " (('C18', 'C152'), 49251.0, 149622.0, 198873.0),\n",
       " (('C18', 'C15'), 47977.0, 164034.0, 212011.0),\n",
       " (('C18', 'C17'), 43657.0, 171907.0, 215564.0),\n",
       " (('GPOL', 'MCAT'), 41809.0, 76719.0, 118528.0),\n",
       " (('GPOL', 'CCAT'), 43849.0, 170391.0, 214240.0),\n",
       " (('GPOL', 'GCRIM'), 37657.0, 123892.0, 161549.0),\n",
       " (('GPOL', 'E21'), 43479.0, 112501.0, 155980.0),\n",
       " (('GPOL', 'GVIO'), 47477.0, 171364.0, 218841.0),\n",
       " (('C152', 'M11'), 37773.0, 108035.0, 145808.0),\n",
       " (('C152', 'C17'), 40447.0, 95637.0, 136084.0),\n",
       " (('C152', 'C31'), 57599.0, 130292.0, 187891.0),\n",
       " (('C152', 'C181'), 38997.0, 113622.0, 152619.0),\n",
       " (('C152', 'C18'), 38565.0, 123029.0, 161594.0),\n",
       " (('M14', 'M132'), 18737.0, 32738.0, 51475.0),\n",
       " (('M14', 'M13'), 27463.0, 43108.0, 70571.0),\n",
       " (('M14', 'GCAT'), 42879.0, 103672.0, 146551.0),\n",
       " (('M14', 'C24'), 48999.0, 128821.0, 177820.0),\n",
       " (('M14', 'C31'), 65461.0, 209403.0, 274864.0),\n",
       " (('C151', 'C181'), 20915.0, 57515.0, 78430.0),\n",
       " (('C151', 'C18'), 20787.0, 64320.0, 85107.0),\n",
       " (('C151', 'C17'), 32697.0, 69840.0, 102537.0),\n",
       " (('C151', 'C31'), 30998.0, 84833.0, 115831.0),\n",
       " (('C151', 'C152'), 54054.0, 155354.0, 209408.0),\n",
       " (('ECAT', 'GVIO'), 51931.0, 103440.0, 155371.0),\n",
       " (('ECAT', 'C17'), 65580.0, 191081.0, 256661.0),\n",
       " (('ECAT', 'M13'), 72153.0, 222136.0, 294289.0),\n",
       " (('ECAT', 'GPOL'), 94964.0, 270751.0, 365715.0),\n",
       " (('ECAT', 'MCAT'), 100497.0, 312223.0, 412720.0)]"
      ]
     },
     "execution_count": 40,
     "metadata": {},
     "output_type": "execute_result"
    }
   ],
   "source": [
    "cost_ur = dict()\n",
    "cost_ur_ann = dict()\n",
    "cost_ur_misc = dict()\n",
    "for c_r,c_p in pairs:\n",
    "    cm = cm_ur[(c_r,c_p)]\n",
    "    cost_misc = 0.0\n",
    "    for true_label in label_to_idx.keys():\n",
    "        for pred_label in label_to_idx.keys():\n",
    "            cost_misc += cost_matrix[true_label][pred_label]*cm[label_to_idx[pred_label],label_to_idx[true_label]]\n",
    "    cost_ann = tau_rs[(c_r,c_p)]*cost_r+tau_ps[(c_r,c_p)]*cost_p\n",
    "    cost_ur_ann[(c_r,c_p)] = cost_ann\n",
    "    cost_ur_misc[(c_r,c_p)] = cost_misc\n",
    "    cost_ur[(c_r,c_p)] = cost_ann+cost_misc   \n",
    "list(zip(cost_ur,cost_ur_ann.values(),cost_ur_misc.values(),cost_ur.values()))"
   ]
  },
  {
   "cell_type": "markdown",
   "metadata": {},
   "source": [
    "\n",
    "## Relevance Ranking"
   ]
  },
  {
   "cell_type": "code",
   "execution_count": 41,
   "metadata": {
    "scrolled": true
   },
   "outputs": [
    {
     "name": "stdout",
     "output_type": "stream",
     "text": [
      "M12 M14\n",
      "M12 CCAT\n",
      "M12 M132\n",
      "M12 E21\n",
      "M12 M131\n",
      "M132 GPOL\n",
      "M132 CCAT\n",
      "M132 M12\n",
      "M132 M131\n",
      "M132 GCAT\n",
      "M131 CCAT\n",
      "M131 M132\n",
      "M131 E12\n",
      "M131 ECAT\n",
      "M131 M12\n",
      "E12 M11\n",
      "E12 GDIP\n",
      "E12 E212\n",
      "E12 M131\n",
      "E12 E21\n",
      "C21 C17\n",
      "C21 C15\n",
      "C21 ECAT\n",
      "C21 C31\n",
      "C21 M141\n",
      "E212 GPOL\n",
      "E212 E12\n",
      "E212 M12\n",
      "E212 MCAT\n",
      "E212 C17\n",
      "GCRIM E212\n",
      "GCRIM C15\n",
      "GCRIM C18\n",
      "GCRIM GDIP\n",
      "GCRIM GPOL\n",
      "C24 GDIP\n",
      "C24 C15\n",
      "C24 C31\n",
      "C24 MCAT\n",
      "C24 C21\n",
      "GVIO C21\n",
      "GVIO C24\n",
      "GVIO CCAT\n",
      "GVIO ECAT\n",
      "GVIO GCRIM\n",
      "C13 M12\n",
      "C13 C15\n",
      "C13 GPOL\n",
      "C13 M14\n",
      "C13 MCAT\n",
      "GDIP C31\n",
      "GDIP E12\n",
      "GDIP CCAT\n",
      "GDIP ECAT\n",
      "GDIP GPOL\n",
      "C31 C151\n",
      "C31 C15\n",
      "C31 ECAT\n",
      "C31 C21\n",
      "C31 M14\n",
      "C181 C151\n",
      "C181 GCAT\n",
      "C181 C152\n",
      "C181 C15\n",
      "C181 C17\n",
      "M141 ECAT\n",
      "M141 GCAT\n",
      "M141 C24\n",
      "M141 C31\n",
      "M141 C21\n",
      "M11 ECAT\n",
      "M11 C152\n",
      "M11 M132\n",
      "M11 M13\n",
      "M11 CCAT\n",
      "E21 C31\n",
      "E21 M12\n",
      "E21 MCAT\n",
      "E21 E12\n",
      "E21 GPOL\n",
      "C17 MCAT\n",
      "C17 C152\n",
      "C17 C15\n",
      "C17 C18\n",
      "C17 ECAT\n",
      "M13 E21\n",
      "M13 M11\n",
      "M13 GCAT\n",
      "M13 E12\n",
      "M13 ECAT\n",
      "C18 E12\n",
      "C18 GCAT\n",
      "C18 C152\n",
      "C18 C15\n",
      "C18 C17\n",
      "GPOL MCAT\n",
      "GPOL CCAT\n",
      "GPOL GCRIM\n",
      "GPOL E21\n",
      "GPOL GVIO\n",
      "C152 M11\n",
      "C152 C17\n",
      "C152 C31\n",
      "C152 C181\n",
      "C152 C18\n",
      "M14 M132\n",
      "M14 M13\n",
      "M14 GCAT\n",
      "M14 C24\n",
      "M14 C31\n",
      "C151 C181\n",
      "C151 C18\n",
      "C151 C17\n",
      "C151 C31\n",
      "C151 C152\n",
      "ECAT GVIO\n",
      "ECAT C17\n",
      "ECAT M13\n",
      "ECAT GPOL\n",
      "ECAT MCAT\n"
     ]
    }
   ],
   "source": [
    "from sklearn.metrics import confusion_matrix\n",
    "cm_rr = dict()\n",
    "for c_r,c_p in pairs:\n",
    "    print(c_r,c_p)\n",
    "    timer(' '.join(['RR',c_r,c_p]))\n",
    "    c_r_probs = posterior_probabilities[c_r]\n",
    "    c_p_probs = posterior_probabilities[c_p]\n",
    "    \n",
    "    relevance_c_r = c_r_probs[:,0]\n",
    "    r_r_idxs = np.argsort(relevance_c_r)[:tau_rs[(c_r,c_p)]]\n",
    "    r_r_idxs_bool = np.zeros_like(relevance_c_r)\n",
    "    r_r_idxs_bool[r_r_idxs] = 1\n",
    "\n",
    "    y_r = y_arr[c_r]\n",
    "    c_r_probs_rr = np.copy(c_r_probs[:,1])\n",
    "    c_r_probs_rr[np.logical_and(r_r_idxs_bool==1,y_r==1)] = 1\n",
    "    c_r_probs_rr[np.logical_and(r_r_idxs_bool==1,y_r==0)] = 0\n",
    "\n",
    "    relevance_c_p = c_p_probs[r_r_idxs,0]\n",
    "    r_p_idxs = np.argsort(relevance_c_p)[:tau_ps[(c_r,c_p)]]\n",
    "    r_p_idxs_bool = np.zeros_like(relevance_c_r)\n",
    "    r_p_idxs_bool[r_p_idxs] = 1\n",
    "    \n",
    "    y_p = y_arr[c_p]\n",
    "    c_p_probs_rr = np.copy(c_p_probs[:,1])\n",
    "    c_p_probs_rr[np.logical_and(r_p_idxs_bool==1,y_p==1)] = 1\n",
    "    c_p_probs_rr[np.logical_and(r_p_idxs_bool==1,y_p==0)] = 0\n",
    "\n",
    "    h = get_h_risk_h(c_r_probs_rr, c_p_probs_rr, cost_matrix, need_risk=False)[0]\n",
    "    \n",
    "    cm_rr[(c_r,c_p)] = confusion_matrix(manual_labels[(c_r,c_p)],h)\n",
    "    \n",
    "timer()"
   ]
  },
  {
   "cell_type": "code",
   "execution_count": 42,
   "metadata": {},
   "outputs": [
    {
     "data": {
      "text/plain": [
       "[(('M12', 'M14'), 9562.0, 24625.0, 34187.0),\n",
       " (('M12', 'CCAT'), 13686.0, 45537.0, 59223.0),\n",
       " (('M12', 'M132'), 10163.0, 51426.0, 61589.0),\n",
       " (('M12', 'E21'), 14641.0, 69441.0, 84082.0),\n",
       " (('M12', 'M131'), 12327.0, 174280.0, 186607.0),\n",
       " (('M132', 'GPOL'), 10202.0, 30421.0, 40623.0),\n",
       " (('M132', 'CCAT'), 14869.0, 43393.0, 58262.0),\n",
       " (('M132', 'M12'), 14487.0, 36516.0, 51003.0),\n",
       " (('M132', 'M131'), 13169.0, 63584.0, 76753.0),\n",
       " (('M132', 'GCAT'), 11003.0, 39537.0, 50540.0),\n",
       " (('M131', 'CCAT'), 17144.0, 56584.0, 73728.0),\n",
       " (('M131', 'M132'), 11017.0, 49309.0, 60326.0),\n",
       " (('M131', 'E12'), 14119.0, 83895.0, 98014.0),\n",
       " (('M131', 'ECAT'), 20172.0, 91722.0, 111894.0),\n",
       " (('M131', 'M12'), 13362.0, 72913.0, 86275.0),\n",
       " (('E12', 'M11'), 11278.0, 34485.0, 45763.0),\n",
       " (('E12', 'GDIP'), 13208.0, 63675.0, 76883.0),\n",
       " (('E12', 'E212'), 14701.0, 61965.0, 76666.0),\n",
       " (('E12', 'M131'), 16062.0, 75045.0, 91107.0),\n",
       " (('E12', 'E21'), 15824.0, 87767.0, 103591.0),\n",
       " (('C21', 'C17'), 12398.0, 63885.0, 76283.0),\n",
       " (('C21', 'C15'), 13645.0, 75105.0, 88750.0),\n",
       " (('C21', 'ECAT'), 13979.0, 87291.0, 101270.0),\n",
       " (('C21', 'C31'), 14232.0, 101003.0, 115235.0),\n",
       " (('C21', 'M141'), 13487.0, 87000.0, 100487.0),\n",
       " (('E212', 'GPOL'), 21083.0, 44797.0, 65880.0),\n",
       " (('E212', 'E12'), 12495.0, 38125.0, 50620.0),\n",
       " (('E212', 'M12'), 12963.0, 69529.0, 82492.0),\n",
       " (('E212', 'MCAT'), 20442.0, 73371.0, 93813.0),\n",
       " (('E212', 'C17'), 16646.0, 63709.0, 80355.0),\n",
       " (('GCRIM', 'E212'), 11911.0, 38758.0, 50669.0),\n",
       " (('GCRIM', 'C15'), 20501.0, 53179.0, 73680.0),\n",
       " (('GCRIM', 'C18'), 15280.0, 43965.0, 59245.0),\n",
       " (('GCRIM', 'GDIP'), 19203.0, 72516.0, 91719.0),\n",
       " (('GCRIM', 'GPOL'), 29091.0, 101341.0, 130432.0),\n",
       " (('C24', 'GDIP'), 17313.0, 53325.0, 70638.0),\n",
       " (('C24', 'C15'), 21356.0, 79952.0, 101308.0),\n",
       " (('C24', 'C31'), 23413.0, 102161.0, 125574.0),\n",
       " (('C24', 'MCAT'), 19566.0, 106200.0, 125766.0),\n",
       " (('C24', 'C21'), 24513.0, 141080.0, 165593.0),\n",
       " (('GVIO', 'C21'), 29862.0, 56920.0, 86782.0),\n",
       " (('GVIO', 'C24'), 23536.0, 55255.0, 78791.0),\n",
       " (('GVIO', 'CCAT'), 22895.0, 77162.0, 100057.0),\n",
       " (('GVIO', 'ECAT'), 27262.0, 90666.0, 117928.0),\n",
       " (('GVIO', 'GCRIM'), 22528.0, 87657.0, 110185.0),\n",
       " (('C13', 'M12'), 21139.0, 58575.0, 79714.0),\n",
       " (('C13', 'C15'), 22202.0, 103770.0, 125972.0),\n",
       " (('C13', 'GPOL'), 25723.0, 112449.0, 138172.0),\n",
       " (('C13', 'M14'), 23323.0, 87570.0, 110893.0),\n",
       " (('C13', 'MCAT'), 23640.0, 120483.0, 144123.0),\n",
       " (('GDIP', 'C31'), 35451.0, 91612.0, 127063.0),\n",
       " (('GDIP', 'E12'), 28216.0, 76338.0, 104554.0),\n",
       " (('GDIP', 'CCAT'), 28893.0, 107331.0, 136224.0),\n",
       " (('GDIP', 'ECAT'), 37161.0, 143383.0, 180544.0),\n",
       " (('GDIP', 'GPOL'), 35668.0, 160791.0, 196459.0),\n",
       " (('C31', 'C151'), 25796.0, 93585.0, 119381.0),\n",
       " (('C31', 'C15'), 25690.0, 130701.0, 156391.0),\n",
       " (('C31', 'ECAT'), 25658.0, 153703.0, 179361.0),\n",
       " (('C31', 'C21'), 26740.0, 170130.0, 196870.0),\n",
       " (('C31', 'M14'), 27444.0, 124080.0, 151524.0),\n",
       " (('C181', 'C151'), 30510.0, 78601.0, 109111.0),\n",
       " (('C181', 'GCAT'), 29536.0, 95637.0, 125173.0),\n",
       " (('C181', 'C152'), 40025.0, 135119.0, 175144.0),\n",
       " (('C181', 'C15'), 38809.0, 142327.0, 181136.0),\n",
       " (('C181', 'C17'), 34791.0, 120740.0, 155531.0),\n",
       " (('M141', 'ECAT'), 28966.0, 58658.0, 87624.0),\n",
       " (('M141', 'GCAT'), 24941.0, 60768.0, 85709.0),\n",
       " (('M141', 'C24'), 28727.0, 74440.0, 103167.0),\n",
       " (('M141', 'C31'), 38009.0, 113239.0, 151248.0),\n",
       " (('M141', 'C21'), 28247.0, 98632.0, 126879.0),\n",
       " (('M11', 'ECAT'), 19364.0, 65171.0, 84535.0),\n",
       " (('M11', 'C152'), 34644.0, 115121.0, 149765.0),\n",
       " (('M11', 'M132'), 19535.0, 54651.0, 74186.0),\n",
       " (('M11', 'M13'), 23915.0, 70497.0, 94412.0),\n",
       " (('M11', 'CCAT'), 33744.0, 124277.0, 158021.0),\n",
       " (('E21', 'C31'), 29614.0, 73714.0, 103328.0),\n",
       " (('E21', 'M12'), 21474.0, 90490.0, 111964.0),\n",
       " (('E21', 'MCAT'), 31562.0, 107794.0, 139356.0),\n",
       " (('E21', 'E12'), 25659.0, 93499.0, 119158.0),\n",
       " (('E21', 'GPOL'), 36109.0, 111536.0, 147645.0),\n",
       " (('C17', 'MCAT'), 31264.0, 91111.0, 122375.0),\n",
       " (('C17', 'C152'), 31344.0, 114759.0, 146103.0),\n",
       " (('C17', 'C15'), 34942.0, 138512.0, 173454.0),\n",
       " (('C17', 'C18'), 28997.0, 139543.0, 168540.0),\n",
       " (('C17', 'ECAT'), 35441.0, 114895.0, 150336.0),\n",
       " (('M13', 'E21'), 15245.0, 51918.0, 67163.0),\n",
       " (('M13', 'M11'), 12531.0, 44621.0, 57152.0),\n",
       " (('M13', 'GCAT'), 17667.0, 55181.0, 72848.0),\n",
       " (('M13', 'E12'), 30890.0, 146192.0, 177082.0),\n",
       " (('M13', 'ECAT'), 39177.0, 156281.0, 195458.0),\n",
       " (('C18', 'E12'), 37149.0, 113456.0, 150605.0),\n",
       " (('C18', 'GCAT'), 37649.0, 119705.0, 157354.0),\n",
       " (('C18', 'C152'), 49251.0, 155450.0, 204701.0),\n",
       " (('C18', 'C15'), 47977.0, 167112.0, 215089.0),\n",
       " (('C18', 'C17'), 43657.0, 170944.0, 214601.0),\n",
       " (('GPOL', 'MCAT'), 41809.0, 95437.0, 137246.0),\n",
       " (('GPOL', 'CCAT'), 43849.0, 173129.0, 216978.0),\n",
       " (('GPOL', 'GCRIM'), 37657.0, 133337.0, 170994.0),\n",
       " (('GPOL', 'E21'), 43479.0, 122689.0, 166168.0),\n",
       " (('GPOL', 'GVIO'), 47477.0, 171566.0, 219043.0),\n",
       " (('C152', 'M11'), 37773.0, 126520.0, 164293.0),\n",
       " (('C152', 'C17'), 40447.0, 116868.0, 157315.0),\n",
       " (('C152', 'C31'), 57599.0, 139889.0, 197488.0),\n",
       " (('C152', 'C181'), 38997.0, 130438.0, 169435.0),\n",
       " (('C152', 'C18'), 38565.0, 137631.0, 176196.0),\n",
       " (('M14', 'M132'), 18737.0, 44696.0, 63433.0),\n",
       " (('M14', 'M13'), 27463.0, 54971.0, 82434.0),\n",
       " (('M14', 'GCAT'), 42879.0, 106609.0, 149488.0),\n",
       " (('M14', 'C24'), 48999.0, 132086.0, 181085.0),\n",
       " (('M14', 'C31'), 65461.0, 203412.0, 268873.0),\n",
       " (('C151', 'C181'), 20915.0, 67864.0, 88779.0),\n",
       " (('C151', 'C18'), 20787.0, 72530.0, 93317.0),\n",
       " (('C151', 'C17'), 32697.0, 82105.0, 114802.0),\n",
       " (('C151', 'C31'), 30998.0, 86709.0, 117707.0),\n",
       " (('C151', 'C152'), 54054.0, 157010.0, 211064.0),\n",
       " (('ECAT', 'GVIO'), 51931.0, 139635.0, 191566.0),\n",
       " (('ECAT', 'C17'), 65580.0, 209776.0, 275356.0),\n",
       " (('ECAT', 'M13'), 72153.0, 239543.0, 311696.0),\n",
       " (('ECAT', 'GPOL'), 94964.0, 283853.0, 378817.0),\n",
       " (('ECAT', 'MCAT'), 100497.0, 331660.0, 432157.0)]"
      ]
     },
     "execution_count": 42,
     "metadata": {},
     "output_type": "execute_result"
    }
   ],
   "source": [
    "cost_rr = dict()\n",
    "cost_rr_ann = dict()\n",
    "cost_rr_misc = dict()\n",
    "for c_r,c_p in pairs:\n",
    "    cm = cm_rr[(c_r,c_p)]\n",
    "    cost_misc = 0.0\n",
    "    for true_label in label_to_idx.keys():\n",
    "        for pred_label in label_to_idx.keys():\n",
    "            cost_misc += cost_matrix[true_label][pred_label]*cm[label_to_idx[pred_label],label_to_idx[true_label]]\n",
    "    cost_ann = tau_rs[(c_r,c_p)]*cost_r+tau_ps[(c_r,c_p)]*cost_p\n",
    "    cost_rr_ann[(c_r,c_p)] = cost_ann\n",
    "    cost_rr_misc[(c_r,c_p)] = cost_misc\n",
    "    cost_rr[(c_r,c_p)] = cost_ann+cost_misc   \n",
    "list(zip(cost_rr,cost_rr_ann.values(),cost_rr_misc.values(),cost_rr.values()))"
   ]
  },
  {
   "cell_type": "markdown",
   "metadata": {},
   "source": [
    "## Active Learning"
   ]
  },
  {
   "cell_type": "code",
   "execution_count": 43,
   "metadata": {},
   "outputs": [],
   "source": [
    "from sklearn.svm import LinearSVC\n",
    "from sklearn.calibration import CalibratedClassifierCV\n",
    "import numpy as np\n",
    "from sklearn.metrics import confusion_matrix\n",
    "kfold = 10\n",
    "batch_size = 1000\n",
    "\n",
    "\n",
    "def us(prob):\n",
    "    rank = np.abs(prob-0.5)\n",
    "    return np.argsort(rank)\n",
    "\n",
    "\n",
    "def rs(prob):\n",
    "    return np.argsort(1-prob)\n",
    "\n",
    "\n",
    "def al(prob,policy,label,count):\n",
    "    train_idxs = set()\n",
    "    while len(train_idxs)<count:\n",
    "        to_add = min(batch_size,count-len(train_idxs))\n",
    "    \n",
    "        rank_idxs = policy(prob)\n",
    "        rank_idxs = [idx for idx in rank_idxs if idx not in train_idxs]\n",
    "        rank_idxs = rank_idxs[:to_add]\n",
    "        train_idxs.update(rank_idxs)\n",
    "        \n",
    "        all_train_idxs = sorted(list(range(0,TRAINING_SET_END))+list(train_idxs))\n",
    "        \n",
    "        #retrain\n",
    "        train_X = rcv1.data[all_train_idxs]\n",
    "        label_idx = rcv1.target_names.tolist().index(label)\n",
    "        learner = LinearSVC(loss='hinge')\n",
    "        train_y = np.asarray(rcv1.target[all_train_idxs,label_idx].todense()).squeeze()\n",
    "        print(label, len(all_train_idxs),train_y.sum())\n",
    "        label_kfold = min(train_y.sum(),kfold)\n",
    "        calibrator = CalibratedClassifierCV(learner,cv=label_kfold, method='sigmoid')\n",
    "        clf = calibrator.fit(train_X,train_y)\n",
    "\n",
    "        #update of posterior probabilities\n",
    "        test_X = rcv1.data[TEST_SET_START:TEST_SET_END]\n",
    "        prob = clf.predict_proba(test_X)[:,1]\n",
    "    \n",
    "    train_idxs_bool = np.zeros_like(prob)\n",
    "    train_idxs_bool[list(train_idxs)] = 1\n",
    "\n",
    "    y_r = y_arr[label]\n",
    "    prob[np.logical_and(train_idxs_bool==1,y_r==1)] = 1\n",
    "    prob[np.logical_and(train_idxs_bool==1,y_r==0)] = 0\n",
    "\n",
    "    return prob"
   ]
  },
  {
   "cell_type": "markdown",
   "metadata": {},
   "source": [
    "## Active Learning via Uncertainty Sampling\n",
    "Note: Active Learning methods require A LOT more time than anything above this point."
   ]
  },
  {
   "cell_type": "code",
   "execution_count": 44,
   "metadata": {
    "scrolled": true
   },
   "outputs": [
    {
     "name": "stdout",
     "output_type": "stream",
     "text": [
      "M12 M14\n",
      "M12 24149 765\n"
     ]
    },
    {
     "name": "stdout",
     "output_type": "stream",
     "text": [
      "M12 25149 791\n"
     ]
    },
    {
     "name": "stdout",
     "output_type": "stream",
     "text": [
      "M12 26149 814\n"
     ]
    },
    {
     "name": "stdout",
     "output_type": "stream",
     "text": [
      "M12 26676 830\n"
     ]
    },
    {
     "name": "stdout",
     "output_type": "stream",
     "text": [
      "M14 24149 2647\n"
     ]
    },
    {
     "name": "stdout",
     "output_type": "stream",
     "text": [
      "M14 24356 2666\n"
     ]
    },
    {
     "name": "stdout",
     "output_type": "stream",
     "text": [
      "M12 CCAT\n",
      "M12 24149 765\n"
     ]
    },
    {
     "name": "stdout",
     "output_type": "stream",
     "text": [
      "M12 25045 787\n"
     ]
    },
    {
     "name": "stdout",
     "output_type": "stream",
     "text": [
      "CCAT 24149 11266\n"
     ]
    },
    {
     "name": "stdout",
     "output_type": "stream",
     "text": [
      "CCAT 25149 11755\n"
     ]
    },
    {
     "name": "stdout",
     "output_type": "stream",
     "text": [
      "CCAT 25507 11927\n"
     ]
    },
    {
     "name": "stdout",
     "output_type": "stream",
     "text": [
      "M12 M132\n",
      "M12 24149 765\n"
     ]
    },
    {
     "name": "stdout",
     "output_type": "stream",
     "text": [
      "M12 25149 791\n"
     ]
    },
    {
     "name": "stdout",
     "output_type": "stream",
     "text": [
      "M12 26149 814\n"
     ]
    },
    {
     "name": "stdout",
     "output_type": "stream",
     "text": [
      "M12 26227 817\n"
     ]
    },
    {
     "name": "stdout",
     "output_type": "stream",
     "text": [
      "M132 24149 727\n"
     ]
    },
    {
     "name": "stdout",
     "output_type": "stream",
     "text": [
      "M132 24566 738\n"
     ]
    },
    {
     "name": "stdout",
     "output_type": "stream",
     "text": [
      "M12 E21\n",
      "M12 24149 765\n"
     ]
    },
    {
     "name": "stdout",
     "output_type": "stream",
     "text": [
      "M12 25149 791\n"
     ]
    },
    {
     "name": "stdout",
     "output_type": "stream",
     "text": [
      "M12 25495 797\n"
     ]
    },
    {
     "name": "stdout",
     "output_type": "stream",
     "text": [
      "E21 24149 1308\n",
      "E21 25149 1362\n"
     ]
    },
    {
     "name": "stdout",
     "output_type": "stream",
     "text": [
      "E21 25608 1387\n"
     ]
    },
    {
     "name": "stdout",
     "output_type": "stream",
     "text": [
      "M12 M131\n",
      "M12 24149 765\n"
     ]
    },
    {
     "name": "stdout",
     "output_type": "stream",
     "text": [
      "M12 25149 791\n"
     ]
    },
    {
     "name": "stdout",
     "output_type": "stream",
     "text": [
      "M12 26071 811\n"
     ]
    },
    {
     "name": "stdout",
     "output_type": "stream",
     "text": [
      "M131 24149 968\n"
     ]
    },
    {
     "name": "stdout",
     "output_type": "stream",
     "text": [
      "M131 25030 993\n"
     ]
    },
    {
     "name": "stdout",
     "output_type": "stream",
     "text": [
      "M132 GPOL\n",
      "M132 24149 727\n"
     ]
    },
    {
     "name": "stdout",
     "output_type": "stream",
     "text": [
      "M132 25149 756\n"
     ]
    },
    {
     "name": "stdout",
     "output_type": "stream",
     "text": [
      "M132 25736 767\n"
     ]
    },
    {
     "name": "stdout",
     "output_type": "stream",
     "text": [
      "GPOL 24149 1724\n"
     ]
    },
    {
     "name": "stdout",
     "output_type": "stream",
     "text": [
      "GPOL 24672 1761\n"
     ]
    },
    {
     "name": "stdout",
     "output_type": "stream",
     "text": [
      "M132 CCAT\n",
      "M132 24149 727\n"
     ]
    },
    {
     "name": "stdout",
     "output_type": "stream",
     "text": [
      "M132 25149 756\n"
     ]
    },
    {
     "name": "stdout",
     "output_type": "stream",
     "text": [
      "M132 25258 759\n"
     ]
    },
    {
     "name": "stdout",
     "output_type": "stream",
     "text": [
      "CCAT 24149 11266\n"
     ]
    },
    {
     "name": "stdout",
     "output_type": "stream",
     "text": [
      "CCAT 25149 11755\n"
     ]
    },
    {
     "name": "stdout",
     "output_type": "stream",
     "text": [
      "CCAT 25701 12025\n"
     ]
    },
    {
     "name": "stdout",
     "output_type": "stream",
     "text": [
      "M132 M12\n",
      "M132 24149 727\n"
     ]
    },
    {
     "name": "stdout",
     "output_type": "stream",
     "text": [
      "M132 25149 756\n"
     ]
    },
    {
     "name": "stdout",
     "output_type": "stream",
     "text": [
      "M132 25896 772\n"
     ]
    },
    {
     "name": "stdout",
     "output_type": "stream",
     "text": [
      "M12 24149 765\n"
     ]
    },
    {
     "name": "stdout",
     "output_type": "stream",
     "text": [
      "M12 25149 791\n"
     ]
    },
    {
     "name": "stdout",
     "output_type": "stream",
     "text": [
      "M12 25497 797\n"
     ]
    },
    {
     "name": "stdout",
     "output_type": "stream",
     "text": [
      "M132 M131\n",
      "M132 24149 727\n"
     ]
    },
    {
     "name": "stdout",
     "output_type": "stream",
     "text": [
      "M132 25149 756\n"
     ]
    },
    {
     "name": "stdout",
     "output_type": "stream",
     "text": [
      "M132 26038 778\n"
     ]
    },
    {
     "name": "stdout",
     "output_type": "stream",
     "text": [
      "M131 24149 968\n"
     ]
    },
    {
     "name": "stdout",
     "output_type": "stream",
     "text": [
      "M131 25149 999\n"
     ]
    },
    {
     "name": "stdout",
     "output_type": "stream",
     "text": [
      "M131 25205 999\n"
     ]
    },
    {
     "name": "stdout",
     "output_type": "stream",
     "text": [
      "M132 GCAT\n",
      "M132 24149 727\n"
     ]
    },
    {
     "name": "stdout",
     "output_type": "stream",
     "text": [
      "M132 25149 756\n"
     ]
    },
    {
     "name": "stdout",
     "output_type": "stream",
     "text": [
      "M132 25787 770\n"
     ]
    },
    {
     "name": "stdout",
     "output_type": "stream",
     "text": [
      "GCAT 24149 7274\n"
     ]
    },
    {
     "name": "stdout",
     "output_type": "stream",
     "text": [
      "GCAT 24822 7476\n"
     ]
    },
    {
     "name": "stdout",
     "output_type": "stream",
     "text": [
      "M131 CCAT\n",
      "M131 24149 968\n"
     ]
    },
    {
     "name": "stdout",
     "output_type": "stream",
     "text": [
      "M131 24433 974\n"
     ]
    },
    {
     "name": "stdout",
     "output_type": "stream",
     "text": [
      "CCAT 24149 11266\n"
     ]
    },
    {
     "name": "stdout",
     "output_type": "stream",
     "text": [
      "CCAT 25149 11755\n"
     ]
    },
    {
     "name": "stdout",
     "output_type": "stream",
     "text": [
      "CCAT 26149 12263\n"
     ]
    },
    {
     "name": "stdout",
     "output_type": "stream",
     "text": [
      "CCAT 26321 12349\n"
     ]
    },
    {
     "name": "stdout",
     "output_type": "stream",
     "text": [
      "M131 M132\n",
      "M131 24149 968\n"
     ]
    },
    {
     "name": "stdout",
     "output_type": "stream",
     "text": [
      "M131 24966 992\n"
     ]
    },
    {
     "name": "stdout",
     "output_type": "stream",
     "text": [
      "M132 24149 727\n"
     ]
    },
    {
     "name": "stdout",
     "output_type": "stream",
     "text": [
      "M132 24989 752\n"
     ]
    },
    {
     "name": "stdout",
     "output_type": "stream",
     "text": [
      "M131 E12\n",
      "M131 24149 968\n"
     ]
    },
    {
     "name": "stdout",
     "output_type": "stream",
     "text": [
      "M131 24533 976\n"
     ]
    },
    {
     "name": "stdout",
     "output_type": "stream",
     "text": [
      "E12 24149 714\n"
     ]
    },
    {
     "name": "stdout",
     "output_type": "stream",
     "text": [
      "E12 25149 747\n"
     ]
    },
    {
     "name": "stdout",
     "output_type": "stream",
     "text": [
      "E12 25696 766\n"
     ]
    },
    {
     "name": "stdout",
     "output_type": "stream",
     "text": [
      "M131 ECAT\n",
      "M131 24001 960\n"
     ]
    },
    {
     "name": "stdout",
     "output_type": "stream",
     "text": [
      "ECAT 24149 3581\n"
     ]
    },
    {
     "name": "stdout",
     "output_type": "stream",
     "text": [
      "ECAT 25149 3750\n"
     ]
    },
    {
     "name": "stdout",
     "output_type": "stream",
     "text": [
      "ECAT 26149 3888\n"
     ]
    },
    {
     "name": "stdout",
     "output_type": "stream",
     "text": [
      "ECAT 27013 4015\n"
     ]
    },
    {
     "name": "stdout",
     "output_type": "stream",
     "text": [
      "M131 M12\n",
      "M131 24149 968\n"
     ]
    },
    {
     "name": "stdout",
     "output_type": "stream",
     "text": [
      "M131 24741 987\n"
     ]
    },
    {
     "name": "stdout",
     "output_type": "stream",
     "text": [
      "M12 24149 765\n"
     ]
    },
    {
     "name": "stdout",
     "output_type": "stream",
     "text": [
      "M12 25149 791\n"
     ]
    },
    {
     "name": "stdout",
     "output_type": "stream",
     "text": [
      "M12 25503 797\n"
     ]
    },
    {
     "name": "stdout",
     "output_type": "stream",
     "text": [
      "E12 M11\n",
      "E12 24149 714\n"
     ]
    },
    {
     "name": "stdout",
     "output_type": "stream",
     "text": [
      "E12 25149 747\n"
     ]
    },
    {
     "name": "stdout",
     "output_type": "stream",
     "text": [
      "E12 26149 786\n"
     ]
    },
    {
     "name": "stdout",
     "output_type": "stream",
     "text": [
      "E12 27149 825\n"
     ]
    },
    {
     "name": "stdout",
     "output_type": "stream",
     "text": [
      "E12 28149 854\n"
     ]
    },
    {
     "name": "stdout",
     "output_type": "stream",
     "text": [
      "E12 29149 887\n"
     ]
    },
    {
     "name": "stdout",
     "output_type": "stream",
     "text": [
      "E12 30149 917\n"
     ]
    },
    {
     "name": "stdout",
     "output_type": "stream",
     "text": [
      "E12 31149 940\n"
     ]
    },
    {
     "name": "stdout",
     "output_type": "stream",
     "text": [
      "E12 31822 966\n"
     ]
    },
    {
     "name": "stdout",
     "output_type": "stream",
     "text": [
      "M11 23670 1321\n"
     ]
    },
    {
     "name": "stdout",
     "output_type": "stream",
     "text": [
      "E12 GDIP\n",
      "E12 24149 714\n"
     ]
    },
    {
     "name": "stdout",
     "output_type": "stream",
     "text": [
      "E12 25149 747\n"
     ]
    },
    {
     "name": "stdout",
     "output_type": "stream",
     "text": [
      "E12 26149 786\n"
     ]
    },
    {
     "name": "stdout",
     "output_type": "stream",
     "text": [
      "E12 27149 825\n"
     ]
    },
    {
     "name": "stdout",
     "output_type": "stream",
     "text": [
      "E12 28149 854\n"
     ]
    },
    {
     "name": "stdout",
     "output_type": "stream",
     "text": [
      "E12 29149 887\n"
     ]
    },
    {
     "name": "stdout",
     "output_type": "stream",
     "text": [
      "E12 30149 917\n"
     ]
    },
    {
     "name": "stdout",
     "output_type": "stream",
     "text": [
      "E12 30507 924\n"
     ]
    },
    {
     "name": "stdout",
     "output_type": "stream",
     "text": [
      "GDIP 24149 1050\n"
     ]
    },
    {
     "name": "stdout",
     "output_type": "stream",
     "text": [
      "GDIP 24319 1057\n"
     ]
    },
    {
     "name": "stdout",
     "output_type": "stream",
     "text": [
      "E12 E212\n",
      "E12 24149 714\n"
     ]
    },
    {
     "name": "stdout",
     "output_type": "stream",
     "text": [
      "E12 25149 747\n"
     ]
    },
    {
     "name": "stdout",
     "output_type": "stream",
     "text": [
      "E12 26149 786\n"
     ]
    },
    {
     "name": "stdout",
     "output_type": "stream",
     "text": [
      "E12 27149 825\n"
     ]
    },
    {
     "name": "stdout",
     "output_type": "stream",
     "text": [
      "E12 28149 854\n"
     ]
    },
    {
     "name": "stdout",
     "output_type": "stream",
     "text": [
      "E12 29149 887\n"
     ]
    },
    {
     "name": "stdout",
     "output_type": "stream",
     "text": [
      "E12 30149 917\n"
     ]
    },
    {
     "name": "stdout",
     "output_type": "stream",
     "text": [
      "E12 30695 928\n"
     ]
    },
    {
     "name": "stdout",
     "output_type": "stream",
     "text": [
      "E212 24149 879\n"
     ]
    },
    {
     "name": "stdout",
     "output_type": "stream",
     "text": [
      "E212 24580 898\n",
      "E12 M131\n",
      "E12 24149 714\n"
     ]
    },
    {
     "name": "stdout",
     "output_type": "stream",
     "text": [
      "E12 25149 747\n"
     ]
    },
    {
     "name": "stdout",
     "output_type": "stream",
     "text": [
      "E12 26149 786\n"
     ]
    },
    {
     "name": "stdout",
     "output_type": "stream",
     "text": [
      "E12 27149 825\n"
     ]
    },
    {
     "name": "stdout",
     "output_type": "stream",
     "text": [
      "E12 28149 854\n"
     ]
    },
    {
     "name": "stdout",
     "output_type": "stream",
     "text": [
      "E12 29149 887\n"
     ]
    },
    {
     "name": "stdout",
     "output_type": "stream",
     "text": [
      "E12 30149 917\n"
     ]
    },
    {
     "name": "stdout",
     "output_type": "stream",
     "text": [
      "E12 30756 931\n"
     ]
    },
    {
     "name": "stdout",
     "output_type": "stream",
     "text": [
      "M131 24149 968\n"
     ]
    },
    {
     "name": "stdout",
     "output_type": "stream",
     "text": [
      "M131 24840 989\n"
     ]
    },
    {
     "name": "stdout",
     "output_type": "stream",
     "text": [
      "E12 E21\n",
      "E12 24149 714\n"
     ]
    },
    {
     "name": "stdout",
     "output_type": "stream",
     "text": [
      "E12 25149 747\n"
     ]
    },
    {
     "name": "stdout",
     "output_type": "stream",
     "text": [
      "E12 26149 786\n"
     ]
    },
    {
     "name": "stdout",
     "output_type": "stream",
     "text": [
      "E12 27149 825\n"
     ]
    },
    {
     "name": "stdout",
     "output_type": "stream",
     "text": [
      "E12 28149 854\n"
     ]
    },
    {
     "name": "stdout",
     "output_type": "stream",
     "text": [
      "E12 28623 869\n"
     ]
    },
    {
     "name": "stdout",
     "output_type": "stream",
     "text": [
      "E21 24149 1308\n",
      "E21 25149 1362\n"
     ]
    },
    {
     "name": "stdout",
     "output_type": "stream",
     "text": [
      "E21 25219 1369\n"
     ]
    },
    {
     "name": "stdout",
     "output_type": "stream",
     "text": [
      "C21 C17\n",
      "C21 24149 825\n"
     ]
    },
    {
     "name": "stdout",
     "output_type": "stream",
     "text": [
      "C21 25149 857\n"
     ]
    },
    {
     "name": "stdout",
     "output_type": "stream",
     "text": [
      "C21 26149 895\n"
     ]
    },
    {
     "name": "stdout",
     "output_type": "stream",
     "text": [
      "C21 27149 932\n"
     ]
    },
    {
     "name": "stdout",
     "output_type": "stream",
     "text": [
      "C21 28149 970\n"
     ]
    },
    {
     "name": "stdout",
     "output_type": "stream",
     "text": [
      "C21 29149 1005\n"
     ]
    },
    {
     "name": "stdout",
     "output_type": "stream",
     "text": [
      "C21 29272 1011\n"
     ]
    },
    {
     "name": "stdout",
     "output_type": "stream",
     "text": [
      "C17 24149 1226\n"
     ]
    },
    {
     "name": "stdout",
     "output_type": "stream",
     "text": [
      "C17 24404 1242\n"
     ]
    },
    {
     "name": "stdout",
     "output_type": "stream",
     "text": [
      "C21 C15\n",
      "C21 24149 825\n"
     ]
    },
    {
     "name": "stdout",
     "output_type": "stream",
     "text": [
      "C21 25149 857\n"
     ]
    },
    {
     "name": "stdout",
     "output_type": "stream",
     "text": [
      "C21 26149 895\n"
     ]
    },
    {
     "name": "stdout",
     "output_type": "stream",
     "text": [
      "C21 27149 932\n"
     ]
    },
    {
     "name": "stdout",
     "output_type": "stream",
     "text": [
      "C21 27974 967\n"
     ]
    },
    {
     "name": "stdout",
     "output_type": "stream",
     "text": [
      "C15 24149 4378\n"
     ]
    },
    {
     "name": "stdout",
     "output_type": "stream",
     "text": [
      "C15 24913 4536\n"
     ]
    },
    {
     "name": "stdout",
     "output_type": "stream",
     "text": [
      "C21 ECAT\n",
      "C21 24149 825\n"
     ]
    },
    {
     "name": "stdout",
     "output_type": "stream",
     "text": [
      "C21 25149 857\n"
     ]
    },
    {
     "name": "stdout",
     "output_type": "stream",
     "text": [
      "C21 26149 895\n"
     ]
    },
    {
     "name": "stdout",
     "output_type": "stream",
     "text": [
      "C21 26633 917\n"
     ]
    },
    {
     "name": "stdout",
     "output_type": "stream",
     "text": [
      "ECAT 24149 3581\n"
     ]
    },
    {
     "name": "stdout",
     "output_type": "stream",
     "text": [
      "ECAT 25149 3750\n"
     ]
    },
    {
     "name": "stdout",
     "output_type": "stream",
     "text": [
      "ECAT 25248 3759\n"
     ]
    },
    {
     "name": "stdout",
     "output_type": "stream",
     "text": [
      "C21 C31\n",
      "C21 24149 825\n"
     ]
    },
    {
     "name": "stdout",
     "output_type": "stream",
     "text": [
      "C21 25026 854\n"
     ]
    },
    {
     "name": "stdout",
     "output_type": "stream",
     "text": [
      "C31 24149 1108\n"
     ]
    },
    {
     "name": "stdout",
     "output_type": "stream",
     "text": [
      "C31 25149 1161\n"
     ]
    },
    {
     "name": "stdout",
     "output_type": "stream",
     "text": [
      "C31 25620 1186\n"
     ]
    },
    {
     "name": "stdout",
     "output_type": "stream",
     "text": [
      "C21 M141\n",
      "C21 24149 825\n"
     ]
    },
    {
     "name": "stdout",
     "output_type": "stream",
     "text": [
      "C21 25149 857\n"
     ]
    },
    {
     "name": "stdout",
     "output_type": "stream",
     "text": [
      "C21 26149 895\n"
     ]
    },
    {
     "name": "stdout",
     "output_type": "stream",
     "text": [
      "C21 27149 932\n"
     ]
    },
    {
     "name": "stdout",
     "output_type": "stream",
     "text": [
      "C21 28149 970\n"
     ]
    },
    {
     "name": "stdout",
     "output_type": "stream",
     "text": [
      "C21 29149 1005\n"
     ]
    },
    {
     "name": "stdout",
     "output_type": "stream",
     "text": [
      "C21 30149 1043\n"
     ]
    },
    {
     "name": "stdout",
     "output_type": "stream",
     "text": [
      "C21 30746 1069\n"
     ]
    },
    {
     "name": "stdout",
     "output_type": "stream",
     "text": [
      "M141 24149 1571\n"
     ]
    },
    {
     "name": "stdout",
     "output_type": "stream",
     "text": [
      "M141 24327 1584\n"
     ]
    },
    {
     "name": "stdout",
     "output_type": "stream",
     "text": [
      "E212 GPOL\n",
      "E212 24149 879\n"
     ]
    },
    {
     "name": "stdout",
     "output_type": "stream",
     "text": [
      "E212 25149 924\n"
     ]
    },
    {
     "name": "stdout",
     "output_type": "stream",
     "text": [
      "E212 25577 945\n"
     ]
    },
    {
     "name": "stdout",
     "output_type": "stream",
     "text": [
      "GPOL 24149 1724\n"
     ]
    },
    {
     "name": "stdout",
     "output_type": "stream",
     "text": [
      "GPOL 25149 1795\n"
     ]
    },
    {
     "name": "stdout",
     "output_type": "stream",
     "text": [
      "GPOL 26149 1862\n"
     ]
    },
    {
     "name": "stdout",
     "output_type": "stream",
     "text": [
      "GPOL 26880 1911\n"
     ]
    },
    {
     "name": "stdout",
     "output_type": "stream",
     "text": [
      "E212 E12\n",
      "E212 24149 879\n"
     ]
    },
    {
     "name": "stdout",
     "output_type": "stream",
     "text": [
      "E212 25149 924\n"
     ]
    },
    {
     "name": "stdout",
     "output_type": "stream",
     "text": [
      "E212 25564 944\n"
     ]
    },
    {
     "name": "stdout",
     "output_type": "stream",
     "text": [
      "E12 24149 714\n"
     ]
    },
    {
     "name": "stdout",
     "output_type": "stream",
     "text": [
      "E12 25149 747\n"
     ]
    },
    {
     "name": "stdout",
     "output_type": "stream",
     "text": [
      "E12 25165 748\n"
     ]
    },
    {
     "name": "stdout",
     "output_type": "stream",
     "text": [
      "E212 M12\n",
      "E212 24149 879\n"
     ]
    },
    {
     "name": "stdout",
     "output_type": "stream",
     "text": [
      "E212 25149 924\n"
     ]
    },
    {
     "name": "stdout",
     "output_type": "stream",
     "text": [
      "E212 25467 940\n"
     ]
    },
    {
     "name": "stdout",
     "output_type": "stream",
     "text": [
      "M12 24149 765\n"
     ]
    },
    {
     "name": "stdout",
     "output_type": "stream",
     "text": [
      "M12 25149 791\n"
     ]
    },
    {
     "name": "stdout",
     "output_type": "stream",
     "text": [
      "M12 25278 793\n"
     ]
    },
    {
     "name": "stdout",
     "output_type": "stream",
     "text": [
      "E212 MCAT\n",
      "E212 24149 879\n"
     ]
    },
    {
     "name": "stdout",
     "output_type": "stream",
     "text": [
      "E212 25149 924\n"
     ]
    },
    {
     "name": "stdout",
     "output_type": "stream",
     "text": [
      "E212 25151 924\n"
     ]
    },
    {
     "name": "stdout",
     "output_type": "stream",
     "text": [
      "MCAT 24149 6131\n"
     ]
    },
    {
     "name": "stdout",
     "output_type": "stream",
     "text": [
      "MCAT 25149 6362\n"
     ]
    },
    {
     "name": "stdout",
     "output_type": "stream",
     "text": [
      "MCAT 26149 6599\n"
     ]
    },
    {
     "name": "stdout",
     "output_type": "stream",
     "text": [
      "MCAT 26837 6742\n"
     ]
    },
    {
     "name": "stdout",
     "output_type": "stream",
     "text": [
      "E212 C17\n",
      "E212 24149 879\n"
     ]
    },
    {
     "name": "stdout",
     "output_type": "stream",
     "text": [
      "E212 24930 919\n"
     ]
    },
    {
     "name": "stdout",
     "output_type": "stream",
     "text": [
      "C17 24149 1226\n"
     ]
    },
    {
     "name": "stdout",
     "output_type": "stream",
     "text": [
      "C17 25149 1284\n"
     ]
    },
    {
     "name": "stdout",
     "output_type": "stream",
     "text": [
      "C17 26122 1337\n"
     ]
    },
    {
     "name": "stdout",
     "output_type": "stream",
     "text": [
      "GCRIM E212\n",
      "GCRIM 24149 1157\n"
     ]
    },
    {
     "name": "stdout",
     "output_type": "stream",
     "text": [
      "GCRIM 25149 1196\n"
     ]
    },
    {
     "name": "stdout",
     "output_type": "stream",
     "text": [
      "GCRIM 26149 1233\n"
     ]
    },
    {
     "name": "stdout",
     "output_type": "stream",
     "text": [
      "GCRIM 27149 1278\n"
     ]
    },
    {
     "name": "stdout",
     "output_type": "stream",
     "text": [
      "GCRIM 28149 1322\n"
     ]
    },
    {
     "name": "stdout",
     "output_type": "stream",
     "text": [
      "GCRIM 29149 1357\n"
     ]
    },
    {
     "name": "stdout",
     "output_type": "stream",
     "text": [
      "GCRIM 29730 1382\n"
     ]
    },
    {
     "name": "stdout",
     "output_type": "stream",
     "text": [
      "E212 24149 879\n"
     ]
    },
    {
     "name": "stdout",
     "output_type": "stream",
     "text": [
      "E212 24215 881\n"
     ]
    },
    {
     "name": "stdout",
     "output_type": "stream",
     "text": [
      "GCRIM C15\n",
      "GCRIM 24149 1157\n"
     ]
    },
    {
     "name": "stdout",
     "output_type": "stream",
     "text": [
      "GCRIM 25149 1196\n"
     ]
    },
    {
     "name": "stdout",
     "output_type": "stream",
     "text": [
      "GCRIM 26149 1233\n"
     ]
    },
    {
     "name": "stdout",
     "output_type": "stream",
     "text": [
      "GCRIM 27149 1278\n"
     ]
    },
    {
     "name": "stdout",
     "output_type": "stream",
     "text": [
      "GCRIM 28149 1322\n"
     ]
    },
    {
     "name": "stdout",
     "output_type": "stream",
     "text": [
      "GCRIM 28185 1322\n"
     ]
    },
    {
     "name": "stdout",
     "output_type": "stream",
     "text": [
      "C15 24149 4378\n"
     ]
    },
    {
     "name": "stdout",
     "output_type": "stream",
     "text": [
      "C15 25149 4581\n"
     ]
    },
    {
     "name": "stdout",
     "output_type": "stream",
     "text": [
      "C15 26149 4769\n"
     ]
    },
    {
     "name": "stdout",
     "output_type": "stream",
     "text": [
      "C15 26242 4784\n"
     ]
    },
    {
     "name": "stdout",
     "output_type": "stream",
     "text": [
      "GCRIM C18\n",
      "GCRIM 24149 1157\n"
     ]
    },
    {
     "name": "stdout",
     "output_type": "stream",
     "text": [
      "GCRIM 25149 1196\n"
     ]
    },
    {
     "name": "stdout",
     "output_type": "stream",
     "text": [
      "GCRIM 26149 1233\n"
     ]
    },
    {
     "name": "stdout",
     "output_type": "stream",
     "text": [
      "GCRIM 27149 1278\n"
     ]
    },
    {
     "name": "stdout",
     "output_type": "stream",
     "text": [
      "GCRIM 28149 1322\n"
     ]
    },
    {
     "name": "stdout",
     "output_type": "stream",
     "text": [
      "GCRIM 28564 1334\n"
     ]
    },
    {
     "name": "stdout",
     "output_type": "stream",
     "text": [
      "C18 24149 1527\n"
     ]
    },
    {
     "name": "stdout",
     "output_type": "stream",
     "text": [
      "C18 25122 1576\n"
     ]
    },
    {
     "name": "stdout",
     "output_type": "stream",
     "text": [
      "GCRIM GDIP\n",
      "GCRIM 24149 1157\n"
     ]
    },
    {
     "name": "stdout",
     "output_type": "stream",
     "text": [
      "GCRIM 25149 1196\n"
     ]
    },
    {
     "name": "stdout",
     "output_type": "stream",
     "text": [
      "GCRIM 26149 1233\n"
     ]
    },
    {
     "name": "stdout",
     "output_type": "stream",
     "text": [
      "GCRIM 27149 1278\n"
     ]
    },
    {
     "name": "stdout",
     "output_type": "stream",
     "text": [
      "GCRIM 27267 1283\n"
     ]
    },
    {
     "name": "stdout",
     "output_type": "stream",
     "text": [
      "GDIP 24149 1050\n"
     ]
    },
    {
     "name": "stdout",
     "output_type": "stream",
     "text": [
      "GDIP 25149 1101\n"
     ]
    },
    {
     "name": "stdout",
     "output_type": "stream",
     "text": [
      "GDIP 26149 1153\n",
      "GDIP 26166 1153\n",
      "GCRIM GPOL\n",
      "GCRIM 24149 1157\n"
     ]
    },
    {
     "name": "stdout",
     "output_type": "stream",
     "text": [
      "GCRIM 25149 1196\n"
     ]
    },
    {
     "name": "stdout",
     "output_type": "stream",
     "text": [
      "GCRIM 25485 1205\n"
     ]
    },
    {
     "name": "stdout",
     "output_type": "stream",
     "text": [
      "GPOL 24149 1724\n"
     ]
    },
    {
     "name": "stdout",
     "output_type": "stream",
     "text": [
      "GPOL 25149 1795\n"
     ]
    },
    {
     "name": "stdout",
     "output_type": "stream",
     "text": [
      "GPOL 26149 1862\n"
     ]
    },
    {
     "name": "stdout",
     "output_type": "stream",
     "text": [
      "GPOL 27149 1929\n"
     ]
    },
    {
     "name": "stdout",
     "output_type": "stream",
     "text": [
      "GPOL 28149 2009\n"
     ]
    },
    {
     "name": "stdout",
     "output_type": "stream",
     "text": [
      "GPOL 28500 2041\n"
     ]
    },
    {
     "name": "stdout",
     "output_type": "stream",
     "text": [
      "C24 GDIP\n",
      "C24 24149 961\n",
      "C24 25149 1002\n"
     ]
    },
    {
     "name": "stdout",
     "output_type": "stream",
     "text": [
      "C24 26149 1046\n",
      "C24 27149 1085\n",
      "C24 28149 1122\n"
     ]
    },
    {
     "name": "stdout",
     "output_type": "stream",
     "text": [
      "C24 29149 1154\n",
      "C24 30149 1186\n",
      "C24 31149 1226\n",
      "C24 32149 1257\n"
     ]
    },
    {
     "name": "stdout",
     "output_type": "stream",
     "text": [
      "C24 32527 1271\n"
     ]
    },
    {
     "name": "stdout",
     "output_type": "stream",
     "text": [
      "GDIP 24149 1050\n"
     ]
    },
    {
     "name": "stdout",
     "output_type": "stream",
     "text": [
      "GDIP 24736 1080\n"
     ]
    },
    {
     "name": "stdout",
     "output_type": "stream",
     "text": [
      "C24 C15\n",
      "C24 24149 961\n",
      "C24 25149 1002\n"
     ]
    },
    {
     "name": "stdout",
     "output_type": "stream",
     "text": [
      "C24 26149 1046\n",
      "C24 27149 1085\n"
     ]
    },
    {
     "name": "stdout",
     "output_type": "stream",
     "text": [
      "C24 28149 1122\n"
     ]
    },
    {
     "name": "stdout",
     "output_type": "stream",
     "text": [
      "C24 29149 1154\n"
     ]
    },
    {
     "name": "stdout",
     "output_type": "stream",
     "text": [
      "C24 29690 1172\n",
      "C15 24149 4378\n"
     ]
    },
    {
     "name": "stdout",
     "output_type": "stream",
     "text": [
      "C15 25149 4581\n"
     ]
    },
    {
     "name": "stdout",
     "output_type": "stream",
     "text": [
      "C15 26112 4765\n"
     ]
    },
    {
     "name": "stdout",
     "output_type": "stream",
     "text": [
      "C24 C31\n",
      "C24 24149 961\n",
      "C24 25149 1002\n"
     ]
    },
    {
     "name": "stdout",
     "output_type": "stream",
     "text": [
      "C24 26149 1046\n",
      "C24 27002 1080\n",
      "C31 24149 1108\n"
     ]
    },
    {
     "name": "stdout",
     "output_type": "stream",
     "text": [
      "C31 25149 1161\n"
     ]
    },
    {
     "name": "stdout",
     "output_type": "stream",
     "text": [
      "C31 26149 1218\n"
     ]
    },
    {
     "name": "stdout",
     "output_type": "stream",
     "text": [
      "C31 27061 1271\n"
     ]
    },
    {
     "name": "stdout",
     "output_type": "stream",
     "text": [
      "C24 MCAT\n",
      "C24 24149 961\n",
      "C24 25149 1002\n"
     ]
    },
    {
     "name": "stdout",
     "output_type": "stream",
     "text": [
      "C24 26149 1046\n",
      "C24 27149 1085\n",
      "C24 28149 1122\n",
      "C24 29149 1154\n",
      "C24 30149 1186\n",
      "C24 30230 1192\n",
      "MCAT 24149 6131\n"
     ]
    },
    {
     "name": "stdout",
     "output_type": "stream",
     "text": [
      "MCAT 25149 6362\n"
     ]
    },
    {
     "name": "stdout",
     "output_type": "stream",
     "text": [
      "MCAT 25646 6483\n"
     ]
    },
    {
     "name": "stdout",
     "output_type": "stream",
     "text": [
      "C24 C21\n",
      "C24 24149 961\n",
      "C24 25149 1002\n"
     ]
    },
    {
     "name": "stdout",
     "output_type": "stream",
     "text": [
      "C24 26149 1046\n",
      "C24 26342 1056\n",
      "C21 24149 825\n"
     ]
    },
    {
     "name": "stdout",
     "output_type": "stream",
     "text": [
      "C21 25149 857\n"
     ]
    },
    {
     "name": "stdout",
     "output_type": "stream",
     "text": [
      "C21 26149 895\n"
     ]
    },
    {
     "name": "stdout",
     "output_type": "stream",
     "text": [
      "C21 27149 932\n"
     ]
    },
    {
     "name": "stdout",
     "output_type": "stream",
     "text": [
      "C21 27413 945\n"
     ]
    },
    {
     "name": "stdout",
     "output_type": "stream",
     "text": [
      "GVIO C21\n",
      "GVIO 24149 1159\n"
     ]
    },
    {
     "name": "stdout",
     "output_type": "stream",
     "text": [
      "GVIO 25149 1201\n",
      "GVIO 26149 1242\n"
     ]
    },
    {
     "name": "stdout",
     "output_type": "stream",
     "text": [
      "GVIO 27149 1273\n"
     ]
    },
    {
     "name": "stdout",
     "output_type": "stream",
     "text": [
      "GVIO 28149 1306\n",
      "GVIO 28536 1324\n"
     ]
    },
    {
     "name": "stdout",
     "output_type": "stream",
     "text": [
      "C21 24149 825\n"
     ]
    },
    {
     "name": "stdout",
     "output_type": "stream",
     "text": [
      "C21 25149 857\n"
     ]
    },
    {
     "name": "stdout",
     "output_type": "stream",
     "text": [
      "C21 26149 895\n"
     ]
    },
    {
     "name": "stdout",
     "output_type": "stream",
     "text": [
      "C21 27149 932\n"
     ]
    },
    {
     "name": "stdout",
     "output_type": "stream",
     "text": [
      "C21 28044 968\n"
     ]
    },
    {
     "name": "stdout",
     "output_type": "stream",
     "text": [
      "GVIO C24\n",
      "GVIO 24149 1159\n"
     ]
    },
    {
     "name": "stdout",
     "output_type": "stream",
     "text": [
      "GVIO 25149 1201\n",
      "GVIO 26149 1242\n"
     ]
    },
    {
     "name": "stdout",
     "output_type": "stream",
     "text": [
      "GVIO 27149 1273\n"
     ]
    },
    {
     "name": "stdout",
     "output_type": "stream",
     "text": [
      "GVIO 28149 1306\n"
     ]
    },
    {
     "name": "stdout",
     "output_type": "stream",
     "text": [
      "GVIO 29149 1362\n"
     ]
    },
    {
     "name": "stdout",
     "output_type": "stream",
     "text": [
      "GVIO 29930 1402\n"
     ]
    },
    {
     "name": "stdout",
     "output_type": "stream",
     "text": [
      "C24 24149 961\n",
      "C24 25149 1002\n"
     ]
    },
    {
     "name": "stdout",
     "output_type": "stream",
     "text": [
      "C24 26149 1046\n",
      "C24 26500 1061\n"
     ]
    },
    {
     "name": "stdout",
     "output_type": "stream",
     "text": [
      "GVIO CCAT\n",
      "GVIO 24149 1159\n"
     ]
    },
    {
     "name": "stdout",
     "output_type": "stream",
     "text": [
      "GVIO 25149 1201\n"
     ]
    },
    {
     "name": "stdout",
     "output_type": "stream",
     "text": [
      "GVIO 26149 1242\n"
     ]
    },
    {
     "name": "stdout",
     "output_type": "stream",
     "text": [
      "GVIO 27149 1273\n"
     ]
    },
    {
     "name": "stdout",
     "output_type": "stream",
     "text": [
      "GVIO 27154 1273\n"
     ]
    },
    {
     "name": "stdout",
     "output_type": "stream",
     "text": [
      "CCAT 24149 11266\n"
     ]
    },
    {
     "name": "stdout",
     "output_type": "stream",
     "text": [
      "CCAT 25149 11755\n"
     ]
    },
    {
     "name": "stdout",
     "output_type": "stream",
     "text": [
      "CCAT 26149 12263\n"
     ]
    },
    {
     "name": "stdout",
     "output_type": "stream",
     "text": [
      "CCAT 26927 12648\n"
     ]
    },
    {
     "name": "stdout",
     "output_type": "stream",
     "text": [
      "GVIO ECAT\n",
      "GVIO 24149 1159\n"
     ]
    },
    {
     "name": "stdout",
     "output_type": "stream",
     "text": [
      "GVIO 25149 1201\n",
      "GVIO 26149 1242\n"
     ]
    },
    {
     "name": "stdout",
     "output_type": "stream",
     "text": [
      "GVIO 26636 1261\n"
     ]
    },
    {
     "name": "stdout",
     "output_type": "stream",
     "text": [
      "ECAT 24149 3581\n"
     ]
    },
    {
     "name": "stdout",
     "output_type": "stream",
     "text": [
      "ECAT 25149 3750\n"
     ]
    },
    {
     "name": "stdout",
     "output_type": "stream",
     "text": [
      "ECAT 26149 3888\n"
     ]
    },
    {
     "name": "stdout",
     "output_type": "stream",
     "text": [
      "ECAT 27149 4038\n"
     ]
    },
    {
     "name": "stdout",
     "output_type": "stream",
     "text": [
      "ECAT 27904 4158\n"
     ]
    },
    {
     "name": "stdout",
     "output_type": "stream",
     "text": [
      "GVIO GCRIM\n",
      "GVIO 24149 1159\n"
     ]
    },
    {
     "name": "stdout",
     "output_type": "stream",
     "text": [
      "GVIO 25149 1201\n"
     ]
    },
    {
     "name": "stdout",
     "output_type": "stream",
     "text": [
      "GVIO 26149 1242\n"
     ]
    },
    {
     "name": "stdout",
     "output_type": "stream",
     "text": [
      "GVIO 27149 1273\n"
     ]
    },
    {
     "name": "stdout",
     "output_type": "stream",
     "text": [
      "GVIO 28149 1306\n"
     ]
    },
    {
     "name": "stdout",
     "output_type": "stream",
     "text": [
      "GVIO 28457 1322\n"
     ]
    },
    {
     "name": "stdout",
     "output_type": "stream",
     "text": [
      "GCRIM 24149 1157\n"
     ]
    },
    {
     "name": "stdout",
     "output_type": "stream",
     "text": [
      "GCRIM 25149 1196\n"
     ]
    },
    {
     "name": "stdout",
     "output_type": "stream",
     "text": [
      "GCRIM 26149 1233\n"
     ]
    },
    {
     "name": "stdout",
     "output_type": "stream",
     "text": [
      "GCRIM 26593 1254\n"
     ]
    },
    {
     "name": "stdout",
     "output_type": "stream",
     "text": [
      "C13 M12\n",
      "C13 24149 987\n"
     ]
    },
    {
     "name": "stdout",
     "output_type": "stream",
     "text": [
      "C13 25149 1034\n"
     ]
    },
    {
     "name": "stdout",
     "output_type": "stream",
     "text": [
      "C13 26149 1086\n"
     ]
    },
    {
     "name": "stdout",
     "output_type": "stream",
     "text": [
      "C13 27149 1132\n"
     ]
    },
    {
     "name": "stdout",
     "output_type": "stream",
     "text": [
      "C13 28149 1185\n"
     ]
    },
    {
     "name": "stdout",
     "output_type": "stream",
     "text": [
      "C13 29149 1233\n"
     ]
    },
    {
     "name": "stdout",
     "output_type": "stream",
     "text": [
      "C13 30149 1282\n"
     ]
    },
    {
     "name": "stdout",
     "output_type": "stream",
     "text": [
      "C13 31149 1327\n"
     ]
    },
    {
     "name": "stdout",
     "output_type": "stream",
     "text": [
      "C13 32149 1379\n"
     ]
    },
    {
     "name": "stdout",
     "output_type": "stream",
     "text": [
      "C13 33149 1416\n"
     ]
    },
    {
     "name": "stdout",
     "output_type": "stream",
     "text": [
      "C13 34149 1460\n"
     ]
    },
    {
     "name": "stdout",
     "output_type": "stream",
     "text": [
      "C13 35149 1495\n"
     ]
    },
    {
     "name": "stdout",
     "output_type": "stream",
     "text": [
      "C13 36149 1550\n"
     ]
    },
    {
     "name": "stdout",
     "output_type": "stream",
     "text": [
      "C13 37149 1593\n"
     ]
    },
    {
     "name": "stdout",
     "output_type": "stream",
     "text": [
      "C13 38149 1637\n"
     ]
    },
    {
     "name": "stdout",
     "output_type": "stream",
     "text": [
      "C13 39149 1682\n"
     ]
    },
    {
     "name": "stdout",
     "output_type": "stream",
     "text": [
      "C13 40149 1734\n"
     ]
    },
    {
     "name": "stdout",
     "output_type": "stream",
     "text": [
      "C13 41149 1775\n"
     ]
    },
    {
     "name": "stdout",
     "output_type": "stream",
     "text": [
      "C13 41653 1801\n"
     ]
    },
    {
     "name": "stdout",
     "output_type": "stream",
     "text": [
      "M12 23676 748\n"
     ]
    },
    {
     "name": "stdout",
     "output_type": "stream",
     "text": [
      "C13 C15\n",
      "C13 24149 987\n"
     ]
    },
    {
     "name": "stdout",
     "output_type": "stream",
     "text": [
      "C13 25149 1034\n"
     ]
    },
    {
     "name": "stdout",
     "output_type": "stream",
     "text": [
      "C13 26149 1086\n"
     ]
    },
    {
     "name": "stdout",
     "output_type": "stream",
     "text": [
      "C13 27149 1132\n"
     ]
    },
    {
     "name": "stdout",
     "output_type": "stream",
     "text": [
      "C13 28149 1185\n"
     ]
    },
    {
     "name": "stdout",
     "output_type": "stream",
     "text": [
      "C13 29149 1233\n"
     ]
    },
    {
     "name": "stdout",
     "output_type": "stream",
     "text": [
      "C13 30149 1282\n"
     ]
    },
    {
     "name": "stdout",
     "output_type": "stream",
     "text": [
      "C13 31149 1327\n"
     ]
    },
    {
     "name": "stdout",
     "output_type": "stream",
     "text": [
      "C13 32149 1379\n"
     ]
    },
    {
     "name": "stdout",
     "output_type": "stream",
     "text": [
      "C13 33149 1416\n"
     ]
    },
    {
     "name": "stdout",
     "output_type": "stream",
     "text": [
      "C13 34149 1460\n"
     ]
    },
    {
     "name": "stdout",
     "output_type": "stream",
     "text": [
      "C13 35149 1495\n"
     ]
    },
    {
     "name": "stdout",
     "output_type": "stream",
     "text": [
      "C13 35156 1495\n"
     ]
    },
    {
     "name": "stdout",
     "output_type": "stream",
     "text": [
      "C15 24149 4378\n"
     ]
    },
    {
     "name": "stdout",
     "output_type": "stream",
     "text": [
      "C15 25149 4580\n"
     ]
    },
    {
     "name": "stdout",
     "output_type": "stream",
     "text": [
      "C15 25188 4584\n"
     ]
    },
    {
     "name": "stdout",
     "output_type": "stream",
     "text": [
      "C13 GPOL\n",
      "C13 24149 987\n"
     ]
    },
    {
     "name": "stdout",
     "output_type": "stream",
     "text": [
      "C13 25149 1034\n"
     ]
    },
    {
     "name": "stdout",
     "output_type": "stream",
     "text": [
      "C13 26149 1086\n"
     ]
    },
    {
     "name": "stdout",
     "output_type": "stream",
     "text": [
      "C13 27149 1132\n"
     ]
    },
    {
     "name": "stdout",
     "output_type": "stream",
     "text": [
      "C13 28149 1185\n"
     ]
    },
    {
     "name": "stdout",
     "output_type": "stream",
     "text": [
      "C13 29149 1233\n"
     ]
    },
    {
     "name": "stdout",
     "output_type": "stream",
     "text": [
      "C13 30149 1282\n"
     ]
    },
    {
     "name": "stdout",
     "output_type": "stream",
     "text": [
      "C13 31149 1327\n"
     ]
    },
    {
     "name": "stdout",
     "output_type": "stream",
     "text": [
      "C13 32149 1379\n"
     ]
    },
    {
     "name": "stdout",
     "output_type": "stream",
     "text": [
      "C13 32482 1395\n"
     ]
    },
    {
     "name": "stdout",
     "output_type": "stream",
     "text": [
      "GPOL 24149 1724\n"
     ]
    },
    {
     "name": "stdout",
     "output_type": "stream",
     "text": [
      "GPOL 25149 1795\n"
     ]
    },
    {
     "name": "stdout",
     "output_type": "stream",
     "text": [
      "GPOL 26149 1862\n"
     ]
    },
    {
     "name": "stdout",
     "output_type": "stream",
     "text": [
      "GPOL 26427 1881\n"
     ]
    },
    {
     "name": "stdout",
     "output_type": "stream",
     "text": [
      "C13 M14\n",
      "C13 24149 987\n"
     ]
    },
    {
     "name": "stdout",
     "output_type": "stream",
     "text": [
      "C13 25149 1034\n"
     ]
    },
    {
     "name": "stdout",
     "output_type": "stream",
     "text": [
      "C13 26149 1086\n"
     ]
    },
    {
     "name": "stdout",
     "output_type": "stream",
     "text": [
      "C13 27149 1132\n"
     ]
    },
    {
     "name": "stdout",
     "output_type": "stream",
     "text": [
      "C13 28149 1185\n"
     ]
    },
    {
     "name": "stdout",
     "output_type": "stream",
     "text": [
      "C13 29149 1233\n"
     ]
    },
    {
     "name": "stdout",
     "output_type": "stream",
     "text": [
      "C13 30149 1282\n"
     ]
    },
    {
     "name": "stdout",
     "output_type": "stream",
     "text": [
      "C13 31149 1327\n"
     ]
    },
    {
     "name": "stdout",
     "output_type": "stream",
     "text": [
      "C13 32149 1379\n"
     ]
    },
    {
     "name": "stdout",
     "output_type": "stream",
     "text": [
      "C13 33149 1416\n"
     ]
    },
    {
     "name": "stdout",
     "output_type": "stream",
     "text": [
      "C13 34149 1460\n"
     ]
    },
    {
     "name": "stdout",
     "output_type": "stream",
     "text": [
      "C13 35149 1495\n"
     ]
    },
    {
     "name": "stdout",
     "output_type": "stream",
     "text": [
      "C13 36149 1550\n"
     ]
    },
    {
     "name": "stdout",
     "output_type": "stream",
     "text": [
      "C13 37149 1593\n"
     ]
    },
    {
     "name": "stdout",
     "output_type": "stream",
     "text": [
      "C13 38149 1637\n"
     ]
    },
    {
     "name": "stdout",
     "output_type": "stream",
     "text": [
      "C13 39032 1677\n"
     ]
    },
    {
     "name": "stdout",
     "output_type": "stream",
     "text": [
      "M14 24149 2647\n"
     ]
    },
    {
     "name": "stdout",
     "output_type": "stream",
     "text": [
      "M14 24637 2700\n"
     ]
    },
    {
     "name": "stdout",
     "output_type": "stream",
     "text": [
      "C13 MCAT\n",
      "C13 24149 987\n"
     ]
    },
    {
     "name": "stdout",
     "output_type": "stream",
     "text": [
      "C13 25149 1034\n"
     ]
    },
    {
     "name": "stdout",
     "output_type": "stream",
     "text": [
      "C13 26149 1086\n"
     ]
    },
    {
     "name": "stdout",
     "output_type": "stream",
     "text": [
      "C13 27149 1132\n"
     ]
    },
    {
     "name": "stdout",
     "output_type": "stream",
     "text": [
      "C13 28149 1185\n"
     ]
    },
    {
     "name": "stdout",
     "output_type": "stream",
     "text": [
      "C13 29149 1233\n"
     ]
    },

    {
     "name": "stdout",
     "output_type": "stream",
     "text": [
      "C13 30149 1282\n"
     ]
    },
    {
     "name": "stdout",
     "output_type": "stream",
     "text": [
      "C13 31149 1327\n"
     ]
    },
    {
     "name": "stdout",
     "output_type": "stream",
     "text": [
      "C13 32149 1379\n"
     ]
    },
    {
     "name": "stdout",
     "output_type": "stream",
     "text": [
      "C13 33149 1416\n"
     ]
    },
    {
     "name": "stdout",
     "output_type": "stream",
     "text": [
      "C13 33569 1433\n"
     ]
    },
    {
     "name": "stdout",
     "output_type": "stream",
     "text": [
      "MCAT 24149 6131\n"
     ]
    },
    {
     "name": "stdout",
     "output_type": "stream",
     "text": [
      "MCAT 25149 6363\n"
     ]
    },
    {
     "name": "stdout",
     "output_type": "stream",
     "text": [
      "MCAT 25793 6519\n"
     ]
    },
    {
     "name": "stdout",
     "output_type": "stream",
     "text": [
      "GDIP C31\n",
      "GDIP 24149 1050\n"
     ]
    },
    {
     "name": "stdout",
     "output_type": "stream",
     "text": [
      "GDIP 25149 1101\n"
     ]
    },
    {
     "name": "stdout",
     "output_type": "stream",
     "text": [
      "GDIP 26149 1153\n",
      "GDIP 27149 1204\n"
     ]
    },
    {
     "name": "stdout",
     "output_type": "stream",
     "text": [
      "GDIP 28149 1257\n"
     ]
    },
    {
     "name": "stdout",
     "output_type": "stream",
     "text": [
      "GDIP 28345 1268\n"
     ]
    },
    {
     "name": "stdout",
     "output_type": "stream",
     "text": [
      "C31 24149 1108\n"
     ]
    },
    {
     "name": "stdout",
     "output_type": "stream",
     "text": [
      "C31 25149 1161\n"
     ]
    },
    {
     "name": "stdout",
     "output_type": "stream",
     "text": [
      "C31 26149 1218\n"
     ]
    },
    {
     "name": "stdout",
     "output_type": "stream",
     "text": [
      "C31 27149 1278\n"
     ]
    },
    {
     "name": "stdout",
     "output_type": "stream",
     "text": [
      "C31 28149 1324\n"
     ]
    },
    {
     "name": "stdout",
     "output_type": "stream",
     "text": [
      "C31 29149 1407\n"
     ]
    },
    {
     "name": "stdout",
     "output_type": "stream",
     "text": [
      "C31 29200 1410\n"
     ]
    },
    {
     "name": "stdout",
     "output_type": "stream",
     "text": [
      "GDIP E12\n",
      "GDIP 24149 1050\n"
     ]
    },
    {
     "name": "stdout",
     "output_type": "stream",
     "text": [
      "GDIP 25149 1101\n"
     ]
    },
    {
     "name": "stdout",
     "output_type": "stream",
     "text": [
      "GDIP 26149 1153\n",
      "GDIP 27149 1204\n",
      "GDIP 28149 1257\n"
     ]
    },
    {
     "name": "stdout",
     "output_type": "stream",
     "text": [
      "GDIP 29149 1311\n"
     ]
    },
    {
     "name": "stdout",
     "output_type": "stream",
     "text": [
      "GDIP 30085 1356\n",
      "E12 24149 714\n"
     ]
    },
    {
     "name": "stdout",
     "output_type": "stream",
     "text": [
      "E12 25149 747\n"
     ]
    },
    {
     "name": "stdout",
     "output_type": "stream",
     "text": [
      "E12 26149 786\n"
     ]
    },
    {
     "name": "stdout",
     "output_type": "stream",
     "text": [
      "E12 27149 825\n"
     ]
    },
    {
     "name": "stdout",
     "output_type": "stream",
     "text": [
      "E12 27405 829\n"
     ]
    },
    {
     "name": "stdout",
     "output_type": "stream",
     "text": [
      "GDIP CCAT\n",
      "GDIP 24149 1050\n"
     ]
    },
    {
     "name": "stdout",
     "output_type": "stream",
     "text": [
      "GDIP 25149 1101\n"
     ]
    },
    {
     "name": "stdout",
     "output_type": "stream",
     "text": [
      "GDIP 26149 1153\n"
     ]
    },
    {
     "name": "stdout",
     "output_type": "stream",
     "text": [
      "GDIP 27149 1204\n"
     ]
    },
    {
     "name": "stdout",
     "output_type": "stream",
     "text": [
      "GDIP 27407 1218\n"
     ]
    },
    {
     "name": "stdout",
     "output_type": "stream",
     "text": [
      "CCAT 24149 11266\n"
     ]
    },
    {
     "name": "stdout",
     "output_type": "stream",
     "text": [
      "CCAT 25149 11755\n"
     ]
    },
    {
     "name": "stdout",
     "output_type": "stream",
     "text": [
      "CCAT 26149 12263\n"
     ]
    },
    {
     "name": "stdout",
     "output_type": "stream",
     "text": [
      "CCAT 27149 12748\n"
     ]
    },
    {
     "name": "stdout",
     "output_type": "stream",
     "text": [
      "CCAT 28076 13177\n"
     ]
    },
    {
     "name": "stdout",
     "output_type": "stream",
     "text": [
      "GDIP ECAT\n",
      "GDIP 24149 1050\n"
     ]
    },
    {
     "name": "stdout",
     "output_type": "stream",
     "text": [
      "GDIP 25149 1101\n"
     ]
    },
    {
     "name": "stdout",
     "output_type": "stream",
     "text": [
      "GDIP 26149 1153\n",
      "GDIP 26195 1154\n"
     ]
    },
    {
     "name": "stdout",
     "output_type": "stream",
     "text": [
      "ECAT 24149 3581\n"
     ]
    },
    {
     "name": "stdout",
     "output_type": "stream",
     "text": [
      "ECAT 25149 3750\n"
     ]
    },
    {
     "name": "stdout",
     "output_type": "stream",
     "text": [
      "ECAT 26149 3888\n"
     ]
    },
    {
     "name": "stdout",
     "output_type": "stream",
     "text": [
      "ECAT 27149 4038\n"
     ]
    },
    {
     "name": "stdout",
     "output_type": "stream",
     "text": [
      "ECAT 28149 4194\n"
     ]
    },
    {
     "name": "stdout",
     "output_type": "stream",
     "text": [
      "ECAT 29149 4335\n"
     ]
    },
    {
     "name": "stdout",
     "output_type": "stream",
     "text": [
      "ECAT 29972 4457\n"
     ]
    },
    {
     "name": "stdout",
     "output_type": "stream",
     "text": [
      "GDIP GPOL\n",
      "GDIP 24149 1050\n"
     ]
    },
    {
     "name": "stdout",
     "output_type": "stream",
     "text": [
      "GDIP 25149 1101\n"
     ]
    },
    {
     "name": "stdout",
     "output_type": "stream",
     "text": [
      "GDIP 26149 1153\n",
      "GDIP 26352 1160\n"
     ]
    },
    {
     "name": "stdout",
     "output_type": "stream",
     "text": [
      "GPOL 24149 1724\n"
     ]
    },
    {
     "name": "stdout",
     "output_type": "stream",
     "text": [
      "GPOL 25149 1795\n"
     ]
    },
    {
     "name": "stdout",
     "output_type": "stream",
     "text": [
      "GPOL 26149 1862\n"
     ]
    },
    {
     "name": "stdout",
     "output_type": "stream",
     "text": [
      "GPOL 27149 1929\n"
     ]
    },
    {
     "name": "stdout",
     "output_type": "stream",
     "text": [
      "GPOL 28149 2009\n"
     ]
    },
    {
     "name": "stdout",
     "output_type": "stream",
     "text": [
      "GPOL 29149 2085\n"
     ]
    },
    {
     "name": "stdout",
     "output_type": "stream",
     "text": [
      "GPOL 29642 2124\n"
     ]
    },
    {
     "name": "stdout",
     "output_type": "stream",
     "text": [
      "C31 C151\n",
      "C31 24149 1108\n"
     ]
    },
    {
     "name": "stdout",
     "output_type": "stream",
     "text": [
      "C31 25149 1161\n"
     ]
    },
    {
     "name": "stdout",
     "output_type": "stream",
     "text": [
      "C31 26149 1218\n"
     ]
    },
    {
     "name": "stdout",
     "output_type": "stream",
     "text": [
      "C31 27149 1278\n"
     ]
    },
    {
     "name": "stdout",
     "output_type": "stream",
     "text": [
      "C31 28149 1324\n"
     ]
    },
    {
     "name": "stdout",
     "output_type": "stream",
     "text": [
      "C31 29149 1406\n"
     ]
    },
    {
     "name": "stdout",
     "output_type": "stream",
     "text": [
      "C31 30149 1461\n"
     ]
    },
    {
     "name": "stdout",
     "output_type": "stream",
     "text": [
      "C31 31149 1506\n"
     ]
    },
    {
     "name": "stdout",
     "output_type": "stream",
     "text": [
      "C31 32149 1554\n"
     ]
    },
    {
     "name": "stdout",
     "output_type": "stream",
     "text": [
      "C31 33149 1619\n"
     ]
    },
    {
     "name": "stdout",
     "output_type": "stream",
     "text": [
      "C31 34149 1665\n"
     ]
    },
    {
     "name": "stdout",
     "output_type": "stream",
     "text": [
      "C31 35149 1721\n"
     ]
    },
    {
     "name": "stdout",
     "output_type": "stream",
     "text": [
      "C31 36149 1769\n"
     ]
    },
    {
     "name": "stdout",
     "output_type": "stream",
     "text": [
      "C31 37149 1824\n"
     ]
    },
    {
     "name": "stdout",
     "output_type": "stream",
     "text": [
      "C31 37675 1851\n"
     ]
    },
    {
     "name": "stdout",
     "output_type": "stream",
     "text": [
      "C151 24149 2447\n"
     ]
    },
    {
     "name": "stdout",
     "output_type": "stream",
     "text": [
      "C151 25149 2549\n"
     ]
    },
    {
     "name": "stdout",
     "output_type": "stream",
     "text": [
      "C151 25403 2573\n"
     ]
    },
    {
     "name": "stdout",
     "output_type": "stream",
     "text": [
      "C31 C15\n",
      "C31 24149 1108\n"
     ]
    },
    {
     "name": "stdout",
     "output_type": "stream",
     "text": [
      "C31 25149 1161\n"
     ]
    },
    {
     "name": "stdout",
     "output_type": "stream",
     "text": [
      "C31 26149 1218\n"
     ]
    },
    {
     "name": "stdout",
     "output_type": "stream",
     "text": [
      "C31 27149 1278\n"
     ]
    },
    {
     "name": "stdout",
     "output_type": "stream",
     "text": [
      "C31 28149 1324\n"
     ]
    },
    {
     "name": "stdout",
     "output_type": "stream",
     "text": [
      "C31 29149 1407\n"
     ]
    },
    {
     "name": "stdout",
     "output_type": "stream",
     "text": [
      "C31 30149 1456\n"
     ]
    },
    {
     "name": "stdout",
     "output_type": "stream",
     "text": [
      "C31 31149 1507\n"
     ]
    },
    {
     "name": "stdout",
     "output_type": "stream",
     "text": [
      "C31 32149 1553\n"
     ]
    },
    {
     "name": "stdout",
     "output_type": "stream",
     "text": [
      "C31 33149 1607\n"
     ]
    },
    {
     "name": "stdout",
     "output_type": "stream",
     "text": [
      "C31 34149 1656\n"
     ]
    },
    {
     "name": "stdout",
     "output_type": "stream",
     "text": [
      "C31 34439 1673\n"
     ]
    },
    {
     "name": "stdout",
     "output_type": "stream",
     "text": [
      "C15 24149 4378\n"
     ]
    },
    {
     "name": "stdout",
     "output_type": "stream",
     "text": [
      "C15 25149 4581\n"
     ]
    },
    {
     "name": "stdout",
     "output_type": "stream",
     "text": [
      "C15 26029 4750\n"
     ]
    },
    {
     "name": "stdout",
     "output_type": "stream",
     "text": [
      "C31 ECAT\n",
      "C31 24149 1108\n"
     ]
    },
    {
     "name": "stdout",
     "output_type": "stream",
     "text": [
      "C31 25149 1161\n"
     ]
    },
    {
     "name": "stdout",
     "output_type": "stream",
     "text": [
      "C31 26149 1218\n"
     ]
    },
    {
     "name": "stdout",
     "output_type": "stream",
     "text": [
      "C31 27149 1278\n"
     ]
    },
    {
     "name": "stdout",
     "output_type": "stream",
     "text": [
      "C31 28149 1324\n"
     ]
    },
    {
     "name": "stdout",
     "output_type": "stream",
     "text": [
      "C31 29149 1407\n"
     ]
    },
    {
     "name": "stdout",
     "output_type": "stream",
     "text": [
      "C31 30007 1450\n"
     ]
    },
    {
     "name": "stdout",
     "output_type": "stream",
     "text": [
      "ECAT 24149 3581\n"
     ]
    },
    {
     "name": "stdout",
     "output_type": "stream",
     "text": [
      "ECAT 25149 3750\n"
     ]
    },
    {
     "name": "stdout",
     "output_type": "stream",
     "text": [
      "ECAT 26149 3888\n"
     ]
    },
    {
     "name": "stdout",
     "output_type": "stream",
     "text": [
      "ECAT 26909 4008\n"
     ]
    },
    {
     "name": "stdout",
     "output_type": "stream",
     "text": [
      "C31 C21\n",
      "C31 24149 1108\n"
     ]
    },
    {
     "name": "stdout",
     "output_type": "stream",
     "text": [
      "C31 25149 1161\n"
     ]
    },
    {
     "name": "stdout",
     "output_type": "stream",
     "text": [
      "C31 26149 1218\n"
     ]
    },
    {
     "name": "stdout",
     "output_type": "stream",
     "text": [
      "C31 27149 1278\n"
     ]
    },
    {
     "name": "stdout",
     "output_type": "stream",
     "text": [
      "C31 28149 1324\n"
     ]
    },
    {
     "name": "stdout",
     "output_type": "stream",
     "text": [
      "C31 29149 1407\n"
     ]
    },
    {
     "name": "stdout",
     "output_type": "stream",
     "text": [
      "C31 30149 1456\n"
     ]
    },
    {
     "name": "stdout",
     "output_type": "stream",
     "text": [
      "C31 31069 1504\n"
     ]
    },
    {
     "name": "stdout",
     "output_type": "stream",
     "text": [
      "C21 24149 825\n"
     ]
    },
    {
     "name": "stdout",
     "output_type": "stream",
     "text": [
      "C21 25149 857\n"
     ]
    },
    {
     "name": "stdout",
     "output_type": "stream",
     "text": [
      "C21 26149 895\n"
     ]
    },
    {
     "name": "stdout",
     "output_type": "stream",
     "text": [
      "C21 26913 925\n"
     ]
    },
    {
     "name": "stdout",
     "output_type": "stream",
     "text": [
      "C31 M14\n",
      "C31 24149 1108\n"
     ]
    },
    {
     "name": "stdout",
     "output_type": "stream",
     "text": [
      "C31 25149 1161\n"
     ]
    },
    {
     "name": "stdout",
     "output_type": "stream",
     "text": [
      "C31 26149 1218\n"
     ]
    },
    {
     "name": "stdout",
     "output_type": "stream",
     "text": [
      "C31 27149 1278\n"
     ]
    },
    {
     "name": "stdout",
     "output_type": "stream",
     "text": [
      "C31 28149 1324\n"
     ]
    },
    {
     "name": "stdout",
     "output_type": "stream",
     "text": [
      "C31 29149 1406\n"
     ]
    },
    {
     "name": "stdout",
     "output_type": "stream",
     "text": [
      "C31 30149 1461\n"
     ]
    },
    {
     "name": "stdout",
     "output_type": "stream",
     "text": [
      "C31 31149 1507\n"
     ]
    },
    {
     "name": "stdout",
     "output_type": "stream",
     "text": [
      "C31 32149 1556\n"
     ]
    },
    {
     "name": "stdout",
     "output_type": "stream",
     "text": [
      "C31 33149 1619\n"
     ]
    },
    {
     "name": "stdout",
     "output_type": "stream",
     "text": [
      "C31 34149 1658\n"
     ]
    },
    {
     "name": "stdout",
     "output_type": "stream",
     "text": [
      "C31 35149 1718\n"
     ]
    },
    {
     "name": "stdout",
     "output_type": "stream",
     "text": [
      "C31 36149 1773\n"
     ]
    },
    {
     "name": "stdout",
     "output_type": "stream",
     "text": [
      "C31 37149 1825\n"
     ]
    },
    {
     "name": "stdout",
     "output_type": "stream",
     "text": [
      "C31 38149 1886\n"
     ]
    },
    {
     "name": "stdout",
     "output_type": "stream",
     "text": [
      "C31 38318 1891\n"
     ]
    },
    {
     "name": "stdout",
     "output_type": "stream",
     "text": [
      "M14 24149 2647\n"
     ]
    },
    {
     "name": "stdout",
     "output_type": "stream",
     "text": [
      "M14 25149 2757\n"
     ]
    },
    {
     "name": "stdout",
     "output_type": "stream",
     "text": [
      "M14 25604 2805\n"
     ]
    },
    {
     "name": "stdout",
     "output_type": "stream",
     "text": [
      "C181 C151\n",
      "C181 24149 1261\n"
     ]
    },
    {
     "name": "stdout",
     "output_type": "stream",
     "text": [
      "C181 25149 1314\n"
     ]
    },
    {
     "name": "stdout",
     "output_type": "stream",
     "text": [
      "C181 26149 1361\n"
     ]
    },
    {
     "name": "stdout",
     "output_type": "stream",
     "text": [
      "C181 27149 1412\n"
     ]
    },
    {
     "name": "stdout",
     "output_type": "stream",
     "text": [
      "C181 28149 1450\n"
     ]
    },
    {
     "name": "stdout",
     "output_type": "stream",
     "text": [
      "C181 29149 1500\n"
     ]
    },
    {
     "name": "stdout",
     "output_type": "stream",
     "text": [
      "C181 30149 1551\n"
     ]
    },
    {
     "name": "stdout",
     "output_type": "stream",
     "text": [
      "C181 31149 1605\n"
     ]
    },
    {
     "name": "stdout",
     "output_type": "stream",
     "text": [
      "C181 31344 1617\n"
     ]
    },
    {
     "name": "stdout",
     "output_type": "stream",
     "text": [
      "C151 24149 2447\n"
     ]
    },
    {
     "name": "stdout",
     "output_type": "stream",
     "text": [
      "C151 25149 2549\n"
     ]
    },
    {
     "name": "stdout",
     "output_type": "stream",
     "text": [
      "C151 26149 2656\n"
     ]
    },
    {
     "name": "stdout",
     "output_type": "stream",
     "text": [
      "C151 27149 2762\n"
     ]
    },
    {
     "name": "stdout",
     "output_type": "stream",
     "text": [
      "C151 27612 2812\n"
     ]
    },
    {
     "name": "stdout",
     "output_type": "stream",
     "text": [
      "C181 GCAT\n",
      "C181 24149 1261\n"
     ]
    },
    {
     "name": "stdout",
     "output_type": "stream",
     "text": [
      "C181 25149 1314\n"
     ]
    },
    {
     "name": "stdout",
     "output_type": "stream",
     "text": [
      "C181 26149 1361\n"
     ]
    },
    {
     "name": "stdout",
     "output_type": "stream",
     "text": [
      "C181 27149 1412\n"
     ]
    },
    {
     "name": "stdout",
     "output_type": "stream",
     "text": [
      "C181 28149 1450\n"
     ]
    },
    {
     "name": "stdout",
     "output_type": "stream",
     "text": [
      "C181 29149 1500\n"
     ]
    },
    {
     "name": "stdout",
     "output_type": "stream",
     "text": [
      "C181 29720 1534\n"
     ]
    },
    {
     "name": "stdout",
     "output_type": "stream",
     "text": [
      "GCAT 24149 7274\n"
     ]
    },
    {
     "name": "stdout",
     "output_type": "stream",
     "text": [
      "GCAT 25149 7577\n"
     ]
    },
    {
     "name": "stdout",
     "output_type": "stream",
     "text": [
      "GCAT 26149 7867\n"
     ]
    },
    {
     "name": "stdout",
     "output_type": "stream",
     "text": [
      "GCAT 27149 8153\n"
     ]
    },
    {
     "name": "stdout",
     "output_type": "stream",
     "text": [
      "GCAT 27742 8354\n"
     ]
    },
    {
     "name": "stdout",
     "output_type": "stream",
     "text": [
      "C181 C152\n",
      "C181 24149 1261\n"
     ]
    },
    {
     "name": "stdout",
     "output_type": "stream",
     "text": [
      "C181 25149 1314\n"
     ]
    },
    {
     "name": "stdout",
     "output_type": "stream",
     "text": [
      "C181 26149 1361\n"
     ]
    },
    {
     "name": "stdout",
     "output_type": "stream",
     "text": [
      "C181 27149 1412\n"
     ]
    },
    {
     "name": "stdout",
     "output_type": "stream",
     "text": [
      "C181 28149 1450\n"
     ]
    },
    {
     "name": "stdout",
     "output_type": "stream",
     "text": [
      "C181 28339 1458\n"
     ]
    },
    {
     "name": "stdout",
     "output_type": "stream",
     "text": [
      "C152 24149 2040\n"
     ]
    },
    {
     "name": "stdout",
     "output_type": "stream",
     "text": [
      "C152 25149 2150\n"
     ]
    },
    {
     "name": "stdout",
     "output_type": "stream",
     "text": [
      "C152 26149 2247\n"
     ]
    },
    {
     "name": "stdout",
     "output_type": "stream",
     "text": [
      "C152 27149 2366\n"
     ]
    },
    {
     "name": "stdout",
     "output_type": "stream",
     "text": [
      "C152 28149 2478\n"
     ]
    },
    {
     "name": "stdout",
     "output_type": "stream",
     "text": [
      "C152 29149 2566\n"
     ]
    },
    {
     "name": "stdout",
     "output_type": "stream",
     "text": [
      "C152 30116 2653\n"
     ]
    },
    {
     "name": "stdout",
     "output_type": "stream",
     "text": [
      "C181 C15\n",
      "C181 24149 1261\n"
     ]
    },
    {
     "name": "stdout",
     "output_type": "stream",
     "text": [
      "C181 25149 1314\n"
     ]
    },
    {
     "name": "stdout",
     "output_type": "stream",
     "text": [
      "C181 26149 1361\n"
     ]
    },
    {
     "name": "stdout",
     "output_type": "stream",
     "text": [
      "C181 27149 1412\n"
     ]
    },
    {
     "name": "stdout",
     "output_type": "stream",
     "text": [
      "C181 28003 1446\n"
     ]
    },
    {
     "name": "stdout",
     "output_type": "stream",
     "text": [
      "C15 24149 4378\n"
     ]
    },
    {
     "name": "stdout",
     "output_type": "stream",
     "text": [
      "C15 25149 4580\n"
     ]
    },
    {
     "name": "stdout",
     "output_type": "stream",
     "text": [
      "C15 26149 4766\n"
     ]
    },
    {
     "name": "stdout",
     "output_type": "stream",
     "text": [
      "C15 27149 4986\n"
     ]
    },
    {
     "name": "stdout",
     "output_type": "stream",
     "text": [
      "C15 28149 5166\n"
     ]
    },
    {
     "name": "stdout",
     "output_type": "stream",
     "text": [
      "C15 29149 5373\n"
     ]
    },
    {
     "name": "stdout",
     "output_type": "stream",
     "text": [
      "C15 29940 5529\n"
     ]
    },
    {
     "name": "stdout",
     "output_type": "stream",
     "text": [
      "C181 C17\n",
      "C181 24149 1261\n"
     ]
    },
    {
     "name": "stdout",
     "output_type": "stream",
     "text": [
      "C181 25149 1314\n"
     ]
    },
    {
     "name": "stdout",
     "output_type": "stream",
     "text": [
      "C181 26149 1361\n"
     ]
    },
    {
     "name": "stdout",
     "output_type": "stream",
     "text": [
      "C181 27149 1412\n"
     ]
    },
    {
     "name": "stdout",
     "output_type": "stream",
     "text": [
      "C181 28149 1450\n"
     ]
    },
    {
     "name": "stdout",
     "output_type": "stream",
     "text": [
      "C181 29149 1500\n"
     ]
    },
    {
     "name": "stdout",
     "output_type": "stream",
     "text": [
      "C181 29535 1520\n"
     ]
    },
    {
     "name": "stdout",
     "output_type": "stream",
     "text": [
      "C17 24149 1226\n"
     ]
    },
    {
     "name": "stdout",
     "output_type": "stream",
     "text": [
      "C17 25149 1284\n"
     ]
    },
    {
     "name": "stdout",
     "output_type": "stream",
     "text": [
      "C17 26149 1337\n"
     ]
    },
    {
     "name": "stdout",
     "output_type": "stream",
     "text": [
      "C17 27149 1390\n"
     ]
    },
    {
     "name": "stdout",
     "output_type": "stream",
     "text": [
      "C17 28149 1444\n"
     ]
    },
    {
     "name": "stdout",
     "output_type": "stream",
     "text": [
      "C17 28830 1479\n"
     ]
    },
    {
     "name": "stdout",
     "output_type": "stream",
     "text": [
      "M141 ECAT\n",
      "M141 24149 1571\n"
     ]
    },
    {
     "name": "stdout",
     "output_type": "stream",
     "text": [
      "M141 24335 1585\n"
     ]
    },
    {
     "name": "stdout",
     "output_type": "stream",
     "text": [
      "ECAT 24149 3581\n"
     ]
    },
    {
     "name": "stdout",
     "output_type": "stream",
     "text": [
      "ECAT 25149 3750\n"
     ]
    },
    {
     "name": "stdout",
     "output_type": "stream",
     "text": [
      "ECAT 26149 3888\n"
     ]
    },
    {
     "name": "stdout",
     "output_type": "stream",
     "text": [
      "ECAT 27149 4038\n"
     ]
    },
    {
     "name": "stdout",
     "output_type": "stream",
     "text": [
      "ECAT 28149 4194\n"
     ]
    },
    {
     "name": "stdout",
     "output_type": "stream",
     "text": [
      "ECAT 28705 4273\n"
     ]
    },
    {
     "name": "stdout",
     "output_type": "stream",
     "text": [
      "M141 GCAT\n",
      "M141 24149 1571\n"
     ]
    },
    {
     "name": "stdout",
     "output_type": "stream",
     "text": [
      "M141 24580 1597\n"
     ]
    },
    {
     "name": "stdout",
     "output_type": "stream",
     "text": [
      "GCAT 24149 7274\n"
     ]
    },
    {
     "name": "stdout",
     "output_type": "stream",
     "text": [
      "GCAT 25149 7577\n"
     ]
    },
    {
     "name": "stdout",
     "output_type": "stream",
     "text": [
      "GCAT 26149 7867\n"
     ]
    },
    {
     "name": "stdout",
     "output_type": "stream",
     "text": [
      "GCAT 27149 8153\n"
     ]
    },
    {
     "name": "stdout",
     "output_type": "stream",
     "text": [
      "GCAT 27851 8394\n"
     ]
    },
    {
     "name": "stdout",
     "output_type": "stream",
     "text": [
      "M141 C24\n",
      "M141 24149 1571\n"
     ]
    },
    {
     "name": "stdout",
     "output_type": "stream",
     "text": [
      "M141 24631 1602\n"
     ]
    },
    {
     "name": "stdout",
     "output_type": "stream",
     "text": [
      "C24 24149 961\n",
      "C24 25149 1002\n"
     ]
    },
    {
     "name": "stdout",
     "output_type": "stream",
     "text": [
      "C24 26149 1046\n",
      "C24 27149 1085\n",
      "C24 28149 1122\n"
     ]
    },
    {
     "name": "stdout",
     "output_type": "stream",
     "text": [
      "C24 28598 1134\n",
      "M141 C31\n",
      "M141 23938 1557\n"
     ]
    },
    {
     "name": "stdout",
     "output_type": "stream",
     "text": [
      "C31 24149 1108\n"
     ]
    },
    {
     "name": "stdout",
     "output_type": "stream",
     "text": [
      "C31 25149 1161\n"
     ]
    },
    {
     "name": "stdout",
     "output_type": "stream",
     "text": [
      "C31 26149 1218\n"
     ]
    },
    {
     "name": "stdout",
     "output_type": "stream",
     "text": [
      "C31 27149 1278\n"
     ]
    },
    {
     "name": "stdout",
     "output_type": "stream",
     "text": [
      "C31 28149 1324\n"
     ]
    },
    {
     "name": "stdout",
     "output_type": "stream",
     "text": [
      "C31 29149 1407\n"
     ]
    },
    {
     "name": "stdout",
     "output_type": "stream",
     "text": [
      "C31 30149 1456\n"
     ]
    },
    {
     "name": "stdout",
     "output_type": "stream",
     "text": [
      "C31 30593 1483\n"
     ]
    },
    {
     "name": "stdout",
     "output_type": "stream",
     "text": [
      "M141 C21\n",
      "M141 24149 1571\n"
     ]
    },
    {
     "name": "stdout",
     "output_type": "stream",
     "text": [
      "M141 24326 1584\n"
     ]
    },
    {
     "name": "stdout",
     "output_type": "stream",
     "text": [
      "C21 24149 825\n"
     ]
    },
    {
     "name": "stdout",
     "output_type": "stream",
     "text": [
      "C21 25149 857\n"
     ]
    },
    {
     "name": "stdout",
     "output_type": "stream",
     "text": [
      "C21 26149 895\n"
     ]
    },
    {
     "name": "stdout",
     "output_type": "stream",
     "text": [
      "C21 27149 932\n"
     ]
    },
    {
     "name": "stdout",
     "output_type": "stream",
     "text": [
      "C21 28149 970\n"
     ]
    },
    {
     "name": "stdout",
     "output_type": "stream",
     "text": [
      "C21 28563 989\n"
     ]
    },
    {
     "name": "stdout",
     "output_type": "stream",
     "text": [
      "M11 ECAT\n",
      "M11 24149 1343\n"
     ]
    },
    {
     "name": "stdout",
     "output_type": "stream",
     "text": [
      "M11 25149 1407\n"
     ]
    },
    {
     "name": "stdout",
     "output_type": "stream",
     "text": [
      "M11 26149 1459\n"
     ]
    },
    {
     "name": "stdout",
     "output_type": "stream",
     "text": [
      "M11 26188 1464\n"
     ]
    },
    {
     "name": "stdout",
     "output_type": "stream",
     "text": [
      "ECAT 24149 3581\n"
     ]
    },
    {
     "name": "stdout",
     "output_type": "stream",
     "text": [
      "ECAT 25149 3750\n"
     ]
    },
    {
     "name": "stdout",
     "output_type": "stream",
     "text": [
      "ECAT 26149 3888\n"
     ]
    },
    {
     "name": "stdout",
     "output_type": "stream",
     "text": [
      "ECAT 26414 3926\n"
     ]
    },
    {
     "name": "stdout",
     "output_type": "stream",
     "text": [
      "M11 C152\n",
      "M11 24149 1343\n"
     ]
    },
    {
     "name": "stdout",
     "output_type": "stream",
     "text": [
      "M11 25149 1407\n"
     ]
    },
    {
     "name": "stdout",
     "output_type": "stream",
     "text": [
      "M11 25168 1408\n"
     ]
    },
    {
     "name": "stdout",
     "output_type": "stream",
     "text": [
      "C152 24149 2040\n"
     ]
    },
    {
     "name": "stdout",
     "output_type": "stream",
     "text": [
      "C152 25149 2150\n"
     ]
    },
    {
     "name": "stdout",
     "output_type": "stream",
     "text": [
      "C152 26149 2247\n"
     ]
    },
    {
     "name": "stdout",
     "output_type": "stream",
     "text": [
      "C152 27149 2366\n"
     ]
    },
    {
     "name": "stdout",
     "output_type": "stream",
     "text": [
      "C152 28149 2478\n"
     ]
    },
    {
     "name": "stdout",
     "output_type": "stream",
     "text": [
      "C152 29149 2566\n"
     ]
    },
    {
     "name": "stdout",
     "output_type": "stream",
     "text": [
      "C152 29674 2612\n"
     ]
    },
    {
     "name": "stdout",
     "output_type": "stream",
     "text": [
      "M11 M132\n",
      "M11 24149 1343\n"
     ]
    },
    {
     "name": "stdout",
     "output_type": "stream",
     "text": [
      "M11 25149 1407\n"
     ]
    },
    {
     "name": "stdout",
     "output_type": "stream",
     "text": [
      "M11 26149 1459\n"
     ]
    },
    {
     "name": "stdout",
     "output_type": "stream",
     "text": [
      "M11 27149 1512\n"
     ]
    },
    {
     "name": "stdout",
     "output_type": "stream",
     "text": [
      "M11 27319 1523\n"
     ]
    },
    {
     "name": "stdout",
     "output_type": "stream",
     "text": [
      "M132 24149 727\n"
     ]
    },
    {
     "name": "stdout",
     "output_type": "stream",
     "text": [
      "M132 25149 756\n"
     ]
    },
    {
     "name": "stdout",
     "output_type": "stream",
     "text": [
      "M132 26149 780\n"
     ]
    },
    {
     "name": "stdout",
     "output_type": "stream",
     "text": [
      "M132 26222 781\n"
     ]
    },
    {
     "name": "stdout",
     "output_type": "stream",
     "text": [
      "M11 M13\n",
      "M11 24149 1343\n"
     ]
    },
    {
     "name": "stdout",
     "output_type": "stream",
     "text": [
      "M11 25149 1407\n"
     ]
    },
    {
     "name": "stdout",
     "output_type": "stream",
     "text": [
      "M11 26149 1459\n"
     ]
    },
    {
     "name": "stdout",
     "output_type": "stream",
     "text": [
      "M11 26954 1499\n"
     ]
    },
    {
     "name": "stdout",
     "output_type": "stream",
     "text": [
      "M13 24149 1658\n"
     ]
    },
    {
     "name": "stdout",
     "output_type": "stream",
     "text": [
      "M13 25149 1714\n"
     ]
    },
    {
     "name": "stdout",
     "output_type": "stream",
     "text": [
      "M13 26149 1772\n"
     ]
    },
    {
     "name": "stdout",
     "output_type": "stream",
     "text": [
      "M13 27149 1832\n"
     ]
    },
    {
     "name": "stdout",
     "output_type": "stream",
     "text": [
      "M13 27171 1833\n"
     ]
    },
    {
     "name": "stdout",
     "output_type": "stream",
     "text": [
      "M11 CCAT\n",
      "M11 24149 1343\n"
     ]
    },
    {
     "name": "stdout",
     "output_type": "stream",
     "text": [
      "M11 24968 1395\n"
     ]
    },
    {
     "name": "stdout",
     "output_type": "stream",
     "text": [
      "CCAT 24149 11266\n"
     ]
    },
    {
     "name": "stdout",
     "output_type": "stream",
     "text": [
      "CCAT 25149 11755\n"
     ]
    },
    {
     "name": "stdout",
     "output_type": "stream",
     "text": [
      "CCAT 26149 12263\n"
     ]
    },
    {
     "name": "stdout",
     "output_type": "stream",
     "text": [
      "CCAT 27149 12748\n"
     ]
    },
    {
     "name": "stdout",
     "output_type": "stream",
     "text": [
      "CCAT 28149 13211\n"
     ]
    },
    {
     "name": "stdout",
     "output_type": "stream",
     "text": [
      "CCAT 29149 13707\n"
     ]
    },
    {
     "name": "stdout",
     "output_type": "stream",
     "text": [
      "CCAT 29534 13889\n"
     ]
    },
    {
     "name": "stdout",
     "output_type": "stream",
     "text": [
      "E21 C31\n",
      "E21 24149 1308\n",
      "E21 25149 1362\n",
      "E21 26149 1408\n"
     ]
    },
    {
     "name": "stdout",
     "output_type": "stream",
     "text": [
      "E21 27149 1466\n"
     ]
    },
    {
     "name": "stdout",
     "output_type": "stream",
     "text": [
      "E21 28149 1532\n"
     ]
    },
    {
     "name": "stdout",
     "output_type": "stream",
     "text": [
      "E21 28308 1543\n"
     ]
    },
    {
     "name": "stdout",
     "output_type": "stream",
     "text": [
      "C31 24149 1108\n"
     ]
    },
    {
     "name": "stdout",
     "output_type": "stream",
     "text": [
      "C31 25149 1161\n"
     ]
    },
    {
     "name": "stdout",
     "output_type": "stream",
     "text": [
      "C31 26149 1218\n"
     ]
    },
    {
     "name": "stdout",
     "output_type": "stream",
     "text": [
      "C31 27149 1278\n"
     ]
    },
    {
     "name": "stdout",
     "output_type": "stream",
     "text": [
      "C31 28040 1317\n"
     ]
    },
    {
     "name": "stdout",
     "output_type": "stream",
     "text": [
      "E21 M12\n",
      "E21 24149 1308\n",
      "E21 25149 1362\n"
     ]
    },
    {
     "name": "stdout",
     "output_type": "stream",
     "text": [
      "E21 26149 1408\n"
     ]
    },
    {
     "name": "stdout",
     "output_type": "stream",
     "text": [
      "E21 27149 1466\n"
     ]
    },
    {
     "name": "stdout",
     "output_type": "stream",
     "text": [
      "E21 28149 1532\n"
     ]
    },
    {
     "name": "stdout",
     "output_type": "stream",
     "text": [
      "E21 29149 1584\n"
     ]
    },
    {
     "name": "stdout",
     "output_type": "stream",
     "text": [
      "E21 29998 1647\n"
     ]
    },
    {
     "name": "stdout",
     "output_type": "stream",
     "text": [
      "M12 24149 765\n"
     ]
    },
    {
     "name": "stdout",
     "output_type": "stream",
     "text": [
      "M12 25149 791\n"
     ]
    },
    {
     "name": "stdout",
     "output_type": "stream",
     "text": [
      "M12 26074 811\n"
     ]
    },
    {
     "name": "stdout",
     "output_type": "stream",
     "text": [
      "E21 MCAT\n",
      "E21 24149 1308\n",
      "E21 25149 1362\n"
     ]
    },
    {
     "name": "stdout",
     "output_type": "stream",
     "text": [
      "E21 26149 1408\n"
     ]
    },
    {
     "name": "stdout",
     "output_type": "stream",
     "text": [
      "E21 27149 1466\n"
     ]
    },
    {
     "name": "stdout",
     "output_type": "stream",
     "text": [
      "E21 27936 1518\n"
     ]
    },
    {
     "name": "stdout",
     "output_type": "stream",
     "text": [
      "MCAT 24149 6131\n"
     ]
    },
    {
     "name": "stdout",
     "output_type": "stream",
     "text": [
      "MCAT 25149 6362\n"
     ]
    },
    {
     "name": "stdout",
     "output_type": "stream",
     "text": [
      "MCAT 26149 6600\n"
     ]
    },
    {
     "name": "stdout",
     "output_type": "stream",
     "text": [
      "MCAT 27149 6825\n"
     ]
    },
    {
     "name": "stdout",
     "output_type": "stream",
     "text": [
      "MCAT 28149 7066\n"
     ]
    },
    {
     "name": "stdout",
     "output_type": "stream",
     "text": [
      "MCAT 28504 7148\n"
     ]
    },
    {
     "name": "stdout",
     "output_type": "stream",
     "text": [
      "E21 E12\n",
      "E21 24149 1308\n",
      "E21 25149 1362\n"
     ]
    },
    {
     "name": "stdout",
     "output_type": "stream",
     "text": [
      "E21 26149 1408\n"
     ]
    },
    {
     "name": "stdout",
     "output_type": "stream",
     "text": [
      "E21 27149 1466\n"
     ]
    },
    {
     "name": "stdout",
     "output_type": "stream",
     "text": [
      "E21 27758 1504\n"
     ]
    },
    {
     "name": "stdout",
     "output_type": "stream",
     "text": [
      "E12 24149 714\n"
     ]
    },
    {
     "name": "stdout",
     "output_type": "stream",
     "text": [
      "E12 25149 747\n"
     ]
    },
    {
     "name": "stdout",
     "output_type": "stream",
     "text": [
      "E12 26149 786\n"
     ]
    },
    {
     "name": "stdout",
     "output_type": "stream",
     "text": [
      "E12 27149 825\n"
     ]
    },
    {
     "name": "stdout",
     "output_type": "stream",
     "text": [
      "E12 27359 827\n"
     ]
    },
    {
     "name": "stdout",
     "output_type": "stream",
     "text": [
      "E21 GPOL\n",
      "E21 24149 1308\n"
     ]
    },
    {
     "name": "stdout",
     "output_type": "stream",
     "text": [
      "E21 25149 1362\n"
     ]
    },
    {
     "name": "stdout",
     "output_type": "stream",
     "text": [
      "E21 26149 1408\n",
      "E21 27113 1463\n"
     ]
    },
    {
     "name": "stdout",
     "output_type": "stream",
     "text": [
      "GPOL 24149 1724\n"
     ]
    },
    {
     "name": "stdout",
     "output_type": "stream",
     "text": [
      "GPOL 25149 1795\n"
     ]
    },
    {
     "name": "stdout",
     "output_type": "stream",
     "text": [
      "GPOL 26149 1862\n"
     ]
    },
    {
     "name": "stdout",
     "output_type": "stream",
     "text": [
      "GPOL 27149 1929\n"
     ]
    },
    {
     "name": "stdout",
     "output_type": "stream",
     "text": [
      "GPOL 28149 2009\n"
     ]
    },
    {
     "name": "stdout",
     "output_type": "stream",
     "text": [
      "GPOL 29149 2085\n"
     ]
    },
    {
     "name": "stdout",
     "output_type": "stream",
     "text": [
      "GPOL 29578 2123\n"
     ]
    },
    {
     "name": "stdout",
     "output_type": "stream",
     "text": [
      "C17 MCAT\n",
      "C17 24149 1226\n"
     ]
    },
    {
     "name": "stdout",
     "output_type": "stream",
     "text": [
      "C17 25149 1284\n"
     ]
    },
    {
     "name": "stdout",
     "output_type": "stream",
     "text": [
      "C17 26149 1337\n"
     ]
    },
    {
     "name": "stdout",
     "output_type": "stream",
     "text": [
      "C17 27149 1390\n"
     ]
    },
    {
     "name": "stdout",
     "output_type": "stream",
     "text": [
      "C17 28149 1444\n"
     ]
    },
    {
     "name": "stdout",
     "output_type": "stream",
     "text": [
      "C17 29149 1499\n"
     ]
    },
    {
     "name": "stdout",
     "output_type": "stream",
     "text": [
      "C17 29838 1526\n"
     ]
    },
    {
     "name": "stdout",
     "output_type": "stream",
     "text": [
      "MCAT 24149 6131\n"
     ]
    },
    {
     "name": "stdout",
     "output_type": "stream",
     "text": [
      "MCAT 25149 6362\n"
     ]
    },
    {
     "name": "stdout",
     "output_type": "stream",
     "text": [
      "MCAT 26149 6598\n"
     ]
    },
    {
     "name": "stdout",
     "output_type": "stream",
     "text": [
      "MCAT 27149 6826\n"
     ]
    },
    {
     "name": "stdout",
     "output_type": "stream",
     "text": [
      "MCAT 28064 7047\n"
     ]
    },
    {
     "name": "stdout",
     "output_type": "stream",
     "text": [
      "C17 C152\n",
      "C17 24149 1226\n"
     ]
    },
    {
     "name": "stdout",
     "output_type": "stream",
     "text": [
      "C17 25149 1284\n"
     ]
    },
    {
     "name": "stdout",
     "output_type": "stream",
     "text": [
      "C17 26149 1337\n"
     ]
    },
    {
     "name": "stdout",
     "output_type": "stream",
     "text": [
      "C17 27149 1390\n"
     ]
    },
    {
     "name": "stdout",
     "output_type": "stream",
     "text": [
      "C17 28149 1444\n"
     ]
    },
    {
     "name": "stdout",
     "output_type": "stream",
     "text": [
      "C17 29093 1499\n"
     ]
    },
    {
     "name": "stdout",
     "output_type": "stream",
     "text": [
      "C152 24149 2040\n"
     ]
    },
    {
     "name": "stdout",
     "output_type": "stream",
     "text": [
      "C152 25149 2150\n"
     ]
    },
    {
     "name": "stdout",
     "output_type": "stream",
     "text": [
      "C152 26149 2247\n"
     ]
    },
    {
     "name": "stdout",
     "output_type": "stream",
     "text": [
      "C152 27149 2366\n"
     ]
    },
    {
     "name": "stdout",
     "output_type": "stream",
     "text": [
      "C152 28149 2478\n"
     ]
    },
    {
     "name": "stdout",
     "output_type": "stream",
     "text": [
      "C152 28229 2485\n"
     ]
    },
    {
     "name": "stdout",
     "output_type": "stream",
     "text": [
      "C17 C15\n",
      "C17 24149 1226\n"
     ]
    },
    {
     "name": "stdout",
     "output_type": "stream",
     "text": [
      "C17 25149 1284\n"
     ]
    },
    {
     "name": "stdout",
     "output_type": "stream",
     "text": [
      "C17 26149 1337\n"
     ]
    },
    {
     "name": "stdout",
     "output_type": "stream",
     "text": [
      "C17 27149 1390\n"
     ]
    },
    {
     "name": "stdout",
     "output_type": "stream",
     "text": [
      "C17 28149 1444\n"
     ]
    },
    {
     "name": "stdout",
     "output_type": "stream",
     "text": [
      "C17 28586 1463\n"
     ]
    },
    {
     "name": "stdout",
     "output_type": "stream",
     "text": [
      "C15 24149 4378\n"
     ]
    },
    {
     "name": "stdout",
     "output_type": "stream",
     "text": [
      "C15 25149 4580\n"
     ]
    },
    {
     "name": "stdout",
     "output_type": "stream",
     "text": [
      "C15 26149 4766\n"
     ]
    },
    {
     "name": "stdout",
     "output_type": "stream",
     "text": [
      "C15 27149 4986\n"
     ]
    },
    {
     "name": "stdout",
     "output_type": "stream",
     "text": [
      "C15 28149 5166\n"
     ]
    },
    {
     "name": "stdout",
     "output_type": "stream",
     "text": [
      "C15 29050 5351\n"
     ]
    },
    {
     "name": "stdout",
     "output_type": "stream",
     "text": [
      "C17 C18\n",
      "C17 24149 1226\n"
     ]
    },
    {
     "name": "stdout",
     "output_type": "stream",
     "text": [
      "C17 25149 1284\n"
     ]
    },
    {
     "name": "stdout",
     "output_type": "stream",
     "text": [
      "C17 26149 1337\n"
     ]
    },
    {
     "name": "stdout",
     "output_type": "stream",
     "text": [
      "C17 27149 1390\n"
     ]
    },
    {
     "name": "stdout",
     "output_type": "stream",
     "text": [
      "C17 28149 1444\n"
     ]
    },
    {
     "name": "stdout",
     "output_type": "stream",
     "text": [
      "C17 29149 1499\n"
     ]
    },
    {
     "name": "stdout",
     "output_type": "stream",
     "text": [
      "C17 29281 1500\n"
     ]
    },
    {
     "name": "stdout",
     "output_type": "stream",
     "text": [
      "C18 24149 1527\n"
     ]
    },
    {
     "name": "stdout",
     "output_type": "stream",
     "text": [
      "C18 25149 1578\n"
     ]
    },
    {
     "name": "stdout",
     "output_type": "stream",
     "text": [
      "C18 26149 1640\n"
     ]
    },
    {
     "name": "stdout",
     "output_type": "stream",
     "text": [
      "C18 27149 1712\n"
     ]
    },
    {
     "name": "stdout",
     "output_type": "stream",
     "text": [
      "C18 27722 1753\n"
     ]
    },
    {
     "name": "stdout",
     "output_type": "stream",
     "text": [
      "C17 ECAT\n",
      "C17 24149 1226\n"
     ]
    },
    {
     "name": "stdout",
     "output_type": "stream",
     "text": [
      "C17 25149 1284\n"
     ]
    },
    {
     "name": "stdout",
     "output_type": "stream",
     "text": [
      "C17 26149 1337\n"
     ]
    },
    {
     "name": "stdout",
     "output_type": "stream",
     "text": [
      "C17 27149 1390\n"
     ]
    },
    {
     "name": "stdout",
     "output_type": "stream",
     "text": [
      "C17 28065 1440\n"
     ]
    },
    {
     "name": "stdout",
     "output_type": "stream",
     "text": [
      "ECAT 24149 3581\n"
     ]
    },
    {
     "name": "stdout",
     "output_type": "stream",
     "text": [
      "ECAT 25149 3750\n"
     ]
    },
    {
     "name": "stdout",
     "output_type": "stream",
     "text": [
      "ECAT 26149 3888\n"
     ]
    },
    {
     "name": "stdout",
     "output_type": "stream",
     "text": [
      "ECAT 27149 4038\n"
     ]
    },
    {
     "name": "stdout",
     "output_type": "stream",
     "text": [
      "ECAT 28149 4194\n"
     ]
    },
    {
     "name": "stdout",
     "output_type": "stream",
     "text": [
      "ECAT 29149 4335\n"
     ]
    },
    {
     "name": "stdout",
     "output_type": "stream",
     "text": [
      "ECAT 29254 4359\n"
     ]
    },
    {
     "name": "stdout",
     "output_type": "stream",
     "text": [
      "M13 E21\n",
      "M13 24149 1658\n"
     ]
    },
    {
     "name": "stdout",
     "output_type": "stream",
     "text": [
      "M13 25149 1714\n"
     ]
    },
    {
     "name": "stdout",
     "output_type": "stream",
     "text": [
      "M13 26149 1772\n"
     ]
    },
    {
     "name": "stdout",
     "output_type": "stream",
     "text": [
      "M13 27149 1832\n"
     ]
    },
    {
     "name": "stdout",
     "output_type": "stream",
     "text": [
      "M13 27614 1858\n"
     ]
    },
    {
     "name": "stdout",
     "output_type": "stream",
     "text": [
      "E21 24149 1308\n",
      "E21 25149 1362\n"
     ]
    },
    {
     "name": "stdout",
     "output_type": "stream",
     "text": [
      "E21 25305 1371\n"
     ]
    },
    {
     "name": "stdout",
     "output_type": "stream",
     "text": [
      "M13 M11\n",
      "M13 24149 1658\n"
     ]
    },
    {
     "name": "stdout",
     "output_type": "stream",
     "text": [
      "M13 25149 1714\n"
     ]
    },
    {
     "name": "stdout",
     "output_type": "stream",
     "text": [
      "M13 26149 1772\n"
     ]
    },
    {
     "name": "stdout",
     "output_type": "stream",
     "text": [
      "M13 27149 1832\n"
     ]
    },
    {
     "name": "stdout",
     "output_type": "stream",
     "text": [
      "M13 28149 1886\n"
     ]
    },
    {
     "name": "stdout",
     "output_type": "stream",
     "text": [
      "M13 28415 1895\n"
     ]
    },
    {
     "name": "stdout",
     "output_type": "stream",
     "text": [
      "M11 24149 1343\n"
     ]
    },
    {
     "name": "stdout",
     "output_type": "stream",
     "text": [
      "M11 24602 1375\n"
     ]
    },
    {
     "name": "stdout",
     "output_type": "stream",
     "text": [
      "M13 GCAT\n",
      "M13 24149 1658\n"
     ]
    },
    {
     "name": "stdout",
     "output_type": "stream",
     "text": [
      "M13 25149 1714\n"
     ]
    },
    {
     "name": "stdout",
     "output_type": "stream",
     "text": [
      "M13 26149 1772\n"
     ]
    },
    {
     "name": "stdout",
     "output_type": "stream",
     "text": [
      "M13 27149 1832\n"
     ]
    },
    {
     "name": "stdout",
     "output_type": "stream",
     "text": [
      "M13 27321 1844\n"
     ]
    },
    {
     "name": "stdout",
     "output_type": "stream",
     "text": [
      "GCAT 24149 7274\n"
     ]
    },
    {
     "name": "stdout",
     "output_type": "stream",
     "text": [
      "GCAT 25149 7577\n"
     ]
    },
    {
     "name": "stdout",
     "output_type": "stream",
     "text": [
      "GCAT 25848 7776\n"
     ]
    },
    {
     "name": "stdout",
     "output_type": "stream",
     "text": [
      "M13 E12\n",
      "M13 24149 1658\n"
     ]
    },
    {
     "name": "stdout",
     "output_type": "stream",
     "text": [
      "M13 25149 1714\n"
     ]
    },
    {
     "name": "stdout",
     "output_type": "stream",
     "text": [
      "M13 26039 1766\n"
     ]
    },
    {
     "name": "stdout",
     "output_type": "stream",
     "text": [
      "E12 24149 714\n"
     ]
    },
    {
     "name": "stdout",
     "output_type": "stream",
     "text": [
      "E12 25149 747\n"
     ]
    },
    {
     "name": "stdout",
     "output_type": "stream",
     "text": [
      "E12 26149 786\n"
     ]
    },
    {
     "name": "stdout",
     "output_type": "stream",
     "text": [
      "E12 27149 825\n"
     ]
    },
    {
     "name": "stdout",
     "output_type": "stream",
     "text": [
      "E12 28149 854\n"
     ]
    },
    {
     "name": "stdout",
     "output_type": "stream",
     "text": [
      "E12 28749 869\n"
     ]
    },
    {
     "name": "stdout",
     "output_type": "stream",
     "text": [
      "M13 ECAT\n",
      "M13 24149 1658\n"
     ]
    },
    {
     "name": "stdout",
     "output_type": "stream",
     "text": [
      "M13 25149 1714\n"
     ]
    },
    {
     "name": "stdout",
     "output_type": "stream",
     "text": [
      "M13 25616 1739\n"
     ]
    },
    {
     "name": "stdout",
     "output_type": "stream",
     "text": [
      "ECAT 24149 3581\n"
     ]
    },
    {
     "name": "stdout",
     "output_type": "stream",
     "text": [
      "ECAT 25149 3750\n"
     ]
    },
    {
     "name": "stdout",
     "output_type": "stream",
     "text": [
      "ECAT 26149 3888\n"
     ]
    },
    {
     "name": "stdout",
     "output_type": "stream",
     "text": [
      "ECAT 27149 4038\n"
     ]
    },
    {
     "name": "stdout",
     "output_type": "stream",
     "text": [
      "ECAT 28149 4194\n"
     ]
    },
    {
     "name": "stdout",
     "output_type": "stream",
     "text": [
      "ECAT 29149 4335\n"
     ]
    },
    {
     "name": "stdout",
     "output_type": "stream",
     "text": [
      "ECAT 30149 4475\n"
     ]
    },
    {
     "name": "stdout",
     "output_type": "stream",
     "text": [
      "ECAT 30491 4526\n"
     ]
    },
    {
     "name": "stdout",
     "output_type": "stream",
     "text": [
      "C18 E12\n",
      "C18 24149 1527\n"
     ]
    },
    {
     "name": "stdout",
     "output_type": "stream",
     "text": [
      "C18 25149 1578\n"
     ]
    },
    {
     "name": "stdout",
     "output_type": "stream",
     "text": [
      "C18 26149 1640\n"
     ]
    },
    {
     "name": "stdout",
     "output_type": "stream",
     "text": [
      "C18 27149 1712\n"
     ]
    },
    {
     "name": "stdout",
     "output_type": "stream",
     "text": [
      "C18 28149 1782\n"
     ]
    },
    {
     "name": "stdout",
     "output_type": "stream",
     "text": [
      "C18 29149 1844\n"
     ]
    },
    {
     "name": "stdout",
     "output_type": "stream",
     "text": [
      "C18 30149 1907\n"
     ]
    },
    {
     "name": "stdout",
     "output_type": "stream",
     "text": [
      "C18 31149 1982\n"
     ]
    },
    {
     "name": "stdout",
     "output_type": "stream",
     "text": [
      "C18 32149 2039\n"
     ]
    },
    {
     "name": "stdout",
     "output_type": "stream",
     "text": [
      "C18 32673 2064\n"
     ]
    },
    {
     "name": "stdout",
     "output_type": "stream",
     "text": [
      "E12 24149 714\n"
     ]
    },
    {
     "name": "stdout",
     "output_type": "stream",
     "text": [
      "E12 25149 747\n"
     ]
    },
    {
     "name": "stdout",
     "output_type": "stream",
     "text": [
      "E12 26149 786\n"
     ]
    },
    {
     "name": "stdout",
     "output_type": "stream",
     "text": [
      "E12 27149 825\n"
     ]
    },
    {
     "name": "stdout",
     "output_type": "stream",
     "text": [
      "E12 28149 854\n"
     ]
    },
    {
     "name": "stdout",
     "output_type": "stream",
     "text": [
      "E12 28674 869\n"
     ]
    },
    {
     "name": "stdout",
     "output_type": "stream",
     "text": [
      "C18 GCAT\n",
      "C18 24149 1527\n"
     ]
    },
    {
     "name": "stdout",
     "output_type": "stream",
     "text": [
      "C18 25149 1578\n"
     ]
    },
    {
     "name": "stdout",
     "output_type": "stream",
     "text": [
      "C18 26149 1640\n"
     ]
    },
    {
     "name": "stdout",
     "output_type": "stream",
     "text": [
      "C18 27149 1712\n"
     ]
    },
    {
     "name": "stdout",
     "output_type": "stream",
     "text": [
      "C18 28149 1782\n"
     ]
    },
    {
     "name": "stdout",
     "output_type": "stream",
     "text": [
      "C18 29149 1844\n"
     ]
    },
    {
     "name": "stdout",
     "output_type": "stream",
     "text": [
      "C18 29998 1900\n"
     ]
    },
    {
     "name": "stdout",
     "output_type": "stream",
     "text": [
      "GCAT 24149 7274\n"
     ]
    },
    {
     "name": "stdout",
     "output_type": "stream",
     "text": [
      "GCAT 25149 7577\n"
     ]
    },
    {
     "name": "stdout",
     "output_type": "stream",
     "text": [
      "GCAT 26149 7867\n"
     ]
    },
    {
     "name": "stdout",
     "output_type": "stream",
     "text": [
      "GCAT 27149 8153\n"
     ]
    },
    {
     "name": "stdout",
     "output_type": "stream",
     "text": [
      "GCAT 28149 8485\n"
     ]
    },
    {
     "name": "stdout",
     "output_type": "stream",
     "text": [
      "GCAT 29149 8779\n"
     ]
    },
    {
     "name": "stdout",
     "output_type": "stream",
     "text": [
      "GCAT 29309 8827\n"
     ]
    },
    {
     "name": "stdout",
     "output_type": "stream",
     "text": [
      "C18 C152\n",
      "C18 24149 1527\n"
     ]
    },
    {
     "name": "stdout",
     "output_type": "stream",
     "text": [
      "C18 25149 1578\n"
     ]
    },
    {
     "name": "stdout",
     "output_type": "stream",
     "text": [
      "C18 26149 1640\n"
     ]
    },
    {
     "name": "stdout",
     "output_type": "stream",
     "text": [
      "C18 27149 1712\n"
     ]
    },
    {
     "name": "stdout",
     "output_type": "stream",
     "text": [
      "C18 28149 1782\n"
     ]
    },
    {
     "name": "stdout",
     "output_type": "stream",
     "text": [
      "C18 29149 1844\n"
     ]
    },
    {
     "name": "stdout",
     "output_type": "stream",
     "text": [
      "C18 29355 1856\n"
     ]
    },
    {
     "name": "stdout",
     "output_type": "stream",
     "text": [
      "C152 24149 2040\n"
     ]
    },
    {
     "name": "stdout",
     "output_type": "stream",
     "text": [
      "C152 25149 2150\n"
     ]
    },
    {
     "name": "stdout",
     "output_type": "stream",
     "text": [
      "C152 26149 2247\n"
     ]
    },
    {
     "name": "stdout",
     "output_type": "stream",
     "text": [
      "C152 27149 2366\n"
     ]
    },
    {
     "name": "stdout",
     "output_type": "stream",
     "text": [
      "C152 28149 2478\n"
     ]
    },
    {
     "name": "stdout",
     "output_type": "stream",
     "text": [
      "C152 29149 2566\n"
     ]
    },
    {
     "name": "stdout",
     "output_type": "stream",
     "text": [
      "C152 30149 2654\n"
     ]
    },
    {
     "name": "stdout",
     "output_type": "stream",
     "text": [
      "C152 31149 2770\n"
     ]
    },
    {
     "name": "stdout",
     "output_type": "stream",
     "text": [
      "C152 31758 2829\n"
     ]
    },
    {
     "name": "stdout",
     "output_type": "stream",
     "text": [
      "C18 C15\n",
      "C18 24149 1527\n"
     ]
    },
    {
     "name": "stdout",
     "output_type": "stream",
     "text": [
      "C18 25149 1578\n"
     ]
    },
    {
     "name": "stdout",
     "output_type": "stream",
     "text": [
      "C18 26149 1640\n"
     ]
    },
    {
     "name": "stdout",
     "output_type": "stream",
     "text": [
      "C18 27149 1712\n"
     ]
    },
    {
     "name": "stdout",
     "output_type": "stream",
     "text": [
      "C18 28149 1782\n"
     ]
    },
    {
     "name": "stdout",
     "output_type": "stream",
     "text": [
      "C18 28846 1826\n"
     ]
    },
    {
     "name": "stdout",
     "output_type": "stream",
     "text": [
      "C15 24149 4378\n"
     ]
    },
    {
     "name": "stdout",
     "output_type": "stream",
     "text": [
      "C15 25149 4580\n"
     ]
    },
    {
     "name": "stdout",
     "output_type": "stream",
     "text": [
      "C15 26149 4766\n"
     ]
    },
    {
     "name": "stdout",
     "output_type": "stream",
     "text": [
      "C15 27149 4986\n"
     ]
    },
    {
     "name": "stdout",
     "output_type": "stream",
     "text": [
      "C15 28149 5166\n"
     ]
    },
    {
     "name": "stdout",
     "output_type": "stream",
     "text": [
      "C15 29149 5373\n"
     ]
    },
    {
     "name": "stdout",
     "output_type": "stream",
     "text": [
      "C15 30149 5567\n"
     ]
    },
    {
     "name": "stdout",
     "output_type": "stream",
     "text": [
      "C15 31149 5771\n"
     ]
    },
    {
     "name": "stdout",
     "output_type": "stream",
     "text": [
      "C15 31605 5853\n"
     ]
    },
    {
     "name": "stdout",
     "output_type": "stream",
     "text": [
      "C18 C17\n",
      "C18 24149 1527\n"
     ]
    },
    {
     "name": "stdout",
     "output_type": "stream",
     "text": [
      "C18 25149 1578\n"
     ]
    },
    {
     "name": "stdout",
     "output_type": "stream",
     "text": [
      "C18 26149 1640\n"
     ]
    },
    {
     "name": "stdout",
     "output_type": "stream",
     "text": [
      "C18 27149 1712\n"
     ]
    },
    {
     "name": "stdout",
     "output_type": "stream",
     "text": [
      "C18 28149 1782\n"
     ]
    },
    {
     "name": "stdout",
     "output_type": "stream",
     "text": [
      "C18 29149 1844\n"
     ]
    },
    {
     "name": "stdout",
     "output_type": "stream",
     "text": [
      "C18 30149 1907\n"
     ]
    },
    {
     "name": "stdout",
     "output_type": "stream",
     "text": [
      "C18 30351 1918\n"
     ]
    },
    {
     "name": "stdout",
     "output_type": "stream",
     "text": [
      "C17 24149 1226\n"
     ]
    },
    {
     "name": "stdout",
     "output_type": "stream",
     "text": [
      "C17 25149 1284\n"
     ]
    },
    {
     "name": "stdout",
     "output_type": "stream",
     "text": [
      "C17 26149 1337\n"
     ]
    },
    {
     "name": "stdout",
     "output_type": "stream",
     "text": [
      "C17 27149 1390\n"
     ]
    },
    {
     "name": "stdout",
     "output_type": "stream",
     "text": [
      "C17 28149 1444\n"
     ]
    },
    {
     "name": "stdout",
     "output_type": "stream",
     "text": [
      "C17 29149 1499\n"
     ]
    },
    {
     "name": "stdout",
     "output_type": "stream",
     "text": [
      "C17 30149 1547\n"
     ]
    },
    {
     "name": "stdout",
     "output_type": "stream",
     "text": [
      "C17 30440 1565\n"
     ]
    },
    {
     "name": "stdout",
     "output_type": "stream",
     "text": [
      "GPOL MCAT\n",
      "GPOL 24149 1724\n"
     ]
    },
    {
     "name": "stdout",
     "output_type": "stream",
     "text": [
      "GPOL 25149 1795\n"
     ]
    },
    {
     "name": "stdout",
     "output_type": "stream",
     "text": [
      "GPOL 26149 1862\n"
     ]
    },
    {
     "name": "stdout",
     "output_type": "stream",
     "text": [
      "GPOL 27149 1929\n"
     ]
    },
    {
     "name": "stdout",
     "output_type": "stream",
     "text": [
      "GPOL 28149 2009\n"
     ]
    },
    {
     "name": "stdout",
     "output_type": "stream",
     "text": [
      "GPOL 29149 2085\n"
     ]
    },
    {
     "name": "stdout",
     "output_type": "stream",
     "text": [
      "GPOL 30149 2157\n"
     ]
    },
    {
     "name": "stdout",
     "output_type": "stream",
     "text": [
      "GPOL 31149 2225\n"
     ]
    },
    {
     "name": "stdout",
     "output_type": "stream",
     "text": [
      "GPOL 32149 2309\n"
     ]
    },
    {
     "name": "stdout",
     "output_type": "stream",
     "text": [
      "GPOL 33149 2382\n"
     ]
    },
    {
     "name": "stdout",
     "output_type": "stream",
     "text": [
      "GPOL 34149 2464\n"
     ]
    },
    {
     "name": "stdout",
     "output_type": "stream",
     "text": [
      "GPOL 35149 2534\n"
     ]
    },
    {
     "name": "stdout",
     "output_type": "stream",
     "text": [
      "GPOL 35228 2538\n"
     ]
    },
    {
     "name": "stdout",
     "output_type": "stream",
     "text": [
      "MCAT 24149 6131\n"
     ]
    },
    {
     "name": "stdout",
     "output_type": "stream",
     "text": [
      "MCAT 25149 6362\n"
     ]
    },
    {
     "name": "stdout",
     "output_type": "stream",
     "text": [
      "MCAT 26149 6599\n"
     ]
    },
    {
     "name": "stdout",
     "output_type": "stream",
     "text": [
      "MCAT 27149 6825\n"
     ]
    },
    {
     "name": "stdout",
     "output_type": "stream",
     "text": [
      "MCAT 28149 7066\n"
     ]
    },
    {
     "name": "stdout",
     "output_type": "stream",
     "text": [
      "MCAT 29095 7284\n"
     ]
    },
    {
     "name": "stdout",
     "output_type": "stream",
     "text": [
      "GPOL CCAT\n",
      "GPOL 24149 1724\n"
     ]
    },
    {
     "name": "stdout",
     "output_type": "stream",
     "text": [
      "GPOL 25149 1795\n"
     ]
    },
    {
     "name": "stdout",
     "output_type": "stream",
     "text": [
      "GPOL 26149 1862\n"
     ]
    },
    {
     "name": "stdout",
     "output_type": "stream",
     "text": [
      "GPOL 27149 1929\n"
     ]
    },
    {
     "name": "stdout",
     "output_type": "stream",
     "text": [
      "GPOL 28149 2009\n"
     ]
    },
    {
     "name": "stdout",
     "output_type": "stream",
     "text": [
      "GPOL 29149 2085\n"
     ]
    },
    {
     "name": "stdout",
     "output_type": "stream",
     "text": [
      "GPOL 30113 2151\n"
     ]
    },
    {
     "name": "stdout",
     "output_type": "stream",
     "text": [
      "CCAT 24149 11266\n"
     ]
    },
    {
     "name": "stdout",
     "output_type": "stream",
     "text": [
      "CCAT 25149 11755\n"
     ]
    },
    {
     "name": "stdout",
     "output_type": "stream",
     "text": [
      "CCAT 26149 12263\n"
     ]
    },
    {
     "name": "stdout",
     "output_type": "stream",
     "text": [
      "CCAT 27149 12748\n"
     ]
    },
    {
     "name": "stdout",
     "output_type": "stream",
     "text": [
      "CCAT 28149 13211\n"
     ]
    },
    {
     "name": "stdout",
     "output_type": "stream",
     "text": [
      "CCAT 29149 13707\n"
     ]
    },
    {
     "name": "stdout",
     "output_type": "stream",
     "text": [
      "CCAT 30149 14172\n"
     ]
    },
    {
     "name": "stdout",
     "output_type": "stream",
     "text": [
      "CCAT 30526 14366\n"
     ]
    },
    {
     "name": "stdout",
     "output_type": "stream",
     "text": [
      "GPOL GCRIM\n",
      "GPOL 24149 1724\n"
     ]
    },
    {
     "name": "stdout",
     "output_type": "stream",
     "text": [
      "GPOL 25149 1795\n"
     ]
    },
    {
     "name": "stdout",
     "output_type": "stream",
     "text": [
      "GPOL 26149 1862\n"
     ]
    },
    {
     "name": "stdout",
     "output_type": "stream",
     "text": [
      "GPOL 27149 1929\n"
     ]
    },
    {
     "name": "stdout",
     "output_type": "stream",
     "text": [
      "GPOL 28149 2009\n"
     ]
    },
    {
     "name": "stdout",
     "output_type": "stream",
     "text": [
      "GPOL 29149 2085\n"
     ]
    },
    {
     "name": "stdout",
     "output_type": "stream",
     "text": [
      "GPOL 30149 2157\n"
     ]
    },
    {
     "name": "stdout",
     "output_type": "stream",
     "text": [
      "GPOL 31149 2225\n"
     ]
    },
    {
     "name": "stdout",
     "output_type": "stream",
     "text": [
      "GPOL 32149 2309\n"
     ]
    },
    {
     "name": "stdout",
     "output_type": "stream",
     "text": [
      "GPOL 33149 2382\n"
     ]
    },
    {
     "name": "stdout",
     "output_type": "stream",
     "text": [
      "GPOL 34149 2464\n"
     ]
    },
    {
     "name": "stdout",
     "output_type": "stream",
     "text": [
      "GPOL 35149 2534\n"
     ]
    },
    {
     "name": "stdout",
     "output_type": "stream",
     "text": [
      "GPOL 35261 2540\n"
     ]
    },
    {
     "name": "stdout",
     "output_type": "stream",
     "text": [
      "GCRIM 24149 1157\n"
     ]
    },
    {
     "name": "stdout",
     "output_type": "stream",
     "text": [
      "GCRIM 25149 1196\n"
     ]
    },
    {
     "name": "stdout",
     "output_type": "stream",
     "text": [
      "GCRIM 26149 1233\n"
     ]
    },
    {
     "name": "stdout",
     "output_type": "stream",
     "text": [
      "GCRIM 27149 1278\n"
     ]
    },
    {
     "name": "stdout",
     "output_type": "stream",
     "text": [
      "GCRIM 28149 1322\n"
     ]
    },
    {
     "name": "stdout",
     "output_type": "stream",
     "text": [
      "GCRIM 28258 1323\n"
     ]
    },
    {
     "name": "stdout",
     "output_type": "stream",
     "text": [
      "GPOL E21\n",
      "GPOL 24149 1724\n"
     ]
    },
    {
     "name": "stdout",
     "output_type": "stream",
     "text": [
      "GPOL 25149 1795\n"
     ]
    },
    {
     "name": "stdout",
     "output_type": "stream",
     "text": [
      "GPOL 26149 1862\n"
     ]
    },
    {
     "name": "stdout",
     "output_type": "stream",
     "text": [
      "GPOL 27149 1929\n"
     ]
    },
    {
     "name": "stdout",
     "output_type": "stream",
     "text": [
      "GPOL 28149 2009\n"
     ]
    },
    {
     "name": "stdout",
     "output_type": "stream",
     "text": [
      "GPOL 29149 2085\n"
     ]
    },
    {
     "name": "stdout",
     "output_type": "stream",
     "text": [
      "GPOL 30149 2157\n"
     ]
    },
    {
     "name": "stdout",
     "output_type": "stream",
     "text": [
      "GPOL 31149 2225\n"
     ]
    },
    {
     "name": "stdout",
     "output_type": "stream",
     "text": [
      "GPOL 32149 2309\n"
     ]
    },
    {
     "name": "stdout",
     "output_type": "stream",
     "text": [
      "GPOL 33149 2382\n"
     ]
    },
    {
     "name": "stdout",
     "output_type": "stream",
     "text": [
      "GPOL 34149 2464\n"
     ]
    },
    {
     "name": "stdout",
     "output_type": "stream",
     "text": [
      "GPOL 35078 2529\n"
     ]
    },
    {
     "name": "stdout",
     "output_type": "stream",
     "text": [
      "E21 24149 1308\n"
     ]
    },
    {
     "name": "stdout",
     "output_type": "stream",
     "text": [
      "E21 25149 1362\n"
     ]
    },
    {
     "name": "stdout",
     "output_type": "stream",
     "text": [
      "E21 26149 1408\n",
      "E21 27149 1466\n"
     ]
    },
    {
     "name": "stdout",
     "output_type": "stream",
     "text": [
      "E21 28149 1532\n"
     ]
    },
    {
     "name": "stdout",
     "output_type": "stream",
     "text": [
      "E21 29149 1584\n"
     ]
    },
    {
     "name": "stdout",
     "output_type": "stream",
     "text": [
      "E21 29459 1612\n"
     ]
    },
    {
     "name": "stdout",
     "output_type": "stream",
     "text": [
      "GPOL GVIO\n",
      "GPOL 24149 1724\n"
     ]
    },
    {
     "name": "stdout",
     "output_type": "stream",
     "text": [
      "GPOL 25149 1795\n"
     ]
    },
    {
     "name": "stdout",
     "output_type": "stream",
     "text": [
      "GPOL 26149 1862\n"
     ]
    },
    {
     "name": "stdout",
     "output_type": "stream",
     "text": [
      "GPOL 27149 1929\n"
     ]
    },
    {
     "name": "stdout",
     "output_type": "stream",
     "text": [
      "GPOL 28149 2009\n"
     ]
    },
    {
     "name": "stdout",
     "output_type": "stream",
     "text": [
      "GPOL 29149 2085\n"
     ]
    },
    {
     "name": "stdout",
     "output_type": "stream",
     "text": [
      "GPOL 30149 2157\n"
     ]
    },
    {
     "name": "stdout",
     "output_type": "stream",
     "text": [
      "GPOL 31149 2225\n"
     ]
    },
    {
     "name": "stdout",
     "output_type": "stream",
     "text": [
      "GPOL 32149 2309\n"
     ]
    },
    {
     "name": "stdout",
     "output_type": "stream",
     "text": [
      "GPOL 32936 2367\n",
      "GVIO 24149 1159\n"
     ]
    },
    {
     "name": "stdout",
     "output_type": "stream",
     "text": [
      "GVIO 25149 1201\n",
      "GVIO 26149 1242\n"
     ]
    },
    {
     "name": "stdout",
     "output_type": "stream",
     "text": [
      "GVIO 27149 1273\n"
     ]
    },
    {
     "name": "stdout",
     "output_type": "stream",
     "text": [
      "GVIO 28149 1306\n"
     ]
    },
    {
     "name": "stdout",
     "output_type": "stream",
     "text": [
      "GVIO 29149 1362\n"
     ]
    },
    {
     "name": "stdout",
     "output_type": "stream",
     "text": [
      "GVIO 30149 1412\n"
     ]
    },
    {
     "name": "stdout",
     "output_type": "stream",
     "text": [
      "GVIO 30687 1438\n"
     ]
    },
    {
     "name": "stdout",
     "output_type": "stream",
     "text": [
      "C152 M11\n",
      "C152 24149 2040\n"
     ]
    },
    {
     "name": "stdout",
     "output_type": "stream",
     "text": [
      "C152 25149 2150\n"
     ]
    },
    {
     "name": "stdout",
     "output_type": "stream",
     "text": [
      "C152 26149 2247\n"
     ]
    },
    {
     "name": "stdout",
     "output_type": "stream",
     "text": [
      "C152 27149 2366\n"
     ]
    },
    {
     "name": "stdout",
     "output_type": "stream",
     "text": [
      "C152 28149 2478\n"
     ]
    },
    {
     "name": "stdout",
     "output_type": "stream",
     "text": [
      "C152 29149 2566\n"
     ]
    },
    {
     "name": "stdout",
     "output_type": "stream",
     "text": [
      "C152 30149 2654\n"
     ]
    },
    {
     "name": "stdout",
     "output_type": "stream",
     "text": [
      "C152 31149 2770\n"
     ]
    },
    {
     "name": "stdout",
     "output_type": "stream",
     "text": [
      "C152 32149 2865\n"
     ]
    },
    {
     "name": "stdout",
     "output_type": "stream",
     "text": [
      "C152 33149 2958\n"
     ]
    },
    {
     "name": "stdout",
     "output_type": "stream",
     "text": [
      "C152 34149 3047\n"
     ]
    },
    {
     "name": "stdout",
     "output_type": "stream",
     "text": [
      "C152 35149 3141\n"
     ]
    },
    {
     "name": "stdout",
     "output_type": "stream",
     "text": [
      "C152 36149 3245\n"
     ]
    },
    {
     "name": "stdout",
     "output_type": "stream",
     "text": [
      "C152 37149 3346\n"
     ]
    },
    {
     "name": "stdout",
     "output_type": "stream",
     "text": [
      "C152 38149 3448\n"
     ]
    },
    {
     "name": "stdout",
     "output_type": "stream",
     "text": [
      "C152 38962 3528\n"
     ]
    },
    {
     "name": "stdout",
     "output_type": "stream",
     "text": [
      "M11 24149 1343\n"
     ]
    },
    {
     "name": "stdout",
     "output_type": "stream",
     "text": [
      "M11 25149 1407\n"
     ]
    },
    {
     "name": "stdout",
     "output_type": "stream",
     "text": [
      "M11 26149 1459\n"
     ]
    },
    {
     "name": "stdout",
     "output_type": "stream",
     "text": [
      "M11 27149 1512\n"
     ]
    },
    {
     "name": "stdout",
     "output_type": "stream",
     "text": [
      "M11 27541 1535\n"
     ]
    },
    {
     "name": "stdout",
     "output_type": "stream",
     "text": [
      "C152 C17\n",
      "C152 24149 2040\n"
     ]
    },
    {
     "name": "stdout",
     "output_type": "stream",
     "text": [
      "C152 25149 2150\n"
     ]
    },
    {
     "name": "stdout",
     "output_type": "stream",
     "text": [
      "C152 26149 2246\n"
     ]
    },
    {
     "name": "stdout",
     "output_type": "stream",
     "text": [
      "C152 27149 2367\n"
     ]
    },
    {
     "name": "stdout",
     "output_type": "stream",
     "text": [
      "C152 28149 2486\n"
     ]
    },
    {
     "name": "stdout",
     "output_type": "stream",
     "text": [
      "C152 29149 2558\n"
     ]
    },
    {
     "name": "stdout",
     "output_type": "stream",
     "text": [
      "C152 30149 2658\n"
     ]
    },
    {
     "name": "stdout",
     "output_type": "stream",
     "text": [
      "C152 31149 2761\n"
     ]
    },
    {
     "name": "stdout",
     "output_type": "stream",
     "text": [
      "C152 32149 2871\n"
     ]
    },
    {
     "name": "stdout",
     "output_type": "stream",
     "text": [
      "C152 33149 2953\n"
     ]
    },
    {
     "name": "stdout",
     "output_type": "stream",
     "text": [
      "C152 34149 3044\n"
     ]
    },
    {
     "name": "stdout",
     "output_type": "stream",
     "text": [
      "C152 35149 3135\n"
     ]
    },
    {
     "name": "stdout",
     "output_type": "stream",
     "text": [
      "C152 35536 3175\n"
     ]
    },
    {
     "name": "stdout",
     "output_type": "stream",
     "text": [
      "C17 24149 1226\n"
     ]
    },
    {
     "name": "stdout",
     "output_type": "stream",
     "text": [
      "C17 25149 1284\n"
     ]
    },
    {
     "name": "stdout",
     "output_type": "stream",
     "text": [
      "C17 26149 1337\n"
     ]
    },
    {
     "name": "stdout",
     "output_type": "stream",
     "text": [
      "C17 27149 1390\n"
     ]
    },
    {
     "name": "stdout",
     "output_type": "stream",
     "text": [
      "C17 28149 1444\n"
     ]
    },
    {
     "name": "stdout",
     "output_type": "stream",
     "text": [
      "C17 28761 1477\n"
     ]
    },
    {
     "name": "stdout",
     "output_type": "stream",
     "text": [
      "C152 C31\n",
      "C152 24149 2040\n"
     ]
    },
    {
     "name": "stdout",
     "output_type": "stream",
     "text": [
      "C152 25149 2150\n"
     ]
    },
    {
     "name": "stdout",
     "output_type": "stream",
     "text": [
      "C152 26149 2247\n"
     ]
    },
    {
     "name": "stdout",
     "output_type": "stream",
     "text": [
      "C152 27149 2366\n"
     ]
    },
    {
     "name": "stdout",
     "output_type": "stream",
     "text": [
      "C152 28149 2478\n"
     ]
    },
    {
     "name": "stdout",
     "output_type": "stream",
     "text": [
      "C152 29149 2566\n"
     ]
    },
    {
     "name": "stdout",
     "output_type": "stream",
     "text": [
      "C152 30149 2654\n"
     ]
    },
    {
     "name": "stdout",
     "output_type": "stream",
     "text": [
      "C152 31149 2770\n"
     ]
    },
    {
     "name": "stdout",
     "output_type": "stream",
     "text": [
      "C152 32149 2865\n"
     ]
    },
    {
     "name": "stdout",
     "output_type": "stream",
     "text": [
      "C152 32468 2898\n"
     ]
    },
    {
     "name": "stdout",
     "output_type": "stream",
     "text": [
      "C31 24149 1108\n"
     ]
    },
    {
     "name": "stdout",
     "output_type": "stream",
     "text": [
      "C31 25149 1161\n"
     ]
    },
    {
     "name": "stdout",
     "output_type": "stream",
     "text": [
      "C31 26149 1218\n"
     ]
    },
    {
     "name": "stdout",
     "output_type": "stream",
     "text": [
      "C31 27149 1278\n"
     ]
    },
    {
     "name": "stdout",
     "output_type": "stream",
     "text": [
      "C31 28149 1324\n"
     ]
    },
    {
     "name": "stdout",
     "output_type": "stream",
     "text": [
      "C31 29149 1407\n"
     ]
    },
    {
     "name": "stdout",
     "output_type": "stream",
     "text": [
      "C31 30149 1456\n"
     ]
    },
    {
     "name": "stdout",
     "output_type": "stream",
     "text": [
      "C31 31149 1507\n"
     ]
    },
    {
     "name": "stdout",
     "output_type": "stream",
     "text": [
      "C31 32149 1553\n"
     ]
    },
    {
     "name": "stdout",
     "output_type": "stream",
     "text": [
      "C31 32805 1586\n"
     ]
    },
    {
     "name": "stdout",
     "output_type": "stream",
     "text": [
      "C152 C181\n",
      "C152 24149 2040\n"
     ]
    },
    {
     "name": "stdout",
     "output_type": "stream",
     "text": [
      "C152 25149 2150\n"
     ]
    },
    {
     "name": "stdout",
     "output_type": "stream",
     "text": [
      "C152 26149 2247\n"
     ]
    },
    {
     "name": "stdout",
     "output_type": "stream",
     "text": [
      "C152 27149 2366\n"
     ]
    },
    {
     "name": "stdout",
     "output_type": "stream",
     "text": [
      "C152 28149 2478\n"
     ]
    },
    {
     "name": "stdout",
     "output_type": "stream",
     "text": [
      "C152 29149 2566\n"
     ]
    },
    {
     "name": "stdout",
     "output_type": "stream",
     "text": [
      "C152 30149 2654\n"
     ]
    },
    {
     "name": "stdout",
     "output_type": "stream",
     "text": [
      "C152 31149 2770\n"
     ]
    },
    {
     "name": "stdout",
     "output_type": "stream",
     "text": [
      "C152 32149 2865\n"
     ]
    },
    {
     "name": "stdout",
     "output_type": "stream",
     "text": [
      "C152 33149 2958\n"
     ]
    },
    {
     "name": "stdout",
     "output_type": "stream",
     "text": [
      "C152 34149 3047\n"
     ]
    },
    {
     "name": "stdout",
     "output_type": "stream",
     "text": [
      "C152 35149 3141\n"
     ]
    },
    {
     "name": "stdout",
     "output_type": "stream",
     "text": [
      "C152 35421 3176\n"
     ]
    },
    {
     "name": "stdout",
     "output_type": "stream",
     "text": [
      "C181 24149 1261\n"
     ]
    },
    {
     "name": "stdout",
     "output_type": "stream",
     "text": [
      "C181 25149 1314\n"
     ]
    },
    {
     "name": "stdout",
     "output_type": "stream",
     "text": [
      "C181 26149 1361\n"
     ]
    },
    {
     "name": "stdout",
     "output_type": "stream",
     "text": [
      "C181 27149 1412\n"
     ]
    },
    {
     "name": "stdout",
     "output_type": "stream",
     "text": [
      "C181 28149 1450\n"
     ]
    },
    {
     "name": "stdout",
     "output_type": "stream",
     "text": [
      "C181 28494 1467\n"
     ]
    },
    {
     "name": "stdout",
     "output_type": "stream",
     "text": [
      "C152 C18\n",
      "C152 24149 2040\n"
     ]
    },
    {
     "name": "stdout",
     "output_type": "stream",
     "text": [
      "C152 25149 2150\n"
     ]
    },
    {
     "name": "stdout",
     "output_type": "stream",
     "text": [
      "C152 26149 2247\n"
     ]
    },
    {
     "name": "stdout",
     "output_type": "stream",
     "text": [
      "C152 27149 2366\n"
     ]
    },
    {
     "name": "stdout",
     "output_type": "stream",
     "text": [
      "C152 28149 2478\n"
     ]
    },
    {
     "name": "stdout",
     "output_type": "stream",
     "text": [
      "C152 29149 2566\n"
     ]
    },
    {
     "name": "stdout",
     "output_type": "stream",
     "text": [
      "C152 30149 2654\n"
     ]
    },
    {
     "name": "stdout",
     "output_type": "stream",
     "text": [
      "C152 31149 2770\n"
     ]
    },
    {
     "name": "stdout",
     "output_type": "stream",
     "text": [
      "C152 32149 2865\n"
     ]
    },
    {
     "name": "stdout",
     "output_type": "stream",
     "text": [
      "C152 33149 2958\n"
     ]
    },
    {
     "name": "stdout",
     "output_type": "stream",
     "text": [
      "C152 34149 3047\n"
     ]
    },
    {
     "name": "stdout",
     "output_type": "stream",
     "text": [
      "C152 35149 3141\n"
     ]
    },
    {
     "name": "stdout",
     "output_type": "stream",
     "text": [
      "C152 35574 3190\n"
     ]
    },
    {
     "name": "stdout",
     "output_type": "stream",
     "text": [
      "C18 24149 1527\n"
     ]
    },
    {
     "name": "stdout",
     "output_type": "stream",
     "text": [
      "C18 25149 1578\n"
     ]
    },
    {
     "name": "stdout",
     "output_type": "stream",
     "text": [
      "C18 26149 1640\n"
     ]
    },
    {
     "name": "stdout",
     "output_type": "stream",
     "text": [
      "C18 27149 1712\n"
     ]
    },
    {
     "name": "stdout",
     "output_type": "stream",
     "text": [
      "C18 28149 1782\n"
     ]
    },
    {
     "name": "stdout",
     "output_type": "stream",
     "text": [
      "C18 28377 1801\n"
     ]
    },
    {
     "name": "stdout",
     "output_type": "stream",
     "text": [
      "M14 M132\n",
      "M14 24149 2647\n"
     ]
    },
    {
     "name": "stdout",
     "output_type": "stream",
     "text": [
      "M14 25149 2757\n"
     ]
    },
    {
     "name": "stdout",
     "output_type": "stream",
     "text": [
      "M14 26149 2859\n"
     ]
    },
    {
     "name": "stdout",
     "output_type": "stream",
     "text": [
      "M14 27149 2958\n"
     ]
    },
    {
     "name": "stdout",
     "output_type": "stream",
     "text": [
      "M14 28149 3052\n"
     ]
    },
    {
     "name": "stdout",
     "output_type": "stream",
     "text": [
      "M14 28581 3102\n"
     ]
    },
    {
     "name": "stdout",
     "output_type": "stream",
     "text": [
      "M132 24149 727\n"
     ]
    },
    {
     "name": "stdout",
     "output_type": "stream",
     "text": [
      "M132 25149 756\n"
     ]
    },
    {
     "name": "stdout",
     "output_type": "stream",
     "text": [
      "M132 25810 770\n"
     ]
    },
    {
     "name": "stdout",
     "output_type": "stream",
     "text": [
      "M14 M13\n",
      "M14 24149 2647\n"
     ]
    },
    {
     "name": "stdout",
     "output_type": "stream",
     "text": [
      "M14 25149 2757\n"
     ]
    },
    {
     "name": "stdout",
     "output_type": "stream",
     "text": [
      "M14 26149 2859\n"
     ]
    },
    {
     "name": "stdout",
     "output_type": "stream",
     "text": [
      "M14 27149 2958\n"
     ]
    },
    {
     "name": "stdout",
     "output_type": "stream",
     "text": [
      "M14 28149 3052\n"
     ]
    },
    {
     "name": "stdout",
     "output_type": "stream",
     "text": [
      "M14 28262 3063\n"
     ]
    },
    {
     "name": "stdout",
     "output_type": "stream",
     "text": [
      "M13 24149 1658\n"
     ]
    },
    {
     "name": "stdout",
     "output_type": "stream",
     "text": [
      "M13 25149 1714\n"
     ]
    },
    {
     "name": "stdout",
     "output_type": "stream",
     "text": [
      "M13 26149 1772\n"
     ]
    },
    {
     "name": "stdout",
     "output_type": "stream",
     "text": [
      "M13 27149 1832\n"
     ]
    },
    {
     "name": "stdout",
     "output_type": "stream",
     "text": [
      "M13 27619 1858\n"
     ]
    },
    {
     "name": "stdout",
     "output_type": "stream",
     "text": [
      "M14 GCAT\n",
      "M14 24149 2647\n"
     ]
    },
    {
     "name": "stdout",
     "output_type": "stream",
     "text": [
      "M14 25149 2757\n"
     ]
    },
    {
     "name": "stdout",
     "output_type": "stream",
     "text": [
      "M14 26149 2859\n"
     ]
    },
    {
     "name": "stdout",
     "output_type": "stream",
     "text": [
      "M14 26213 2865\n"
     ]
    },
    {
     "name": "stdout",
     "output_type": "stream",
     "text": [
      "GCAT 24149 7274\n"
     ]
    },
    {
     "name": "stdout",
     "output_type": "stream",
     "text": [
      "GCAT 25149 7576\n"
     ]
    },
    {
     "name": "stdout",
     "output_type": "stream",
     "text": [
      "GCAT 26149 7864\n"
     ]
    },
    {
     "name": "stdout",
     "output_type": "stream",
     "text": [
      "GCAT 27149 8146\n"
     ]
    },
    {
     "name": "stdout",
     "output_type": "stream",
     "text": [
      "GCAT 28149 8480\n"
     ]
    },
    {
     "name": "stdout",
     "output_type": "stream",
     "text": [
      "GCAT 29149 8798\n"
     ]
    },
    {
     "name": "stdout",
     "output_type": "stream",
     "text": [
      "GCAT 30149 9095\n"
     ]
    },
    {
     "name": "stdout",
     "output_type": "stream",
     "text": [
      "GCAT 31112 9377\n"
     ]
    },
    {
     "name": "stdout",
     "output_type": "stream",
     "text": [
      "M14 C24\n",
      "M14 24149 2647\n"
     ]
    },
    {
     "name": "stdout",
     "output_type": "stream",
     "text": [
      "M14 25149 2757\n"
     ]
    },
    {
     "name": "stdout",
     "output_type": "stream",
     "text": [
      "M14 26149 2859\n"
     ]
    },
    {
     "name": "stdout",
     "output_type": "stream",
     "text": [
      "M14 26178 2863\n"
     ]
    },
    {
     "name": "stdout",
     "output_type": "stream",
     "text": [
      "C24 24149 961\n",
      "C24 25149 1002\n"
     ]
    },
    {
     "name": "stdout",
     "output_type": "stream",
     "text": [
      "C24 26149 1046\n",
      "C24 27149 1085\n"
     ]
    },
    {
     "name": "stdout",
     "output_type": "stream",
     "text": [
      "C24 28149 1122\n"
     ]
    },
    {
     "name": "stdout",
     "output_type": "stream",
     "text": [
      "C24 29149 1154\n"
     ]
    },
    {
     "name": "stdout",
     "output_type": "stream",
     "text": [
      "C24 30149 1186\n",
      "C24 31149 1226\n",
      "C24 32149 1257\n"
     ]
    },
    {
     "name": "stdout",
     "output_type": "stream",
     "text": [
      "C24 32343 1263\n",
      "M14 C31\n",
      "M14 24149 2647\n"
     ]
    },
    {
     "name": "stdout",
     "output_type": "stream",
     "text": [
      "M14 24955 2737\n"
     ]
    },
    {
     "name": "stdout",
     "output_type": "stream",
     "text": [
      "C31 24149 1108\n"
     ]
    },
    {
     "name": "stdout",
     "output_type": "stream",
     "text": [
      "C31 25149 1161\n"
     ]
    },
    {
     "name": "stdout",
     "output_type": "stream",
     "text": [
      "C31 26149 1218\n"
     ]
    },
    {
     "name": "stdout",
     "output_type": "stream",
     "text": [
      "C31 27149 1278\n"
     ]
    },
    {
     "name": "stdout",
     "output_type": "stream",
     "text": [
      "C31 28149 1324\n"
     ]
    },
    {
     "name": "stdout",
     "output_type": "stream",
     "text": [
      "C31 29149 1407\n"
     ]
    },
    {
     "name": "stdout",
     "output_type": "stream",
     "text": [
      "C31 30149 1456\n"
     ]
    },
    {
     "name": "stdout",
     "output_type": "stream",
     "text": [
      "C31 31149 1507\n"
     ]
    },
    {
     "name": "stdout",
     "output_type": "stream",
     "text": [
      "C31 32149 1553\n"
     ]
    },
    {
     "name": "stdout",
     "output_type": "stream",
     "text": [
      "C31 33149 1607\n"
     ]
    },
    {
     "name": "stdout",
     "output_type": "stream",
     "text": [
      "C31 34149 1656\n"
     ]
    },
    {
     "name": "stdout",
     "output_type": "stream",
     "text": [
      "C31 35149 1716\n"
     ]
    },
    {
     "name": "stdout",
     "output_type": "stream",
     "text": [
      "C31 35880 1764\n"
     ]
    },
    {
     "name": "stdout",
     "output_type": "stream",
     "text": [
      "C151 C181\n",
      "C151 24149 2447\n"
     ]
    },
    {
     "name": "stdout",
     "output_type": "stream",
     "text": [
      "C151 25149 2549\n"
     ]
    },
    {
     "name": "stdout",
     "output_type": "stream",
     "text": [
      "C151 26149 2656\n"
     ]
    },
    {
     "name": "stdout",
     "output_type": "stream",
     "text": [
      "C151 27149 2762\n"
     ]
    },
    {
     "name": "stdout",
     "output_type": "stream",
     "text": [
      "C151 28149 2872\n"
     ]
    },
    {
     "name": "stdout",
     "output_type": "stream",
     "text": [
      "C151 29149 2971\n"
     ]
    },
    {
     "name": "stdout",
     "output_type": "stream",
     "text": [
      "C151 29424 3000\n"
     ]
    },
    {
     "name": "stdout",
     "output_type": "stream",
     "text": [
      "C181 24149 1261\n"
     ]
    },
    {
     "name": "stdout",
     "output_type": "stream",
     "text": [
      "C181 25149 1314\n"
     ]
    },
    {
     "name": "stdout",
     "output_type": "stream",
     "text": [
      "C181 26077 1356\n"
     ]
    },
    {
     "name": "stdout",
     "output_type": "stream",
     "text": [
      "C151 C18\n",
      "C151 24149 2447\n"
     ]
    },
    {
     "name": "stdout",
     "output_type": "stream",
     "text": [
      "C151 25149 2549\n"
     ]
    },
    {
     "name": "stdout",
     "output_type": "stream",
     "text": [
      "C151 26149 2656\n"
     ]
    },
    {
     "name": "stdout",
     "output_type": "stream",
     "text": [
      "C151 27149 2762\n"
     ]
    },
    {
     "name": "stdout",
     "output_type": "stream",
     "text": [
      "C151 28149 2872\n"
     ]
    },
    {
     "name": "stdout",
     "output_type": "stream",
     "text": [
      "C151 29149 2971\n"
     ]
    },
    {
     "name": "stdout",
     "output_type": "stream",
     "text": [
      "C151 29346 2990\n"
     ]
    },
    {
     "name": "stdout",
     "output_type": "stream",
     "text": [
      "C18 24149 1527\n"
     ]
    },
    {
     "name": "stdout",
     "output_type": "stream",
     "text": [
      "C18 25149 1578\n"
     ]
    },
    {
     "name": "stdout",
     "output_type": "stream",
     "text": [
      "C18 26067 1638\n"
     ]
    },
    {
     "name": "stdout",
     "output_type": "stream",
     "text": [
      "C151 C17\n",
      "C151 24149 2447\n"
     ]
    },
    {
     "name": "stdout",
     "output_type": "stream",
     "text": [
      "C151 25149 2549\n"
     ]
    },
    {
     "name": "stdout",
     "output_type": "stream",
     "text": [
      "C151 26149 2656\n"
     ]
    },
    {
     "name": "stdout",
     "output_type": "stream",
     "text": [
      "C151 27149 2762\n"
     ]
    },
    {
     "name": "stdout",
     "output_type": "stream",
     "text": [
      "C151 28149 2872\n"
     ]
    },
    {
     "name": "stdout",
     "output_type": "stream",
     "text": [
      "C151 29136 2971\n"
     ]
    },
    {
     "name": "stdout",
     "output_type": "stream",
     "text": [
      "C17 24149 1226\n"
     ]
    },
    {
     "name": "stdout",
     "output_type": "stream",
     "text": [
      "C17 25149 1284\n"
     ]
    },
    {
     "name": "stdout",
     "output_type": "stream",
     "text": [
      "C17 26149 1337\n"
     ]
    },
    {
     "name": "stdout",
     "output_type": "stream",
     "text": [
      "C17 27149 1390\n"
     ]
    },
    {
     "name": "stdout",
     "output_type": "stream",
     "text": [
      "C17 28149 1444\n"
     ]
    },
    {
     "name": "stdout",
     "output_type": "stream",
     "text": [
      "C17 28491 1456\n"
     ]
    },
    {
     "name": "stdout",
     "output_type": "stream",
     "text": [
      "C151 C31\n",
      "C151 24149 2447\n"
     ]
    },
    {
     "name": "stdout",
     "output_type": "stream",
     "text": [
      "C151 25149 2549\n"
     ]
    },
    {
     "name": "stdout",
     "output_type": "stream",
     "text": [
      "C151 26149 2656\n"
     ]
    },
    {
     "name": "stdout",
     "output_type": "stream",
     "text": [
      "C151 26897 2731\n"
     ]
    },
    {
     "name": "stdout",
     "output_type": "stream",
     "text": [
      "C31 24149 1108\n"
     ]
    },
    {
     "name": "stdout",
     "output_type": "stream",
     "text": [
      "C31 25149 1161\n"
     ]
    },
    {
     "name": "stdout",
     "output_type": "stream",
     "text": [
      "C31 26149 1218\n"
     ]
    },
    {
     "name": "stdout",
     "output_type": "stream",
     "text": [
      "C31 27149 1278\n"
     ]
    },
    {
     "name": "stdout",
     "output_type": "stream",
     "text": [
      "C31 28149 1324\n"
     ]
    },
    {
     "name": "stdout",
     "output_type": "stream",
     "text": [
      "C31 28599 1354\n"
     ]
    },
    {
     "name": "stdout",
     "output_type": "stream",
     "text": [
      "C151 C152\n",
      "C151 24149 2447\n"
     ]
    },
    {
     "name": "stdout",
     "output_type": "stream",
     "text": [
      "C151 25149 2549\n"
     ]
    },
    {
     "name": "stdout",
     "output_type": "stream",
     "text": [
      "C151 26149 2656\n"
     ]
    },
    {
     "name": "stdout",
     "output_type": "stream",
     "text": [
      "C151 26398 2681\n"
     ]
    },
    {
     "name": "stdout",
     "output_type": "stream",
     "text": [
      "C152 24149 2040\n"
     ]
    },
    {
     "name": "stdout",
     "output_type": "stream",
     "text": [
      "C152 25149 2150\n"
     ]
    },
    {
     "name": "stdout",
     "output_type": "stream",
     "text": [
      "C152 26149 2247\n"
     ]
    },
    {
     "name": "stdout",
     "output_type": "stream",
     "text": [
      "C152 27149 2366\n"
     ]
    },
    {
     "name": "stdout",
     "output_type": "stream",
     "text": [
      "C152 28149 2478\n"
     ]
    },
    {
     "name": "stdout",
     "output_type": "stream",
     "text": [
      "C152 29149 2566\n"
     ]
    },
    {
     "name": "stdout",
     "output_type": "stream",
     "text": [
      "C152 30149 2654\n"
     ]
    },
    {
     "name": "stdout",
     "output_type": "stream",
     "text": [
      "C152 31149 2770\n"
     ]
    },
    {
     "name": "stdout",
     "output_type": "stream",
     "text": [
      "C152 32149 2865\n"
     ]
    },
    {
     "name": "stdout",
     "output_type": "stream",
     "text": [
      "C152 33149 2958\n"
     ]
    },
    {
     "name": "stdout",
     "output_type": "stream",
     "text": [
      "C152 33310 2973\n"
     ]
    },
    {
     "name": "stdout",
     "output_type": "stream",
     "text": [
      "ECAT GVIO\n",
      "ECAT 24149 3581\n"
     ]
    },
    {
     "name": "stdout",
     "output_type": "stream",
     "text": [
      "ECAT 25149 3750\n"
     ]
    },
    {
     "name": "stdout",
     "output_type": "stream",
     "text": [
      "ECAT 26149 3888\n"
     ]
    },
    {
     "name": "stdout",
     "output_type": "stream",
     "text": [
      "ECAT 27149 4038\n"
     ]
    },
    {
     "name": "stdout",
     "output_type": "stream",
     "text": [
      "ECAT 28149 4194\n"
     ]
    },
    {
     "name": "stdout",
     "output_type": "stream",
     "text": [
      "ECAT 29149 4335\n"
     ]
    },
    {
     "name": "stdout",
     "output_type": "stream",
     "text": [
      "ECAT 30149 4475\n"
     ]
    },
    {
     "name": "stdout",
     "output_type": "stream",
     "text": [
      "ECAT 31149 4618\n"
     ]
    },
    {
     "name": "stdout",
     "output_type": "stream",
     "text": [
      "ECAT 32149 4786\n"
     ]
    },
    {
     "name": "stdout",
     "output_type": "stream",
     "text": [
      "ECAT 33149 4932\n"
     ]
    },
    {
     "name": "stdout",
     "output_type": "stream",
     "text": [
      "ECAT 34149 5108\n"
     ]
    },
    {
     "name": "stdout",
     "output_type": "stream",
     "text": [
      "ECAT 35149 5276\n"
     ]
    },
    {
     "name": "stdout",
     "output_type": "stream",
     "text": [
      "ECAT 36149 5433\n"
     ]
    },
    {
     "name": "stdout",
     "output_type": "stream",
     "text": [
      "ECAT 37149 5600\n"
     ]
    },
    {
     "name": "stdout",
     "output_type": "stream",
     "text": [
      "ECAT 38149 5751\n"
     ]
    },
    {
     "name": "stdout",
     "output_type": "stream",
     "text": [
      "ECAT 39149 5891\n"
     ]
    },
    {
     "name": "stdout",
     "output_type": "stream",
     "text": [
      "ECAT 40149 6066\n"
     ]
    },
    {
     "name": "stdout",
     "output_type": "stream",
     "text": [
      "ECAT 41149 6201\n"
     ]
    },
    {
     "name": "stdout",
     "output_type": "stream",
     "text": [
      "ECAT 42149 6362\n"
     ]
    },
    {
     "name": "stdout",
     "output_type": "stream",
     "text": [
      "ECAT 43149 6510\n"
     ]
    },
    {
     "name": "stdout",
     "output_type": "stream",
     "text": [
      "ECAT 44149 6665\n"
     ]
    },
    {
     "name": "stdout",
     "output_type": "stream",
     "text": [
      "ECAT 45149 6813\n"
     ]
    },
    {
     "name": "stdout",
     "output_type": "stream",
     "text": [
      "ECAT 46149 6979\n"
     ]
    },
    {
     "name": "stdout",
     "output_type": "stream",
     "text": [
      "ECAT 47149 7122\n"
     ]
    },
    {
     "name": "stdout",
     "output_type": "stream",
     "text": [
      "ECAT 47870 7245\n"
     ]
    },
    {
     "name": "stdout",
     "output_type": "stream",
     "text": [
      "GVIO 24149 1159\n"
     ]
    },
    {
     "name": "stdout",
     "output_type": "stream",
     "text": [
      "GVIO 25149 1201\n",
      "GVIO 26149 1242\n"
     ]
    },
    {
     "name": "stdout",
     "output_type": "stream",
     "text": [
      "GVIO 27149 1273\n"
     ]
    },
    {
     "name": "stdout",
     "output_type": "stream",
     "text": [
      "GVIO 28149 1306\n"
     ]
    },
    {
     "name": "stdout",
     "output_type": "stream",
     "text": [
      "GVIO 28591 1325\n"
     ]
    },
    {
     "name": "stdout",
     "output_type": "stream",
     "text": [
      "ECAT C17\n",
      "ECAT 24149 3581\n"
     ]
    },
    {
     "name": "stdout",
     "output_type": "stream",
     "text": [
      "ECAT 25149 3750\n"
     ]
    },
    {
     "name": "stdout",
     "output_type": "stream",
     "text": [
      "ECAT 26149 3888\n"
     ]
    },
    {
     "name": "stdout",
     "output_type": "stream",
     "text": [
      "ECAT 27149 4038\n"
     ]
    },
    {
     "name": "stdout",
     "output_type": "stream",
     "text": [
      "ECAT 28149 4194\n"
     ]
    },
    {
     "name": "stdout",
     "output_type": "stream",
     "text": [
      "ECAT 29149 4335\n"
     ]
    },
    {
     "name": "stdout",
     "output_type": "stream",
     "text": [
      "ECAT 30149 4475\n"
     ]
    },
    {
     "name": "stdout",
     "output_type": "stream",
     "text": [
      "ECAT 31149 4618\n"
     ]
    },
    {
     "name": "stdout",
     "output_type": "stream",
     "text": [
      "ECAT 32149 4786\n"
     ]
    },
    {
     "name": "stdout",
     "output_type": "stream",
     "text": [
      "ECAT 33149 4930\n"
     ]
    },
    {
     "name": "stdout",
     "output_type": "stream",
     "text": [
      "ECAT 34149 5106\n"
     ]
    },
    {
     "name": "stdout",
     "output_type": "stream",
     "text": [
      "ECAT 35149 5284\n"
     ]
    },
    {
     "name": "stdout",
     "output_type": "stream",
     "text": [
      "ECAT 36149 5454\n"
     ]
    },
    {
     "name": "stdout",
     "output_type": "stream",
     "text": [
      "ECAT 37149 5608\n"
     ]
    },
    {
     "name": "stdout",
     "output_type": "stream",
     "text": [
      "ECAT 38149 5763\n"
     ]
    },
    {
     "name": "stdout",
     "output_type": "stream",
     "text": [
      "ECAT 39149 5903\n"
     ]
    },
    {
     "name": "stdout",
     "output_type": "stream",
     "text": [
      "ECAT 40149 6076\n"
     ]
    },
    {
     "name": "stdout",
     "output_type": "stream",
     "text": [
      "ECAT 41149 6211\n"
     ]
    },
    {
     "name": "stdout",
     "output_type": "stream",
     "text": [
      "ECAT 42149 6368\n"
     ]
    },
    {
     "name": "stdout",
     "output_type": "stream",
     "text": [
      "ECAT 43149 6530\n"
     ]
    },
    {
     "name": "stdout",
     "output_type": "stream",
     "text": [
      "ECAT 44149 6688\n"
     ]
    },
    {
     "name": "stdout",
     "output_type": "stream",
     "text": [
      "ECAT 45149 6842\n"
     ]
    },
    {
     "name": "stdout",
     "output_type": "stream",
     "text": [
      "ECAT 46119 6977\n"
     ]
    },
    {
     "name": "stdout",
     "output_type": "stream",
     "text": [
      "C17 24149 1226\n"
     ]
    },
    {
     "name": "stdout",
     "output_type": "stream",
     "text": [
      "C17 25149 1284\n"
     ]
    },
    {
     "name": "stdout",
     "output_type": "stream",
     "text": [
      "C17 26149 1337\n"
     ]
    },
    {
     "name": "stdout",
     "output_type": "stream",
     "text": [
      "C17 27149 1390\n"
     ]
    },
    {
     "name": "stdout",
     "output_type": "stream",
     "text": [
      "C17 28149 1444\n"
     ]
    },
    {
     "name": "stdout",
     "output_type": "stream",
     "text": [
      "C17 29149 1499\n"
     ]
    },
    {
     "name": "stdout",
     "output_type": "stream",
     "text": [
      "C17 30149 1547\n"
     ]
    },
    {
     "name": "stdout",
     "output_type": "stream",
     "text": [
      "C17 31149 1608\n"
     ]
    },
    {
     "name": "stdout",
     "output_type": "stream",
     "text": [
      "C17 31671 1629\n"
     ]
    },
    {
     "name": "stdout",
     "output_type": "stream",
     "text": [
      "ECAT M13\n",
      "ECAT 24149 3581\n"
     ]
    },
    {
     "name": "stdout",
     "output_type": "stream",
     "text": [
      "ECAT 25149 3750\n"
     ]
    },
    {
     "name": "stdout",
     "output_type": "stream",
     "text": [
      "ECAT 26149 3888\n"
     ]
    },
    {
     "name": "stdout",
     "output_type": "stream",
     "text": [
      "ECAT 27149 4038\n"
     ]
    },
    {
     "name": "stdout",
     "output_type": "stream",
     "text": [
      "ECAT 28149 4194\n"
     ]
    },
    {
     "name": "stdout",
     "output_type": "stream",
     "text": [
      "ECAT 29149 4335\n"
     ]
    },
    {
     "name": "stdout",
     "output_type": "stream",
     "text": [
      "ECAT 30149 4475\n"
     ]
    },
    {
     "name": "stdout",
     "output_type": "stream",
     "text": [
      "ECAT 31149 4618\n"
     ]
    },
    {
     "name": "stdout",
     "output_type": "stream",
     "text": [
      "ECAT 32149 4786\n"
     ]
    },
    {
     "name": "stdout",
     "output_type": "stream",
     "text": [
      "ECAT 33149 4932\n"
     ]
    },
    {
     "name": "stdout",
     "output_type": "stream",
     "text": [
      "ECAT 34149 5110\n"
     ]
    },
    {
     "name": "stdout",
     "output_type": "stream",
     "text": [
      "ECAT 35149 5285\n"
     ]
    },
    {
     "name": "stdout",
     "output_type": "stream",
     "text": [
      "ECAT 36149 5452\n"
     ]
    },
    {
     "name": "stdout",
     "output_type": "stream",
     "text": [
      "ECAT 37149 5602\n"
     ]
    },
    {
     "name": "stdout",
     "output_type": "stream",
     "text": [
      "ECAT 38149 5744\n"
     ]
    },
    {
     "name": "stdout",
     "output_type": "stream",
     "text": [
      "ECAT 39149 5891\n"
     ]
    },
    {
     "name": "stdout",
     "output_type": "stream",
     "text": [
      "ECAT 40149 6054\n"
     ]
    },
    {
     "name": "stdout",
     "output_type": "stream",
     "text": [
      "ECAT 41149 6201\n"
     ]
    },
    {
     "name": "stdout",
     "output_type": "stream",
     "text": [
      "ECAT 42149 6353\n"
     ]
    },
    {
     "name": "stdout",
     "output_type": "stream",
     "text": [
      "ECAT 43149 6502\n"
     ]
    },
    {
     "name": "stdout",
     "output_type": "stream",
     "text": [
      "ECAT 44149 6656\n"
     ]
    },
    {
     "name": "stdout",
     "output_type": "stream",
     "text": [
      "ECAT 45149 6823\n"
     ]
    },
    {
     "name": "stdout",
     "output_type": "stream",
     "text": [
      "ECAT 46149 6985\n"
     ]
    },
    {
     "name": "stdout",
     "output_type": "stream",
     "text": [
      "ECAT 47149 7136\n"
     ]
    },
    {
     "name": "stdout",
     "output_type": "stream",
     "text": [
      "ECAT 48149 7299\n"
     ]
    },
    {
     "name": "stdout",
     "output_type": "stream",
     "text": [
      "ECAT 48617 7371\n"
     ]
    },
    {
     "name": "stdout",
     "output_type": "stream",
     "text": [
      "M13 24149 1658\n"
     ]
    },
    {
     "name": "stdout",
     "output_type": "stream",
     "text": [
      "M13 25149 1714\n"
     ]
    },
    {
     "name": "stdout",
     "output_type": "stream",
     "text": [
      "M13 26149 1772\n"
     ]
    },
    {
     "name": "stdout",
     "output_type": "stream",
     "text": [
      "M13 27149 1832\n"
     ]
    },
    {
     "name": "stdout",
     "output_type": "stream",
     "text": [
      "M13 28149 1886\n"
     ]
    },
    {
     "name": "stdout",
     "output_type": "stream",
     "text": [
      "M13 29149 1942\n"
     ]
    },
    {
     "name": "stdout",
     "output_type": "stream",
     "text": [
      "M13 30149 1996\n"
     ]
    },
    {
     "name": "stdout",
     "output_type": "stream",
     "text": [
      "M13 31149 2060\n"
     ]
    },
    {
     "name": "stdout",
     "output_type": "stream",
     "text": [
      "M13 32149 2109\n"
     ]
    },
    {
     "name": "stdout",
     "output_type": "stream",
     "text": [
      "M13 32486 2135\n"
     ]
    },
    {
     "name": "stdout",
     "output_type": "stream",
     "text": [
      "ECAT GPOL\n",
      "ECAT 24149 3581\n"
     ]
    },
    {
     "name": "stdout",
     "output_type": "stream",
     "text": [
      "ECAT 25149 3750\n"
     ]
    },
    {
     "name": "stdout",
     "output_type": "stream",
     "text": [
      "ECAT 26149 3888\n"
     ]
    },
    {
     "name": "stdout",
     "output_type": "stream",
     "text": [
      "ECAT 27149 4038\n"
     ]
    },
    {
     "name": "stdout",
     "output_type": "stream",
     "text": [
      "ECAT 28149 4194\n"
     ]
    },
    {
     "name": "stdout",
     "output_type": "stream",
     "text": [
      "ECAT 29149 4335\n"
     ]
    },
    {
     "name": "stdout",
     "output_type": "stream",
     "text": [
      "ECAT 30149 4475\n"
     ]
    },
    {
     "name": "stdout",
     "output_type": "stream",
     "text": [
      "ECAT 31149 4618\n"
     ]
    },
    {
     "name": "stdout",
     "output_type": "stream",
     "text": [
      "ECAT 32149 4786\n"
     ]
    },
    {
     "name": "stdout",
     "output_type": "stream",
     "text": [
      "ECAT 33149 4932\n"
     ]
    },
    {
     "name": "stdout",
     "output_type": "stream",
     "text": [
      "ECAT 34149 5107\n"
     ]
    },
    {
     "name": "stdout",
     "output_type": "stream",
     "text": [
      "ECAT 35149 5275\n"
     ]
    },
    {
     "name": "stdout",
     "output_type": "stream",
     "text": [
      "ECAT 36149 5434\n"
     ]
    },
    {
     "name": "stdout",
     "output_type": "stream",
     "text": [
      "ECAT 37149 5601\n"
     ]
    },
    {
     "name": "stdout",
     "output_type": "stream",
     "text": [
      "ECAT 38149 5753\n"
     ]
    },
    {
     "name": "stdout",
     "output_type": "stream",
     "text": [
      "ECAT 39149 5893\n"
     ]
    },
    {
     "name": "stdout",
     "output_type": "stream",
     "text": [
      "ECAT 39783 6001\n"
     ]
    },
    {
     "name": "stdout",
     "output_type": "stream",
     "text": [
      "GPOL 24149 1724\n"
     ]
    },
    {
     "name": "stdout",
     "output_type": "stream",
     "text": [
      "GPOL 25149 1795\n"
     ]
    },
    {
     "name": "stdout",
     "output_type": "stream",
     "text": [
      "GPOL 26149 1862\n"
     ]
    },
    {
     "name": "stdout",
     "output_type": "stream",
     "text": [
      "GPOL 27149 1929\n"
     ]
    },
    {
     "name": "stdout",
     "output_type": "stream",
     "text": [
      "GPOL 28149 2009\n"
     ]
    },
    {
     "name": "stdout",
     "output_type": "stream",
     "text": [
      "GPOL 29149 2085\n"
     ]
    },
    {
     "name": "stdout",
     "output_type": "stream",
     "text": [
      "GPOL 30149 2157\n"
     ]
    },
    {
     "name": "stdout",
     "output_type": "stream",
     "text": [
      "GPOL 31149 2225\n"
     ]
    },
    {
     "name": "stdout",
     "output_type": "stream",
     "text": [
      "GPOL 32149 2309\n"
     ]
    },
    {
     "name": "stdout",
     "output_type": "stream",
     "text": [
      "GPOL 33149 2382\n"
     ]
    },
    {
     "name": "stdout",
     "output_type": "stream",
     "text": [
      "GPOL 34149 2464\n"
     ]
    },
    {
     "name": "stdout",
     "output_type": "stream",
     "text": [
      "GPOL 35149 2533\n"
     ]
    },
    {
     "name": "stdout",
     "output_type": "stream",
     "text": [
      "GPOL 36149 2596\n"
     ]
    },
    {
     "name": "stdout",
     "output_type": "stream",
     "text": [
      "GPOL 37149 2669\n"
     ]
    },
    {
     "name": "stdout",
     "output_type": "stream",
     "text": [
      "GPOL 38149 2747\n"
     ]
    },
    {
     "name": "stdout",
     "output_type": "stream",
     "text": [
      "GPOL 38815 2797\n"
     ]
    },
    {
     "name": "stdout",
     "output_type": "stream",
     "text": [
      "ECAT MCAT\n",
      "ECAT 24149 3581\n"
     ]
    },
    {
     "name": "stdout",
     "output_type": "stream",
     "text": [
      "ECAT 25149 3750\n"
     ]
    },
    {
     "name": "stdout",
     "output_type": "stream",
     "text": [
      "ECAT 26149 3888\n"
     ]
    },
    {
     "name": "stdout",
     "output_type": "stream",
     "text": [
      "ECAT 27149 4038\n"
     ]
    },
    {
     "name": "stdout",
     "output_type": "stream",
     "text": [
      "ECAT 28149 4194\n"
     ]
    },
    {
     "name": "stdout",
     "output_type": "stream",
     "text": [
      "ECAT 29149 4335\n"
     ]
    },
    {
     "name": "stdout",
     "output_type": "stream",
     "text": [
      "ECAT 30149 4475\n"
     ]
    },
    {
     "name": "stdout",
     "output_type": "stream",
     "text": [
      "ECAT 31149 4618\n"
     ]
    },
    {
     "name": "stdout",
     "output_type": "stream",
     "text": [
      "ECAT 32149 4786\n"
     ]
    },
    {
     "name": "stdout",
     "output_type": "stream",
     "text": [
      "ECAT 33149 4932\n"
     ]
    },
    {
     "name": "stdout",
     "output_type": "stream",
     "text": [
      "ECAT 34149 5108\n"
     ]
    },
    {
     "name": "stdout",
     "output_type": "stream",
     "text": [
      "ECAT 35149 5276\n"
     ]
    },
    {
     "name": "stdout",
     "output_type": "stream",
     "text": [
      "ECAT 36149 5433\n"
     ]
    },
    {
     "name": "stdout",
     "output_type": "stream",
     "text": [
      "ECAT 37149 5600\n"
     ]
    },
    {
     "name": "stdout",
     "output_type": "stream",
     "text": [
      "ECAT 38149 5751\n"
     ]
    },
    {
     "name": "stdout",
     "output_type": "stream",
     "text": [
      "ECAT 39149 5891\n"
     ]
    },
    {
     "name": "stdout",
     "output_type": "stream",
     "text": [
      "ECAT 40149 6066\n"
     ]
    },
    {
     "name": "stdout",
     "output_type": "stream",
     "text": [
      "ECAT 40786 6157\n"
     ]
    },
    {
     "name": "stdout",
     "output_type": "stream",
     "text": [
      "MCAT 24149 6131\n"
     ]
    },
    {
     "name": "stdout",
     "output_type": "stream",
     "text": [
      "MCAT 25149 6362\n"
     ]
    },
    {
     "name": "stdout",
     "output_type": "stream",
     "text": [
      "MCAT 26149 6600\n"
     ]
    },
    {
     "name": "stdout",
     "output_type": "stream",
     "text": [
      "MCAT 27149 6825\n"
     ]
    },
    {
     "name": "stdout",
     "output_type": "stream",
     "text": [
      "MCAT 28149 7066\n"
     ]
    },
    {
     "name": "stdout",
     "output_type": "stream",
     "text": [
      "MCAT 29149 7298\n"
     ]
    },
    {
     "name": "stdout",
     "output_type": "stream",
     "text": [
      "MCAT 30149 7520\n"
     ]
    },
    {
     "name": "stdout",
     "output_type": "stream",
     "text": [
      "MCAT 31149 7769\n"
     ]
    },
    {
     "name": "stdout",
     "output_type": "stream",
     "text": [
      "MCAT 32149 7993\n"
     ]
    },
    {
     "name": "stdout",
     "output_type": "stream",
     "text": [
      "MCAT 33149 8223\n"
     ]
    },
    {
     "name": "stdout",
     "output_type": "stream",
     "text": [
      "MCAT 34149 8451\n"
     ]
    },
    {
     "name": "stdout",
     "output_type": "stream",
     "text": [
      "MCAT 35149 8687\n"
     ]
    },
    {
     "name": "stdout",
     "output_type": "stream",
     "text": [
      "MCAT 36149 8910\n"
     ]
    },
    {
     "name": "stdout",
     "output_type": "stream",
     "text": [
      "MCAT 37149 9141\n"
     ]
    },
    {
     "name": "stdout",
     "output_type": "stream",
     "text": [
      "MCAT 38149 9362\n"
     ]
    },
    {
     "name": "stdout",
     "output_type": "stream",
     "text": [
      "MCAT 39149 9604\n"
     ]
    },
    {
     "name": "stdout",
     "output_type": "stream",
     "text": [
      "MCAT 39721 9748\n"
     ]
    }
   ],
   "source": [
    "cm_alus = dict()\n",
    "for c_r,c_p in pairs:\n",
    "    print(c_r,c_p)\n",
    "    timer(' '.join(['ALUS',c_r,c_p]))\n",
    "\n",
    "    c_r_prob = posterior_probabilities[c_r][:,1]\n",
    "    c_p_prob = posterior_probabilities[c_p][:,1]\n",
    "    \n",
    "    # responsiveness\n",
    "    c_r_prob = al(c_r_prob, us, c_r,tau_rs[(c_r,c_p)])\n",
    "    \n",
    "    # privilege\n",
    "    c_p_prob = al(c_p_prob, us, c_p, tau_ps[(c_r,c_p)])\n",
    "\n",
    "    h = get_h_risk_h(c_r_prob, c_p_prob, cost_matrix, need_risk=False)[0]\n",
    "    \n",
    "    cm_alus[(c_r,c_p)] = confusion_matrix(manual_labels[(c_r,c_p)],h)\n",
    "    \n",
    "timer()"
   ]
  },
  {
   "cell_type": "code",
   "execution_count": 45,
   "metadata": {},
   "outputs": [
    {
     "data": {
      "text/plain": [
       "[(('M12', 'M14'), 9562.0, 17875.0, 27437.0),\n",
       " (('M12', 'CCAT'), 13686.0, 47658.0, 61344.0),\n",
       " (('M12', 'M132'), 10163.0, 45355.0, 55518.0),\n",
       " (('M12', 'E21'), 14641.0, 63093.0, 77734.0),\n",
       " (('M12', 'M131'), 12327.0, 172824.0, 185151.0),\n",
       " (('M132', 'GPOL'), 10202.0, 23646.0, 33848.0),\n",
       " (('M132', 'CCAT'), 14869.0, 42774.0, 57643.0),\n",
       " (('M132', 'M12'), 14487.0, 29580.0, 44067.0),\n",
       " (('M132', 'M131'), 13169.0, 62134.0, 75303.0),\n",
       " (('M132', 'GCAT'), 11003.0, 35183.0, 46186.0),\n",
       " (('M131', 'CCAT'), 17144.0, 53810.0, 70954.0),\n",
       " (('M131', 'M132'), 11017.0, 49432.0, 60449.0),\n",
       " (('M131', 'E12'), 14119.0, 78469.0, 92588.0),\n",
       " (('M131', 'ECAT'), 20172.0, 89790.0, 109962.0),\n",
       " (('M131', 'M12'), 13362.0, 73545.0, 86907.0),\n",
       " (('E12', 'M11'), 11278.0, 31495.0, 42773.0),\n",
       " (('E12', 'GDIP'), 13208.0, 60728.0, 73936.0),\n",
       " (('E12', 'E212'), 14701.0, 58082.0, 72783.0),\n",
       " (('E12', 'M131'), 16062.0, 68235.0, 84297.0),\n",
       " (('E12', 'E21'), 15824.0, 87490.0, 103314.0),\n",
       " (('C21', 'C17'), 12398.0, 60420.0, 72818.0),\n",
       " (('C21', 'C15'), 13645.0, 71666.0, 85311.0),\n",
       " (('C21', 'ECAT'), 13979.0, 84846.0, 98825.0),\n",
       " (('C21', 'C31'), 14232.0, 99788.0, 114020.0),\n",
       " (('C21', 'M141'), 13487.0, 81905.0, 95392.0),\n",
       " (('E212', 'GPOL'), 21083.0, 40688.0, 61771.0),\n",
       " (('E212', 'E12'), 12495.0, 32905.0, 45400.0),\n",
       " (('E212', 'M12'), 12963.0, 63613.0, 76576.0),\n",
       " (('E212', 'MCAT'), 20442.0, 66298.0, 86740.0),\n",
       " (('E212', 'C17'), 16646.0, 61289.0, 77935.0),\n",
       " (('GCRIM', 'E212'), 11911.0, 27760.0, 39671.0),\n",
       " (('GCRIM', 'C15'), 20501.0, 41999.0, 62500.0),\n",
       " (('GCRIM', 'C18'), 15280.0, 36371.0, 51651.0),\n",
       " (('GCRIM', 'GDIP'), 19203.0, 68037.0, 87240.0),\n",
       " (('GCRIM', 'GPOL'), 29091.0, 88537.0, 117628.0),\n",
       " (('C24', 'GDIP'), 17313.0, 47730.0, 65043.0),\n",
       " (('C24', 'C15'), 21356.0, 71577.0, 92933.0),\n",
       " (('C24', 'C31'), 23413.0, 94691.0, 118104.0),\n",
       " (('C24', 'MCAT'), 19566.0, 101931.0, 121497.0),\n",
       " (('C24', 'C21'), 24513.0, 124046.0, 148559.0),\n",
       " (('GVIO', 'C21'), 29862.0, 42621.0, 72483.0),\n",
       " (('GVIO', 'C24'), 23536.0, 43275.0, 66811.0),\n",
       " (('GVIO', 'CCAT'), 22895.0, 72530.0, 95425.0),\n",
       " (('GVIO', 'ECAT'), 27262.0, 90551.0, 117813.0),\n",
       " (('GVIO', 'GCRIM'), 22528.0, 74467.0, 96995.0),\n",
       " (('C13', 'M12'), 21139.0, 51850.0, 72989.0),\n",
       " (('C13', 'C15'), 22202.0, 98756.0, 120958.0),\n",
       " (('C13', 'GPOL'), 25723.0, 105341.0, 131064.0),\n",
       " (('C13', 'M14'), 23323.0, 84169.0, 107492.0),\n",
       " (('C13', 'MCAT'), 23640.0, 118860.0, 142500.0),\n",
       " (('GDIP', 'C31'), 35451.0, 74682.0, 110133.0),\n",
       " (('GDIP', 'E12'), 28216.0, 65445.0, 93661.0),\n",
       " (('GDIP', 'CCAT'), 28893.0, 98016.0, 126909.0),\n",
       " (('GDIP', 'ECAT'), 37161.0, 139277.0, 176438.0),\n",
       " (('GDIP', 'GPOL'), 35668.0, 151780.0, 187448.0),\n",
       " (('C31', 'C151'), 25796.0, 87751.0, 113547.0),\n",
       " (('C31', 'C15'), 25690.0, 125119.0, 150809.0),\n",
       " (('C31', 'ECAT'), 25658.0, 141205.0, 166863.0),\n",
       " (('C31', 'C21'), 26740.0, 170532.0, 197272.0),\n",
       " (('C31', 'M14'), 27444.0, 110959.0, 138403.0),\n",
       " (('C181', 'C151'), 30510.0, 63732.0, 94242.0),\n",
       " (('C181', 'GCAT'), 29536.0, 81779.0, 111315.0),\n",
       " (('C181', 'C152'), 40025.0, 117300.0, 157325.0),\n",
       " (('C181', 'C15'), 38809.0, 129778.0, 168587.0),\n",
       " (('C181', 'C17'), 34791.0, 105781.0, 140572.0),\n",
       " (('M141', 'ECAT'), 28966.0, 53439.0, 82405.0),\n",
       " (('M141', 'GCAT'), 24941.0, 59766.0, 84707.0),\n",
       " (('M141', 'C24'), 28727.0, 66103.0, 94830.0),\n",
       " (('M141', 'C31'), 38009.0, 97215.0, 135224.0),\n",
       " (('M141', 'C21'), 28247.0, 78100.0, 106347.0),\n",
       " (('M11', 'ECAT'), 19364.0, 63024.0, 82388.0),\n",
       " (('M11', 'C152'), 34644.0, 109033.0, 143677.0),\n",
       " (('M11', 'M132'), 19535.0, 42801.0, 62336.0),\n",
       " (('M11', 'M13'), 23915.0, 64614.0, 88529.0),\n",
       " (('M11', 'CCAT'), 33744.0, 123756.0, 157500.0),\n",
       " (('E21', 'C31'), 29614.0, 58192.0, 87806.0),\n",
       " (('E21', 'M12'), 21474.0, 72226.0, 93700.0),\n",
       " (('E21', 'MCAT'), 31562.0, 97214.0, 128776.0),\n",
       " (('E21', 'E12'), 25659.0, 88513.0, 114172.0),\n",
       " (('E21', 'GPOL'), 36109.0, 102129.0, 138238.0),\n",
       " (('C17', 'MCAT'), 31264.0, 75118.0, 106382.0),\n",
       " (('C17', 'C152'), 31344.0, 103398.0, 134742.0),\n",
       " (('C17', 'C15'), 34942.0, 129591.0, 164533.0),\n",
       " (('C17', 'C18'), 28997.0, 130219.0, 159216.0),\n",
       " (('C17', 'ECAT'), 35441.0, 102343.0, 137784.0),\n",
       " (('M13', 'E21'), 15245.0, 42048.0, 57293.0),\n",
       " (('M13', 'M11'), 12531.0, 33238.0, 45769.0),\n",
       " (('M13', 'GCAT'), 17667.0, 46155.0, 63822.0),\n",
       " (('M13', 'E12'), 30890.0, 132808.0, 163698.0),\n",
       " (('M13', 'ECAT'), 39177.0, 146524.0, 185701.0),\n",
       " (('C18', 'E12'), 37149.0, 89630.0, 126779.0),\n",
       " (('C18', 'GCAT'), 37649.0, 100675.0, 138324.0),\n",
       " (('C18', 'C152'), 49251.0, 133341.0, 182592.0),\n",
       " (('C18', 'C15'), 47977.0, 143536.0, 191513.0),\n",
       " (('C18', 'C17'), 43657.0, 139733.0, 183390.0),\n",
       " (('GPOL', 'MCAT'), 41809.0, 72115.0, 113924.0),\n",
       " (('GPOL', 'CCAT'), 43849.0, 153023.0, 196872.0),\n",
       " (('GPOL', 'GCRIM'), 37657.0, 106985.0, 144642.0),\n",
       " (('GPOL', 'E21'), 43479.0, 88464.0, 131943.0),\n",
       " (('GPOL', 'GVIO'), 47477.0, 137877.0, 185354.0),\n",
       " (('C152', 'M11'), 37773.0, 94960.0, 132733.0),\n",
       " (('C152', 'C17'), 40447.0, 89344.0, 129791.0),\n",
       " (('C152', 'C31'), 57599.0, 114955.0, 172554.0),\n",
       " (('C152', 'C181'), 38997.0, 103031.0, 142028.0),\n",
       " (('C152', 'C18'), 38565.0, 115890.0, 154455.0),\n",
       " (('M14', 'M132'), 18737.0, 26202.0, 44939.0),\n",
       " (('M14', 'M13'), 27463.0, 38586.0, 66049.0),\n",
       " (('M14', 'GCAT'), 42879.0, 103173.0, 146052.0),\n",
       " (('M14', 'C24'), 48999.0, 107648.0, 156647.0),\n",
       " (('M14', 'C31'), 65461.0, 166213.0, 231674.0),\n",
       " (('C151', 'C181'), 20915.0, 52761.0, 73676.0),\n",
       " (('C151', 'C18'), 20787.0, 59146.0, 79933.0),\n",
       " (('C151', 'C17'), 32697.0, 60897.0, 93594.0),\n",
       " (('C151', 'C31'), 30998.0, 81094.0, 112092.0),\n",
       " (('C151', 'C152'), 54054.0, 121875.0, 175929.0),\n",
       " (('ECAT', 'GVIO'), 51931.0, 93015.0, 144946.0),\n",
       " (('ECAT', 'C17'), 65580.0, 169420.0, 235000.0),\n",
       " (('ECAT', 'M13'), 72153.0, 153603.0, 225756.0),\n",
       " (('ECAT', 'GPOL'), 94964.0, 211996.0, 306960.0),\n",
       " (('ECAT', 'MCAT'), 100497.0, 262058.0, 362555.0)]"
      ]
     },
     "execution_count": 45,
     "metadata": {},
     "output_type": "execute_result"
    }
   ],
   "source": [
    "cost_alus = dict()\n",
    "cost_alus_ann = dict()\n",
    "cost_alus_misc = dict()\n",
    "for c_r,c_p in pairs:\n",
    "    cm = cm_alus[(c_r,c_p)]\n",
    "    cost_misc = 0.0\n",
    "    for true_label in label_to_idx.keys():\n",
    "        for pred_label in label_to_idx.keys():\n",
    "            cost_misc += cost_matrix[true_label][pred_label]*cm[label_to_idx[pred_label],label_to_idx[true_label]]\n",
    "    cost_ann = tau_rs[(c_r,c_p)]*cost_r+tau_ps[(c_r,c_p)]*cost_p\n",
    "    cost_alus_ann[(c_r,c_p)] = cost_ann\n",
    "    cost_alus_misc[(c_r,c_p)] = cost_misc\n",
    "    cost_alus[(c_r,c_p)] = cost_ann+cost_misc   \n",
    "list(zip(cost_alus,cost_alus_ann.values(),cost_alus_misc.values(),cost_alus.values()))"
   ]
  },
  {
   "cell_type": "markdown",
   "metadata": {},
   "source": [
    "## Active Learning via Relevance Sampling"
   ]
  },
  {
   "cell_type": "code",
   "execution_count": 46,
   "metadata": {
    "scrolled": true
   },
   "outputs": [
    {
     "name": "stdout",
     "output_type": "stream",
     "text": [
      "M12 M14\n",
      "M12 24149 758\n"
     ]
    },
    {
     "name": "stdout",
     "output_type": "stream",
     "text": [
      "M12 25149 778\n"
     ]
    },
    {
     "name": "stdout",
     "output_type": "stream",
     "text": [
      "M12 26149 816\n"
     ]
    },
    {
     "name": "stdout",
     "output_type": "stream",
     "text": [
      "M12 26676 832\n"
     ]
    },
    {
     "name": "stdout",
     "output_type": "stream",
     "text": [
      "M14 24149 2646\n"
     ]
    },
    {
     "name": "stdout",
     "output_type": "stream",
     "text": [
      "M14 24356 2668\n"
     ]
    },
    {
     "name": "stdout",
     "output_type": "stream",
     "text": [
      "M12 CCAT\n",
      "M12 24149 758\n"
     ]
    },
    {
     "name": "stdout",
     "output_type": "stream",
     "text": [
      "M12 25045 776\n"
     ]
    },
    {
     "name": "stdout",
     "output_type": "stream",
     "text": [
      "CCAT 24149 11246\n"
     ]
    },
    {
     "name": "stdout",
     "output_type": "stream",
     "text": [
      "CCAT 25149 11733\n"
     ]
    },
    {
     "name": "stdout",
     "output_type": "stream",
     "text": [
      "CCAT 25507 11903\n"
     ]
    },
    {
     "name": "stdout",
     "output_type": "stream",
     "text": [
      "M12 M132\n",
      "M12 24149 758\n"
     ]
    },
    {
     "name": "stdout",
     "output_type": "stream",
     "text": [
      "M12 25149 778\n"
     ]
    },
    {
     "name": "stdout",
     "output_type": "stream",
     "text": [
      "M12 26149 816\n"
     ]
    },
    {
     "name": "stdout",
     "output_type": "stream",
     "text": [
      "M12 26227 818\n"
     ]
    },
    {
     "name": "stdout",
     "output_type": "stream",
     "text": [
      "M132 24149 721\n"
     ]
    },
    {
     "name": "stdout",
     "output_type": "stream",
     "text": [
      "M132 24566 736\n"
     ]
    },
    {
     "name": "stdout",
     "output_type": "stream",
     "text": [
      "M12 E21\n",
      "M12 24149 758\n"
     ]
    },
    {
     "name": "stdout",
     "output_type": "stream",
     "text": [
      "M12 25149 778\n"
     ]
    },
    {
     "name": "stdout",
     "output_type": "stream",
     "text": [
      "M12 25495 792\n"
     ]
    },
    {
     "name": "stdout",
     "output_type": "stream",
     "text": [
      "E21 24149 1326\n"
     ]
    },
    {
     "name": "stdout",
     "output_type": "stream",
     "text": [
      "E21 25149 1383\n"
     ]
    },
    {
     "name": "stdout",
     "output_type": "stream",
     "text": [
      "E21 25608 1405\n"
     ]
    },
    {
     "name": "stdout",
     "output_type": "stream",
     "text": [
      "M12 M131\n",
      "M12 24149 758\n"
     ]
    },
    {
     "name": "stdout",
     "output_type": "stream",
     "text": [
      "M12 25149 778\n"
     ]
    },
    {
     "name": "stdout",
     "output_type": "stream",
     "text": [
      "M12 26071 815\n"
     ]
    },
    {
     "name": "stdout",
     "output_type": "stream",
     "text": [
      "M131 24149 975\n"
     ]
    },
    {
     "name": "stdout",
     "output_type": "stream",
     "text": [
      "M131 25030 999\n"
     ]
    },
    {
     "name": "stdout",
     "output_type": "stream",
     "text": [
      "M132 GPOL\n",
      "M132 24149 721\n"
     ]
    },
    {
     "name": "stdout",
     "output_type": "stream",
     "text": [
      "M132 25149 757\n"
     ]
    },
    {
     "name": "stdout",
     "output_type": "stream",
     "text": [
      "M132 25736 773\n"
     ]
    },
    {
     "name": "stdout",
     "output_type": "stream",
     "text": [
      "GPOL 24149 1720\n"
     ]
    },
    {
     "name": "stdout",
     "output_type": "stream",
     "text": [
      "GPOL 24672 1765\n"
     ]
    },
    {
     "name": "stdout",
     "output_type": "stream",
     "text": [
      "M132 CCAT\n",
      "M132 24149 721\n"
     ]
    },
    {
     "name": "stdout",
     "output_type": "stream",
     "text": [
      "M132 25149 757\n"
     ]
    },
    {
     "name": "stdout",
     "output_type": "stream",
     "text": [
      "M132 25258 759\n"
     ]
    },
    {
     "name": "stdout",
     "output_type": "stream",
     "text": [
      "CCAT 24149 11246\n"
     ]
    },
    {
     "name": "stdout",
     "output_type": "stream",
     "text": [
      "CCAT 25149 11733\n"
     ]
    },
    {
     "name": "stdout",
     "output_type": "stream",
     "text": [
      "CCAT 25701 12010\n"
     ]
    },
    {
     "name": "stdout",
     "output_type": "stream",
     "text": [
      "M132 M12\n",
      "M132 24149 721\n"
     ]
    },
    {
     "name": "stdout",
     "output_type": "stream",
     "text": [
      "M132 25149 757\n"
     ]
    },
    {
     "name": "stdout",
     "output_type": "stream",
     "text": [
      "M132 25896 776\n"
     ]
    },
    {
     "name": "stdout",
     "output_type": "stream",
     "text": [
      "M12 24149 758\n"
     ]
    },
    {
     "name": "stdout",
     "output_type": "stream",
     "text": [
      "M12 25149 778\n"
     ]
    },
    {
     "name": "stdout",
     "output_type": "stream",
     "text": [
      "M12 25497 792\n"
     ]
    },
    {
     "name": "stdout",
     "output_type": "stream",
     "text": [
      "M132 M131\n",
      "M132 24149 721\n"
     ]
    },
    {
     "name": "stdout",
     "output_type": "stream",
     "text": [
      "M132 25149 757\n"
     ]
    },
    {
     "name": "stdout",
     "output_type": "stream",
     "text": [
      "M132 26038 778\n"
     ]
    },
    {
     "name": "stdout",
     "output_type": "stream",
     "text": [
      "M131 24149 975\n"
     ]
    },
    {
     "name": "stdout",
     "output_type": "stream",
     "text": [
      "M131 25149 1005\n"
     ]
    },
    {
     "name": "stdout",
     "output_type": "stream",
     "text": [
      "M131 25205 1006\n"
     ]
    },
    {
     "name": "stdout",
     "output_type": "stream",
     "text": [
      "M132 GCAT\n",
      "M132 24149 721\n"
     ]
    },
    {
     "name": "stdout",
     "output_type": "stream",
     "text": [
      "M132 25149 757\n"
     ]
    },
    {
     "name": "stdout",
     "output_type": "stream",
     "text": [
      "M132 25787 773\n"
     ]
    },
    {
     "name": "stdout",
     "output_type": "stream",
     "text": [
      "GCAT 24149 7284\n"
     ]
    },
    {
     "name": "stdout",
     "output_type": "stream",
     "text": [
      "GCAT 24822 7474\n"
     ]
    },
    {
     "name": "stdout",
     "output_type": "stream",
     "text": [
      "M131 CCAT\n",
      "M131 24149 975\n"
     ]
    },
    {
     "name": "stdout",
     "output_type": "stream",
     "text": [
      "M131 24433 980\n"
     ]
    },
    {
     "name": "stdout",
     "output_type": "stream",
     "text": [
      "CCAT 24149 11246\n"
     ]
    },
    {
     "name": "stdout",
     "output_type": "stream",
     "text": [
      "CCAT 25149 11733\n"
     ]
    },
    {
     "name": "stdout",
     "output_type": "stream",
     "text": [
      "CCAT 26149 12228\n"
     ]
    },
    {
     "name": "stdout",
     "output_type": "stream",
     "text": [
      "CCAT 26321 12315\n"
     ]
    },
    {
     "name": "stdout",
     "output_type": "stream",
     "text": [
      "M131 M132\n",
      "M131 24149 975\n"
     ]
    },
    {
     "name": "stdout",
     "output_type": "stream",
     "text": [
      "M131 24966 993\n"
     ]
    },
    {
     "name": "stdout",
     "output_type": "stream",
     "text": [
      "M132 24149 721\n"
     ]
    },
    {
     "name": "stdout",
     "output_type": "stream",
     "text": [
      "M132 24989 749\n"
     ]
    },
    {
     "name": "stdout",
     "output_type": "stream",
     "text": [
      "M131 E12\n",
      "M131 24149 975\n"
     ]
    },
    {
     "name": "stdout",
     "output_type": "stream",
     "text": [
      "M131 24533 982\n"
     ]
    },
    {
     "name": "stdout",
     "output_type": "stream",
     "text": [
      "E12 24149 718\n"
     ]
    },
    {
     "name": "stdout",
     "output_type": "stream",
     "text": [
      "E12 25149 754\n"
     ]
    },
    {
     "name": "stdout",
     "output_type": "stream",
     "text": [
      "E12 25696 774\n"
     ]
    },
    {
     "name": "stdout",
     "output_type": "stream",
     "text": [
      "M131 ECAT\n",
      "M131 24001 972\n"
     ]
    },
    {
     "name": "stdout",
     "output_type": "stream",
     "text": [
      "ECAT 24149 3611\n"
     ]
    },
    {
     "name": "stdout",
     "output_type": "stream",
     "text": [
      "ECAT 25149 3771\n"
     ]
    },
    {
     "name": "stdout",
     "output_type": "stream",
     "text": [
      "ECAT 26149 3901\n"
     ]
    },
    {
     "name": "stdout",
     "output_type": "stream",
     "text": [
      "ECAT 27013 4046\n"
     ]
    },
    {
     "name": "stdout",
     "output_type": "stream",
     "text": [
      "M131 M12\n",
      "M131 24149 975\n"
     ]
    },
    {
     "name": "stdout",
     "output_type": "stream",
     "text": [
      "M131 24741 988\n"
     ]
    },
    {
     "name": "stdout",
     "output_type": "stream",
     "text": [
      "M12 24149 758\n"
     ]
    },
    {
     "name": "stdout",
     "output_type": "stream",
     "text": [
      "M12 25149 778\n"
     ]
    },
    {
     "name": "stdout",
     "output_type": "stream",
     "text": [
      "M12 25503 792\n"
     ]
    },
    {
     "name": "stdout",
     "output_type": "stream",
     "text": [
      "E12 M11\n",
      "E12 24149 718\n"
     ]
    },
    {
     "name": "stdout",
     "output_type": "stream",
     "text": [
      "E12 25149 754\n"
     ]
    },
    {
     "name": "stdout",
     "output_type": "stream",
     "text": [
      "E12 26149 798\n"
     ]
    },
    {
     "name": "stdout",
     "output_type": "stream",
     "text": [
      "E12 27149 832\n"
     ]
    },
    {
     "name": "stdout",
     "output_type": "stream",
     "text": [
      "E12 28149 867\n"
     ]
    },
    {
     "name": "stdout",
     "output_type": "stream",
     "text": [
      "E12 29149 899\n"
     ]
    },
    {
     "name": "stdout",
     "output_type": "stream",
     "text": [
      "E12 30149 929\n"
     ]
    },
    {
     "name": "stdout",
     "output_type": "stream",
     "text": [
      "E12 31149 963\n"
     ]
    },
    {
     "name": "stdout",
     "output_type": "stream",
     "text": [
      "E12 31822 981\n"
     ]
    },
    {
     "name": "stdout",
     "output_type": "stream",
     "text": [
      "M11 23670 1316\n"
     ]
    },
    {
     "name": "stdout",
     "output_type": "stream",
     "text": [
      "E12 GDIP\n",
      "E12 24149 718\n"
     ]
    },
    {
     "name": "stdout",
     "output_type": "stream",
     "text": [
      "E12 25149 754\n"
     ]
    },
    {
     "name": "stdout",
     "output_type": "stream",
     "text": [
      "E12 26149 798\n"
     ]
    },
    {
     "name": "stdout",
     "output_type": "stream",
     "text": [
      "E12 27149 833\n"
     ]
    },
    {
     "name": "stdout",
     "output_type": "stream",
     "text": [
      "E12 28149 868\n"
     ]
    },
    {
     "name": "stdout",
     "output_type": "stream",
     "text": [
      "E12 29149 899\n"
     ]
    },
    {
     "name": "stdout",
     "output_type": "stream",
     "text": [
      "E12 30149 926\n"
     ]
    },
    {
     "name": "stdout",
     "output_type": "stream",
     "text": [
      "E12 30507 941\n"
     ]
    },
    {
     "name": "stdout",
     "output_type": "stream",
     "text": [
      "GDIP 24149 1050\n"
     ]
    },
    {
     "name": "stdout",
     "output_type": "stream",
     "text": [
      "GDIP 24319 1059\n"
     ]
    },
    {
     "name": "stdout",
     "output_type": "stream",
     "text": [
      "E12 E212\n",
      "E12 24149 718\n"
     ]
    },
    {
     "name": "stdout",
     "output_type": "stream",
     "text": [
      "E12 25149 754\n"
     ]
    },
    {
     "name": "stdout",
     "output_type": "stream",
     "text": [
      "E12 26149 798\n"
     ]
    },
    {
     "name": "stdout",
     "output_type": "stream",
     "text": [
      "E12 27149 833\n"
     ]
    },
    {
     "name": "stdout",
     "output_type": "stream",
     "text": [
      "E12 28149 868\n"
     ]
    },
    {
     "name": "stdout",
     "output_type": "stream",
     "text": [
      "E12 29149 899\n"
     ]
    },
    {
     "name": "stdout",
     "output_type": "stream",
     "text": [
      "E12 30149 926\n"
     ]
    },
    {
     "name": "stdout",
     "output_type": "stream",
     "text": [
      "E12 30695 947\n"
     ]
    },
    {
     "name": "stdout",
     "output_type": "stream",
     "text": [
      "E212 24149 895\n"
     ]
    },
    {
     "name": "stdout",
     "output_type": "stream",
     "text": [
      "E212 24580 916\n"
     ]
    },
    {
     "name": "stdout",
     "output_type": "stream",
     "text": [
      "E12 M131\n",
      "E12 24149 718\n"
     ]
    },
    {
     "name": "stdout",
     "output_type": "stream",
     "text": [
      "E12 25149 754\n"
     ]
    },
    {
     "name": "stdout",
     "output_type": "stream",
     "text": [
      "E12 26149 798\n"
     ]
    },
    {
     "name": "stdout",
     "output_type": "stream",
     "text": [
      "E12 27149 833\n"
     ]
    },
    {
     "name": "stdout",
     "output_type": "stream",
     "text": [
      "E12 28149 868\n"
     ]
    },
    {
     "name": "stdout",
     "output_type": "stream",
     "text": [
      "E12 29149 899\n"
     ]
    },
    {
     "name": "stdout",
     "output_type": "stream",
     "text": [
      "E12 30149 926\n"
     ]
    },
    {
     "name": "stdout",
     "output_type": "stream",
     "text": [
      "E12 30756 950\n"
     ]
    },
    {
     "name": "stdout",
     "output_type": "stream",
     "text": [
      "M131 24149 975\n"
     ]
    },
    {
     "name": "stdout",
     "output_type": "stream",
     "text": [
      "M131 24840 989\n"
     ]
    },
    {
     "name": "stdout",
     "output_type": "stream",
     "text": [
      "E12 E21\n",
      "E12 24149 718\n"
     ]
    },
    {
     "name": "stdout",
     "output_type": "stream",
     "text": [
      "E12 25149 754\n"
     ]
    },
    {
     "name": "stdout",
     "output_type": "stream",
     "text": [
      "E12 26149 798\n"
     ]
    },
    {
     "name": "stdout",
     "output_type": "stream",
     "text": [
      "E12 27149 833\n"
     ]
    },
    {
     "name": "stdout",
     "output_type": "stream",
     "text": [
      "E12 28149 868\n"
     ]
    },
    {
     "name": "stdout",
     "output_type": "stream",
     "text": [
      "E12 28623 881\n"
     ]
    },
    {
     "name": "stdout",
     "output_type": "stream",
     "text": [
      "E21 24149 1326\n"
     ]
    },
    {
     "name": "stdout",
     "output_type": "stream",
     "text": [
      "E21 25149 1383\n"
     ]
    },
    {
     "name": "stdout",
     "output_type": "stream",
     "text": [
      "E21 25219 1387\n"
     ]
    },
    {
     "name": "stdout",
     "output_type": "stream",
     "text": [
      "C21 C17\n",
      "C21 24149 827\n"
     ]
    },
    {
     "name": "stdout",
     "output_type": "stream",
     "text": [
      "C21 25149 861\n"
     ]
    },
    {
     "name": "stdout",
     "output_type": "stream",
     "text": [
      "C21 26149 894\n"
     ]
    },
    {
     "name": "stdout",
     "output_type": "stream",
     "text": [
      "C21 27149 934\n"
     ]
    },
    {
     "name": "stdout",
     "output_type": "stream",
     "text": [
      "C21 28149 971\n"
     ]
    },
    {
     "name": "stdout",
     "output_type": "stream",
     "text": [
      "C21 29149 1004\n"
     ]
    },
    {
     "name": "stdout",
     "output_type": "stream",
     "text": [
      "C21 29272 1008\n"
     ]
    },
    {
     "name": "stdout",
     "output_type": "stream",
     "text": [
      "C17 24149 1229\n"
     ]
    },
    {
     "name": "stdout",
     "output_type": "stream",
     "text": [
      "C17 24404 1239\n"
     ]
    },
    {
     "name": "stdout",
     "output_type": "stream",
     "text": [
      "C21 C15\n",
      "C21 24149 827\n"
     ]
    },
    {
     "name": "stdout",
     "output_type": "stream",
     "text": [
      "C21 25149 861\n"
     ]
    },
    {
     "name": "stdout",
     "output_type": "stream",
     "text": [
      "C21 26149 894\n"
     ]
    },
    {
     "name": "stdout",
     "output_type": "stream",
     "text": [
      "C21 27149 934\n"
     ]
    },
    {
     "name": "stdout",
     "output_type": "stream",
     "text": [
      "C21 27974 966\n"
     ]
    },
    {
     "name": "stdout",
     "output_type": "stream",
     "text": [
      "C15 24149 4388\n"
     ]
    },
    {
     "name": "stdout",
     "output_type": "stream",
     "text": [
      "C15 24913 4547\n"
     ]
    },
    {
     "name": "stdout",
     "output_type": "stream",
     "text": [
      "C21 ECAT\n",
      "C21 24149 827\n"
     ]
    },
    {
     "name": "stdout",
     "output_type": "stream",
     "text": [
      "C21 25149 861\n"
     ]
    },
    {
     "name": "stdout",
     "output_type": "stream",
     "text": [
      "C21 26149 894\n"
     ]
    },
    {
     "name": "stdout",
     "output_type": "stream",
     "text": [
      "C21 26633 910\n"
     ]
    },
    {
     "name": "stdout",
     "output_type": "stream",
     "text": [
      "ECAT 24149 3611\n"
     ]
    },
    {
     "name": "stdout",
     "output_type": "stream",
     "text": [
      "ECAT 25149 3771\n"
     ]
    },
    {
     "name": "stdout",
     "output_type": "stream",
     "text": [
      "ECAT 25248 3780\n"
     ]
    },
    {
     "name": "stdout",
     "output_type": "stream",
     "text": [
      "C21 C31\n",
      "C21 24149 827\n"
     ]
    },
    {
     "name": "stdout",
     "output_type": "stream",
     "text": [
      "C21 25026 857\n"
     ]
    },
    {
     "name": "stdout",
     "output_type": "stream",
     "text": [
      "C31 24149 1120\n"
     ]
    },
    {
     "name": "stdout",
     "output_type": "stream",
     "text": [
      "C31 25149 1188\n"
     ]
    },
    {
     "name": "stdout",
     "output_type": "stream",
     "text": [
      "C31 25620 1214\n"
     ]
    },
    {
     "name": "stdout",
     "output_type": "stream",
     "text": [
      "C21 M141\n",
      "C21 24149 827\n"
     ]
    },
    {
     "name": "stdout",
     "output_type": "stream",
     "text": [
      "C21 25149 861\n"
     ]
    },
    {
     "name": "stdout",
     "output_type": "stream",
     "text": [
      "C21 26149 894\n"
     ]
    },
    {
     "name": "stdout",
     "output_type": "stream",
     "text": [
      "C21 27149 934\n"
     ]
    },
    {
     "name": "stdout",
     "output_type": "stream",
     "text": [
      "C21 28149 971\n"
     ]
    },
    {
     "name": "stdout",
     "output_type": "stream",
     "text": [
      "C21 29149 1004\n"
     ]
    },
    {
     "name": "stdout",
     "output_type": "stream",
     "text": [
      "C21 30149 1044\n"
     ]
    },
    {
     "name": "stdout",
     "output_type": "stream",
     "text": [
      "C21 30746 1062\n"
     ]
    },
    {
     "name": "stdout",
     "output_type": "stream",
     "text": [
      "M141 24149 1575\n"
     ]
    },
    {
     "name": "stdout",
     "output_type": "stream",
     "text": [
      "M141 24327 1586\n"
     ]
    },
    {
     "name": "stdout",
     "output_type": "stream",
     "text": [
      "E212 GPOL\n",
      "E212 24149 895\n"
     ]
    },
    {
     "name": "stdout",
     "output_type": "stream",
     "text": [
      "E212 25149 931\n"
     ]
    },
    {
     "name": "stdout",
     "output_type": "stream",
     "text": [
      "E212 25577 947\n"
     ]
    },
    {
     "name": "stdout",
     "output_type": "stream",
     "text": [
      "GPOL 24149 1720\n"
     ]
    },
    {
     "name": "stdout",
     "output_type": "stream",
     "text": [
      "GPOL 25149 1804\n"
     ]
    },
    {
     "name": "stdout",
     "output_type": "stream",
     "text": [
      "GPOL 26149 1881\n"
     ]
    },
    {
     "name": "stdout",
     "output_type": "stream",
     "text": [
      "GPOL 26880 1930\n"
     ]
    },
    {
     "name": "stdout",
     "output_type": "stream",
     "text": [
      "E212 E12\n",
      "E212 24149 895\n"
     ]
    },
    {
     "name": "stdout",
     "output_type": "stream",
     "text": [
      "E212 25149 931\n"
     ]
    },
    {
     "name": "stdout",
     "output_type": "stream",
     "text": [
      "E212 25564 947\n"
     ]
    },
    {
     "name": "stdout",
     "output_type": "stream",
     "text": [
      "E12 24149 718\n"
     ]
    },
    {
     "name": "stdout",
     "output_type": "stream",
     "text": [
      "E12 25149 754\n"
     ]
    },
    {
     "name": "stdout",
     "output_type": "stream",
     "text": [
      "E12 25165 756\n"
     ]
    },
    {
     "name": "stdout",
     "output_type": "stream",
     "text": [
      "E212 M12\n",
      "E212 24149 895\n"
     ]
    },
    {
     "name": "stdout",
     "output_type": "stream",
     "text": [
      "E212 25149 931\n"
     ]
    },
    {
     "name": "stdout",
     "output_type": "stream",
     "text": [
      "E212 25467 943\n"
     ]
    },
    {
     "name": "stdout",
     "output_type": "stream",
     "text": [
      "M12 24149 758\n"
     ]
    },
    {
     "name": "stdout",
     "output_type": "stream",
     "text": [
      "M12 25149 778\n"
     ]
    },
    {
     "name": "stdout",
     "output_type": "stream",
     "text": [
      "M12 25278 783\n"
     ]
    },
    {
     "name": "stdout",
     "output_type": "stream",
     "text": [
      "E212 MCAT\n",
      "E212 24149 895\n"
     ]
    },
    {
     "name": "stdout",
     "output_type": "stream",
     "text": [
      "E212 25149 931\n"
     ]
    },
    {
     "name": "stdout",
     "output_type": "stream",
     "text": [
      "E212 25151 931\n"
     ]
    },
    {
     "name": "stdout",
     "output_type": "stream",
     "text": [
      "MCAT 24149 6124\n"
     ]
    },
    {
     "name": "stdout",
     "output_type": "stream",
     "text": [
      "MCAT 25149 6383\n"
     ]
    },
    {
     "name": "stdout",
     "output_type": "stream",
     "text": [
      "MCAT 26149 6641\n"
     ]
    },
    {
     "name": "stdout",
     "output_type": "stream",
     "text": [
      "MCAT 26837 6790\n"
     ]
    },
    {
     "name": "stdout",
     "output_type": "stream",
     "text": [
      "E212 C17\n",
      "E212 24149 895\n"
     ]
    },
    {
     "name": "stdout",
     "output_type": "stream",
     "text": [
      "E212 24930 928\n"
     ]
    },
    {
     "name": "stdout",
     "output_type": "stream",
     "text": [
      "C17 24149 1229\n"
     ]
    },
    {
     "name": "stdout",
     "output_type": "stream",
     "text": [
      "C17 25149 1275\n"
     ]
    },
    {
     "name": "stdout",
     "output_type": "stream",
     "text": [
      "C17 26122 1338\n"
     ]
    },
    {
     "name": "stdout",
     "output_type": "stream",
     "text": [
      "GCRIM E212\n",
      "GCRIM 24149 1172\n"
     ]
    },
    {
     "name": "stdout",
     "output_type": "stream",
     "text": [
      "GCRIM 25149 1215\n"
     ]
    },
    {
     "name": "stdout",
     "output_type": "stream",
     "text": [
      "GCRIM 26149 1258\n"
     ]
    },
    {
     "name": "stdout",
     "output_type": "stream",
     "text": [
      "GCRIM 27149 1289\n"
     ]
    },
    {
     "name": "stdout",
     "output_type": "stream",
     "text": [
      "GCRIM 28149 1333\n"
     ]
    },
    {
     "name": "stdout",
     "output_type": "stream",
     "text": [
      "GCRIM 29149 1370\n"
     ]
    },
    {
     "name": "stdout",
     "output_type": "stream",
     "text": [
      "GCRIM 29730 1390\n"
     ]
    },
    {
     "name": "stdout",
     "output_type": "stream",
     "text": [
      "E212 24149 895\n"
     ]
    },
    {
     "name": "stdout",
     "output_type": "stream",
     "text": [
      "E212 24215 897\n"
     ]
    },
    {
     "name": "stdout",
     "output_type": "stream",
     "text": [
      "GCRIM C15\n",
      "GCRIM 24149 1172\n"
     ]
    },
    {
     "name": "stdout",
     "output_type": "stream",
     "text": [
      "GCRIM 25149 1215\n"
     ]
    },
    {
     "name": "stdout",
     "output_type": "stream",
     "text": [
      "GCRIM 26149 1258\n"
     ]
    },
    {
     "name": "stdout",
     "output_type": "stream",
     "text": [
      "GCRIM 27149 1289\n"
     ]
    },
    {
     "name": "stdout",
     "output_type": "stream",
     "text": [
      "GCRIM 28149 1333\n"
     ]
    },
    {
     "name": "stdout",
     "output_type": "stream",
     "text": [
      "GCRIM 28185 1334\n"
     ]
    },
    {
     "name": "stdout",
     "output_type": "stream",
     "text": [
      "C15 24149 4388\n"
     ]
    },
    {
     "name": "stdout",
     "output_type": "stream",
     "text": [
      "C15 25149 4595\n"
     ]
    },
    {
     "name": "stdout",
     "output_type": "stream",
     "text": [
      "C15 26149 4796\n"
     ]
    },
    {
     "name": "stdout",
     "output_type": "stream",
     "text": [
      "C15 26242 4823\n"
     ]
    },
    {
     "name": "stdout",
     "output_type": "stream",
     "text": [
      "GCRIM C18\n",
      "GCRIM 24149 1172\n"
     ]
    },
    {
     "name": "stdout",
     "output_type": "stream",
     "text": [
      "GCRIM 25149 1215\n"
     ]
    },
    {
     "name": "stdout",
     "output_type": "stream",
     "text": [
      "GCRIM 26149 1258\n"
     ]
    },
    {
     "name": "stdout",
     "output_type": "stream",
     "text": [
      "GCRIM 27149 1289\n"
     ]
    },
    {
     "name": "stdout",
     "output_type": "stream",
     "text": [
      "GCRIM 28149 1333\n"
     ]
    },
    {
     "name": "stdout",
     "output_type": "stream",
     "text": [
      "GCRIM 28564 1354\n"
     ]
    },
    {
     "name": "stdout",
     "output_type": "stream",
     "text": [
      "C18 24149 1509\n"
     ]
    },
    {
     "name": "stdout",
     "output_type": "stream",
     "text": [
      "C18 25122 1572\n"
     ]
    },
    {
     "name": "stdout",
     "output_type": "stream",
     "text": [
      "GCRIM GDIP\n",
      "GCRIM 24149 1172\n"
     ]
    },
    {
     "name": "stdout",
     "output_type": "stream",
     "text": [
      "GCRIM 25149 1215\n"
     ]
    },
    {
     "name": "stdout",
     "output_type": "stream",
     "text": [
      "GCRIM 26149 1258\n"
     ]
    },
    {
     "name": "stdout",
     "output_type": "stream",
     "text": [
      "GCRIM 27149 1289\n"
     ]
    },
    {
     "name": "stdout",
     "output_type": "stream",
     "text": [
      "GCRIM 27267 1293\n"
     ]
    },
    {
     "name": "stdout",
     "output_type": "stream",
     "text": [
      "GDIP 24149 1050\n",
      "GDIP 25149 1097\n"
     ]
    },
    {
     "name": "stdout",
     "output_type": "stream",
     "text": [
      "GDIP 26149 1145\n",
      "GDIP 26166 1146\n",
      "GCRIM GPOL\n",
      "GCRIM 24149 1172\n"
     ]
    },
    {
     "name": "stdout",
     "output_type": "stream",
     "text": [
      "GCRIM 25149 1215\n"
     ]
    },
    {
     "name": "stdout",
     "output_type": "stream",
     "text": [
      "GCRIM 25485 1227\n"
     ]
    },
    {
     "name": "stdout",
     "output_type": "stream",
     "text": [
      "GPOL 24149 1720\n"
     ]
    },
    {
     "name": "stdout",
     "output_type": "stream",
     "text": [
      "GPOL 25149 1804\n"
     ]
    },
    {
     "name": "stdout",
     "output_type": "stream",
     "text": [
      "GPOL 26149 1881\n"
     ]
    },
    {
     "name": "stdout",
     "output_type": "stream",
     "text": [
      "GPOL 27149 1946\n"
     ]
    },
    {
     "name": "stdout",
     "output_type": "stream",
     "text": [
      "GPOL 28149 2011\n"
     ]
    },
    {
     "name": "stdout",
     "output_type": "stream",
     "text": [
      "GPOL 28500 2034\n"
     ]
    },
    {
     "name": "stdout",
     "output_type": "stream",
     "text": [
      "C24 GDIP\n",
      "C24 24149 965\n"
     ]
    },
    {
     "name": "stdout",
     "output_type": "stream",
     "text": [
      "C24 25149 997\n"
     ]
    },
    {
     "name": "stdout",
     "output_type": "stream",
     "text": [
      "C24 26149 1039\n"
     ]
    },
    {
     "name": "stdout",
     "output_type": "stream",
     "text": [
      "C24 27149 1075\n"
     ]
    },
    {
     "name": "stdout",
     "output_type": "stream",
     "text": [
      "C24 28149 1120\n",
      "C24 29149 1156\n"
     ]
    },
    {
     "name": "stdout",
     "output_type": "stream",
     "text": [
      "C24 30149 1188\n",
      "C24 31149 1224\n",
      "C24 32149 1261\n",
      "C24 32527 1274\n"
     ]
    },
    {
     "name": "stdout",
     "output_type": "stream",
     "text": [
      "GDIP 24149 1050\n"
     ]
    },
    {
     "name": "stdout",
     "output_type": "stream",
     "text": [
      "GDIP 24736 1082\n"
     ]
    },
    {
     "name": "stdout",
     "output_type": "stream",
     "text": [
      "C24 C15\n",
      "C24 24149 965\n"
     ]
    },
    {
     "name": "stdout",
     "output_type": "stream",
     "text": [
      "C24 25149 997\n"
     ]
    },
    {
     "name": "stdout",
     "output_type": "stream",
     "text": [
      "C24 26149 1039\n"
     ]
    },
    {
     "name": "stdout",
     "output_type": "stream",
     "text": [
      "C24 27149 1075\n"
     ]
    },
    {
     "name": "stdout",
     "output_type": "stream",
     "text": [
      "C24 28149 1120\n",
      "C24 29149 1156\n",
      "C24 29690 1172\n"
     ]
    },
    {
     "name": "stdout",
     "output_type": "stream",
     "text": [
      "C15 24149 4388\n"
     ]
    },
    {
     "name": "stdout",
     "output_type": "stream",
     "text": [
      "C15 25149 4595\n"
     ]
    },
    {
     "name": "stdout",
     "output_type": "stream",
     "text": [
      "C15 26112 4793\n"
     ]
    },
    {
     "name": "stdout",
     "output_type": "stream",
     "text": [
      "C24 C31\n",
      "C24 24149 965\n"
     ]
    },
    {
     "name": "stdout",
     "output_type": "stream",
     "text": [
      "C24 25149 997\n"
     ]
    },
    {
     "name": "stdout",
     "output_type": "stream",
     "text": [
      "C24 26149 1039\n"
     ]
    },
    {
     "name": "stdout",
     "output_type": "stream",
     "text": [
      "C24 27002 1069\n",
      "C31 24149 1120\n"
     ]
    },
    {
     "name": "stdout",
     "output_type": "stream",
     "text": [
      "C31 25149 1188\n"
     ]
    },
    {
     "name": "stdout",
     "output_type": "stream",
     "text": [
      "C31 26149 1233\n"
     ]
    },
    {
     "name": "stdout",
     "output_type": "stream",
     "text": [
      "C31 27061 1280\n"
     ]
    },
    {
     "name": "stdout",
     "output_type": "stream",
     "text": [
      "C24 MCAT\n",
      "C24 24149 965\n",
      "C24 25149 997\n"
     ]
    },
    {
     "name": "stdout",
     "output_type": "stream",
     "text": [
      "C24 26149 1039\n"
     ]
    },
    {
     "name": "stdout",
     "output_type": "stream",
     "text": [
      "C24 27149 1075\n"
     ]
    },
    {
     "name": "stdout",
     "output_type": "stream",
     "text": [
      "C24 28149 1120\n"
     ]
    },
    {
     "name": "stdout",
     "output_type": "stream",
     "text": [
      "C24 29149 1156\n",
      "C24 30149 1188\n",
      "C24 30230 1192\n",
      "MCAT 24149 6124\n"
     ]
    },
    {
     "name": "stdout",
     "output_type": "stream",
     "text": [
      "MCAT 25149 6385\n"
     ]
    },
    {
     "name": "stdout",
     "output_type": "stream",
     "text": [
      "MCAT 25646 6517\n"
     ]
    },
    {
     "name": "stdout",
     "output_type": "stream",
     "text": [
      "C24 C21\n",
      "C24 24149 965\n"
     ]
    },
    {
     "name": "stdout",
     "output_type": "stream",
     "text": [
      "C24 25149 997\n"
     ]
    },
    {
     "name": "stdout",
     "output_type": "stream",
     "text": [
      "C24 26149 1039\n",
      "C24 26342 1045\n",
      "C21 24149 827\n"
     ]
    },
    {
     "name": "stdout",
     "output_type": "stream",
     "text": [
      "C21 25149 861\n"
     ]
    },
    {
     "name": "stdout",
     "output_type": "stream",
     "text": [
      "C21 26149 894\n"
     ]
    },
    {
     "name": "stdout",
     "output_type": "stream",
     "text": [
      "C21 27149 934\n"
     ]
    },
    {
     "name": "stdout",
     "output_type": "stream",
     "text": [
      "C21 27413 941\n"
     ]
    },
    {
     "name": "stdout",
     "output_type": "stream",
     "text": [
      "GVIO C21\n",
      "GVIO 24149 1175\n"
     ]
    },
    {
     "name": "stdout",
     "output_type": "stream",
     "text": [
      "GVIO 25149 1220\n"
     ]
    },
    {
     "name": "stdout",
     "output_type": "stream",
     "text": [
      "GVIO 26149 1268\n"
     ]
    },
    {
     "name": "stdout",
     "output_type": "stream",
     "text": [
      "GVIO 27149 1315\n",
      "GVIO 28149 1357\n"
     ]
    },
    {
     "name": "stdout",
     "output_type": "stream",
     "text": [
      "GVIO 28536 1373\n"
     ]
    },
    {
     "name": "stdout",
     "output_type": "stream",
     "text": [
      "C21 24149 827\n"
     ]
    },
    {
     "name": "stdout",
     "output_type": "stream",
     "text": [
      "C21 25149 861\n"
     ]
    },
    {
     "name": "stdout",
     "output_type": "stream",
     "text": [
      "C21 26149 894\n"
     ]
    },
    {
     "name": "stdout",
     "output_type": "stream",
     "text": [
      "C21 27149 934\n"
     ]
    },
    {
     "name": "stdout",
     "output_type": "stream",
     "text": [
      "C21 28044 968\n"
     ]
    },
    {
     "name": "stdout",
     "output_type": "stream",
     "text": [
      "GVIO C24\n",
      "GVIO 24149 1175\n"
     ]
    },
    {
     "name": "stdout",
     "output_type": "stream",
     "text": [
      "GVIO 25149 1220\n"
     ]
    },
    {
     "name": "stdout",
     "output_type": "stream",
     "text": [
      "GVIO 26149 1268\n"
     ]
    },
    {
     "name": "stdout",
     "output_type": "stream",
     "text": [
      "GVIO 27149 1315\n"
     ]
    },
    {
     "name": "stdout",
     "output_type": "stream",
     "text": [
      "GVIO 28149 1357\n",
      "GVIO 29149 1397\n"
     ]
    },
    {
     "name": "stdout",
     "output_type": "stream",
     "text": [
      "GVIO 29930 1431\n"
     ]
    },
    {
     "name": "stdout",
     "output_type": "stream",
     "text": [
      "C24 24149 965\n",
      "C24 25149 997\n"
     ]
    },
    {
     "name": "stdout",
     "output_type": "stream",
     "text": [
      "C24 26149 1039\n"
     ]
    },
    {
     "name": "stdout",
     "output_type": "stream",
     "text": [
      "C24 26500 1048\n",
      "GVIO CCAT\n",
      "GVIO 24149 1175\n"
     ]
    },
    {
     "name": "stdout",
     "output_type": "stream",
     "text": [
      "GVIO 25149 1220\n"
     ]
    },
    {
     "name": "stdout",
     "output_type": "stream",
     "text": [
      "GVIO 26149 1268\n"
     ]
    },
    {
     "name": "stdout",
     "output_type": "stream",
     "text": [
      "GVIO 27149 1315\n",
      "GVIO 27154 1316\n"
     ]
    },
    {
     "name": "stdout",
     "output_type": "stream",
     "text": [
      "CCAT 24149 11246\n"
     ]
    },
    {
     "name": "stdout",
     "output_type": "stream",
     "text": [
      "CCAT 25149 11733\n"
     ]
    },
    {
     "name": "stdout",
     "output_type": "stream",
     "text": [
      "CCAT 26149 12228\n"
     ]
    },
    {
     "name": "stdout",
     "output_type": "stream",
     "text": [
      "CCAT 26927 12608\n"
     ]
    },
    {
     "name": "stdout",
     "output_type": "stream",
     "text": [
      "GVIO ECAT\n",
      "GVIO 24149 1175\n"
     ]
    },
    {
     "name": "stdout",
     "output_type": "stream",
     "text": [
      "GVIO 25149 1220\n"
     ]
    },
    {
     "name": "stdout",
     "output_type": "stream",
     "text": [
      "GVIO 26149 1268\n"
     ]
    },
    {
     "name": "stdout",
     "output_type": "stream",
     "text": [
      "GVIO 26636 1292\n"
     ]
    },
    {
     "name": "stdout",
     "output_type": "stream",
     "text": [
      "ECAT 24149 3611\n"
     ]
    },
    {
     "name": "stdout",
     "output_type": "stream",
     "text": [
      "ECAT 25149 3771\n"
     ]
    },
    {
     "name": "stdout",
     "output_type": "stream",
     "text": [
      "ECAT 26149 3901\n"
     ]
    },
    {
     "name": "stdout",
     "output_type": "stream",
     "text": [
      "ECAT 27149 4064\n"
     ]
    },
    {
     "name": "stdout",
     "output_type": "stream",
     "text": [
      "ECAT 27904 4180\n"
     ]
    },
    {
     "name": "stdout",
     "output_type": "stream",
     "text": [
      "GVIO GCRIM\n",
      "GVIO 24149 1175\n"
     ]
    },
    {
     "name": "stdout",
     "output_type": "stream",
     "text": [
      "GVIO 25149 1220\n"
     ]
    },
    {
     "name": "stdout",
     "output_type": "stream",
     "text": [
      "GVIO 26149 1268\n"
     ]
    },
    {
     "name": "stdout",
     "output_type": "stream",
     "text": [
      "GVIO 27149 1315\n"
     ]
    },
    {
     "name": "stdout",
     "output_type": "stream",
     "text": [
      "GVIO 28149 1357\n"
     ]
    },
    {
     "name": "stdout",
     "output_type": "stream",
     "text": [
      "GVIO 28457 1369\n"
     ]
    },
    {
     "name": "stdout",
     "output_type": "stream",
     "text": [
      "GCRIM 24149 1172\n"
     ]
    },
    {
     "name": "stdout",
     "output_type": "stream",
     "text": [
      "GCRIM 25149 1215\n"
     ]
    },
    {
     "name": "stdout",
     "output_type": "stream",
     "text": [
      "GCRIM 26149 1258\n"
     ]
    },
    {
     "name": "stdout",
     "output_type": "stream",
     "text": [
      "GCRIM 26593 1270\n"
     ]
    },
    {
     "name": "stdout",
     "output_type": "stream",
     "text": [
      "C13 M12\n",
      "C13 24149 1002\n"
     ]
    },
    {
     "name": "stdout",
     "output_type": "stream",
     "text": [
      "C13 25149 1057\n"
     ]
    },
    {
     "name": "stdout",
     "output_type": "stream",
     "text": [
      "C13 26149 1103\n"
     ]
    },
    {
     "name": "stdout",
     "output_type": "stream",
     "text": [
      "C13 27149 1139\n"
     ]
    },
    {
     "name": "stdout",
     "output_type": "stream",
     "text": [
      "C13 28149 1179\n"
     ]
    },
    {
     "name": "stdout",
     "output_type": "stream",
     "text": [
      "C13 29149 1225\n"
     ]
    },
    {
     "name": "stdout",
     "output_type": "stream",
     "text": [
      "C13 30149 1278\n"
     ]
    },
    {
     "name": "stdout",
     "output_type": "stream",
     "text": [
      "C13 31149 1330\n"
     ]
    },
    {
     "name": "stdout",
     "output_type": "stream",
     "text": [
      "C13 32149 1377\n"
     ]
    },
    {
     "name": "stdout",
     "output_type": "stream",
     "text": [
      "C13 33149 1428\n"
     ]
    },
    {
     "name": "stdout",
     "output_type": "stream",
     "text": [
      "C13 34149 1475\n"
     ]
    },
    {
     "name": "stdout",
     "output_type": "stream",
     "text": [
      "C13 35149 1521\n"
     ]
    },
    {
     "name": "stdout",
     "output_type": "stream",
     "text": [
      "C13 36149 1574\n"
     ]
    },
    {
     "name": "stdout",
     "output_type": "stream",
     "text": [
      "C13 37149 1619\n"
     ]
    },
    {
     "name": "stdout",
     "output_type": "stream",
     "text": [
      "C13 38149 1672\n"
     ]
    },
    {
     "name": "stdout",
     "output_type": "stream",
     "text": [
      "C13 39149 1707\n"
     ]
    },
    {
     "name": "stdout",
     "output_type": "stream",
     "text": [
      "C13 40149 1753\n"
     ]
    },
    {
     "name": "stdout",
     "output_type": "stream",
     "text": [
      "C13 41149 1792\n"
     ]
    },
    {
     "name": "stdout",
     "output_type": "stream",
     "text": [
      "C13 41653 1819\n"
     ]
    },
    {
     "name": "stdout",
     "output_type": "stream",
     "text": [
      "M12 23676 749\n"
     ]
    },
    {
     "name": "stdout",
     "output_type": "stream",
     "text": [
      "C13 C15\n",
      "C13 24149 1002\n"
     ]
    },
    {
     "name": "stdout",
     "output_type": "stream",
     "text": [
      "C13 25149 1057\n"
     ]
    },
    {
     "name": "stdout",
     "output_type": "stream",
     "text": [
      "C13 26149 1103\n"
     ]
    },
    {
     "name": "stdout",
     "output_type": "stream",
     "text": [
      "C13 27149 1139\n"
     ]
    },
    {
     "name": "stdout",
     "output_type": "stream",
     "text": [
      "C13 28149 1179\n"
     ]
    },
    {
     "name": "stdout",
     "output_type": "stream",
     "text": [
      "C13 29149 1225\n"
     ]
    },
    {
     "name": "stdout",
     "output_type": "stream",
     "text": [
      "C13 30149 1278\n"
     ]
    },
    {
     "name": "stdout",
     "output_type": "stream",
     "text": [
      "C13 31149 1330\n"
     ]
    },
    {
     "name": "stdout",
     "output_type": "stream",
     "text": [
      "C13 32149 1377\n"
     ]
    },
    {
     "name": "stdout",
     "output_type": "stream",
     "text": [
      "C13 33149 1428\n"
     ]
    },
    {
     "name": "stdout",
     "output_type": "stream",
     "text": [
      "C13 34149 1477\n"
     ]
    },
    {
     "name": "stdout",
     "output_type": "stream",
     "text": [
      "C13 35149 1520\n"
     ]
    },
    {
     "name": "stdout",
     "output_type": "stream",
     "text": [
      "C13 35156 1520\n"
     ]
    },
    {
     "name": "stdout",
     "output_type": "stream",
     "text": [
      "C15 24149 4388\n"
     ]
    },
    {
     "name": "stdout",
     "output_type": "stream",
     "text": [
      "C15 25149 4595\n"
     ]
    },
    {
     "name": "stdout",
     "output_type": "stream",
     "text": [
      "C15 25188 4602\n"
     ]
    },
    {
     "name": "stdout",
     "output_type": "stream",
     "text": [
      "C13 GPOL\n",
      "C13 24149 1002\n"
     ]
    },
    {
     "name": "stdout",
     "output_type": "stream",
     "text": [
      "C13 25149 1057\n"
     ]
    },
    {
     "name": "stdout",
     "output_type": "stream",
     "text": [
      "C13 26149 1103\n"
     ]
    },
    {
     "name": "stdout",
     "output_type": "stream",
     "text": [
      "C13 27149 1139\n"
     ]
    },
    {
     "name": "stdout",
     "output_type": "stream",
     "text": [
      "C13 28149 1179\n"
     ]
    },
    {
     "name": "stdout",
     "output_type": "stream",
     "text": [
      "C13 29149 1225\n"
     ]
    },
    {
     "name": "stdout",
     "output_type": "stream",
     "text": [
      "C13 30149 1278\n"
     ]
    },
    {
     "name": "stdout",
     "output_type": "stream",
     "text": [
      "C13 31149 1330\n"
     ]
    },
    {
     "name": "stdout",
     "output_type": "stream",
     "text": [
      "C13 32149 1377\n"
     ]
    },
    {
     "name": "stdout",
     "output_type": "stream",
     "text": [
      "C13 32482 1391\n"
     ]
    },
    {
     "name": "stdout",
     "output_type": "stream",
     "text": [
      "GPOL 24149 1720\n"
     ]
    },
    {
     "name": "stdout",
     "output_type": "stream",
     "text": [
      "GPOL 25149 1804\n"
     ]
    },
    {
     "name": "stdout",
     "output_type": "stream",
     "text": [
      "GPOL 26149 1881\n"
     ]
    },
    {
     "name": "stdout",
     "output_type": "stream",
     "text": [
      "GPOL 26427 1902\n"
     ]
    },
    {
     "name": "stdout",
     "output_type": "stream",
     "text": [
      "C13 M14\n",
      "C13 24149 1002\n"
     ]
    },
    {
     "name": "stdout",
     "output_type": "stream",
     "text": [
      "C13 25149 1057\n"
     ]
    },
    {
     "name": "stdout",
     "output_type": "stream",
     "text": [
      "C13 26149 1103\n"
     ]
    },
    {
     "name": "stdout",
     "output_type": "stream",
     "text": [
      "C13 27149 1139\n"
     ]
    },
    {
     "name": "stdout",
     "output_type": "stream",
     "text": [
      "C13 28149 1179\n"
     ]
    },
    {
     "name": "stdout",
     "output_type": "stream",
     "text": [
      "C13 29149 1225\n"
     ]
    },
    {
     "name": "stdout",
     "output_type": "stream",
     "text": [
      "C13 30149 1278\n"
     ]
    },
    {
     "name": "stdout",
     "output_type": "stream",
     "text": [
      "C13 31149 1330\n"
     ]
    },
    {
     "name": "stdout",
     "output_type": "stream",
     "text": [
      "C13 32149 1377\n"
     ]
    },
    {
     "name": "stdout",
     "output_type": "stream",
     "text": [
      "C13 33149 1428\n"
     ]
    },
    {
     "name": "stdout",
     "output_type": "stream",
     "text": [
      "C13 34149 1477\n"
     ]
    },
    {
     "name": "stdout",
     "output_type": "stream",
     "text": [
      "C13 35149 1520\n"
     ]
    },
    {
     "name": "stdout",
     "output_type": "stream",
     "text": [
      "C13 36149 1573\n"
     ]
    },
    {
     "name": "stdout",
     "output_type": "stream",
     "text": [
      "C13 37149 1617\n"
     ]
    },
    {
     "name": "stdout",
     "output_type": "stream",
     "text": [
      "C13 38149 1666\n"
     ]
    },
    {
     "name": "stdout",
     "output_type": "stream",
     "text": [
      "C13 39032 1700\n"
     ]
    },
    {
     "name": "stdout",
     "output_type": "stream",
     "text": [
      "M14 24149 2646\n"
     ]
    },
    {
     "name": "stdout",
     "output_type": "stream",
     "text": [
      "M14 24637 2694\n"
     ]
    },
    {
     "name": "stdout",
     "output_type": "stream",
     "text": [
      "C13 MCAT\n",
      "C13 24149 1002\n"
     ]
    },
    {
     "name": "stdout",
     "output_type": "stream",
     "text": [
      "C13 25149 1057\n"
     ]
    },
    {
     "name": "stdout",
     "output_type": "stream",
     "text": [
      "C13 26149 1103\n"
     ]
    },
    {
     "name": "stdout",
     "output_type": "stream",
     "text": [
      "C13 27149 1139\n"
     ]
    },
    {
     "name": "stdout",
     "output_type": "stream",
     "text": [
      "C13 28149 1179\n"
     ]
    },
    {
     "name": "stdout",
     "output_type": "stream",
     "text": [
      "C13 29149 1225\n"
     ]
    },
    {
     "name": "stdout",
     "output_type": "stream",
     "text": [
      "C13 30149 1278\n"
     ]
    },
    {
     "name": "stdout",
     "output_type": "stream",
     "text": [
      "C13 31149 1330\n"
     ]
    },
    {
     "name": "stdout",
     "output_type": "stream",
     "text": [
      "C13 32149 1377\n"
     ]
    },
    {
     "name": "stdout",
     "output_type": "stream",
     "text": [
      "C13 33149 1428\n"
     ]
    },
    {
     "name": "stdout",
     "output_type": "stream",
     "text": [
      "C13 33569 1449\n"
     ]
    },
    {
     "name": "stdout",
     "output_type": "stream",
     "text": [
      "MCAT 24149 6124\n"
     ]
    },
    {
     "name": "stdout",
     "output_type": "stream",
     "text": [
      "MCAT 25149 6384\n"
     ]
    },
    {
     "name": "stdout",
     "output_type": "stream",
     "text": [
      "MCAT 25793 6552\n"
     ]
    },
    {
     "name": "stdout",
     "output_type": "stream",
     "text": [
      "GDIP C31\n",
      "GDIP 24149 1050\n",
      "GDIP 25149 1097\n"
     ]
    },
    {
     "name": "stdout",
     "output_type": "stream",
     "text": [
      "GDIP 26149 1145\n"
     ]
    },
    {
     "name": "stdout",
     "output_type": "stream",
     "text": [
      "GDIP 27149 1188\n",
      "GDIP 28149 1241\n",
      "GDIP 28345 1252\n"
     ]
    },
    {
     "name": "stdout",
     "output_type": "stream",
     "text": [
      "C31 24149 1120\n"
     ]
    },
    {
     "name": "stdout",
     "output_type": "stream",
     "text": [
      "C31 25149 1188\n"
     ]
    },
    {
     "name": "stdout",
     "output_type": "stream",
     "text": [
      "C31 26149 1233\n"
     ]
    },
    {
     "name": "stdout",
     "output_type": "stream",
     "text": [
      "C31 27149 1284\n"
     ]
    },
    {
     "name": "stdout",
     "output_type": "stream",
     "text": [
      "C31 28149 1344\n"
     ]
    },
    {
     "name": "stdout",
     "output_type": "stream",
     "text": [
      "C31 29149 1396\n"
     ]
    },
    {
     "name": "stdout",
     "output_type": "stream",
     "text": [
      "C31 29200 1400\n"
     ]
    },
    {
     "name": "stdout",
     "output_type": "stream",
     "text": [
      "GDIP E12\n",
      "GDIP 24149 1050\n",
      "GDIP 25149 1097\n"
     ]
    },
    {
     "name": "stdout",
     "output_type": "stream",
     "text": [
      "GDIP 26149 1145\n",
      "GDIP 27149 1188\n",
      "GDIP 28149 1241\n",
      "GDIP 29149 1284\n",
      "GDIP 30085 1331\n"
     ]
    },
    {
     "name": "stdout",
     "output_type": "stream",
     "text": [
      "E12 24149 718\n"
     ]
    },
    {
     "name": "stdout",
     "output_type": "stream",
     "text": [
      "E12 25149 754\n"
     ]
    },
    {
     "name": "stdout",
     "output_type": "stream",
     "text": [
      "E12 26149 798\n"
     ]
    },
    {
     "name": "stdout",
     "output_type": "stream",
     "text": [
      "E12 27149 832\n"
     ]
    },
    {
     "name": "stdout",
     "output_type": "stream",
     "text": [
      "E12 27405 842\n"
     ]
    },
    {
     "name": "stdout",
     "output_type": "stream",
     "text": [
      "GDIP CCAT\n",
      "GDIP 24149 1050\n"
     ]
    },
    {
     "name": "stdout",
     "output_type": "stream",
     "text": [
      "GDIP 25149 1097\n"
     ]
    },
    {
     "name": "stdout",
     "output_type": "stream",
     "text": [
      "GDIP 26149 1145\n"
     ]
    },
    {
     "name": "stdout",
     "output_type": "stream",
     "text": [
      "GDIP 27149 1188\n",
      "GDIP 27407 1200\n",
      "CCAT 24149 11246\n"
     ]
    },
    {
     "name": "stdout",
     "output_type": "stream",
     "text": [
      "CCAT 25149 11733\n"
     ]
    },
    {
     "name": "stdout",
     "output_type": "stream",
     "text": [
      "CCAT 26149 12228\n"
     ]
    },
    {
     "name": "stdout",
     "output_type": "stream",
     "text": [
      "CCAT 27149 12708\n"
     ]
    },
    {
     "name": "stdout",
     "output_type": "stream",
     "text": [
      "CCAT 28076 13148\n"
     ]
    },
    {
     "name": "stdout",
     "output_type": "stream",
     "text": [
      "GDIP ECAT\n",
      "GDIP 24149 1050\n"
     ]
    },
    {
     "name": "stdout",
     "output_type": "stream",
     "text": [
      "GDIP 25149 1097\n"
     ]
    },
    {
     "name": "stdout",
     "output_type": "stream",
     "text": [
      "GDIP 26149 1145\n",
      "GDIP 26195 1149\n",
      "ECAT 24149 3611\n"
     ]
    },
    {
     "name": "stdout",
     "output_type": "stream",
     "text": [
      "ECAT 25149 3771\n"
     ]
    },
    {
     "name": "stdout",
     "output_type": "stream",
     "text": [
      "ECAT 26149 3901\n"
     ]
    },
    {
     "name": "stdout",
     "output_type": "stream",
     "text": [
      "ECAT 27149 4064\n"
     ]
    },
    {
     "name": "stdout",
     "output_type": "stream",
     "text": [
      "ECAT 28149 4223\n"
     ]
    },
    {
     "name": "stdout",
     "output_type": "stream",
     "text": [
      "ECAT 29149 4379\n"
     ]
    },
    {
     "name": "stdout",
     "output_type": "stream",
     "text": [
      "ECAT 29972 4492\n"
     ]
    },
    {
     "name": "stdout",
     "output_type": "stream",
     "text": [
      "GDIP GPOL\n",
      "GDIP 24149 1050\n"
     ]
    },
    {
     "name": "stdout",
     "output_type": "stream",
     "text": [
      "GDIP 25149 1097\n"
     ]
    },
    {
     "name": "stdout",
     "output_type": "stream",
     "text": [
      "GDIP 26149 1145\n",
      "GDIP 26352 1156\n",
      "GPOL 24149 1720\n"
     ]
    },
    {
     "name": "stdout",
     "output_type": "stream",
     "text": [
      "GPOL 25149 1804\n"
     ]
    },
    {
     "name": "stdout",
     "output_type": "stream",
     "text": [
      "GPOL 26149 1881\n"
     ]
    },
    {
     "name": "stdout",
     "output_type": "stream",
     "text": [
      "GPOL 27149 1946\n"
     ]
    },
    {
     "name": "stdout",
     "output_type": "stream",
     "text": [
      "GPOL 28149 2011\n"
     ]
    },
    {
     "name": "stdout",
     "output_type": "stream",
     "text": [
      "GPOL 29149 2094\n"
     ]
    },
    {
     "name": "stdout",
     "output_type": "stream",
     "text": [
      "GPOL 29642 2129\n"
     ]
    },
    {
     "name": "stdout",
     "output_type": "stream",
     "text": [
      "C31 C151\n",
      "C31 24149 1120\n"
     ]
    },
    {
     "name": "stdout",
     "output_type": "stream",
     "text": [
      "C31 25149 1188\n"
     ]
    },
    {
     "name": "stdout",
     "output_type": "stream",
     "text": [
      "C31 26149 1233\n"
     ]
    },
    {
     "name": "stdout",
     "output_type": "stream",
     "text": [
      "C31 27149 1284\n"
     ]
    },
    {
     "name": "stdout",
     "output_type": "stream",
     "text": [
      "C31 28149 1344\n"
     ]
    },
    {
     "name": "stdout",
     "output_type": "stream",
     "text": [
      "C31 29149 1396\n"
     ]
    },
    {
     "name": "stdout",
     "output_type": "stream",
     "text": [
      "C31 30149 1455\n"
     ]
    },
    {
     "name": "stdout",
     "output_type": "stream",
     "text": [
      "C31 31149 1513\n"
     ]
    },
    {
     "name": "stdout",
     "output_type": "stream",
     "text": [
      "C31 32149 1573\n"
     ]
    },
    {
     "name": "stdout",
     "output_type": "stream",
     "text": [
      "C31 33149 1629\n"
     ]
    },
    {
     "name": "stdout",
     "output_type": "stream",
     "text": [
      "C31 34149 1673\n"
     ]
    },
    {
     "name": "stdout",
     "output_type": "stream",
     "text": [
      "C31 35149 1725\n"
     ]
    },
    {
     "name": "stdout",
     "output_type": "stream",
     "text": [
      "C31 36149 1776\n"
     ]
    },
    {
     "name": "stdout",
     "output_type": "stream",
     "text": [
      "C31 37149 1832\n"
     ]
    },
    {
     "name": "stdout",
     "output_type": "stream",
     "text": [
      "C31 37675 1865\n"
     ]
    },
    {
     "name": "stdout",
     "output_type": "stream",
     "text": [
      "C151 24149 2477\n"
     ]
    },
    {
     "name": "stdout",
     "output_type": "stream",
     "text": [
      "C151 25149 2585\n"
     ]
    },
    {
     "name": "stdout",
     "output_type": "stream",
     "text": [
      "C151 25403 2608\n"
     ]
    },
    {
     "name": "stdout",
     "output_type": "stream",
     "text": [
      "C31 C15\n",
      "C31 24149 1120\n"
     ]
    },
    {
     "name": "stdout",
     "output_type": "stream",
     "text": [
      "C31 25149 1188\n"
     ]
    },
    {
     "name": "stdout",
     "output_type": "stream",
     "text": [
      "C31 26149 1233\n"
     ]
    },
    {
     "name": "stdout",
     "output_type": "stream",
     "text": [
      "C31 27149 1284\n"
     ]
    },
    {
     "name": "stdout",
     "output_type": "stream",
     "text": [
      "C31 28149 1344\n"
     ]
    },
    {
     "name": "stdout",
     "output_type": "stream",
     "text": [
      "C31 29149 1396\n"
     ]
    },
    {
     "name": "stdout",
     "output_type": "stream",
     "text": [
      "C31 30149 1455\n"
     ]
    },
    {
     "name": "stdout",
     "output_type": "stream",
     "text": [
      "C31 31149 1513\n"
     ]
    },
    {
     "name": "stdout",
     "output_type": "stream",
     "text": [
      "C31 32149 1573\n"
     ]
    },
    {
     "name": "stdout",
     "output_type": "stream",
     "text": [
      "C31 33149 1629\n"
     ]
    },
    {
     "name": "stdout",
     "output_type": "stream",
     "text": [
      "C31 34149 1673\n"
     ]
    },
    {
     "name": "stdout",
     "output_type": "stream",
     "text": [
      "C31 34439 1692\n"
     ]
    },
    {
     "name": "stdout",
     "output_type": "stream",
     "text": [
      "C15 24149 4388\n"
     ]
    },
    {
     "name": "stdout",
     "output_type": "stream",
     "text": [
      "C15 25149 4595\n"
     ]
    },
    {
     "name": "stdout",
     "output_type": "stream",
     "text": [
      "C15 26029 4774\n"
     ]
    },
    {
     "name": "stdout",
     "output_type": "stream",
     "text": [
      "C31 ECAT\n",
      "C31 24149 1120\n"
     ]
    },
    {
     "name": "stdout",
     "output_type": "stream",
     "text": [
      "C31 25149 1188\n"
     ]
    },
    {
     "name": "stdout",
     "output_type": "stream",
     "text": [
      "C31 26149 1233\n"
     ]
    },
    {
     "name": "stdout",
     "output_type": "stream",
     "text": [
      "C31 27149 1284\n"
     ]
    },
    {
     "name": "stdout",
     "output_type": "stream",
     "text": [
      "C31 28149 1344\n"
     ]
    },
    {
     "name": "stdout",
     "output_type": "stream",
     "text": [
      "C31 29149 1396\n"
     ]
    },
    {
     "name": "stdout",
     "output_type": "stream",
     "text": [
      "C31 30007 1447\n"
     ]
    },
    {
     "name": "stdout",
     "output_type": "stream",
     "text": [
      "ECAT 24149 3611\n"
     ]
    },
    {
     "name": "stdout",
     "output_type": "stream",
     "text": [
      "ECAT 25149 3771\n"
     ]
    },
    {
     "name": "stdout",
     "output_type": "stream",
     "text": [
      "ECAT 26149 3901\n"
     ]
    },
    {
     "name": "stdout",
     "output_type": "stream",
     "text": [
      "ECAT 26909 4030\n"
     ]
    },
    {
     "name": "stdout",
     "output_type": "stream",
     "text": [
      "C31 C21\n",
      "C31 24149 1120\n"
     ]
    },
    {
     "name": "stdout",
     "output_type": "stream",
     "text": [
      "C31 25149 1188\n"
     ]
    },
    {
     "name": "stdout",
     "output_type": "stream",
     "text": [
      "C31 26149 1233\n"
     ]
    },
    {
     "name": "stdout",
     "output_type": "stream",
     "text": [
      "C31 27149 1284\n"
     ]
    },
    {
     "name": "stdout",
     "output_type": "stream",
     "text": [
      "C31 28149 1344\n"
     ]
    },
    {
     "name": "stdout",
     "output_type": "stream",
     "text": [
      "C31 29149 1396\n"
     ]
    },
    {
     "name": "stdout",
     "output_type": "stream",
     "text": [
      "C31 30149 1455\n"
     ]
    },
    {
     "name": "stdout",
     "output_type": "stream",
     "text": [
      "C31 31069 1510\n"
     ]
    },
    {
     "name": "stdout",
     "output_type": "stream",
     "text": [
      "C21 24149 827\n"
     ]
    },
    {
     "name": "stdout",
     "output_type": "stream",
     "text": [
      "C21 25149 861\n"
     ]
    },
    {
     "name": "stdout",
     "output_type": "stream",
     "text": [
      "C21 26149 894\n"
     ]
    },
    {
     "name": "stdout",
     "output_type": "stream",
     "text": [
      "C21 26913 919\n"
     ]
    },
    {
     "name": "stdout",
     "output_type": "stream",
     "text": [
      "C31 M14\n",
      "C31 24149 1120\n"
     ]
    },
    {
     "name": "stdout",
     "output_type": "stream",
     "text": [
      "C31 25149 1188\n"
     ]
    },
    {
     "name": "stdout",
     "output_type": "stream",
     "text": [
      "C31 26149 1233\n"
     ]
    },
    {
     "name": "stdout",
     "output_type": "stream",
     "text": [
      "C31 27149 1284\n"
     ]
    },
    {
     "name": "stdout",
     "output_type": "stream",
     "text": [
      "C31 28149 1344\n"
     ]
    },
    {
     "name": "stdout",
     "output_type": "stream",
     "text": [
      "C31 29149 1396\n"
     ]
    },
    {
     "name": "stdout",
     "output_type": "stream",
     "text": [
      "C31 30149 1455\n"
     ]
    },
    {
     "name": "stdout",
     "output_type": "stream",
     "text": [
      "C31 31149 1513\n"
     ]
    },
    {
     "name": "stdout",
     "output_type": "stream",
     "text": [
      "C31 32149 1573\n"
     ]
    },
    {
     "name": "stdout",
     "output_type": "stream",
     "text": [
      "C31 33149 1629\n"
     ]
    },
    {
     "name": "stdout",
     "output_type": "stream",
     "text": [
      "C31 34149 1673\n"
     ]
    },
    {
     "name": "stdout",
     "output_type": "stream",
     "text": [
      "C31 35149 1725\n"
     ]
    },
    {
     "name": "stdout",
     "output_type": "stream",
     "text": [
      "C31 36149 1776\n"
     ]
    },
    {
     "name": "stdout",
     "output_type": "stream",
     "text": [
      "C31 37149 1832\n"
     ]
    },
    {
     "name": "stdout",
     "output_type": "stream",
     "text": [
      "C31 38149 1892\n"
     ]
    },
    {
     "name": "stdout",
     "output_type": "stream",
     "text": [
      "C31 38318 1900\n"
     ]
    },
    {
     "name": "stdout",
     "output_type": "stream",
     "text": [
      "M14 24149 2646\n"
     ]
    },
    {
     "name": "stdout",
     "output_type": "stream",
     "text": [
      "M14 25149 2750\n"
     ]
    },
    {
     "name": "stdout",
     "output_type": "stream",
     "text": [
      "M14 25604 2806\n"
     ]
    },
    {
     "name": "stdout",
     "output_type": "stream",
     "text": [
      "C181 C151\n",
      "C181 24149 1244\n"
     ]
    },
    {
     "name": "stdout",
     "output_type": "stream",
     "text": [
      "C181 25149 1283\n"
     ]
    },
    {
     "name": "stdout",
     "output_type": "stream",
     "text": [
      "C181 26149 1340\n"
     ]
    },
    {
     "name": "stdout",
     "output_type": "stream",
     "text": [
      "C181 27149 1400\n"
     ]
    },
    {
     "name": "stdout",
     "output_type": "stream",
     "text": [
      "C181 28149 1442\n"
     ]
    },
    {
     "name": "stdout",
     "output_type": "stream",
     "text": [
      "C181 29149 1506\n"
     ]
    },
    {
     "name": "stdout",
     "output_type": "stream",
     "text": [
      "C181 30149 1558\n"
     ]
    },
    {
     "name": "stdout",
     "output_type": "stream",
     "text": [
      "C181 31149 1606\n"
     ]
    },
    {
     "name": "stdout",
     "output_type": "stream",
     "text": [
      "C181 31344 1618\n"
     ]
    },
    {
     "name": "stdout",
     "output_type": "stream",
     "text": [
      "C151 24149 2477\n"
     ]
    },
    {
     "name": "stdout",
     "output_type": "stream",
     "text": [
      "C151 25149 2585\n"
     ]
    },
    {
     "name": "stdout",
     "output_type": "stream",
     "text": [
      "C151 26149 2695\n"
     ]
    },
    {
     "name": "stdout",
     "output_type": "stream",
     "text": [
      "C151 27149 2810\n"
     ]
    },
    {
     "name": "stdout",
     "output_type": "stream",
     "text": [
      "C151 27612 2851\n"
     ]
    },
    {
     "name": "stdout",
     "output_type": "stream",
     "text": [
      "C181 GCAT\n",
      "C181 24149 1244\n"
     ]
    },
    {
     "name": "stdout",
     "output_type": "stream",
     "text": [
      "C181 25149 1283\n"
     ]
    },
    {
     "name": "stdout",
     "output_type": "stream",
     "text": [
      "C181 26149 1340\n"
     ]
    },
    {
     "name": "stdout",
     "output_type": "stream",
     "text": [
      "C181 27149 1400\n"
     ]
    },
    {
     "name": "stdout",
     "output_type": "stream",
     "text": [
      "C181 28149 1442\n"
     ]
    },
    {
     "name": "stdout",
     "output_type": "stream",
     "text": [
      "C181 29149 1506\n"
     ]
    },
    {
     "name": "stdout",
     "output_type": "stream",
     "text": [
      "C181 29720 1541\n"
     ]
    },
    {
     "name": "stdout",
     "output_type": "stream",
     "text": [
      "GCAT 24149 7284\n"
     ]
    },
    {
     "name": "stdout",
     "output_type": "stream",
     "text": [
      "GCAT 25149 7554\n"
     ]
    },
    {
     "name": "stdout",
     "output_type": "stream",
     "text": [
      "GCAT 26149 7830\n"
     ]
    },
    {
     "name": "stdout",
     "output_type": "stream",
     "text": [
      "GCAT 27149 8133\n"
     ]
    },
    {
     "name": "stdout",
     "output_type": "stream",
     "text": [
      "GCAT 27742 8304\n"
     ]
    },
    {
     "name": "stdout",
     "output_type": "stream",
     "text": [
      "C181 25149 1283\n"
     ]
    },
    {
     "name": "stdout",
     "output_type": "stream",
     "text": [
      "C181 26149 1340\n"
     ]
    },
    {
     "name": "stdout",
     "output_type": "stream",
     "text": [
      "C181 27149 1400\n"
     ]
    },
    {
     "name": "stdout",
     "output_type": "stream",
     "text": [
      "C181 28003 1434\n"
     ]
    },
    {
     "name": "stdout",
     "output_type": "stream",
     "text": [
      "C15 24149 4388\n"
     ]
    },
    {
     "name": "stdout",
     "output_type": "stream",
     "text": [
      "C15 25149 4595\n"
     ]
    },
    {
     "name": "stdout",
     "output_type": "stream",
     "text": [
      "C15 26149 4796\n"
     ]
    },
    {
     "name": "stdout",
     "output_type": "stream",
     "text": [
      "C15 27149 5006\n"
     ]
    },
    {
     "name": "stdout",
     "output_type": "stream",
     "text": [
      "C15 28149 5211\n"
     ]
    },
    {
     "name": "stdout",
     "output_type": "stream",
     "text": [
      "C15 29149 5429\n"
     ]
    },
    {
     "name": "stdout",
     "output_type": "stream",
     "text": [
      "C15 29940 5597\n"
     ]
    },
    {
     "name": "stdout",
     "output_type": "stream",
     "text": [
      "C181 C17\n",
      "C181 24149 1244\n"
     ]
    },
    {
     "name": "stdout",
     "output_type": "stream",
     "text": [
      "C181 25149 1283\n"
     ]
    },
    {
     "name": "stdout",
     "output_type": "stream",
     "text": [
      "C181 26149 1340\n"
     ]
    },
    {
     "name": "stdout",
     "output_type": "stream",
     "text": [
      "C181 27149 1400\n"
     ]
    },
    {
     "name": "stdout",
     "output_type": "stream",
     "text": [
      "C181 28149 1442\n"
     ]
    },
    {
     "name": "stdout",
     "output_type": "stream",
     "text": [
      "C181 29149 1506\n"
     ]
    },
    {
     "name": "stdout",
     "output_type": "stream",
     "text": [
      "C181 29535 1530\n"
     ]
    },
    {
     "name": "stdout",
     "output_type": "stream",
     "text": [
      "C17 24149 1229\n"
     ]
    },
    {
     "name": "stdout",
     "output_type": "stream",
     "text": [
      "C17 25149 1275\n"
     ]
    },
    {
     "name": "stdout",
     "output_type": "stream",
     "text": [
      "C17 26149 1339\n"
     ]
    },
    {
     "name": "stdout",
     "output_type": "stream",
     "text": [
      "C17 27149 1392\n"
     ]
    },
    {
     "name": "stdout",
     "output_type": "stream",
     "text": [
      "C17 28149 1441\n"
     ]
    },
    {
     "name": "stdout",
     "output_type": "stream",
     "text": [
      "C17 28830 1480\n"
     ]
    },
    {
     "name": "stdout",
     "output_type": "stream",
     "text": [
      "M141 ECAT\n",
      "M141 24149 1575\n"
     ]
    },
    {
     "name": "stdout",
     "output_type": "stream",
     "text": [
      "M141 24335 1586\n"
     ]
    },
    {
     "name": "stdout",
     "output_type": "stream",
     "text": [
      "ECAT 24149 3611\n"
     ]
    },
    {
     "name": "stdout",
     "output_type": "stream",
     "text": [
      "ECAT 25149 3771\n"
     ]
    },
    {
     "name": "stdout",
     "output_type": "stream",
     "text": [
      "ECAT 26149 3901\n"
     ]
    },
    {
     "name": "stdout",
     "output_type": "stream",
     "text": [
      "ECAT 27149 4064\n"
     ]
    },
    {
     "name": "stdout",
     "output_type": "stream",
     "text": [
      "ECAT 28149 4223\n"
     ]
    },
    {
     "name": "stdout",
     "output_type": "stream",
     "text": [
      "ECAT 28705 4316\n"
     ]
    },
    {
     "name": "stdout",
     "output_type": "stream",
     "text": [
      "M141 GCAT\n",
      "M141 24149 1575\n"
     ]
    },
    {
     "name": "stdout",
     "output_type": "stream",
     "text": [
      "M141 24580 1599\n"
     ]
    },
    {
     "name": "stdout",
     "output_type": "stream",
     "text": [
      "GCAT 24149 7284\n"
     ]
    },
    {
     "name": "stdout",
     "output_type": "stream",
     "text": [
      "GCAT 25149 7554\n"
     ]
    },
    {
     "name": "stdout",
     "output_type": "stream",
     "text": [
      "GCAT 26149 7830\n"
     ]
    },
    {
     "name": "stdout",
     "output_type": "stream",
     "text": [
      "GCAT 27149 8133\n"
     ]
    },
    {
     "name": "stdout",
     "output_type": "stream",
     "text": [
      "GCAT 27851 8332\n"
     ]
    },
    {
     "name": "stdout",
     "output_type": "stream",
     "text": [
      "M141 C24\n",
      "M141 24149 1575\n"
     ]
    },
    {
     "name": "stdout",
     "output_type": "stream",
     "text": [
      "M141 24631 1601\n"
     ]
    },
    {
     "name": "stdout",
     "output_type": "stream",
     "text": [
      "C24 24149 965\n"
     ]
    },
    {
     "name": "stdout",
     "output_type": "stream",
     "text": [
      "C24 25149 997\n"
     ]
    },
    {
     "name": "stdout",
     "output_type": "stream",
     "text": [
      "C24 26149 1039\n",
      "C24 27149 1075\n",
      "C24 28149 1120\n"
     ]
    },
    {
     "name": "stdout",
     "output_type": "stream",
     "text": [
      "C24 28598 1140\n"
     ]
    },
    {
     "name": "stdout",
     "output_type": "stream",
     "text": [
      "M141 C31\n",
      "M141 23938 1557\n"
     ]
    },
    {
     "name": "stdout",
     "output_type": "stream",
     "text": [
      "C31 24149 1120\n"
     ]
    },
    {
     "name": "stdout",
     "output_type": "stream",
     "text": [
      "C31 25149 1188\n"
     ]
    },
    {
     "name": "stdout",
     "output_type": "stream",
     "text": [
      "C31 26149 1233\n"
     ]
    },
    {
     "name": "stdout",
     "output_type": "stream",
     "text": [
      "C31 27149 1284\n"
     ]
    },
    {
     "name": "stdout",
     "output_type": "stream",
     "text": [
      "C31 28149 1344\n"
     ]
    },
    {
     "name": "stdout",
     "output_type": "stream",
     "text": [
      "C31 29149 1396\n"
     ]
    },
    {
     "name": "stdout",
     "output_type": "stream",
     "text": [
      "C31 30149 1455\n"
     ]
    },
    {
     "name": "stdout",
     "output_type": "stream",
     "text": [
      "C31 30593 1478\n"
     ]
    },
    {
     "name": "stdout",
     "output_type": "stream",
     "text": [
      "M141 C21\n",
      "M141 24149 1575\n"
     ]
    },
    {
     "name": "stdout",
     "output_type": "stream",
     "text": [
      "M141 24326 1586\n"
     ]
    },
    {
     "name": "stdout",
     "output_type": "stream",
     "text": [
      "C21 24149 827\n"
     ]
    },
    {
     "name": "stdout",
     "output_type": "stream",
     "text": [
      "C21 25149 861\n"
     ]
    },
    {
     "name": "stdout",
     "output_type": "stream",
     "text": [
      "C21 26149 894\n"
     ]
    },
    {
     "name": "stdout",
     "output_type": "stream",
     "text": [
      "C21 27149 934\n"
     ]
    },
    {
     "name": "stdout",
     "output_type": "stream",
     "text": [
      "C21 28149 971\n"
     ]
    },
    {
     "name": "stdout",
     "output_type": "stream",
     "text": [
      "C21 28563 988\n"
     ]
    },
    {
     "name": "stdout",
     "output_type": "stream",
     "text": [
      "M11 ECAT\n",
      "M11 24149 1341\n"
     ]
    },
    {
     "name": "stdout",
     "output_type": "stream",
     "text": [
      "M11 25149 1392\n"
     ]
    },
    {
     "name": "stdout",
     "output_type": "stream",
     "text": [
      "M11 26149 1450\n"
     ]
    },
    {
     "name": "stdout",
     "output_type": "stream",
     "text": [
      "M11 26188 1452\n"
     ]
    },
    {
     "name": "stdout",
     "output_type": "stream",
     "text": [
      "ECAT 24149 3611\n"
     ]
    },
    {
     "name": "stdout",
     "output_type": "stream",
     "text": [
      "ECAT 25149 3771\n"
     ]
    },
    {
     "name": "stdout",
     "output_type": "stream",
     "text": [
      "ECAT 26149 3901\n"
     ]
    },
    {
     "name": "stdout",
     "output_type": "stream",
     "text": [
      "ECAT 26414 3947\n"
     ]
    },
    {
     "name": "stdout",
     "output_type": "stream",
     "text": [
      "M11 C152\n",
      "M11 24149 1341\n"
     ]
    },
    {
     "name": "stdout",
     "output_type": "stream",
     "text": [
      "M11 25149 1392\n"
     ]
    },
    {
     "name": "stdout",
     "output_type": "stream",
     "text": [
      "M11 25168 1393\n"
     ]
    },
    {
     "name": "stdout",
     "output_type": "stream",
     "text": [
      "C152 24149 2047\n"
     ]
    },
    {
     "name": "stdout",
     "output_type": "stream",
     "text": [
      "C152 25149 2170\n"
     ]
    },
    {
     "name": "stdout",
     "output_type": "stream",
     "text": [
      "C152 26149 2270\n"
     ]
    },
    {
     "name": "stdout",
     "output_type": "stream",
     "text": [
      "C152 27149 2399\n"
     ]
    },
    {
     "name": "stdout",
     "output_type": "stream",
     "text": [
      "C152 28149 2496\n"
     ]
    },
    {
     "name": "stdout",
     "output_type": "stream",
     "text": [
      "C152 29149 2614\n"
     ]
    },
    {
     "name": "stdout",
     "output_type": "stream",
     "text": [
      "C152 29674 2665\n"
     ]
    },
    {
     "name": "stdout",
     "output_type": "stream",
     "text": [
      "M11 M132\n",
      "M11 24149 1341\n"
     ]
    },
    {
     "name": "stdout",
     "output_type": "stream",
     "text": [
      "M11 25149 1392\n"
     ]
    },
    {
     "name": "stdout",
     "output_type": "stream",
     "text": [
      "M11 26149 1450\n"
     ]
    },
    {
     "name": "stdout",
     "output_type": "stream",
     "text": [
      "M11 27149 1504\n"
     ]
    },
    {
     "name": "stdout",
     "output_type": "stream",
     "text": [
      "M11 27319 1510\n"
     ]
    },
    {
     "name": "stdout",
     "output_type": "stream",
     "text": [
      "M132 24149 721\n"
     ]
    },
    {
     "name": "stdout",
     "output_type": "stream",
     "text": [
      "M132 25149 757\n"
     ]
    },
    {
     "name": "stdout",
     "output_type": "stream",
     "text": [
      "M132 26149 783\n"
     ]
    },
    {
     "name": "stdout",
     "output_type": "stream",
     "text": [
      "M132 26222 785\n"
     ]
    },
    {
     "name": "stdout",
     "output_type": "stream",
     "text": [
      "M11 M13\n",
      "M11 24149 1341\n"
     ]
    },
    {
     "name": "stdout",
     "output_type": "stream",
     "text": [
      "M11 25149 1392\n"
     ]
    },
    {
     "name": "stdout",
     "output_type": "stream",
     "text": [
      "M11 26149 1450\n"
     ]
    },
    {
     "name": "stdout",
     "output_type": "stream",
     "text": [
      "M11 26954 1498\n"
     ]
    },
    {
     "name": "stdout",
     "output_type": "stream",
     "text": [
      "M13 24149 1651\n"
     ]
    },
    {
     "name": "stdout",
     "output_type": "stream",
     "text": [
      "M13 25149 1712\n"
     ]
    },
    {
     "name": "stdout",
     "output_type": "stream",
     "text": [
      "M13 26149 1782\n"
     ]
    },
    {
     "name": "stdout",
     "output_type": "stream",
     "text": [
      "M13 27149 1837\n"
     ]
    },
    {
     "name": "stdout",
     "output_type": "stream",
     "text": [
      "M13 27171 1837\n"
     ]
    },
    {
     "name": "stdout",
     "output_type": "stream",
     "text": [
      "M11 CCAT\n",
      "M11 24149 1341\n"
     ]
    },
    {
     "name": "stdout",
     "output_type": "stream",
     "text": [
      "M11 24968 1383\n"
     ]
    },
    {
     "name": "stdout",
     "output_type": "stream",
     "text": [
      "CCAT 24149 11246\n"
     ]
    },
    {
     "name": "stdout",
     "output_type": "stream",
     "text": [
      "CCAT 25149 11733\n"
     ]
    },
    {
     "name": "stdout",
     "output_type": "stream",
     "text": [
      "CCAT 26149 12228\n"
     ]
    },
    {
     "name": "stdout",
     "output_type": "stream",
     "text": [
      "CCAT 27149 12708\n"
     ]
    },
    {
     "name": "stdout",
     "output_type": "stream",
     "text": [
      "CCAT 28149 13188\n"
     ]
    },
    {
     "name": "stdout",
     "output_type": "stream",
     "text": [
      "CCAT 29149 13694\n"
     ]
    },
    {
     "name": "stdout",
     "output_type": "stream",
     "text": [
      "CCAT 29534 13898\n"
     ]
    },
    {
     "name": "stdout",
     "output_type": "stream",
     "text": [
      "E21 C31\n",
      "E21 24149 1326\n"
     ]
    },
    {
     "name": "stdout",
     "output_type": "stream",
     "text": [
      "E21 25149 1383\n"
     ]
    },
    {
     "name": "stdout",
     "output_type": "stream",
     "text": [
      "E21 26149 1433\n"
     ]
    },
    {
     "name": "stdout",
     "output_type": "stream",
     "text": [
      "E21 27149 1479\n"
     ]
    },
    {
     "name": "stdout",
     "output_type": "stream",
     "text": [
      "E21 28149 1538\n"
     ]
    },
    {
     "name": "stdout",
     "output_type": "stream",
     "text": [
      "E21 28308 1550\n"
     ]
    },
    {
     "name": "stdout",
     "output_type": "stream",
     "text": [
      "C31 24149 1120\n"
     ]
    },
    {
     "name": "stdout",
     "output_type": "stream",
     "text": [
      "C31 25149 1188\n"
     ]
    },
    {
     "name": "stdout",
     "output_type": "stream",
     "text": [
      "C31 26149 1233\n"
     ]
    },
    {
     "name": "stdout",
     "output_type": "stream",
     "text": [
      "C31 27149 1284\n"
     ]
    },
    {
     "name": "stdout",
     "output_type": "stream",
     "text": [
      "C31 28040 1336\n"
     ]
    },
    {
     "name": "stdout",
     "output_type": "stream",
     "text": [
      "E21 M12\n",
      "E21 24149 1326\n"
     ]
    },
    {
     "name": "stdout",
     "output_type": "stream",
     "text": [
      "E21 25149 1383\n"
     ]
    },
    {
     "name": "stdout",
     "output_type": "stream",
     "text": [
      "E21 26149 1433\n"
     ]
    },
    {
     "name": "stdout",
     "output_type": "stream",
     "text": [
      "E21 27149 1479\n"
     ]
    },
    {
     "name": "stdout",
     "output_type": "stream",
     "text": [
      "E21 28149 1538\n"
     ]
    },
    {
     "name": "stdout",
     "output_type": "stream",
     "text": [
      "E21 29149 1608\n"
     ]
    },
    {
     "name": "stdout",
     "output_type": "stream",
     "text": [
      "E21 29998 1664\n"
     ]
    },
    {
     "name": "stdout",
     "output_type": "stream",
     "text": [
      "M12 24149 758\n"
     ]
    },
    {
     "name": "stdout",
     "output_type": "stream",
     "text": [
      "M12 25149 778\n"
     ]
    },
    {
     "name": "stdout",
     "output_type": "stream",
     "text": [
      "M12 26074 815\n"
     ]
    },
    {
     "name": "stdout",
     "output_type": "stream",
     "text": [
      "E21 MCAT\n",
      "E21 24149 1326\n",
      "E21 25149 1383\n"
     ]
    },
    {
     "name": "stdout",
     "output_type": "stream",
     "text": [
      "E21 26149 1433\n"
     ]
    },
    {
     "name": "stdout",
     "output_type": "stream",
     "text": [
      "E21 27149 1479\n"
     ]
    },
    {
     "name": "stdout",
     "output_type": "stream",
     "text": [
      "E21 27936 1525\n"
     ]
    },
    {
     "name": "stdout",
     "output_type": "stream",
     "text": [
      "MCAT 24149 6124\n"
     ]
    },
    {
     "name": "stdout",
     "output_type": "stream",
     "text": [
      "MCAT 25149 6382\n"
     ]
    },
    {
     "name": "stdout",
     "output_type": "stream",
     "text": [
      "MCAT 26149 6639\n"
     ]
    },
    {
     "name": "stdout",
     "output_type": "stream",
     "text": [
      "MCAT 27149 6865\n"
     ]
    },
    {
     "name": "stdout",
     "output_type": "stream",
     "text": [
      "MCAT 28149 7081\n"
     ]
    },
    {
     "name": "stdout",
     "output_type": "stream",
     "text": [
      "MCAT 28504 7160\n"
     ]
    },
    {
     "name": "stdout",
     "output_type": "stream",
     "text": [
      "E21 E12\n",
      "E21 24149 1326\n"
     ]
    },
    {
     "name": "stdout",
     "output_type": "stream",
     "text": [
      "E21 25149 1383\n"
     ]
    },
    {
     "name": "stdout",
     "output_type": "stream",
     "text": [
      "E21 26149 1433\n"
     ]
    },
    {
     "name": "stdout",
     "output_type": "stream",
     "text": [
      "E21 27149 1479\n"
     ]
    },
    {
     "name": "stdout",
     "output_type": "stream",
     "text": [
      "E21 27758 1515\n"
     ]
    },
    {
     "name": "stdout",
     "output_type": "stream",
     "text": [
      "E12 24149 718\n"
     ]
    },
    {
     "name": "stdout",
     "output_type": "stream",
     "text": [
      "E12 25149 754\n"
     ]
    },
    {
     "name": "stdout",
     "output_type": "stream",
     "text": [
      "E12 26149 798\n"
     ]
    },
    {
     "name": "stdout",
     "output_type": "stream",
     "text": [
      "E12 27149 833\n"
     ]
    },
    {
     "name": "stdout",
     "output_type": "stream",
     "text": [
      "E12 27359 839\n"
     ]
    },
    {
     "name": "stdout",
     "output_type": "stream",
     "text": [
      "E21 GPOL\n",
      "E21 24149 1326\n"
     ]
    },
    {
     "name": "stdout",
     "output_type": "stream",
     "text": [
      "E21 25149 1383\n"
     ]
    },
    {
     "name": "stdout",
     "output_type": "stream",
     "text": [
      "E21 26149 1433\n"
     ]
    },
    {
     "name": "stdout",
     "output_type": "stream",
     "text": [
      "E21 27113 1479\n"
     ]
    },
    {
     "name": "stdout",
     "output_type": "stream",
     "text": [
      "GPOL 24149 1720\n"
     ]
    },
    {
     "name": "stdout",
     "output_type": "stream",
     "text": [
      "GPOL 25149 1804\n"
     ]
    },
    {
     "name": "stdout",
     "output_type": "stream",
     "text": [
      "GPOL 26149 1881\n"
     ]
    },
    {
     "name": "stdout",
     "output_type": "stream",
     "text": [
      "GPOL 27149 1946\n"
     ]
    },
    {
     "name": "stdout",
     "output_type": "stream",
     "text": [
      "GPOL 28149 2011\n"
     ]
    },
    {
     "name": "stdout",
     "output_type": "stream",
     "text": [
      "GPOL 29149 2094\n"
     ]
    },
    {
     "name": "stdout",
     "output_type": "stream",
     "text": [
      "GPOL 29578 2122\n"
     ]
    },
    {
     "name": "stdout",
     "output_type": "stream",
     "text": [
      "C17 MCAT\n",
      "C17 24149 1229\n"
     ]
    },
    {
     "name": "stdout",
     "output_type": "stream",
     "text": [
      "C17 25149 1275\n"
     ]
    },
    {
     "name": "stdout",
     "output_type": "stream",
     "text": [
      "C17 26149 1339\n"
     ]
    },
    {
     "name": "stdout",
     "output_type": "stream",
     "text": [
      "C17 27149 1392\n"
     ]
    },
    {
     "name": "stdout",
     "output_type": "stream",
     "text": [
      "C17 28149 1441\n"
     ]
    },
    {
     "name": "stdout",
     "output_type": "stream",
     "text": [
      "C17 29149 1499\n"
     ]
    },
    {
     "name": "stdout",
     "output_type": "stream",
     "text": [
      "C17 29838 1532\n"
     ]
    },
    {
     "name": "stdout",
     "output_type": "stream",
     "text": [
      "MCAT 24149 6124\n"
     ]
    },
    {
     "name": "stdout",
     "output_type": "stream",
     "text": [
      "MCAT 25149 6385\n"
     ]
    },
    {
     "name": "stdout",
     "output_type": "stream",
     "text": [
      "MCAT 26149 6640\n"
     ]
    },
    {
     "name": "stdout",
     "output_type": "stream",
     "text": [
      "MCAT 27149 6864\n"
     ]
    },
    {
     "name": "stdout",
     "output_type": "stream",
     "text": [
      "MCAT 28064 7060\n"
     ]
    },
    {
     "name": "stdout",
     "output_type": "stream",
     "text": [
      "C17 C152\n",
      "C17 24149 1229\n"
     ]
    },
    {
     "name": "stdout",
     "output_type": "stream",
     "text": [
      "C17 25149 1275\n"
     ]
    },
    {
     "name": "stdout",
     "output_type": "stream",
     "text": [
      "C17 26149 1339\n"
     ]
    },
    {
     "name": "stdout",
     "output_type": "stream",
     "text": [
      "C17 27149 1392\n"
     ]
    },
    {
     "name": "stdout",
     "output_type": "stream",
     "text": [
      "C17 28149 1441\n"
     ]
    },
    {
     "name": "stdout",
     "output_type": "stream",
     "text": [
      "C17 29093 1498\n"
     ]
    },
    {
     "name": "stdout",
     "output_type": "stream",
     "text": [
      "C152 24149 2047\n"
     ]
    },
    {
     "name": "stdout",
     "output_type": "stream",
     "text": [
      "C152 25149 2170\n"
     ]
    },
    {
     "name": "stdout",
     "output_type": "stream",
     "text": [
      "C152 26149 2270\n"
     ]
    },
    {
     "name": "stdout",
     "output_type": "stream",
     "text": [
      "C152 27149 2399\n"
     ]
    },
    {
     "name": "stdout",
     "output_type": "stream",
     "text": [
      "C152 28149 2496\n"
     ]
    },
    {
     "name": "stdout",
     "output_type": "stream",
     "text": [
      "C152 28229 2502\n"
     ]
    },
    {
     "name": "stdout",
     "output_type": "stream",
     "text": [
      "C17 C15\n",
      "C17 24149 1229\n"
     ]
    },
    {
     "name": "stdout",
     "output_type": "stream",
     "text": [
      "C17 25149 1275\n"
     ]
    },
    {
     "name": "stdout",
     "output_type": "stream",
     "text": [
      "C17 26149 1339\n"
     ]
    },
    {
     "name": "stdout",
     "output_type": "stream",
     "text": [
      "C17 27149 1392\n"
     ]
    },
    {
     "name": "stdout",
     "output_type": "stream",
     "text": [
      "C17 28149 1441\n"
     ]
    },
    {
     "name": "stdout",
     "output_type": "stream",
     "text": [
      "C17 28586 1463\n"
     ]
    },
    {
     "name": "stdout",
     "output_type": "stream",
     "text": [
      "C15 24149 4388\n"
     ]
    },
    {
     "name": "stdout",
     "output_type": "stream",
     "text": [
      "C15 25149 4595\n"
     ]
    },
    {
     "name": "stdout",
     "output_type": "stream",
     "text": [
      "C15 26149 4796\n"
     ]
    },
    {
     "name": "stdout",
     "output_type": "stream",
     "text": [
      "C15 27149 5006\n"
     ]
    },
    {
     "name": "stdout",
     "output_type": "stream",
     "text": [
      "C15 28149 5211\n"
     ]
    },
    {
     "name": "stdout",
     "output_type": "stream",
     "text": [
      "C15 29050 5407\n"
     ]
    },
    {
     "name": "stdout",
     "output_type": "stream",
     "text": [
      "C17 C18\n",
      "C17 24149 1229\n"
     ]
    },
    {
     "name": "stdout",
     "output_type": "stream",
     "text": [
      "C17 25149 1275\n"
     ]
    },
    {
     "name": "stdout",
     "output_type": "stream",
     "text": [
      "C17 26149 1339\n"
     ]
    },
    {
     "name": "stdout",
     "output_type": "stream",
     "text": [
      "C17 27149 1392\n"
     ]
    },
    {
     "name": "stdout",
     "output_type": "stream",
     "text": [
      "C17 28149 1441\n"
     ]
    },
    {
     "name": "stdout",
     "output_type": "stream",
     "text": [
      "C17 29149 1499\n"
     ]
    },
    {
     "name": "stdout",
     "output_type": "stream",
     "text": [
      "C17 29281 1506\n"
     ]
    },
    {
     "name": "stdout",
     "output_type": "stream",
     "text": [
      "C18 24149 1509\n"
     ]
    },
    {
     "name": "stdout",
     "output_type": "stream",
     "text": [
      "C18 25149 1573\n"
     ]
    },
    {
     "name": "stdout",
     "output_type": "stream",
     "text": [
      "C18 26149 1632\n"
     ]
    },
    {
     "name": "stdout",
     "output_type": "stream",
     "text": [
      "C18 27149 1698\n"
     ]
    },
    {
     "name": "stdout",
     "output_type": "stream",
     "text": [
      "C18 27722 1728\n"
     ]
    },
    {
     "name": "stdout",
     "output_type": "stream",
     "text": [
      "C17 ECAT\n",
      "C17 24149 1229\n"
     ]
    },
    {
     "name": "stdout",
     "output_type": "stream",
     "text": [
      "C17 25149 1275\n"
     ]
    },
    {
     "name": "stdout",
     "output_type": "stream",
     "text": [
      "C17 26149 1339\n"
     ]
    },
    {
     "name": "stdout",
     "output_type": "stream",
     "text": [
      "C17 27149 1392\n"
     ]
    },
    {
     "name": "stdout",
     "output_type": "stream",
     "text": [
      "C17 28065 1434\n"
     ]
    },
    {
     "name": "stdout",
     "output_type": "stream",
     "text": [
      "ECAT 24149 3611\n"
     ]
    },
    {
     "name": "stdout",
     "output_type": "stream",
     "text": [
      "ECAT 25149 3771\n"
     ]
    },
    {
     "name": "stdout",
     "output_type": "stream",
     "text": [
      "ECAT 26149 3901\n"
     ]
    },
    {
     "name": "stdout",
     "output_type": "stream",
     "text": [
      "ECAT 27149 4064\n"
     ]
    },
    {
     "name": "stdout",
     "output_type": "stream",
     "text": [
      "ECAT 28149 4223\n"
     ]
    },
    {
     "name": "stdout",
     "output_type": "stream",
     "text": [
      "ECAT 29149 4379\n"
     ]
    },
    {
     "name": "stdout",
     "output_type": "stream",
     "text": [
      "ECAT 29254 4393\n"
     ]
    },
    {
     "name": "stdout",
     "output_type": "stream",
     "text": [
      "M13 E21\n",
      "M13 24149 1651\n"
     ]
    },
    {
     "name": "stdout",
     "output_type": "stream",
     "text": [
      "M13 25149 1712\n"
     ]
    },
    {
     "name": "stdout",
     "output_type": "stream",
     "text": [
      "M13 26149 1782\n"
     ]
    },
    {
     "name": "stdout",
     "output_type": "stream",
     "text": [
      "M13 27149 1837\n"
     ]
    },
    {
     "name": "stdout",
     "output_type": "stream",
     "text": [
      "M13 27614 1863\n"
     ]
    },
    {
     "name": "stdout",
     "output_type": "stream",
     "text": [
      "E21 24149 1326\n"
     ]
    },
    {
     "name": "stdout",
     "output_type": "stream",
     "text": [
      "E21 25149 1383\n"
     ]
    },
    {
     "name": "stdout",
     "output_type": "stream",
     "text": [
      "E21 25305 1389\n",
      "M13 M11\n",
      "M13 24149 1651\n"
     ]
    },
    {
     "name": "stdout",
     "output_type": "stream",
     "text": [
      "M13 25149 1712\n"
     ]
    },
    {
     "name": "stdout",
     "output_type": "stream",
     "text": [
      "M13 26149 1782\n"
     ]
    },
    {
     "name": "stdout",
     "output_type": "stream",
     "text": [
      "M13 27149 1837\n"
     ]
    },
    {
     "name": "stdout",
     "output_type": "stream",
     "text": [
      "M13 28149 1896\n"
     ]
    },
    {
     "name": "stdout",
     "output_type": "stream",
     "text": [
      "M13 28415 1906\n"
     ]
    },
    {
     "name": "stdout",
     "output_type": "stream",
     "text": [
      "M11 24149 1341\n"
     ]
    },
    {
     "name": "stdout",
     "output_type": "stream",
     "text": [
      "M11 24602 1366\n"
     ]
    },
    {
     "name": "stdout",
     "output_type": "stream",
     "text": [
      "M13 GCAT\n",
      "M13 24149 1651\n"
     ]
    },
    {
     "name": "stdout",
     "output_type": "stream",
     "text": [
      "M13 25149 1712\n"
     ]
    },
    {
     "name": "stdout",
     "output_type": "stream",
     "text": [
      "M13 26149 1781\n"
     ]
    },
    {
     "name": "stdout",
     "output_type": "stream",
     "text": [
      "M13 27149 1837\n"
     ]
    },
    {
     "name": "stdout",
     "output_type": "stream",
     "text": [
      "M13 27321 1843\n"
     ]
    },
    {
     "name": "stdout",
     "output_type": "stream",
     "text": [
      "GCAT 24149 7284\n"
     ]
    },
    {
     "name": "stdout",
     "output_type": "stream",
     "text": [
      "GCAT 25149 7554\n"
     ]
    },
    {
     "name": "stdout",
     "output_type": "stream",
     "text": [
      "GCAT 25848 7749\n"
     ]
    },
    {
     "name": "stdout",
     "output_type": "stream",
     "text": [
      "M13 E12\n",
      "M13 24149 1651\n"
     ]
    },
    {
     "name": "stdout",
     "output_type": "stream",
     "text": [
      "M13 25149 1712\n"
     ]
    },
    {
     "name": "stdout",
     "output_type": "stream",
     "text": [
      "M13 26039 1775\n"
     ]
    },
    {
     "name": "stdout",
     "output_type": "stream",
     "text": [
      "E12 24149 718\n"
     ]
    },
    {
     "name": "stdout",
     "output_type": "stream",
     "text": [
      "E12 25149 754\n"
     ]
    },
    {
     "name": "stdout",
     "output_type": "stream",
     "text": [
      "E12 26149 798\n"
     ]
    },
    {
     "name": "stdout",
     "output_type": "stream",
     "text": [
      "E12 27149 833\n"
     ]
    },
    {
     "name": "stdout",
     "output_type": "stream",
     "text": [
      "E12 28149 868\n"
     ]
    },
    {
     "name": "stdout",
     "output_type": "stream",
     "text": [
      "E12 28749 886\n"
     ]
    },
    {
     "name": "stdout",
     "output_type": "stream",
     "text": [
      "M13 ECAT\n",
      "M13 24149 1651\n"
     ]
    },
    {
     "name": "stdout",
     "output_type": "stream",
     "text": [
      "M13 25149 1712\n"
     ]
    },
    {
     "name": "stdout",
     "output_type": "stream",
     "text": [
      "M13 25616 1743\n"
     ]
    },
    {
     "name": "stdout",
     "output_type": "stream",
     "text": [
      "ECAT 24149 3611\n"
     ]
    },
    {
     "name": "stdout",
     "output_type": "stream",
     "text": [
      "ECAT 25149 3771\n"
     ]
    },
    {
     "name": "stdout",
     "output_type": "stream",
     "text": [
      "ECAT 26149 3901\n"
     ]
    },
    {
     "name": "stdout",
     "output_type": "stream",
     "text": [
      "ECAT 27149 4064\n"
     ]
    },
    {
     "name": "stdout",
     "output_type": "stream",
     "text": [
      "ECAT 28149 4223\n"
     ]
    },
    {
     "name": "stdout",
     "output_type": "stream",
     "text": [
      "ECAT 29149 4379\n"
     ]
    },
    {
     "name": "stdout",
     "output_type": "stream",
     "text": [
      "ECAT 30149 4525\n"
     ]
    },
    {
     "name": "stdout",
     "output_type": "stream",
     "text": [
      "ECAT 30491 4583\n"
     ]
    },
    {
     "name": "stdout",
     "output_type": "stream",
     "text": [
      "C18 E12\n",
      "C18 24149 1509\n"
     ]
    },
    {
     "name": "stdout",
     "output_type": "stream",
     "text": [
      "C18 25149 1573\n"
     ]
    },
    {
     "name": "stdout",
     "output_type": "stream",
     "text": [
      "C18 26149 1632\n"
     ]
    },
    {
     "name": "stdout",
     "output_type": "stream",
     "text": [
      "C18 27149 1698\n"
     ]
    },
    {
     "name": "stdout",
     "output_type": "stream",
     "text": [
      "C18 28149 1758\n"
     ]
    },
    {
     "name": "stdout",
     "output_type": "stream",
     "text": [
      "C18 29149 1821\n"
     ]
    },
    {
     "name": "stdout",
     "output_type": "stream",
     "text": [
      "C18 30149 1893\n"
     ]
    },
    {
     "name": "stdout",
     "output_type": "stream",
     "text": [
      "C18 31149 1961\n"
     ]
    },
    {
     "name": "stdout",
     "output_type": "stream",
     "text": [
      "C18 32149 2028\n"
     ]
    },
    {
     "name": "stdout",
     "output_type": "stream",
     "text": [
      "C18 32673 2057\n"
     ]
    },
    {
     "name": "stdout",
     "output_type": "stream",
     "text": [
      "E12 24149 718\n"
     ]
    },
    {
     "name": "stdout",
     "output_type": "stream",
     "text": [
      "E12 25149 754\n"
     ]
    },
    {
     "name": "stdout",
     "output_type": "stream",
     "text": [
      "E12 26149 798\n"
     ]
    },
    {
     "name": "stdout",
     "output_type": "stream",
     "text": [
      "E12 27149 832\n"
     ]
    },
    {
     "name": "stdout",
     "output_type": "stream",
     "text": [
      "E12 28149 867\n"
     ]
    },
    {
     "name": "stdout",
     "output_type": "stream",
     "text": [
      "E12 28674 883\n"
     ]
    },
    {
     "name": "stdout",
     "output_type": "stream",
     "text": [
      "C18 GCAT\n",
      "C18 24149 1509\n"
     ]
    },
    {
     "name": "stdout",
     "output_type": "stream",
     "text": [
      "C18 25149 1573\n"
     ]
    },
    {
     "name": "stdout",
     "output_type": "stream",
     "text": [
      "C18 26149 1632\n"
     ]
    },
    {
     "name": "stdout",
     "output_type": "stream",
     "text": [
      "C18 27149 1698\n"
     ]
    },
    {
     "name": "stdout",
     "output_type": "stream",
     "text": [
      "C18 28149 1758\n"
     ]
    },
    {
     "name": "stdout",
     "output_type": "stream",
     "text": [
      "C18 29149 1821\n"
     ]
    },
    {
     "name": "stdout",
     "output_type": "stream",
     "text": [
      "C18 29998 1881\n"
     ]
    },
    {
     "name": "stdout",
     "output_type": "stream",
     "text": [
      "GCAT 24149 7284\n"
     ]
    },
    {
     "name": "stdout",
     "output_type": "stream",
     "text": [
      "GCAT 25149 7554\n"
     ]
    },
    {
     "name": "stdout",
     "output_type": "stream",
     "text": [
      "GCAT 26149 7830\n"
     ]
    },
    {
     "name": "stdout",
     "output_type": "stream",
     "text": [
      "GCAT 27149 8133\n"
     ]
    },
    {
     "name": "stdout",
     "output_type": "stream",
     "text": [
      "GCAT 28149 8422\n"
     ]
    },
    {
     "name": "stdout",
     "output_type": "stream",
     "text": [
      "GCAT 29149 8726\n"
     ]
    },
    {
     "name": "stdout",
     "output_type": "stream",
     "text": [
      "GCAT 29309 8767\n"
     ]
    },
    {
     "name": "stdout",
     "output_type": "stream",
     "text": [
      "C18 C152\n",
      "C18 24149 1509\n"
     ]
    },
    {
     "name": "stdout",
     "output_type": "stream",
     "text": [
      "C18 25149 1573\n"
     ]
    },
    {
     "name": "stdout",
     "output_type": "stream",
     "text": [
      "C18 26149 1632\n"
     ]
    },
    {
     "name": "stdout",
     "output_type": "stream",
     "text": [
      "C18 27149 1698\n"
     ]
    },
    {
     "name": "stdout",
     "output_type": "stream",
     "text": [
      "C18 28149 1758\n"
     ]
    },
    {
     "name": "stdout",
     "output_type": "stream",
     "text": [
      "C18 29149 1821\n"
     ]
    },
    {
     "name": "stdout",
     "output_type": "stream",
     "text": [
      "C18 29355 1833\n"
     ]
    },
    {
     "name": "stdout",
     "output_type": "stream",
     "text": [
      "C152 24149 2047\n"
     ]
    },
    {
     "name": "stdout",
     "output_type": "stream",
     "text": [
      "C152 25149 2170\n"
     ]
    },
    {
     "name": "stdout",
     "output_type": "stream",
     "text": [
      "C152 26149 2270\n"
     ]
    },
    {
     "name": "stdout",
     "output_type": "stream",
     "text": [
      "C152 27149 2399\n"
     ]
    },
    {
     "name": "stdout",
     "output_type": "stream",
     "text": [
      "C152 28149 2496\n"
     ]
    },
    {
     "name": "stdout",
     "output_type": "stream",
     "text": [
      "C152 29149 2614\n"
     ]
    },
    {
     "name": "stdout",
     "output_type": "stream",
     "text": [
      "C152 30149 2719\n"
     ]
    },
    {
     "name": "stdout",
     "output_type": "stream",
     "text": [
      "C152 31149 2823\n"
     ]
    },
    {
     "name": "stdout",
     "output_type": "stream",
     "text": [
      "C152 31758 2886\n"
     ]
    },
    {
     "name": "stdout",
     "output_type": "stream",
     "text": [
      "C18 C15\n",
      "C18 24149 1509\n"
     ]
    },
    {
     "name": "stdout",
     "output_type": "stream",
     "text": [
      "C18 25149 1573\n"
     ]
    },
    {
     "name": "stdout",
     "output_type": "stream",
     "text": [
      "C18 26149 1632\n"
     ]
    },
    {
     "name": "stdout",
     "output_type": "stream",
     "text": [
      "C18 27149 1698\n"
     ]
    },
    {
     "name": "stdout",
     "output_type": "stream",
     "text": [
      "C18 28149 1758\n"
     ]
    },
    {
     "name": "stdout",
     "output_type": "stream",
     "text": [
      "C18 28846 1806\n"
     ]
    },
    {
     "name": "stdout",
     "output_type": "stream",
     "text": [
      "C15 24149 4388\n"
     ]
    },
    {
     "name": "stdout",
     "output_type": "stream",
     "text": [
      "C15 25149 4595\n"
     ]
    },
    {
     "name": "stdout",
     "output_type": "stream",
     "text": [
      "C15 26149 4796\n"
     ]
    },
    {
     "name": "stdout",
     "output_type": "stream",
     "text": [
      "C15 27149 5006\n"
     ]
    },
    {
     "name": "stdout",
     "output_type": "stream",
     "text": [
      "C15 28149 5211\n"
     ]
    },
    {
     "name": "stdout",
     "output_type": "stream",
     "text": [
      "C15 29149 5429\n"
     ]
    },
    {
     "name": "stdout",
     "output_type": "stream",
     "text": [
      "C15 30149 5647\n"
     ]
    },
    {
     "name": "stdout",
     "output_type": "stream",
     "text": [
      "C15 31149 5858\n"
     ]
    },
    {
     "name": "stdout",
     "output_type": "stream",
     "text": [
      "C15 31605 5955\n"
     ]
    },
    {
     "name": "stdout",
     "output_type": "stream",
     "text": [
      "C18 C17\n",
      "C18 24149 1509\n"
     ]
    },
    {
     "name": "stdout",
     "output_type": "stream",
     "text": [
      "C18 25149 1573\n"
     ]
    },
    {
     "name": "stdout",
     "output_type": "stream",
     "text": [
      "C18 26149 1632\n"
     ]
    },
    {
     "name": "stdout",
     "output_type": "stream",
     "text": [
      "C18 27149 1698\n"
     ]
    },
    {
     "name": "stdout",
     "output_type": "stream",
     "text": [
      "C18 28149 1758\n"
     ]
    },
    {
     "name": "stdout",
     "output_type": "stream",
     "text": [
      "C18 29149 1821\n"
     ]
    },
    {
     "name": "stdout",
     "output_type": "stream",
     "text": [
      "C18 30149 1893\n"
     ]
    },
    {
     "name": "stdout",
     "output_type": "stream",
     "text": [
      "C18 30351 1905\n"
     ]
    },
    {
     "name": "stdout",
     "output_type": "stream",
     "text": [
      "C17 24149 1229\n"
     ]
    },
    {
     "name": "stdout",
     "output_type": "stream",
     "text": [
      "C17 25149 1275\n"
     ]
    },
    {
     "name": "stdout",
     "output_type": "stream",
     "text": [
      "C17 26149 1339\n"
     ]
    },
    {
     "name": "stdout",
     "output_type": "stream",
     "text": [
      "C17 27149 1392\n"
     ]
    },
    {
     "name": "stdout",
     "output_type": "stream",
     "text": [
      "C17 28149 1441\n"
     ]
    },
    {
     "name": "stdout",
     "output_type": "stream",
     "text": [
      "C17 29149 1499\n"
     ]
    },
    {
     "name": "stdout",
     "output_type": "stream",
     "text": [
      "C17 30149 1544\n"
     ]
    },
    {
     "name": "stdout",
     "output_type": "stream",
     "text": [
      "C17 30440 1557\n"
     ]
    },
    {
     "name": "stdout",
     "output_type": "stream",
     "text": [
      "GPOL MCAT\n",
      "GPOL 24149 1720\n"
     ]
    },
    {
     "name": "stdout",
     "output_type": "stream",
     "text": [
      "GPOL 25149 1804\n"
     ]
    },
    {
     "name": "stdout",
     "output_type": "stream",
     "text": [
      "GPOL 26149 1881\n"
     ]
    },
    {
     "name": "stdout",
     "output_type": "stream",
     "text": [
      "GPOL 27149 1946\n"
     ]
    },
    {
     "name": "stdout",
     "output_type": "stream",
     "text": [
      "GPOL 28149 2011\n"
     ]
    },
    {
     "name": "stdout",
     "output_type": "stream",
     "text": [
      "GPOL 29149 2094\n"
     ]
    },
    {
     "name": "stdout",
     "output_type": "stream",
     "text": [
      "GPOL 30149 2174\n"
     ]
    },
    {
     "name": "stdout",
     "output_type": "stream",
     "text": [
      "GPOL 31149 2248\n"
     ]
    },
    {
     "name": "stdout",
     "output_type": "stream",
     "text": [
      "GPOL 32149 2322\n"
     ]
    },
    {
     "name": "stdout",
     "output_type": "stream",
     "text": [
      "GPOL 33149 2407\n"
     ]
    },
    {
     "name": "stdout",
     "output_type": "stream",
     "text": [
      "GPOL 34149 2483\n"
     ]
    },
    {
     "name": "stdout",
     "output_type": "stream",
     "text": [
      "GPOL 35149 2551\n"
     ]
    },
    {
     "name": "stdout",
     "output_type": "stream",
     "text": [
      "GPOL 35228 2557\n"
     ]
    },
    {
     "name": "stdout",
     "output_type": "stream",
     "text": [
      "MCAT 24149 6124\n"
     ]
    },
    {
     "name": "stdout",
     "output_type": "stream",
     "text": [
      "MCAT 25149 6384\n"
     ]
    },
    {
     "name": "stdout",
     "output_type": "stream",
     "text": [
      "MCAT 26149 6639\n"
     ]
    },
    {
     "name": "stdout",
     "output_type": "stream",
     "text": [
      "MCAT 27149 6868\n"
     ]
    },
    {
     "name": "stdout",
     "output_type": "stream",
     "text": [
      "MCAT 28149 7077\n"
     ]
    },
    {
     "name": "stdout",
     "output_type": "stream",
     "text": [
      "MCAT 29095 7297\n"
     ]
    },
    {
     "name": "stdout",
     "output_type": "stream",
     "text": [
      "GPOL CCAT\n",
      "GPOL 24149 1720\n"
     ]
    },
    {
     "name": "stdout",
     "output_type": "stream",
     "text": [
      "GPOL 25149 1804\n"
     ]
    },
    {
     "name": "stdout",
     "output_type": "stream",
     "text": [
      "GPOL 26149 1881\n"
     ]
    },
    {
     "name": "stdout",
     "output_type": "stream",
     "text": [
      "GPOL 27149 1946\n"
     ]
    },
    {
     "name": "stdout",
     "output_type": "stream",
     "text": [
      "GPOL 28149 2011\n"
     ]
    },
    {
     "name": "stdout",
     "output_type": "stream",
     "text": [
      "GPOL 29149 2094\n"
     ]
    },
    {
     "name": "stdout",
     "output_type": "stream",
     "text": [
      "GPOL 30113 2171\n"
     ]
    },
    {
     "name": "stdout",
     "output_type": "stream",
     "text": [
      "CCAT 24149 11246\n"
     ]
    },
    {
     "name": "stdout",
     "output_type": "stream",
     "text": [
      "CCAT 25149 11733\n"
     ]
    },
    {
     "name": "stdout",
     "output_type": "stream",
     "text": [
      "CCAT 26149 12228\n"
     ]
    },
    {
     "name": "stdout",
     "output_type": "stream",
     "text": [
      "CCAT 27149 12708\n"
     ]
    },
    {
     "name": "stdout",
     "output_type": "stream",
     "text": [
      "CCAT 28149 13188\n"
     ]
    },
    {
     "name": "stdout",
     "output_type": "stream",
     "text": [
      "CCAT 29149 13694\n"
     ]
    },
    {
     "name": "stdout",
     "output_type": "stream",
     "text": [
      "CCAT 30149 14197\n"
     ]
    },
    {
     "name": "stdout",
     "output_type": "stream",
     "text": [
      "CCAT 30526 14376\n"
     ]
    },
    {
     "name": "stdout",
     "output_type": "stream",
     "text": [
      "GPOL GCRIM\n",
      "GPOL 24149 1720\n"
     ]
    },
    {
     "name": "stdout",
     "output_type": "stream",
     "text": [
      "GPOL 25149 1804\n"
     ]
    },
    {
     "name": "stdout",
     "output_type": "stream",
     "text": [
      "GPOL 26149 1881\n"
     ]
    },
    {
     "name": "stdout",
     "output_type": "stream",
     "text": [
      "GPOL 33149 2407\n"
     ]
    },
    {
     "name": "stdout",
     "output_type": "stream",
     "text": [
      "GPOL 34149 2483\n"
     ]
    },
    {
     "name": "stdout",
     "output_type": "stream",
     "text": [
      "GPOL 35078 2548\n"
     ]
    },
    {
     "name": "stdout",
     "output_type": "stream",
     "text": [
      "E21 24149 1326\n"
     ]
    },
    {
     "name": "stdout",
     "output_type": "stream",
     "text": [
      "E21 25149 1383\n"
     ]
    },
    {
     "name": "stdout",
     "output_type": "stream",
     "text": [
      "E21 26149 1433\n"
     ]
    },
    {
     "name": "stdout",
     "output_type": "stream",
     "text": [
      "E21 27149 1479\n"
     ]
    },
    {
     "name": "stdout",
     "output_type": "stream",
     "text": [
      "E21 28149 1538\n"
     ]
    },
    {
     "name": "stdout",
     "output_type": "stream",
     "text": [
      "E21 29149 1608\n"
     ]
    },
    {
     "name": "stdout",
     "output_type": "stream",
     "text": [
      "E21 29459 1625\n"
     ]
    },
    {
     "name": "stdout",
     "output_type": "stream",
     "text": [
      "GPOL GVIO\n",
      "GPOL 24149 1720\n"
     ]
    },
    {
     "name": "stdout",
     "output_type": "stream",
     "text": [
      "GPOL 25149 1804\n"
     ]
    },
    {
     "name": "stdout",
     "output_type": "stream",
     "text": [
      "GPOL 26149 1881\n"
     ]
    },
    {
     "name": "stdout",
     "output_type": "stream",
     "text": [
      "GPOL 27149 1946\n"
     ]
    },
    {
     "name": "stdout",
     "output_type": "stream",
     "text": [
      "GPOL 28149 2011\n"
     ]
    },
    {
     "name": "stdout",
     "output_type": "stream",
     "text": [
      "GPOL 29149 2094\n"
     ]
    },
    {
     "name": "stdout",
     "output_type": "stream",
     "text": [
      "GPOL 30149 2174\n"
     ]
    },
    {
     "name": "stdout",
     "output_type": "stream",
     "text": [
      "GPOL 31149 2248\n"
     ]
    },
    {
     "name": "stdout",
     "output_type": "stream",
     "text": [
      "GPOL 32149 2322\n"
     ]
    },
    {
     "name": "stdout",
     "output_type": "stream",
     "text": [
      "GPOL 32936 2390\n"
     ]
    },
    {
     "name": "stdout",
     "output_type": "stream",
     "text": [
      "GVIO 24149 1175\n"
     ]
    },
    {
     "name": "stdout",
     "output_type": "stream",
     "text": [
      "GVIO 25149 1220\n"
     ]
    },
    {
     "name": "stdout",
     "output_type": "stream",
     "text": [
      "GVIO 26149 1268\n"
     ]
    },
    {
     "name": "stdout",
     "output_type": "stream",
     "text": [
      "GVIO 27149 1315\n"
     ]
    },
    {
     "name": "stdout",
     "output_type": "stream",
     "text": [
      "GVIO 28149 1357\n"
     ]
    },
    {
     "name": "stdout",
     "output_type": "stream",
     "text": [
      "GVIO 29149 1397\n"
     ]
    },
    {
     "name": "stdout",
     "output_type": "stream",
     "text": [
      "GVIO 30149 1442\n",
      "GVIO 30687 1464\n"
     ]
    },
    {
     "name": "stdout",
     "output_type": "stream",
     "text": [
      "C152 M11\n",
      "C152 24149 2047\n"
     ]
    },
    {
     "name": "stdout",
     "output_type": "stream",
     "text": [
      "C152 25149 2170\n"
     ]
    },
    {
     "name": "stdout",
     "output_type": "stream",
     "text": [
      "C152 26149 2270\n"
     ]
    },
    {
     "name": "stdout",
     "output_type": "stream",
     "text": [
      "C152 27149 2399\n"
     ]
    },
    {
     "name": "stdout",
     "output_type": "stream",
     "text": [
      "C152 28149 2496\n"
     ]
    },
    {
     "name": "stdout",
     "output_type": "stream",
     "text": [
      "C152 29149 2614\n"
     ]
    },
    {
     "name": "stdout",
     "output_type": "stream",
     "text": [
      "C152 30149 2719\n"
     ]
    },
    {
     "name": "stdout",
     "output_type": "stream",
     "text": [
      "C152 31149 2823\n"
     ]
    },
    {
     "name": "stdout",
     "output_type": "stream",
     "text": [
      "C152 32149 2922\n"
     ]
    },
    {
     "name": "stdout",
     "output_type": "stream",
     "text": [
      "C152 33149 3025\n"
     ]
    },
    {
     "name": "stdout",
     "output_type": "stream",
     "text": [
      "C152 34149 3127\n"
     ]
    },
    {
     "name": "stdout",
     "output_type": "stream",
     "text": [
      "C152 35149 3221\n"
     ]
    },
    {
     "name": "stdout",
     "output_type": "stream",
     "text": [
      "C152 36149 3317\n"
     ]
    },
    {
     "name": "stdout",
     "output_type": "stream",
     "text": [
      "C152 37149 3413\n"
     ]
    },
    {
     "name": "stdout",
     "output_type": "stream",
     "text": [
      "C152 38149 3517\n"
     ]
    },
    {
     "name": "stdout",
     "output_type": "stream",
     "text": [
      "C152 38962 3609\n"
     ]
    },
    {
     "name": "stdout",
     "output_type": "stream",
     "text": [
      "M11 24149 1341\n"
     ]
    },
    {
     "name": "stdout",
     "output_type": "stream",
     "text": [
      "M11 25149 1392\n"
     ]
    },
    {
     "name": "stdout",
     "output_type": "stream",
     "text": [
      "M11 26149 1450\n"
     ]
    },
    {
     "name": "stdout",
     "output_type": "stream",
     "text": [
      "M11 27149 1504\n"
     ]
    },
    {
     "name": "stdout",
     "output_type": "stream",
     "text": [
      "M11 27541 1524\n"
     ]
    },
    {
     "name": "stdout",
     "output_type": "stream",
     "text": [
      "C152 C17\n",
      "C152 24149 2047\n"
     ]
    },
    {
     "name": "stdout",
     "output_type": "stream",
     "text": [
      "C152 25149 2170\n"
     ]
    },
    {
     "name": "stdout",
     "output_type": "stream",
     "text": [
      "C152 26149 2270\n"
     ]
    },
    {
     "name": "stdout",
     "output_type": "stream",
     "text": [
      "C152 27149 2399\n"
     ]
    },
    {
     "name": "stdout",
     "output_type": "stream",
     "text": [
      "C152 28149 2496\n"
     ]
    },
    {
     "name": "stdout",
     "output_type": "stream",
     "text": [
      "C152 29149 2614\n"
     ]
    },
    {
     "name": "stdout",
     "output_type": "stream",
     "text": [
      "C152 30149 2719\n"
     ]
    },
    {
     "name": "stdout",
     "output_type": "stream",
     "text": [
      "C152 31149 2823\n"
     ]
    },
    {
     "name": "stdout",
     "output_type": "stream",
     "text": [
      "C152 32149 2922\n"
     ]
    },
    {
     "name": "stdout",
     "output_type": "stream",
     "text": [
      "C152 33149 3025\n"
     ]
    },
    {
     "name": "stdout",
     "output_type": "stream",
     "text": [
      "C152 34149 3127\n"
     ]
    },
    {
     "name": "stdout",
     "output_type": "stream",
     "text": [
      "C152 35149 3221\n"
     ]
    },
    {
     "name": "stdout",
     "output_type": "stream",
     "text": [
      "C152 35536 3256\n"
     ]
    },
    {
     "name": "stdout",
     "output_type": "stream",
     "text": [
      "C17 24149 1229\n"
     ]
    },
    {
     "name": "stdout",
     "output_type": "stream",
     "text": [
      "C17 25149 1275\n"
     ]
    },
    {
     "name": "stdout",
     "output_type": "stream",
     "text": [
      "C17 26149 1339\n"
     ]
    },
    {
     "name": "stdout",
     "output_type": "stream",
     "text": [
      "C17 27149 1392\n"
     ]
    },
    {
     "name": "stdout",
     "output_type": "stream",
     "text": [
      "C17 28149 1441\n"
     ]
    },
    {
     "name": "stdout",
     "output_type": "stream",
     "text": [
      "C17 28761 1477\n"
     ]
    },
    {
     "name": "stdout",
     "output_type": "stream",
     "text": [
      "C152 C31\n",
      "C152 24149 2047\n"
     ]
    },
    {
     "name": "stdout",
     "output_type": "stream",
     "text": [
      "C152 25149 2170\n"
     ]
    },
    {
     "name": "stdout",
     "output_type": "stream",
     "text": [
      "C152 26149 2270\n"
     ]
    },
    {
     "name": "stdout",
     "output_type": "stream",
     "text": [
      "C152 27149 2399\n"
     ]
    },
    {
     "name": "stdout",
     "output_type": "stream",
     "text": [
      "C152 28149 2496\n"
     ]
    },
    {
     "name": "stdout",
     "output_type": "stream",
     "text": [
      "C152 29149 2614\n"
     ]
    },
    {
     "name": "stdout",
     "output_type": "stream",
     "text": [
      "C152 30149 2719\n"
     ]
    },
    {
     "name": "stdout",
     "output_type": "stream",
     "text": [
      "C152 31149 2823\n"
     ]
    },
    {
     "name": "stdout",
     "output_type": "stream",
     "text": [
      "C152 32149 2922\n"
     ]
    },
    {
     "name": "stdout",
     "output_type": "stream",
     "text": [
      "C152 32468 2952\n"
     ]
    },
    {
     "name": "stdout",
     "output_type": "stream",
     "text": [
      "C31 24149 1120\n"
     ]
    },
    {
     "name": "stdout",
     "output_type": "stream",
     "text": [
      "C31 25149 1188\n"
     ]
    },
    {
     "name": "stdout",
     "output_type": "stream",
     "text": [
      "C31 26149 1233\n"
     ]
    },
    {
     "name": "stdout",
     "output_type": "stream",
     "text": [
      "C31 27149 1284\n"
     ]
    },
    {
     "name": "stdout",
     "output_type": "stream",
     "text": [
      "C31 28149 1344\n"
     ]
    },
    {
     "name": "stdout",
     "output_type": "stream",
     "text": [
      "C31 29149 1396\n"
     ]
    },
    {
     "name": "stdout",
     "output_type": "stream",
     "text": [
      "C31 30149 1455\n"
     ]
    },
    {
     "name": "stdout",
     "output_type": "stream",
     "text": [
      "C31 31149 1513\n"
     ]
    },
    {
     "name": "stdout",
     "output_type": "stream",
     "text": [
      "C31 32149 1573\n"
     ]
    },
    {
     "name": "stdout",
     "output_type": "stream",
     "text": [
      "C31 32805 1615\n"
     ]
    },
    {
     "name": "stdout",
     "output_type": "stream",
     "text": [
      "C152 C181\n",
      "C152 24149 2047\n"
     ]
    },
    {
     "name": "stdout",
     "output_type": "stream",
     "text": [
      "C152 25149 2170\n"
     ]
    },
    {
     "name": "stdout",
     "output_type": "stream",
     "text": [
      "C152 26149 2270\n"
     ]
    },
    {
     "name": "stdout",
     "output_type": "stream",
     "text": [
      "C152 27149 2399\n"
     ]
    },
    {
     "name": "stdout",
     "output_type": "stream",
     "text": [
      "C152 28149 2496\n"
     ]
    },
    {
     "name": "stdout",
     "output_type": "stream",
     "text": [
      "C152 29149 2614\n"
     ]
    },
    {
     "name": "stdout",
     "output_type": "stream",
     "text": [
      "C152 30149 2719\n"
     ]
    },
    {
     "name": "stdout",
     "output_type": "stream",
     "text": [
      "C152 31149 2823\n"
     ]
    },
    {
     "name": "stdout",
     "output_type": "stream",
     "text": [
      "C152 32149 2922\n"
     ]
    },
    {
     "name": "stdout",
     "output_type": "stream",
     "text": [
      "C152 33149 3025\n"
     ]
    },
    {
     "name": "stdout",
     "output_type": "stream",
     "text": [
      "C152 34149 3127\n"
     ]
    },
    {
     "name": "stdout",
     "output_type": "stream",
     "text": [
      "C152 35149 3221\n"
     ]
    },
    {
     "name": "stdout",
     "output_type": "stream",
     "text": [
      "C152 35421 3248\n"
     ]
    },
    {
     "name": "stdout",
     "output_type": "stream",
     "text": [
      "C181 24149 1244\n"
     ]
    },
    {
     "name": "stdout",
     "output_type": "stream",
     "text": [
      "C181 25149 1283\n"
     ]
    },
    {
     "name": "stdout",
     "output_type": "stream",
     "text": [
      "C181 26149 1340\n"
     ]
    },
    {
     "name": "stdout",
     "output_type": "stream",
     "text": [
      "C181 27149 1400\n"
     ]
    },
    {
     "name": "stdout",
     "output_type": "stream",
     "text": [
      "C181 28149 1442\n"
     ]
    },
    {
     "name": "stdout",
     "output_type": "stream",
     "text": [
      "C181 28494 1468\n"
     ]
    },
    {
     "name": "stdout",
     "output_type": "stream",
     "text": [
      "C152 C18\n",
      "C152 24149 2047\n"
     ]
    },
    {
     "name": "stdout",
     "output_type": "stream",
     "text": [
      "C152 25149 2170\n"
     ]
    },
    {
     "name": "stdout",
     "output_type": "stream",
     "text": [
      "C152 26149 2270\n"
     ]
    },
    {
     "name": "stdout",
     "output_type": "stream",
     "text": [
      "C152 27149 2399\n"
     ]
    },
    {
     "name": "stdout",
     "output_type": "stream",
     "text": [
      "C152 28149 2496\n"
     ]
    },
    {
     "name": "stdout",
     "output_type": "stream",
     "text": [
      "C152 29149 2614\n"
     ]
    },
    {
     "name": "stdout",
     "output_type": "stream",
     "text": [
      "C152 30149 2719\n"
     ]
    },
    {
     "name": "stdout",
     "output_type": "stream",
     "text": [
      "C152 31149 2823\n"
     ]
    },
    {
     "name": "stdout",
     "output_type": "stream",
     "text": [
      "C152 32149 2922\n"
     ]
    },
    {
     "name": "stdout",
     "output_type": "stream",
     "text": [
      "C152 33149 3025\n"
     ]
    },
    {
     "name": "stdout",
     "output_type": "stream",
     "text": [
      "C152 34149 3127\n"
     ]
    },
    {
     "name": "stdout",
     "output_type": "stream",
     "text": [
      "C152 35149 3221\n"
     ]
    },
    {
     "name": "stdout",
     "output_type": "stream",
     "text": [
      "C152 35574 3259\n"
     ]
    },
    {
     "name": "stdout",
     "output_type": "stream",
     "text": [
      "C18 24149 1509\n"
     ]
    },
    {
     "name": "stdout",
     "output_type": "stream",
     "text": [
      "C18 25149 1573\n"
     ]
    },
    {
     "name": "stdout",
     "output_type": "stream",
     "text": [
      "C18 26149 1632\n"
     ]
    },
    {
     "name": "stdout",
     "output_type": "stream",
     "text": [
      "C18 27149 1698\n"
     ]
    },
    {
     "name": "stdout",
     "output_type": "stream",
     "text": [
      "C18 28149 1758\n"
     ]
    },
    {
     "name": "stdout",
     "output_type": "stream",
     "text": [
      "C18 28377 1773\n"
     ]
    },
    {
     "name": "stdout",
     "output_type": "stream",
     "text": [
      "M14 M132\n",
      "M14 24149 2646\n"
     ]
    },
    {
     "name": "stdout",
     "output_type": "stream",
     "text": [
      "M14 25149 2750\n"
     ]
    },
    {
     "name": "stdout",
     "output_type": "stream",
     "text": [
      "M14 26149 2852\n"
     ]
    },
    {
     "name": "stdout",
     "output_type": "stream",
     "text": [
      "M14 27149 2963\n"
     ]
    },
    {
     "name": "stdout",
     "output_type": "stream",
     "text": [
      "M14 28149 3079\n"
     ]
    },
    {
     "name": "stdout",
     "output_type": "stream",
     "text": [
      "M14 28581 3127\n"
     ]
    },
    {
     "name": "stdout",
     "output_type": "stream",
     "text": [
      "M132 24149 721\n"
     ]
    },
    {
     "name": "stdout",
     "output_type": "stream",
     "text": [
      "M132 25149 757\n"
     ]
    },
    {
     "name": "stdout",
     "output_type": "stream",
     "text": [
      "M132 25810 773\n"
     ]
    },
    {
     "name": "stdout",
     "output_type": "stream",
     "text": [
      "M14 M13\n",
      "M14 24149 2646\n"
     ]
    },
    {
     "name": "stdout",
     "output_type": "stream",
     "text": [
      "M14 25149 2750\n"
     ]
    },
    {
     "name": "stdout",
     "output_type": "stream",
     "text": [
      "M14 26149 2852\n"
     ]
    },
    {
     "name": "stdout",
     "output_type": "stream",
     "text": [
      "M14 27149 2963\n"
     ]
    },
    {
     "name": "stdout",
     "output_type": "stream",
     "text": [
      "M14 28149 3079\n"
     ]
    },
    {
     "name": "stdout",
     "output_type": "stream",
     "text": [
      "M14 28262 3093\n"
     ]
    },
    {
     "name": "stdout",
     "output_type": "stream",
     "text": [
      "M13 24149 1651\n"
     ]
    },
    {
     "name": "stdout",
     "output_type": "stream",
     "text": [
      "M13 25149 1712\n"
     ]
    },
    {
     "name": "stdout",
     "output_type": "stream",
     "text": [
      "M13 26149 1781\n"
     ]
    },
    {
     "name": "stdout",
     "output_type": "stream",
     "text": [
      "M13 27149 1837\n"
     ]
    },
    {
     "name": "stdout",
     "output_type": "stream",
     "text": [
      "M13 27619 1862\n"
     ]
    },
    {
     "name": "stdout",
     "output_type": "stream",
     "text": [
      "M14 GCAT\n",
      "M14 24149 2646\n"
     ]
    },
    {
     "name": "stdout",
     "output_type": "stream",
     "text": [
      "M14 25149 2750\n"
     ]
    },
    {
     "name": "stdout",
     "output_type": "stream",
     "text": [
      "M14 26149 2852\n"
     ]
    },
    {
     "name": "stdout",
     "output_type": "stream",
     "text": [
      "M14 26213 2858\n"
     ]
    },
    {
     "name": "stdout",
     "output_type": "stream",
     "text": [
      "GCAT 24149 7284\n"
     ]
    },
    {
     "name": "stdout",
     "output_type": "stream",
     "text": [
      "GCAT 25149 7554\n"
     ]
    },
    {
     "name": "stdout",
     "output_type": "stream",
     "text": [
      "GCAT 26149 7830\n"
     ]
    },
    {
     "name": "stdout",
     "output_type": "stream",
     "text": [
      "GCAT 27149 8133\n"
     ]
    },
    {
     "name": "stdout",
     "output_type": "stream",
     "text": [
      "GCAT 28149 8422\n"
     ]
    },
    {
     "name": "stdout",
     "output_type": "stream",
     "text": [
      "GCAT 29149 8726\n"
     ]
    },
    {
     "name": "stdout",
     "output_type": "stream",
     "text": [
      "GCAT 30149 9007\n"
     ]
    },
    {
     "name": "stdout",
     "output_type": "stream",
     "text": [
      "GCAT 31112 9307\n"
     ]
    },
    {
     "name": "stdout",
     "output_type": "stream",
     "text": [
      "M14 C24\n",
      "M14 24149 2646\n"
     ]
    },
    {
     "name": "stdout",
     "output_type": "stream",
     "text": [
      "M14 25149 2750\n"
     ]
    },
    {
     "name": "stdout",
     "output_type": "stream",
     "text": [
      "M14 26149 2852\n"
     ]
    },
    {
     "name": "stdout",
     "output_type": "stream",
     "text": [
      "M14 26178 2856\n"
     ]
    },
    {
     "name": "stdout",
     "output_type": "stream",
     "text": [
      "C24 24149 965\n"
     ]
    },
    {
     "name": "stdout",
     "output_type": "stream",
     "text": [
      "C24 25149 997\n"
     ]
    },
    {
     "name": "stdout",
     "output_type": "stream",
     "text": [
      "C24 26149 1039\n",
      "C24 27149 1075\n"
     ]
    },
    {
     "name": "stdout",
     "output_type": "stream",
     "text": [
      "C24 28149 1120\n"
     ]
    },
    {
     "name": "stdout",
     "output_type": "stream",
     "text": [
      "C24 29149 1156\n"
     ]
    },
    {
     "name": "stdout",
     "output_type": "stream",
     "text": [
      "C24 30149 1188\n",
      "C24 31149 1224\n",
      "C24 32149 1261\n",
      "C24 32343 1268\n"
     ]
    },
    {
     "name": "stdout",
     "output_type": "stream",
     "text": [
      "M14 C31\n",
      "M14 24149 2646\n"
     ]
    },
    {
     "name": "stdout",
     "output_type": "stream",
     "text": [
      "M14 24955 2728\n"
     ]
    },
    {
     "name": "stdout",
     "output_type": "stream",
     "text": [
      "C31 24149 1120\n"
     ]
    },
    {
     "name": "stdout",
     "output_type": "stream",
     "text": [
      "C31 25149 1188\n"
     ]
    },
    {
     "name": "stdout",
     "output_type": "stream",
     "text": [
      "C31 26149 1233\n"
     ]
    },
    {
     "name": "stdout",
     "output_type": "stream",
     "text": [
      "C31 27149 1284\n"
     ]
    },
    {
     "name": "stdout",
     "output_type": "stream",
     "text": [
      "C31 28149 1344\n"
     ]
    },
    {
     "name": "stdout",
     "output_type": "stream",
     "text": [
      "C31 29149 1396\n"
     ]
    },
    {
     "name": "stdout",
     "output_type": "stream",
     "text": [
      "C31 30149 1455\n"
     ]
    },
    {
     "name": "stdout",
     "output_type": "stream",
     "text": [
      "C31 31149 1513\n"
     ]
    },
    {
     "name": "stdout",
     "output_type": "stream",
     "text": [
      "C31 32149 1573\n"
     ]
    },
    {
     "name": "stdout",
     "output_type": "stream",
     "text": [
      "C31 33149 1629\n"
     ]
    },
    {
     "name": "stdout",
     "output_type": "stream",
     "text": [
      "C31 34149 1673\n"
     ]
    },
    {
     "name": "stdout",
     "output_type": "stream",
     "text": [
      "C31 35149 1725\n"
     ]
    },
    {
     "name": "stdout",
     "output_type": "stream",
     "text": [
      "C31 35880 1766\n"
     ]
    },
    {
     "name": "stdout",
     "output_type": "stream",
     "text": [
      "C151 C181\n",
      "C151 24149 2477\n"
     ]
    },
    {
     "name": "stdout",
     "output_type": "stream",
     "text": [
      "C151 25149 2585\n"
     ]
    },
    {
     "name": "stdout",
     "output_type": "stream",
     "text": [
      "C151 26149 2695\n"
     ]
    },
    {
     "name": "stdout",
     "output_type": "stream",
     "text": [
      "C151 27149 2810\n"
     ]
    },
    {
     "name": "stdout",
     "output_type": "stream",
     "text": [
      "C151 28149 2912\n"
     ]
    },
    {
     "name": "stdout",
     "output_type": "stream",
     "text": [
      "C151 29149 3016\n"
     ]
    },
    {
     "name": "stdout",
     "output_type": "stream",
     "text": [
      "C151 29424 3050\n"
     ]
    },
    {
     "name": "stdout",
     "output_type": "stream",
     "text": [
      "C181 24149 1244\n"
     ]
    },
    {
     "name": "stdout",
     "output_type": "stream",
     "text": [
      "C181 25149 1283\n"
     ]
    },
    {
     "name": "stdout",
     "output_type": "stream",
     "text": [
      "C181 26077 1337\n"
     ]
    },
    {
     "name": "stdout",
     "output_type": "stream",
     "text": [
      "C151 C18\n",
      "C151 24149 2477\n"
     ]
    },
    {
     "name": "stdout",
     "output_type": "stream",
     "text": [
      "C151 25149 2585\n"
     ]
    },
    {
     "name": "stdout",
     "output_type": "stream",
     "text": [
      "C151 26149 2695\n"
     ]
    },
    {
     "name": "stdout",
     "output_type": "stream",
     "text": [
      "C151 27149 2810\n"
     ]
    },
    {
     "name": "stdout",
     "output_type": "stream",
     "text": [
      "C151 28149 2912\n"
     ]
    },
    {
     "name": "stdout",
     "output_type": "stream",
     "text": [
      "C151 29149 3016\n"
     ]
    },
    {
     "name": "stdout",
     "output_type": "stream",
     "text": [
      "C151 29346 3041\n"
     ]
    },
    {
     "name": "stdout",
     "output_type": "stream",
     "text": [
      "C18 24149 1509\n"
     ]
    },
    {
     "name": "stdout",
     "output_type": "stream",
     "text": [
      "C18 25149 1573\n"
     ]
    },
    {
     "name": "stdout",
     "output_type": "stream",
     "text": [
      "C18 26067 1627\n"
     ]
    },
    {
     "name": "stdout",
     "output_type": "stream",
     "text": [
      "C151 C17\n",
      "C151 24149 2477\n"
     ]
    },
    {
     "name": "stdout",
     "output_type": "stream",
     "text": [
      "C151 25149 2585\n"
     ]
    },
    {
     "name": "stdout",
     "output_type": "stream",
     "text": [
      "C151 26149 2695\n"
     ]
    },
    {
     "name": "stdout",
     "output_type": "stream",
     "text": [
      "C151 27149 2810\n"
     ]
    },
    {
     "name": "stdout",
     "output_type": "stream",
     "text": [
      "C151 28149 2912\n"
     ]
    },
    {
     "name": "stdout",
     "output_type": "stream",
     "text": [
      "C151 29136 3013\n"
     ]
    },
    {
     "name": "stdout",
     "output_type": "stream",
     "text": [
      "C17 24149 1229\n"
     ]
    },
    {
     "name": "stdout",
     "output_type": "stream",
     "text": [
      "C17 25149 1275\n"
     ]
    },
    {
     "name": "stdout",
     "output_type": "stream",
     "text": [
      "C17 26149 1339\n"
     ]
    },
    {
     "name": "stdout",
     "output_type": "stream",
     "text": [
      "C17 27149 1392\n"
     ]
    },
    {
     "name": "stdout",
     "output_type": "stream",
     "text": [
      "C17 28149 1441\n"
     ]
    },
    {
     "name": "stdout",
     "output_type": "stream",
     "text": [
      "C17 28491 1459\n"
     ]
    },
    {
     "name": "stdout",
     "output_type": "stream",
     "text": [
      "C151 C31\n",
      "C151 24149 2477\n"
     ]
    },
    {
     "name": "stdout",
     "output_type": "stream",
     "text": [
      "C151 25149 2585\n"
     ]
    },
    {
     "name": "stdout",
     "output_type": "stream",
     "text": [
      "C151 26149 2695\n"
     ]
    },
    {
     "name": "stdout",
     "output_type": "stream",
     "text": [
      "C151 26897 2778\n"
     ]
    },
    {
     "name": "stdout",
     "output_type": "stream",
     "text": [
      "C31 24149 1120\n"
     ]
    },
    {
     "name": "stdout",
     "output_type": "stream",
     "text": [
      "C31 25149 1188\n"
     ]
    },
    {
     "name": "stdout",
     "output_type": "stream",
     "text": [
      "C31 26149 1233\n"
     ]
    },
    {
     "name": "stdout",
     "output_type": "stream",
     "text": [
      "C31 27149 1284\n"
     ]
    },
    {
     "name": "stdout",
     "output_type": "stream",
     "text": [
      "C31 28149 1344\n"
     ]
    },
    {
     "name": "stdout",
     "output_type": "stream",
     "text": [
      "C31 28599 1366\n"
     ]
    },
    {
     "name": "stdout",
     "output_type": "stream",
     "text": [
      "C151 C152\n",
      "C151 24149 2477\n"
     ]
    },
    {
     "name": "stdout",
     "output_type": "stream",
     "text": [
      "C151 25149 2585\n"
     ]
    },
    {
     "name": "stdout",
     "output_type": "stream",
     "text": [
      "C151 26149 2695\n"
     ]
    },
    {
     "name": "stdout",
     "output_type": "stream",
     "text": [
      "C151 26398 2720\n"
     ]
    },
    {
     "name": "stdout",
     "output_type": "stream",
     "text": [
      "C152 24149 2047\n"
     ]
    },
    {
     "name": "stdout",
     "output_type": "stream",
     "text": [
      "C152 25149 2170\n"
     ]
    },
    {
     "name": "stdout",
     "output_type": "stream",
     "text": [
      "C152 26149 2270\n"
     ]
    },
    {
     "name": "stdout",
     "output_type": "stream",
     "text": [
      "C152 27149 2399\n"
     ]
    },
    {
     "name": "stdout",
     "output_type": "stream",
     "text": [
      "C152 28149 2496\n"
     ]
    },
    {
     "name": "stdout",
     "output_type": "stream",
     "text": [
      "C152 29149 2614\n"
     ]
    },
    {
     "name": "stdout",
     "output_type": "stream",
     "text": [
      "C152 30149 2719\n"
     ]
    },
    {
     "name": "stdout",
     "output_type": "stream",
     "text": [
      "C152 31149 2823\n"
     ]
    },
    {
     "name": "stdout",
     "output_type": "stream",
     "text": [
      "C152 32149 2922\n"
     ]
    },
    {
     "name": "stdout",
     "output_type": "stream",
     "text": [
      "C152 33149 3025\n"
     ]
    },
    {
     "name": "stdout",
     "output_type": "stream",
     "text": [
      "C152 33310 3048\n"
     ]
    },
    {
     "name": "stdout",
     "output_type": "stream",
     "text": [
      "ECAT GVIO\n",
      "ECAT 24149 3611\n"
     ]
    },
    {
     "name": "stdout",
     "output_type": "stream",
     "text": [
      "ECAT 25149 3771\n"
     ]
    },
    {
     "name": "stdout",
     "output_type": "stream",
     "text": [
      "ECAT 26149 3901\n"
     ]
    },
    {
     "name": "stdout",
     "output_type": "stream",
     "text": [
      "ECAT 27149 4064\n"
     ]
    },
    {
     "name": "stdout",
     "output_type": "stream",
     "text": [
      "ECAT 28149 4223\n"
     ]
    },
    {
     "name": "stdout",
     "output_type": "stream",
     "text": [
      "ECAT 29149 4379\n"
     ]
    },
    {
     "name": "stdout",
     "output_type": "stream",
     "text": [
      "ECAT 30149 4525\n"
     ]
    },
    {
     "name": "stdout",
     "output_type": "stream",
     "text": [
      "ECAT 31149 4683\n"
     ]
    },
    {
     "name": "stdout",
     "output_type": "stream",
     "text": [
      "ECAT 32149 4841\n"
     ]
    },
    {
     "name": "stdout",
     "output_type": "stream",
     "text": [
      "ECAT 33149 4988\n"
     ]
    },
    {
     "name": "stdout",
     "output_type": "stream",
     "text": [
      "ECAT 34149 5143\n"
     ]
    },
    {
     "name": "stdout",
     "output_type": "stream",
     "text": [
      "ECAT 35149 5293\n"
     ]
    },
    {
     "name": "stdout",
     "output_type": "stream",
     "text": [
      "ECAT 36149 5442\n"
     ]
    },
    {
     "name": "stdout",
     "output_type": "stream",
     "text": [
      "ECAT 37149 5593\n"
     ]
    },
    {
     "name": "stdout",
     "output_type": "stream",
     "text": [
      "ECAT 38149 5726\n"
     ]
    },
    {
     "name": "stdout",
     "output_type": "stream",
     "text": [
      "ECAT 39149 5896\n"
     ]
    },
    {
     "name": "stdout",
     "output_type": "stream",
     "text": [
      "ECAT 40149 6043\n"
     ]
    },
    {
     "name": "stdout",
     "output_type": "stream",
     "text": [
      "ECAT 41149 6198\n"
     ]
    },
    {
     "name": "stdout",
     "output_type": "stream",
     "text": [
      "ECAT 42149 6356\n"
     ]
    },
    {
     "name": "stdout",
     "output_type": "stream",
     "text": [
      "ECAT 43149 6496\n"
     ]
    },
    {
     "name": "stdout",
     "output_type": "stream",
     "text": [
      "ECAT 44149 6656\n"
     ]
    },
    {
     "name": "stdout",
     "output_type": "stream",
     "text": [
      "ECAT 45149 6803\n"
     ]
    },
    {
     "name": "stdout",
     "output_type": "stream",
     "text": [
      "ECAT 46149 6950\n"
     ]
    },
    {
     "name": "stdout",
     "output_type": "stream",
     "text": [
      "ECAT 47149 7108\n"
     ]
    },
    {
     "name": "stdout",
     "output_type": "stream",
     "text": [
      "ECAT 47870 7210\n"
     ]
    },
    {
     "name": "stdout",
     "output_type": "stream",
     "text": [
      "GVIO 24149 1175\n"
     ]
    },
    {
     "name": "stdout",
     "output_type": "stream",
     "text": [
      "GVIO 25149 1220\n"
     ]
    },
    {
     "name": "stdout",
     "output_type": "stream",
     "text": [
      "GVIO 26149 1268\n"
     ]
    },
    {
     "name": "stdout",
     "output_type": "stream",
     "text": [
      "GVIO 27149 1315\n",
      "GVIO 28149 1357\n"
     ]
    },
    {
     "name": "stdout",
     "output_type": "stream",
     "text": [
      "GVIO 28591 1373\n"
     ]
    },
    {
     "name": "stdout",
     "output_type": "stream",
     "text": [
      "ECAT C17\n",
      "ECAT 24149 3611\n"
     ]
    },
    {
     "name": "stdout",
     "output_type": "stream",
     "text": [
      "ECAT 25149 3771\n"
     ]
    },
    {
     "name": "stdout",
     "output_type": "stream",
     "text": [
      "ECAT 26149 3901\n"
     ]
    },
    {
     "name": "stdout",
     "output_type": "stream",
     "text": [
      "ECAT 27149 4064\n"
     ]
    },
    {
     "name": "stdout",
     "output_type": "stream",
     "text": [
      "ECAT 28149 4223\n"
     ]
    },
    {
     "name": "stdout",
     "output_type": "stream",
     "text": [
      "ECAT 29149 4379\n"
     ]
    },
    {
     "name": "stdout",
     "output_type": "stream",
     "text": [
      "ECAT 30149 4525\n"
     ]
    },
    {
     "name": "stdout",
     "output_type": "stream",
     "text": [
      "ECAT 31149 4686\n"
     ]
    },
    {
     "name": "stdout",
     "output_type": "stream",
     "text": [
      "ECAT 32149 4840\n"
     ]
    },
    {
     "name": "stdout",
     "output_type": "stream",
     "text": [
      "ECAT 33149 4990\n"
     ]
    },
    {
     "name": "stdout",
     "output_type": "stream",
     "text": [
      "ECAT 34149 5139\n"
     ]
    },
    {
     "name": "stdout",
     "output_type": "stream",
     "text": [
      "ECAT 35149 5287\n"
     ]
    },
    {
     "name": "stdout",
     "output_type": "stream",
     "text": [
      "ECAT 36149 5447\n"
     ]
    },
    {
     "name": "stdout",
     "output_type": "stream",
     "text": [
      "ECAT 37149 5594\n"
     ]
    },
    {
     "name": "stdout",
     "output_type": "stream",
     "text": [
      "ECAT 38149 5735\n"
     ]
    },
    {
     "name": "stdout",
     "output_type": "stream",
     "text": [
      "ECAT 39149 5897\n"
     ]
    },
    {
     "name": "stdout",
     "output_type": "stream",
     "text": [
      "ECAT 40149 6041\n"
     ]
    },
    {
     "name": "stdout",
     "output_type": "stream",
     "text": [
      "ECAT 41149 6196\n"
     ]
    },
    {
     "name": "stdout",
     "output_type": "stream",
     "text": [
      "ECAT 42149 6351\n"
     ]
    },
    {
     "name": "stdout",
     "output_type": "stream",
     "text": [
      "ECAT 43149 6505\n"
     ]
    },
    {
     "name": "stdout",
     "output_type": "stream",
     "text": [
      "ECAT 44149 6651\n"
     ]
    },
    {
     "name": "stdout",
     "output_type": "stream",
     "text": [
      "ECAT 45149 6801\n"
     ]
    },
    {
     "name": "stdout",
     "output_type": "stream",
     "text": [
      "ECAT 46119 6945\n"
     ]
    },
    {
     "name": "stdout",
     "output_type": "stream",
     "text": [
      "C17 24149 1229\n"
     ]
    },
    {
     "name": "stdout",
     "output_type": "stream",
     "text": [
      "C17 25149 1275\n"
     ]
    },
    {
     "name": "stdout",
     "output_type": "stream",
     "text": [
      "C17 26149 1339\n"
     ]
    },
    {
     "name": "stdout",
     "output_type": "stream",
     "text": [
      "C17 27149 1392\n"
     ]
    },
    {
     "name": "stdout",
     "output_type": "stream",
     "text": [
      "C17 28149 1441\n"
     ]
    },
    {
     "name": "stdout",
     "output_type": "stream",
     "text": [
      "C17 29149 1499\n"
     ]
    },
    {
     "name": "stdout",
     "output_type": "stream",
     "text": [
      "C17 30149 1544\n"
     ]
    },
    {
     "name": "stdout",
     "output_type": "stream",
     "text": [
      "C17 31149 1606\n"
     ]
    },
    {
     "name": "stdout",
     "output_type": "stream",
     "text": [
      "C17 31671 1635\n"
     ]
    },
    {
     "name": "stdout",
     "output_type": "stream",
     "text": [
      "ECAT M13\n",
      "ECAT 24149 3611\n"
     ]
    },
    {
     "name": "stdout",
     "output_type": "stream",
     "text": [
      "ECAT 25149 3771\n"
     ]
    },
    {
     "name": "stdout",
     "output_type": "stream",
     "text": [
      "ECAT 26149 3901\n"
     ]
    },
    {
     "name": "stdout",
     "output_type": "stream",
     "text": [
      "ECAT 27149 4064\n"
     ]
    },
    {
     "name": "stdout",
     "output_type": "stream",
     "text": [
      "ECAT 28149 4223\n"
     ]
    },
    {
     "name": "stdout",
     "output_type": "stream",
     "text": [
      "ECAT 29149 4379\n"
     ]
    },
    {
     "name": "stdout",
     "output_type": "stream",
     "text": [
      "ECAT 30149 4525\n"
     ]
    },
    {
     "name": "stdout",
     "output_type": "stream",
     "text": [
      "ECAT 31149 4686\n"
     ]
    },
    {
     "name": "stdout",
     "output_type": "stream",
     "text": [
      "ECAT 32149 4840\n"
     ]
    },
    {
     "name": "stdout",
     "output_type": "stream",
     "text": [
      "ECAT 33149 4990\n"
     ]
    },
    {
     "name": "stdout",
     "output_type": "stream",
     "text": [
      "ECAT 34149 5139\n"
     ]
    },
    {
     "name": "stdout",
     "output_type": "stream",
     "text": [
      "ECAT 35149 5287\n"
     ]
    },
    {
     "name": "stdout",
     "output_type": "stream",
     "text": [
      "ECAT 36149 5447\n"
     ]
    },
    {
     "name": "stdout",
     "output_type": "stream",
     "text": [
      "ECAT 37149 5594\n"
     ]
    },
    {
     "name": "stdout",
     "output_type": "stream",
     "text": [
      "ECAT 38149 5735\n"
     ]
    },
    {
     "name": "stdout",
     "output_type": "stream",
     "text": [
      "ECAT 39149 5897\n"
     ]
    },
    {
     "name": "stdout",
     "output_type": "stream",
     "text": [
      "ECAT 40149 6041\n"
     ]
    },
    {
     "name": "stdout",
     "output_type": "stream",
     "text": [
      "ECAT 41149 6196\n"
     ]
    },
    {
     "name": "stdout",
     "output_type": "stream",
     "text": [
      "ECAT 42149 6351\n"
     ]
    },
    {
     "name": "stdout",
     "output_type": "stream",
     "text": [
      "ECAT 43149 6505\n"
     ]
    },
    {
     "name": "stdout",
     "output_type": "stream",
     "text": [
      "ECAT 44149 6652\n"
     ]
    },
    {
     "name": "stdout",
     "output_type": "stream",
     "text": [
      "ECAT 45149 6804\n"
     ]
    },
    {
     "name": "stdout",
     "output_type": "stream",
     "text": [
      "ECAT 46149 6949\n"
     ]
    },
    {
     "name": "stdout",
     "output_type": "stream",
     "text": [
      "ECAT 47149 7106\n"
     ]
    },
    {
     "name": "stdout",
     "output_type": "stream",
     "text": [
      "ECAT 48149 7250\n"
     ]
    },
    {
     "name": "stdout",
     "output_type": "stream",
     "text": [
      "ECAT 48617 7328\n"
     ]
    },
    {
     "name": "stdout",
     "output_type": "stream",
     "text": [
      "M13 24149 1651\n"
     ]
    },
    {
     "name": "stdout",
     "output_type": "stream",
     "text": [
      "M13 25149 1712\n"
     ]
    },
    {
     "name": "stdout",
     "output_type": "stream",
     "text": [
      "M13 26149 1781\n"
     ]
    },
    {
     "name": "stdout",
     "output_type": "stream",
     "text": [
      "M13 27149 1837\n"
     ]
    },
    {
     "name": "stdout",
     "output_type": "stream",
     "text": [
      "M13 28149 1894\n"
     ]
    },
    {
     "name": "stdout",
     "output_type": "stream",
     "text": [
      "M13 29149 1954\n"
     ]
    },
    {
     "name": "stdout",
     "output_type": "stream",
     "text": [
      "M13 30149 2012\n"
     ]
    },
    {
     "name": "stdout",
     "output_type": "stream",
     "text": [
      "M13 31149 2065\n"
     ]
    },
    {
     "name": "stdout",
     "output_type": "stream",
     "text": [
      "M13 32149 2119\n"
     ]
    },
    {
     "name": "stdout",
     "output_type": "stream",
     "text": [
      "M13 32486 2141\n"
     ]
    },
    {
     "name": "stdout",
     "output_type": "stream",
     "text": [
      "ECAT GPOL\n",
      "ECAT 24149 3611\n"
     ]
    },
    {
     "name": "stdout",
     "output_type": "stream",
     "text": [
      "ECAT 25149 3771\n"
     ]
    },
    {
     "name": "stdout",
     "output_type": "stream",
     "text": [
      "ECAT 26149 3901\n"
     ]
    },
    {
     "name": "stdout",
     "output_type": "stream",
     "text": [
      "ECAT 27149 4064\n"
     ]
    },
    {
     "name": "stdout",
     "output_type": "stream",
     "text": [
      "ECAT 28149 4223\n"
     ]
    },
    {
     "name": "stdout",
     "output_type": "stream",
     "text": [
      "ECAT 29149 4379\n"
     ]
    },
    {
     "name": "stdout",
     "output_type": "stream",
     "text": [
      "ECAT 30149 4525\n"
     ]
    },
    {
     "name": "stdout",
     "output_type": "stream",
     "text": [
      "ECAT 31149 4686\n"
     ]
    },
    {
     "name": "stdout",
     "output_type": "stream",
     "text": [
      "ECAT 32149 4840\n"
     ]
    },
    {
     "name": "stdout",
     "output_type": "stream",
     "text": [
      "ECAT 33149 4990\n"
     ]
    },
    {
     "name": "stdout",
     "output_type": "stream",
     "text": [
      "ECAT 34149 5139\n"
     ]
    },
    {
     "name": "stdout",
     "output_type": "stream",
     "text": [
      "ECAT 35149 5287\n"
     ]
    },
    {
     "name": "stdout",
     "output_type": "stream",
     "text": [
      "ECAT 36149 5447\n"
     ]
    },
    {
     "name": "stdout",
     "output_type": "stream",
     "text": [
      "ECAT 37149 5594\n"
     ]
    },
    {
     "name": "stdout",
     "output_type": "stream",
     "text": [
      "ECAT 38149 5735\n"
     ]
    },
    {
     "name": "stdout",
     "output_type": "stream",
     "text": [
      "ECAT 39149 5897\n"
     ]
    },
    {
     "name": "stdout",
     "output_type": "stream",
     "text": [
      "ECAT 39783 5977\n"
     ]
    },
    {
     "name": "stdout",
     "output_type": "stream",
     "text": [
      "GPOL 24149 1720\n"
     ]
    },
    {
     "name": "stdout",
     "output_type": "stream",
     "text": [
      "GPOL 25149 1804\n"
     ]
    },
    {
     "name": "stdout",
     "output_type": "stream",
     "text": [
      "GPOL 26149 1881\n"
     ]
    },
    {
     "name": "stdout",
     "output_type": "stream",
     "text": [
      "GPOL 27149 1946\n"
     ]
    },
    {
     "name": "stdout",
     "output_type": "stream",
     "text": [
      "GPOL 28149 2011\n"
     ]
    },
    {
     "name": "stdout",
     "output_type": "stream",
     "text": [
      "GPOL 29149 2094\n"
     ]
    },
    {
     "name": "stdout",
     "output_type": "stream",
     "text": [
      "GPOL 30149 2174\n"
     ]
    },
    {
     "name": "stdout",
     "output_type": "stream",
     "text": [
      "GPOL 31149 2248\n"
     ]
    },
    {
     "name": "stdout",
     "output_type": "stream",
     "text": [
      "GPOL 32149 2322\n"
     ]
    },
    {
     "name": "stdout",
     "output_type": "stream",
     "text": [
      "GPOL 33149 2407\n"
     ]
    },
    {
     "name": "stdout",
     "output_type": "stream",
     "text": [
      "GPOL 34149 2483\n"
     ]
    },
    {
     "name": "stdout",
     "output_type": "stream",
     "text": [
      "GPOL 35149 2551\n"
     ]
    },
    {
     "name": "stdout",
     "output_type": "stream",
     "text": [
      "GPOL 36149 2627\n"
     ]
    },
    {
     "name": "stdout",
     "output_type": "stream",
     "text": [
      "GPOL 37149 2696\n"
     ]
    },
    {
     "name": "stdout",
     "output_type": "stream",
     "text": [
      "GPOL 38149 2767\n"
     ]
    },
    {
     "name": "stdout",
     "output_type": "stream",
     "text": [
      "GPOL 38815 2802\n"
     ]
    },
    {
     "name": "stdout",
     "output_type": "stream",
     "text": [
      "ECAT MCAT\n",
      "ECAT 24149 3611\n"
     ]
    },
    {
     "name": "stdout",
     "output_type": "stream",
     "text": [
      "ECAT 25149 3771\n"
     ]
    },
    {
     "name": "stdout",
     "output_type": "stream",
     "text": [
      "ECAT 26149 3901\n"
     ]
    },
    {
     "name": "stdout",
     "output_type": "stream",
     "text": [
      "ECAT 27149 4064\n"
     ]
    },
    {
     "name": "stdout",
     "output_type": "stream",
     "text": [
      "ECAT 28149 4223\n"
     ]
    },
    {
     "name": "stdout",
     "output_type": "stream",
     "text": [
      "ECAT 29149 4379\n"
     ]
    },
    {
     "name": "stdout",
     "output_type": "stream",
     "text": [
      "ECAT 30149 4525\n"
     ]
    },
    {
     "name": "stdout",
     "output_type": "stream",
     "text": [
      "ECAT 31149 4686\n"
     ]
    },
    {
     "name": "stdout",
     "output_type": "stream",
     "text": [
      "ECAT 32149 4840\n"
     ]
    },
    {
     "name": "stdout",
     "output_type": "stream",
     "text": [
      "ECAT 33149 4990\n"
     ]
    },
    {
     "name": "stdout",
     "output_type": "stream",
     "text": [
      "ECAT 34149 5139\n"
     ]
    },
    {
     "name": "stdout",
     "output_type": "stream",
     "text": [
      "ECAT 35149 5284\n"
     ]
    },
    {
     "name": "stdout",
     "output_type": "stream",
     "text": [
      "ECAT 36149 5448\n"
     ]
    },
    {
     "name": "stdout",
     "output_type": "stream",
     "text": [
      "ECAT 37149 5598\n"
     ]
    },
    {
     "name": "stdout",
     "output_type": "stream",
     "text": [
      "ECAT 38149 5741\n"
     ]
    },
    {
     "name": "stdout",
     "output_type": "stream",
     "text": [
      "ECAT 39149 5896\n"
     ]
    },
    {
     "name": "stdout",
     "output_type": "stream",
     "text": [
      "ECAT 40149 6037\n"
     ]
    },
    {
     "name": "stdout",
     "output_type": "stream",
     "text": [
      "ECAT 40786 6144\n"
     ]
    },
    {
     "name": "stdout",
     "output_type": "stream",
     "text": [
      "MCAT 24149 6124\n"
     ]
    },
    {
     "name": "stdout",
     "output_type": "stream",
     "text": [
      "MCAT 25149 6386\n"
     ]
    },
    {
     "name": "stdout",
     "output_type": "stream",
     "text": [
      "MCAT 26149 6641\n"
     ]
    },
    {
     "name": "stdout",
     "output_type": "stream",
     "text": [
      "MCAT 27149 6865\n"
     ]
    },
    {
     "name": "stdout",
     "output_type": "stream",
     "text": [
      "MCAT 28149 7081\n"
     ]
    },
    {
     "name": "stdout",
     "output_type": "stream",
     "text": [
      "MCAT 29149 7312\n"
     ]
    },
    {
     "name": "stdout",
     "output_type": "stream",
     "text": [
      "MCAT 30149 7548\n"
     ]
    },
    {
     "name": "stdout",
     "output_type": "stream",
     "text": [
      "MCAT 31149 7799\n"
     ]
    },
    {
     "name": "stdout",
     "output_type": "stream",
     "text": [
      "MCAT 32149 8029\n"
     ]
    },
    {
     "name": "stdout",
     "output_type": "stream",
     "text": [
      "MCAT 33149 8267\n"
     ]
    },
    {
     "name": "stdout",
     "output_type": "stream",
     "text": [
      "MCAT 34149 8503\n"
     ]
    },
    {
     "name": "stdout",
     "output_type": "stream",
     "text": [
      "MCAT 35149 8732\n"
     ]
    },
    {
     "name": "stdout",
     "output_type": "stream",
     "text": [
      "MCAT 36149 8966\n"
     ]
    },
    {
     "name": "stdout",
     "output_type": "stream",
     "text": [
      "MCAT 37149 9207\n"
     ]
    },
    {
     "name": "stdout",
     "output_type": "stream",
     "text": [
      "MCAT 38149 9414\n"
     ]
    },
    {
     "name": "stdout",
     "output_type": "stream",
     "text": [
      "MCAT 39149 9633\n"
     ]
    },
    {
     "name": "stdout",
     "output_type": "stream",
     "text": [
      "MCAT 39721 9761\n"
     ]
    }
   ],
   "source": [
    "cm_alrs = dict()\n",
    "for c_r,c_p in pairs:\n",
    "    print(c_r,c_p)\n",
    "    timer(' '.join(['ALRS',c_r,c_p]))\n",
    "\n",
    "    c_r_prob = posterior_probabilities[c_r][:,1]\n",
    "    c_p_prob = posterior_probabilities[c_p][:,1]\n",
    "    \n",
    "    # responsiveness\n",
    "    c_r_prob = al(c_r_prob, rs, c_r,tau_rs[(c_r,c_p)])\n",
    "    \n",
    "    # privilege\n",
    "    c_p_prob = al(c_p_prob, rs, c_p, tau_ps[(c_r,c_p)])\n",
    "\n",
    "    h = get_h_risk_h(c_r_prob, c_p_prob, cost_matrix, need_risk=False)[0]\n",
    "    \n",
    "    cm_alrs[(c_r,c_p)] = confusion_matrix(manual_labels[(c_r,c_p)],h)\n",
    "    \n",
    "timer()"
   ]
  },
  {
   "cell_type": "code",
   "execution_count": 47,
   "metadata": {},
   "outputs": [
    {
     "data": {
      "text/plain": [
       "[(('M12', 'M14'), 9562.0, 23587.0, 33149.0),\n",
       " (('M12', 'CCAT'), 13686.0, 47065.0, 60751.0),\n",
       " (('M12', 'M132'), 10163.0, 49781.0, 59944.0),\n",
       " (('M12', 'E21'), 14641.0, 66465.0, 81106.0),\n",
       " (('M12', 'M131'), 12327.0, 173931.0, 186258.0),\n",
       " (('M132', 'GPOL'), 10202.0, 29708.0, 39910.0),\n",
       " (('M132', 'CCAT'), 14869.0, 42419.0, 57288.0),\n",
       " (('M132', 'M12'), 14487.0, 34016.0, 48503.0),\n",
       " (('M132', 'M131'), 13169.0, 62310.0, 75479.0),\n",
       " (('M132', 'GCAT'), 11003.0, 39148.0, 50151.0),\n",
       " (('M131', 'CCAT'), 17144.0, 55917.0, 73061.0),\n",
       " (('M131', 'M132'), 11017.0, 50202.0, 61219.0),\n",
       " (('M131', 'E12'), 14119.0, 85070.0, 99189.0),\n",
       " (('M131', 'ECAT'), 20172.0, 90426.0, 110598.0),\n",
       " (('M131', 'M12'), 13362.0, 66646.0, 80008.0),\n",
       " (('E12', 'M11'), 11278.0, 33705.0, 44983.0),\n",
       " (('E12', 'GDIP'), 13208.0, 61795.0, 75003.0),\n",
       " (('E12', 'E212'), 14701.0, 61635.0, 76336.0),\n",
       " (('E12', 'M131'), 16062.0, 73406.0, 89468.0),\n",
       " (('E12', 'E21'), 15824.0, 90169.0, 105993.0),\n",
       " (('C21', 'C17'), 12398.0, 62300.0, 74698.0),\n",
       " (('C21', 'C15'), 13645.0, 74042.0, 87687.0),\n",
       " (('C21', 'ECAT'), 13979.0, 85141.0, 99120.0),\n",
       " (('C21', 'C31'), 14232.0, 99067.0, 113299.0),\n",
       " (('C21', 'M141'), 13487.0, 85095.0, 98582.0),\n",
       " (('E212', 'GPOL'), 21083.0, 44531.0, 65614.0),\n",
       " (('E212', 'E12'), 12495.0, 38262.0, 50757.0),\n",
       " (('E212', 'M12'), 12963.0, 69763.0, 82726.0),\n",
       " (('E212', 'MCAT'), 20442.0, 73081.0, 93523.0),\n",
       " (('E212', 'C17'), 16646.0, 62135.0, 78781.0),\n",
       " (('GCRIM', 'E212'), 11911.0, 39028.0, 50939.0),\n",
       " (('GCRIM', 'C15'), 20501.0, 51993.0, 72494.0),\n",
       " (('GCRIM', 'C18'), 15280.0, 43350.0, 58630.0),\n",
       " (('GCRIM', 'GDIP'), 19203.0, 71005.0, 90208.0),\n",
       " (('GCRIM', 'GPOL'), 29091.0, 97213.0, 126304.0),\n",
       " (('C24', 'GDIP'), 17313.0, 50380.0, 67693.0),\n",
       " (('C24', 'C15'), 21356.0, 78044.0, 99400.0),\n",
       " (('C24', 'C31'), 23413.0, 99376.0, 122789.0),\n",
       " (('C24', 'MCAT'), 19566.0, 105626.0, 125192.0),\n",
       " (('C24', 'C21'), 24513.0, 123724.0, 148237.0),\n",
       " (('GVIO', 'C21'), 29862.0, 54936.0, 84798.0),\n",
       " (('GVIO', 'C24'), 23536.0, 53529.0, 77065.0),\n",
       " (('GVIO', 'CCAT'), 22895.0, 79507.0, 102402.0),\n",
       " (('GVIO', 'ECAT'), 27262.0, 89557.0, 116819.0),\n",
       " (('GVIO', 'GCRIM'), 22528.0, 83644.0, 106172.0),\n",
       " (('C13', 'M12'), 21139.0, 52850.0, 73989.0),\n",
       " (('C13', 'C15'), 22202.0, 103263.0, 125465.0),\n",
       " (('C13', 'GPOL'), 25723.0, 108876.0, 134599.0),\n",
       " (('C13', 'M14'), 23323.0, 89740.0, 113063.0),\n",
       " (('C13', 'MCAT'), 23640.0, 128518.0, 152158.0),\n",
       " (('GDIP', 'C31'), 35451.0, 88067.0, 123518.0),\n",
       " (('GDIP', 'E12'), 28216.0, 73251.0, 101467.0),\n",
       " (('GDIP', 'CCAT'), 28893.0, 105459.0, 134352.0),\n",
       " (('GDIP', 'ECAT'), 37161.0, 143921.0, 181082.0),\n",
       " (('GDIP', 'GPOL'), 35668.0, 154309.0, 189977.0),\n",
       " (('C31', 'C151'), 25796.0, 88965.0, 114761.0),\n",
       " (('C31', 'C15'), 25690.0, 126627.0, 152317.0),\n",
       " (('C31', 'ECAT'), 25658.0, 150832.0, 176490.0),\n",
       " (('C31', 'C21'), 26740.0, 159023.0, 185763.0),\n",
       " (('C31', 'M14'), 27444.0, 114960.0, 142404.0),\n",
       " (('C181', 'C151'), 30510.0, 74512.0, 105022.0),\n",
       " (('C181', 'GCAT'), 29536.0, 90406.0, 119942.0),\n",
       " (('C181', 'C152'), 40025.0, 135446.0, 175471.0),\n",
       " (('C181', 'C15'), 38809.0, 146018.0, 184827.0),\n",
       " (('C181', 'C17'), 34791.0, 116642.0, 151433.0),\n",
       " (('M141', 'ECAT'), 28966.0, 54438.0, 83404.0),\n",
       " (('M141', 'GCAT'), 24941.0, 62114.0, 87055.0),\n",
       " (('M141', 'C24'), 28727.0, 67229.0, 95956.0),\n",
       " (('M141', 'C31'), 38009.0, 94543.0, 132552.0),\n",
       " (('M141', 'C21'), 28247.0, 74241.0, 102488.0),\n",
       " (('M11', 'ECAT'), 19364.0, 65207.0, 84571.0),\n",
       " (('M11', 'C152'), 34644.0, 110302.0, 144946.0),\n",
       " (('M11', 'M132'), 19535.0, 51489.0, 71024.0),\n",
       " (('M11', 'M13'), 23915.0, 73044.0, 96959.0),\n",
       " (('M11', 'CCAT'), 33744.0, 120922.0, 154666.0),\n",
       " (('E21', 'C31'), 29614.0, 74641.0, 104255.0),\n",
       " (('E21', 'M12'), 21474.0, 84318.0, 105792.0),\n",
       " (('E21', 'MCAT'), 31562.0, 108989.0, 140551.0),\n",
       " (('E21', 'E12'), 25659.0, 89278.0, 114937.0),\n",
       " (('E21', 'GPOL'), 36109.0, 105640.0, 141749.0),\n",
       " (('C17', 'MCAT'), 31264.0, 91885.0, 123149.0),\n",
       " (('C17', 'C152'), 31344.0, 114418.0, 145762.0),\n",
       " (('C17', 'C15'), 34942.0, 132872.0, 167814.0),\n",
       " (('C17', 'C18'), 28997.0, 128382.0, 157379.0),\n",
       " (('C17', 'ECAT'), 35441.0, 111469.0, 146910.0),\n",
       " (('M13', 'E21'), 15245.0, 48650.0, 63895.0),\n",
       " (('M13', 'M11'), 12531.0, 43488.0, 56019.0),\n",
       " (('M13', 'GCAT'), 17667.0, 56301.0, 73968.0),\n",
       " (('M13', 'E12'), 30890.0, 132646.0, 163536.0),\n",
       " (('M13', 'ECAT'), 39177.0, 155779.0, 194956.0),\n",
       " (('C18', 'E12'), 37149.0, 97324.0, 134473.0),\n",
       " (('C18', 'GCAT'), 37649.0, 115090.0, 152739.0),\n",
       " (('C18', 'C152'), 49251.0, 152446.0, 201697.0),\n",
       " (('C18', 'C15'), 47977.0, 168431.0, 216408.0),\n",
       " (('C18', 'C17'), 43657.0, 154055.0, 197712.0),\n",
       " (('GPOL', 'MCAT'), 41809.0, 91641.0, 133450.0),\n",
       " (('GPOL', 'CCAT'), 43849.0, 164809.0, 208658.0),\n",
       " (('GPOL', 'GCRIM'), 37657.0, 122626.0, 160283.0),\n",
       " (('GPOL', 'E21'), 43479.0, 113963.0, 157442.0),\n",
       " (('GPOL', 'GVIO'), 47477.0, 152009.0, 199486.0),\n",
       " (('C152', 'M11'), 37773.0, 124143.0, 161916.0),\n",
       " (('C152', 'C17'), 40447.0, 113260.0, 153707.0),\n",
       " (('C152', 'C31'), 57599.0, 127305.0, 184904.0),\n",
       " (('C152', 'C181'), 38997.0, 123465.0, 162462.0),\n",
       " (('C152', 'C18'), 38565.0, 129500.0, 168065.0),\n",
       " (('M14', 'M132'), 18737.0, 39236.0, 57973.0),\n",
       " (('M14', 'M13'), 27463.0, 54817.0, 82280.0),\n",
       " (('M14', 'GCAT'), 42879.0, 106890.0, 149769.0),\n",
       " (('M14', 'C24'), 48999.0, 115365.0, 164364.0),\n",
       " (('M14', 'C31'), 65461.0, 161468.0, 226929.0),\n",
       " (('C151', 'C181'), 20915.0, 63404.0, 84319.0),\n",
       " (('C151', 'C18'), 20787.0, 70127.0, 90914.0),\n",
       " (('C151', 'C17'), 32697.0, 69896.0, 102593.0),\n",
       " (('C151', 'C31'), 30998.0, 83161.0, 114159.0),\n",
       " (('C151', 'C152'), 54054.0, 131609.0, 185663.0),\n",
       " (('ECAT', 'GVIO'), 51931.0, 132112.0, 184043.0),\n",
       " (('ECAT', 'C17'), 65580.0, 192783.0, 258363.0),\n",
       " (('ECAT', 'M13'), 72153.0, 222127.0, 294280.0),\n",
       " (('ECAT', 'GPOL'), 94964.0, 247254.0, 342218.0),\n",
       " (('ECAT', 'MCAT'), 100497.0, 316050.0, 416547.0)]"
      ]
     },
     "execution_count": 47,
     "metadata": {},
     "output_type": "execute_result"
    }
   ],
   "source": [
    "cost_alrs = dict()\n",
    "cost_alrs_ann = dict()\n",
    "cost_alrs_misc = dict()\n",
    "for c_r,c_p in pairs:\n",
    "    cm = cm_alrs[(c_r,c_p)]\n",
    "    cost_misc = 0.0\n",
    "    for true_label in label_to_idx.keys():\n",
    "        for pred_label in label_to_idx.keys():\n",
    "            cost_misc += cost_matrix[true_label][pred_label]*cm[label_to_idx[pred_label],label_to_idx[true_label]]\n",
    "    cost_ann = tau_rs[(c_r,c_p)]*cost_r+tau_ps[(c_r,c_p)]*cost_p\n",
    "    cost_alrs_ann[(c_r,c_p)] = cost_ann\n",
    "    cost_alrs_misc[(c_r,c_p)] = cost_misc\n",
    "    cost_alrs[(c_r,c_p)] = cost_ann+cost_misc   \n",
    "list(zip(cost_alrs,cost_alrs_ann.values(),cost_alrs_misc.values(),cost_alrs.values()))"
   ]
  },
  {
   "cell_type": "markdown",
   "metadata": {},
   "source": [
    "## Post-processing of results"
   ]
  },
  {
   "cell_type": "code",
   "execution_count": 48,
   "metadata": {},
   "outputs": [
    {
     "data": {
      "text/plain": [
       "(120, 120, 120, 120, 120, 120, 120, 120)"
      ]
     },
     "execution_count": 48,
     "metadata": {},
     "output_type": "execute_result"
    }
   ],
   "source": [
    "len(cost_auto),len(cost_manual),len(cost_3),len(cost_2),len(cost_rr),len(cost_ur),len(cost_alus),len(cost_alrs)"
   ]
  },
  {
   "cell_type": "code",
   "execution_count": 49,
   "metadata": {},
   "outputs": [
    {
     "name": "stdout",
     "output_type": "stream",
     "text": [
      "[((('M12', 'M14'), 26075.0), (('M12', 'M14'), 226493.0), (('M12', 'M14'), 23374.0), (('M12', 'M14'), 22997.0), (('M12', 'M14'), 34187.0), (('M12', 'M14'), 28467.0), (('M12', 'M14'), 27437.0), (('M12', 'M14'), 33149.0)), ((('M12', 'CCAT'), 46491.0), (('M12', 'CCAT'), 226493.0), (('M12', 'CCAT'), 34520.0), (('M12', 'CCAT'), 48371.0), (('M12', 'CCAT'), 59223.0), (('M12', 'CCAT'), 59145.0), (('M12', 'CCAT'), 61344.0), (('M12', 'CCAT'), 60751.0)), ((('M12', 'M132'), 52419.0), (('M12', 'M132'), 226493.0), (('M12', 'M132'), 37956.0), (('M12', 'M132'), 51855.0), (('M12', 'M132'), 61589.0), (('M12', 'M132'), 62856.0), (('M12', 'M132'), 55518.0), (('M12', 'M132'), 59944.0)), ((('M12', 'E21'), 70517.0), (('M12', 'E21'), 226493.0), (('M12', 'E21'), 44371.0), (('M12', 'E21'), 71978.0), (('M12', 'E21'), 84082.0), (('M12', 'E21'), 86466.0), (('M12', 'E21'), 77734.0), (('M12', 'E21'), 81106.0)), ((('M12', 'M131'), 175097.0), (('M12', 'M131'), 226493.0), (('M12', 'M131'), 128783.0), (('M12', 'M131'), 188812.0), (('M12', 'M131'), 186607.0), (('M12', 'M131'), 196175.0), (('M12', 'M131'), 185151.0), (('M12', 'M131'), 186258.0)), ((('M132', 'GPOL'), 30758.0), (('M132', 'GPOL'), 228988.0), (('M132', 'GPOL'), 23428.0), (('M132', 'GPOL'), 27119.0), (('M132', 'GPOL'), 40623.0), (('M132', 'GPOL'), 36060.0), (('M132', 'GPOL'), 33848.0), (('M132', 'GPOL'), 39910.0)), ((('M132', 'CCAT'), 44360.0), (('M132', 'CCAT'), 228988.0), (('M132', 'CCAT'), 33096.0), (('M132', 'CCAT'), 43108.0), (('M132', 'CCAT'), 58262.0), (('M132', 'CCAT'), 56180.0), (('M132', 'CCAT'), 57643.0), (('M132', 'CCAT'), 57288.0)), ((('M132', 'M12'), 36926.0), (('M132', 'M12'), 228988.0), (('M132', 'M12'), 31596.0), (('M132', 'M12'), 34924.0), (('M132', 'M12'), 51003.0), (('M132', 'M12'), 48058.0), (('M132', 'M12'), 44067.0), (('M132', 'M12'), 48503.0)), ((('M132', 'M131'), 64651.0), (('M132', 'M131'), 228988.0), (('M132', 'M131'), 49004.0), (('M132', 'M131'), 69915.0), (('M132', 'M131'), 76753.0), (('M132', 'M131'), 79179.0), (('M132', 'M131'), 75303.0), (('M132', 'M131'), 75479.0)), ((('M132', 'GCAT'), 39854.0), (('M132', 'GCAT'), 228988.0), (('M132', 'GCAT'), 29942.0), (('M132', 'GCAT'), 37786.0), (('M132', 'GCAT'), 50540.0), (('M132', 'GCAT'), 46686.0), (('M132', 'GCAT'), 46186.0), (('M132', 'GCAT'), 50151.0)), ((('M131', 'CCAT'), 56818.0), (('M131', 'CCAT'), 231478.0), (('M131', 'CCAT'), 40353.0), (('M131', 'CCAT'), 55793.0), (('M131', 'CCAT'), 73728.0), (('M131', 'CCAT'), 73282.0), (('M131', 'CCAT'), 70954.0), (('M131', 'CCAT'), 73061.0)), ((('M131', 'M132'), 50169.0), (('M131', 'M132'), 231478.0), (('M131', 'M132'), 38801.0), (('M131', 'M132'), 55618.0), (('M131', 'M132'), 60326.0), (('M131', 'M132'), 65011.0), (('M131', 'M132'), 60449.0), (('M131', 'M132'), 61219.0)), ((('M131', 'E12'), 84698.0), (('M131', 'E12'), 231478.0), (('M131', 'E12'), 52313.0), (('M131', 'E12'), 83478.0), (('M131', 'E12'), 98014.0), (('M131', 'E12'), 97158.0), (('M131', 'E12'), 92588.0), (('M131', 'E12'), 99189.0)), ((('M131', 'ECAT'), 91846.0), (('M131', 'ECAT'), 231478.0), (('M131', 'ECAT'), 52548.0), (('M131', 'ECAT'), 90822.0), (('M131', 'ECAT'), 111894.0), (('M131', 'ECAT'), 111045.0), (('M131', 'ECAT'), 109962.0), (('M131', 'ECAT'), 110598.0)), ((('M131', 'M12'), 73386.0), (('M131', 'M12'), 231478.0), (('M131', 'M12'), 51948.0), (('M131', 'M12'), 73992.0), (('M131', 'M12'), 86275.0), (('M131', 'M12'), 86328.0), (('M131', 'M12'), 86907.0), (('M131', 'M12'), 80008.0)), ((('E12', 'M11'), 55694.0), (('E12', 'M11'), 232163.0), (('E12', 'M11'), 41364.0), (('E12', 'M11'), 40181.0), (('E12', 'M11'), 45763.0), (('E12', 'M11'), 44833.0), (('E12', 'M11'), 42773.0), (('E12', 'M11'), 44983.0)), ((('E12', 'GDIP'), 75425.0), (('E12', 'GDIP'), 232163.0), (('E12', 'GDIP'), 61779.0), (('E12', 'GDIP'), 66523.0), (('E12', 'GDIP'), 76883.0), (('E12', 'GDIP'), 75858.0), (('E12', 'GDIP'), 73936.0), (('E12', 'GDIP'), 75003.0)), ((('E12', 'E212'), 72265.0), (('E12', 'E212'), 232163.0), (('E12', 'E212'), 55057.0), (('E12', 'E212'), 63596.0), (('E12', 'E212'), 76666.0), (('E12', 'E212'), 76011.0), (('E12', 'E212'), 72783.0), (('E12', 'E212'), 76336.0)), ((('E12', 'M131'), 86500.0), (('E12', 'M131'), 232163.0), (('E12', 'M131'), 62048.0), (('E12', 'M131'), 76083.0), (('E12', 'M131'), 91107.0), (('E12', 'M131'), 91071.0), (('E12', 'M131'), 84297.0), (('E12', 'M131'), 89468.0)), ((('E12', 'E21'), 91993.0), (('E12', 'E21'), 232163.0), (('E12', 'E21'), 68709.0), (('E12', 'E21'), 88991.0), (('E12', 'E21'), 103591.0), (('E12', 'E21'), 105852.0), (('E12', 'E21'), 103314.0), (('E12', 'E21'), 105993.0)), ((('C21', 'C17'), 76959.0), (('C21', 'C17'), 235033.0), (('C21', 'C17'), 64996.0), (('C21', 'C17'), 65758.0), (('C21', 'C17'), 76283.0), (('C21', 'C17'), 74108.0), (('C21', 'C17'), 72818.0), (('C21', 'C17'), 74698.0)), ((('C21', 'C15'), 83158.0), (('C21', 'C15'), 235033.0), (('C21', 'C15'), 72900.0), (('C21', 'C15'), 75235.0), (('C21', 'C15'), 88750.0), (('C21', 'C15'), 86345.0), (('C21', 'C15'), 85311.0), (('C21', 'C15'), 87687.0)), ((('C21', 'ECAT'), 90665.0), (('C21', 'ECAT'), 235033.0), (('C21', 'ECAT'), 80609.0), (('C21', 'ECAT'), 84679.0), (('C21', 'ECAT'), 101270.0), (('C21', 'ECAT'), 98578.0), (('C21', 'ECAT'), 98825.0), (('C21', 'ECAT'), 99120.0)), ((('C21', 'C31'), 101818.0), (('C21', 'C31'), 235033.0), (('C21', 'C31'), 86572.0), (('C21', 'C31'), 107628.0), (('C21', 'C31'), 115235.0), (('C21', 'C31'), 117702.0), (('C21', 'C31'), 114020.0), (('C21', 'C31'), 113299.0)), ((('C21', 'M141'), 100547.0), (('C21', 'M141'), 235033.0), (('C21', 'M141'), 77486.0), (('C21', 'M141'), 90245.0), (('C21', 'M141'), 100487.0), (('C21', 'M141'), 99083.0), (('C21', 'M141'), 95392.0), (('C21', 'M141'), 98582.0)), ((('E212', 'GPOL'), 44927.0), (('E212', 'GPOL'), 235558.0), (('E212', 'GPOL'), 45694.0), (('E212', 'GPOL'), 41078.0), (('E212', 'GPOL'), 65880.0), (('E212', 'GPOL'), 60528.0), (('E212', 'GPOL'), 61771.0), (('E212', 'GPOL'), 65614.0)), ((('E212', 'E12'), 38260.0), (('E212', 'E12'), 235558.0), (('E212', 'E12'), 37575.0), (('E212', 'E12'), 33625.0), (('E212', 'E12'), 50620.0), (('E212', 'E12'), 46510.0), (('E212', 'E12'), 45400.0), (('E212', 'E12'), 50757.0)), ((('E212', 'M12'), 69769.0), (('E212', 'M12'), 235558.0), (('E212', 'M12'), 53822.0), (('E212', 'M12'), 72472.0), (('E212', 'M12'), 82492.0), (('E212', 'M12'), 82912.0), (('E212', 'M12'), 76576.0), (('E212', 'M12'), 82726.0)), ((('E212', 'MCAT'), 73446.0), (('E212', 'MCAT'), 235558.0), (('E212', 'MCAT'), 57428.0), (('E212', 'MCAT'), 72281.0), (('E212', 'MCAT'), 93813.0), (('E212', 'MCAT'), 92352.0), (('E212', 'MCAT'), 86740.0), (('E212', 'MCAT'), 93523.0)), ((('E212', 'C17'), 63841.0), (('E212', 'C17'), 235558.0), (('E212', 'C17'), 53402.0), (('E212', 'C17'), 66685.0), (('E212', 'C17'), 80355.0), (('E212', 'C17'), 80226.0), (('E212', 'C17'), 77935.0), (('E212', 'C17'), 78781.0)), ((('GCRIM', 'E212'), 43567.0), (('GCRIM', 'E212'), 237148.0), (('GCRIM', 'E212'), 27520.0), (('GCRIM', 'E212'), 33757.0), (('GCRIM', 'E212'), 50669.0), (('GCRIM', 'E212'), 40066.0), (('GCRIM', 'E212'), 39671.0), (('GCRIM', 'E212'), 50939.0)), ((('GCRIM', 'C15'), 55805.0), (('GCRIM', 'C15'), 237148.0), (('GCRIM', 'C15'), 43688.0), (('GCRIM', 'C15'), 46667.0), (('GCRIM', 'C15'), 73680.0), (('GCRIM', 'C15'), 63601.0), (('GCRIM', 'C15'), 62500.0), (('GCRIM', 'C15'), 72494.0)), ((('GCRIM', 'C18'), 46567.0), (('GCRIM', 'C18'), 237148.0), (('GCRIM', 'C18'), 35412.0), (('GCRIM', 'C18'), 39189.0), (('GCRIM', 'C18'), 59245.0), (('GCRIM', 'C18'), 50493.0), (('GCRIM', 'C18'), 51651.0), (('GCRIM', 'C18'), 58630.0)), ((('GCRIM', 'GDIP'), 74047.0), (('GCRIM', 'GDIP'), 237148.0), (('GCRIM', 'GDIP'), 55216.0), (('GCRIM', 'GDIP'), 70275.0), (('GCRIM', 'GDIP'), 91719.0), (('GCRIM', 'GDIP'), 90939.0), (('GCRIM', 'GDIP'), 87240.0), (('GCRIM', 'GDIP'), 90208.0)), ((('GCRIM', 'GPOL'), 101354.0), (('GCRIM', 'GPOL'), 237148.0), (('GCRIM', 'GPOL'), 64125.0), (('GCRIM', 'GPOL'), 98546.0), (('GCRIM', 'GPOL'), 130432.0), (('GCRIM', 'GPOL'), 128056.0), (('GCRIM', 'GPOL'), 117628.0), (('GCRIM', 'GPOL'), 126304.0)), ((('C24', 'GDIP'), 76655.0), (('C24', 'GDIP'), 240013.0), (('C24', 'GDIP'), 59932.0), (('C24', 'GDIP'), 56928.0), (('C24', 'GDIP'), 70638.0), (('C24', 'GDIP'), 67223.0), (('C24', 'GDIP'), 65043.0), (('C24', 'GDIP'), 67693.0)), ((('C24', 'C15'), 88768.0), (('C24', 'C15'), 240013.0), (('C24', 'C15'), 73496.0), (('C24', 'C15'), 75936.0), (('C24', 'C15'), 101308.0), (('C24', 'C15'), 95045.0), (('C24', 'C15'), 92933.0), (('C24', 'C15'), 99400.0)), ((('C24', 'C31'), 104683.0), (('C24', 'C31'), 240013.0), (('C24', 'C31'), 87164.0), (('C24', 'C31'), 98698.0), (('C24', 'C31'), 125574.0), (('C24', 'C31'), 122445.0), (('C24', 'C31'), 118104.0), (('C24', 'C31'), 122789.0)), ((('C24', 'MCAT'), 115712.0), (('C24', 'MCAT'), 240013.0), (('C24', 'MCAT'), 88633.0), (('C24', 'MCAT'), 106339.0), (('C24', 'MCAT'), 125766.0), (('C24', 'MCAT'), 122736.0), (('C24', 'MCAT'), 121497.0), (('C24', 'MCAT'), 125192.0)), ((('C24', 'C21'), 139559.0), (('C24', 'C21'), 240013.0), (('C24', 'C21'), 95860.0), (('C24', 'C21'), 143715.0), (('C24', 'C21'), 165593.0), (('C24', 'C21'), 164789.0), (('C24', 'C21'), 148559.0), (('C24', 'C21'), 148237.0)), ((('GVIO', 'C21'), 63485.0), (('GVIO', 'C21'), 241893.0), (('GVIO', 'C21'), 61670.0), (('GVIO', 'C21'), 53137.0), (('GVIO', 'C21'), 86782.0), (('GVIO', 'C21'), 77727.0), (('GVIO', 'C21'), 72483.0), (('GVIO', 'C21'), 84798.0)), ((('GVIO', 'C24'), 61355.0), (('GVIO', 'C24'), 241893.0), (('GVIO', 'C24'), 52089.0), (('GVIO', 'C24'), 49751.0), (('GVIO', 'C24'), 78791.0), (('GVIO', 'C24'), 68426.0), (('GVIO', 'C24'), 66811.0), (('GVIO', 'C24'), 77065.0)), ((('GVIO', 'CCAT'), 81402.0), (('GVIO', 'CCAT'), 241893.0), (('GVIO', 'CCAT'), 65819.0), (('GVIO', 'CCAT'), 82155.0), (('GVIO', 'CCAT'), 100057.0), (('GVIO', 'CCAT'), 100408.0), (('GVIO', 'CCAT'), 95425.0), (('GVIO', 'CCAT'), 102402.0)), ((('GVIO', 'ECAT'), 93263.0), (('GVIO', 'ECAT'), 241893.0), (('GVIO', 'ECAT'), 71584.0), (('GVIO', 'ECAT'), 87432.0), (('GVIO', 'ECAT'), 117928.0), (('GVIO', 'ECAT'), 115924.0), (('GVIO', 'ECAT'), 117813.0), (('GVIO', 'ECAT'), 116819.0)), ((('GVIO', 'GCRIM'), 90817.0), (('GVIO', 'GCRIM'), 241893.0), (('GVIO', 'GCRIM'), 62641.0), (('GVIO', 'GCRIM'), 84140.0), (('GVIO', 'GCRIM'), 110185.0), (('GVIO', 'GCRIM'), 107446.0), (('GVIO', 'GCRIM'), 96995.0), (('GVIO', 'GCRIM'), 106172.0)), ((('C13', 'M12'), 104083.0), (('C13', 'M12'), 246753.0), (('C13', 'M12'), 71936.0), (('C13', 'M12'), 74859.0), (('C13', 'M12'), 79714.0), (('C13', 'M12'), 79074.0), (('C13', 'M12'), 72989.0), (('C13', 'M12'), 73989.0)), ((('C13', 'C15'), 124828.0), (('C13', 'C15'), 246753.0), (('C13', 'C15'), 104895.0), (('C13', 'C15'), 112973.0), (('C13', 'C15'), 125972.0), (('C13', 'C15'), 123147.0), (('C13', 'C15'), 120958.0), (('C13', 'C15'), 125465.0)), ((('C13', 'GPOL'), 128192.0), (('C13', 'GPOL'), 246753.0), (('C13', 'GPOL'), 108137.0), (('C13', 'GPOL'), 115810.0), (('C13', 'GPOL'), 138172.0), (('C13', 'GPOL'), 137356.0), (('C13', 'GPOL'), 131064.0), (('C13', 'GPOL'), 134599.0)), ((('C13', 'M14'), 114928.0), (('C13', 'M14'), 246753.0), (('C13', 'M14'), 90319.0), (('C13', 'M14'), 97250.0), (('C13', 'M14'), 110893.0), (('C13', 'M14'), 109789.0), (('C13', 'M14'), 107492.0), (('C13', 'M14'), 113063.0)), ((('C13', 'MCAT'), 133409.0), (('C13', 'MCAT'), 246753.0), (('C13', 'MCAT'), 109454.0), (('C13', 'MCAT'), 125642.0), (('C13', 'MCAT'), 144123.0), (('C13', 'MCAT'), 145486.0), (('C13', 'MCAT'), 142500.0), (('C13', 'MCAT'), 152158.0)), ((('GDIP', 'C31'), 95968.0), (('GDIP', 'C31'), 249173.0), (('GDIP', 'C31'), 78250.0), (('GDIP', 'C31'), 82691.0), (('GDIP', 'C31'), 127063.0), (('GDIP', 'C31'), 114684.0), (('GDIP', 'C31'), 110133.0), (('GDIP', 'C31'), 123518.0)), ((('GDIP', 'E12'), 82074.0), (('GDIP', 'E12'), 249173.0), (('GDIP', 'E12'), 67613.0), (('GDIP', 'E12'), 70106.0), (('GDIP', 'E12'), 104554.0), (('GDIP', 'E12'), 93174.0), (('GDIP', 'E12'), 93661.0), (('GDIP', 'E12'), 101467.0)), ((('GDIP', 'CCAT'), 111201.0), (('GDIP', 'CCAT'), 249173.0), (('GDIP', 'CCAT'), 82631.0), (('GDIP', 'CCAT'), 103175.0), (('GDIP', 'CCAT'), 136224.0), (('GDIP', 'CCAT'), 132518.0), (('GDIP', 'CCAT'), 126909.0), (('GDIP', 'CCAT'), 134352.0)), ((('GDIP', 'ECAT'), 146084.0), (('GDIP', 'ECAT'), 249173.0), (('GDIP', 'ECAT'), 98733.0), (('GDIP', 'ECAT'), 146967.0), (('GDIP', 'ECAT'), 180544.0), (('GDIP', 'ECAT'), 177629.0), (('GDIP', 'ECAT'), 176438.0), (('GDIP', 'ECAT'), 181082.0)), ((('GDIP', 'GPOL'), 165356.0), (('GDIP', 'GPOL'), 249173.0), (('GDIP', 'GPOL'), 102575.0), (('GDIP', 'GPOL'), 170482.0), (('GDIP', 'GPOL'), 196459.0), (('GDIP', 'GPOL'), 198083.0), (('GDIP', 'GPOL'), 187448.0), (('GDIP', 'GPOL'), 189977.0)), ((('C31', 'C151'), 124187.0), (('C31', 'C151'), 251888.0), (('C31', 'C151'), 94251.0), (('C31', 'C151'), 100632.0), (('C31', 'C151'), 119381.0), (('C31', 'C151'), 117656.0), (('C31', 'C151'), 113547.0), (('C31', 'C151'), 114761.0)), ((('C31', 'C15'), 138968.0), (('C31', 'C15'), 251888.0), (('C31', 'C15'), 110580.0), (('C31', 'C15'), 133143.0), (('C31', 'C15'), 156391.0), (('C31', 'C15'), 155136.0), (('C31', 'C15'), 150809.0), (('C31', 'C15'), 152317.0)), ((('C31', 'ECAT'), 156604.0), (('C31', 'ECAT'), 251888.0), (('C31', 'ECAT'), 126584.0), (('C31', 'ECAT'), 153783.0), (('C31', 'ECAT'), 179361.0), (('C31', 'ECAT'), 178689.0), (('C31', 'ECAT'), 166863.0), (('C31', 'ECAT'), 176490.0)), ((('C31', 'C21'), 156900.0), (('C31', 'C21'), 251888.0), (('C31', 'C21'), 138866.0), (('C31', 'C21'), 190144.0), (('C31', 'C21'), 196870.0), (('C31', 'C21'), 202837.0), (('C31', 'C21'), 197272.0), (('C31', 'C21'), 185763.0)), ((('C31', 'M14'), 136230.0), (('C31', 'M14'), 251888.0), (('C31', 'M14'), 116786.0), (('C31', 'M14'), 132258.0), (('C31', 'M14'), 151524.0), (('C31', 'M14'), 151617.0), (('C31', 'M14'), 138403.0), (('C31', 'M14'), 142404.0)), ((('C181', 'C151'), 84974.0), (('C181', 'C151'), 252588.0), (('C181', 'C151'), 67990.0), (('C181', 'C151'), 73706.0), (('C181', 'C151'), 109111.0), (('C181', 'C151'), 98167.0), (('C181', 'C151'), 94242.0), (('C181', 'C151'), 105022.0)), ((('C181', 'GCAT'), 98757.0), (('C181', 'GCAT'), 252588.0), (('C181', 'GCAT'), 73358.0), (('C181', 'GCAT'), 88675.0), (('C181', 'GCAT'), 125173.0), (('C181', 'GCAT'), 115948.0), (('C181', 'GCAT'), 111315.0), (('C181', 'GCAT'), 119942.0)), ((('C181', 'C152'), 138037.0), (('C181', 'C152'), 252588.0), (('C181', 'C152'), 93059.0), (('C181', 'C152'), 132978.0), (('C181', 'C152'), 175144.0), (('C181', 'C152'), 171149.0), (('C181', 'C152'), 157325.0), (('C181', 'C152'), 175471.0)), ((('C181', 'C15'), 145931.0), (('C181', 'C15'), 252588.0), (('C181', 'C15'), 97461.0), (('C181', 'C15'), 143055.0), (('C181', 'C15'), 181136.0), (('C181', 'C15'), 181165.0), (('C181', 'C15'), 168587.0), (('C181', 'C15'), 184827.0)), ((('C181', 'C17'), 124942.0), (('C181', 'C17'), 252588.0), (('C181', 'C17'), 92017.0), (('C181', 'C17'), 132314.0), (('C181', 'C17'), 155531.0), (('C181', 'C17'), 158726.0), (('C181', 'C17'), 140572.0), (('C181', 'C17'), 151433.0)), ((('M141', 'ECAT'), 58870.0), (('M141', 'ECAT'), 252838.0), (('M141', 'ECAT'), 41680.0), (('M141', 'ECAT'), 60059.0), (('M141', 'ECAT'), 87624.0), (('M141', 'ECAT'), 87782.0), (('M141', 'ECAT'), 82405.0), (('M141', 'ECAT'), 83404.0)), ((('M141', 'GCAT'), 61027.0), (('M141', 'GCAT'), 252838.0), (('M141', 'GCAT'), 43260.0), (('M141', 'GCAT'), 60908.0), (('M141', 'GCAT'), 85709.0), (('M141', 'GCAT'), 84577.0), (('M141', 'GCAT'), 84707.0), (('M141', 'GCAT'), 87055.0)), ((('M141', 'C24'), 75257.0), (('M141', 'C24'), 252838.0), (('M141', 'C24'), 45707.0), (('M141', 'C24'), 75038.0), (('M141', 'C24'), 103167.0), (('M141', 'C24'), 103086.0), (('M141', 'C24'), 94830.0), (('M141', 'C24'), 95956.0)), ((('M141', 'C31'), 113369.0), (('M141', 'C31'), 252838.0), (('M141', 'C31'), 61342.0), (('M141', 'C31'), 115517.0), (('M141', 'C31'), 151248.0), (('M141', 'C31'), 153457.0), (('M141', 'C31'), 135224.0), (('M141', 'C31'), 132552.0)), ((('M141', 'C21'), 98867.0), (('M141', 'C21'), 252838.0), (('M141', 'C21'), 61651.0), (('M141', 'C21'), 99238.0), (('M141', 'C21'), 126879.0), (('M141', 'C21'), 126420.0), (('M141', 'C21'), 106347.0), (('M141', 'C21'), 102488.0)), ((('M11', 'ECAT'), 66410.0), (('M11', 'ECAT'), 253688.0), (('M11', 'ECAT'), 51926.0), (('M11', 'ECAT'), 64729.0), (('M11', 'ECAT'), 84535.0), (('M11', 'ECAT'), 81812.0), (('M11', 'ECAT'), 82388.0), (('M11', 'ECAT'), 84571.0)), ((('M11', 'C152'), 115812.0), (('M11', 'C152'), 253688.0), (('M11', 'C152'), 69713.0), (('M11', 'C152'), 115661.0), (('M11', 'C152'), 149765.0), (('M11', 'C152'), 150593.0), (('M11', 'C152'), 143677.0), (('M11', 'C152'), 144946.0)), ((('M11', 'M132'), 55202.0), (('M11', 'M132'), 253688.0), (('M11', 'M132'), 38020.0), (('M11', 'M132'), 53645.0), (('M11', 'M132'), 74186.0), (('M11', 'M132'), 70565.0), (('M11', 'M132'), 62336.0), (('M11', 'M132'), 71024.0)), ((('M11', 'M13'), 71989.0), (('M11', 'M13'), 253688.0), (('M11', 'M13'), 49291.0), (('M11', 'M13'), 70913.0), (('M11', 'M13'), 94412.0), (('M11', 'M13'), 91803.0), (('M11', 'M13'), 88529.0), (('M11', 'M13'), 96959.0)), ((('M11', 'CCAT'), 125037.0), (('M11', 'CCAT'), 253688.0), (('M11', 'CCAT'), 76034.0), (('M11', 'CCAT'), 127063.0), (('M11', 'CCAT'), 158021.0), (('M11', 'CCAT'), 157818.0), (('M11', 'CCAT'), 157500.0), (('M11', 'CCAT'), 154666.0)), ((('E21', 'C31'), 74280.0), (('E21', 'C31'), 253363.0), (('E21', 'C31'), 63979.0), (('E21', 'C31'), 65594.0), (('E21', 'C31'), 103328.0), (('E21', 'C31'), 92162.0), (('E21', 'C31'), 87806.0), (('E21', 'C31'), 104255.0)), ((('E21', 'M12'), 92354.0), (('E21', 'M12'), 253363.0), (('E21', 'M12'), 70646.0), (('E21', 'M12'), 89654.0), (('E21', 'M12'), 111964.0), (('E21', 'M12'), 108207.0), (('E21', 'M12'), 93700.0), (('E21', 'M12'), 105792.0)), ((('E21', 'MCAT'), 109796.0), (('E21', 'MCAT'), 253363.0), (('E21', 'MCAT'), 84094.0), (('E21', 'MCAT'), 107102.0), (('E21', 'MCAT'), 139356.0), (('E21', 'MCAT'), 134407.0), (('E21', 'MCAT'), 128776.0), (('E21', 'MCAT'), 140551.0)), ((('E21', 'E12'), 95539.0), (('E21', 'E12'), 253363.0), (('E21', 'E12'), 77902.0), (('E21', 'E12'), 104140.0), (('E21', 'E12'), 119158.0), (('E21', 'E12'), 122459.0), (('E21', 'E12'), 114172.0), (('E21', 'E12'), 114937.0)), ((('E21', 'GPOL'), 112591.0), (('E21', 'GPOL'), 253363.0), (('E21', 'GPOL'), 82319.0), (('E21', 'GPOL'), 116836.0), (('E21', 'GPOL'), 147645.0), (('E21', 'GPOL'), 148950.0), (('E21', 'GPOL'), 138238.0), (('E21', 'GPOL'), 141749.0)), ((('C17', 'MCAT'), 93445.0), (('C17', 'MCAT'), 256623.0), (('C17', 'MCAT'), 79426.0), (('C17', 'MCAT'), 86379.0), (('C17', 'MCAT'), 122375.0), (('C17', 'MCAT'), 112376.0), (('C17', 'MCAT'), 106382.0), (('C17', 'MCAT'), 123149.0)), ((('C17', 'C152'), 116996.0), (('C17', 'C152'), 256623.0), (('C17', 'C152'), 88274.0), (('C17', 'C152'), 112051.0), (('C17', 'C152'), 146103.0), (('C17', 'C152'), 139567.0), (('C17', 'C152'), 134742.0), (('C17', 'C152'), 145762.0)), ((('C17', 'C15'), 140847.0), (('C17', 'C15'), 256623.0), (('C17', 'C15'), 108705.0), (('C17', 'C15'), 144878.0), (('C17', 'C15'), 173454.0), (('C17', 'C15'), 172355.0), (('C17', 'C15'), 164533.0), (('C17', 'C15'), 167814.0)), ((('C17', 'C18'), 142063.0), (('C17', 'C18'), 256623.0), (('C17', 'C18'), 101863.0), (('C17', 'C18'), 145881.0), (('C17', 'C18'), 168540.0), (('C17', 'C18'), 171279.0), (('C17', 'C18'), 159216.0), (('C17', 'C18'), 157379.0)), ((('C17', 'ECAT'), 116808.0), (('C17', 'ECAT'), 256623.0), (('C17', 'ECAT'), 85347.0), (('C17', 'ECAT'), 111286.0), (('C17', 'ECAT'), 150336.0), (('C17', 'ECAT'), 143614.0), (('C17', 'ECAT'), 137784.0), (('C17', 'ECAT'), 146910.0)), ((('M13', 'E21'), 52249.0), (('M13', 'E21'), 259723.0), (('M13', 'E21'), 39784.0), (('M13', 'E21'), 45700.0), (('M13', 'E21'), 67163.0), (('M13', 'E21'), 59160.0), (('M13', 'E21'), 57293.0), (('M13', 'E21'), 63895.0)), ((('M13', 'M11'), 44907.0), (('M13', 'M11'), 259723.0), (('M13', 'M11'), 36568.0), (('M13', 'M11'), 37589.0), (('M13', 'M11'), 57152.0), (('M13', 'M11'), 46730.0), (('M13', 'M11'), 45769.0), (('M13', 'M11'), 56019.0)), ((('M13', 'GCAT'), 56338.0), (('M13', 'GCAT'), 259723.0), (('M13', 'GCAT'), 46431.0), (('M13', 'GCAT'), 50532.0), (('M13', 'GCAT'), 72848.0), (('M13', 'GCAT'), 66942.0), (('M13', 'GCAT'), 63822.0), (('M13', 'GCAT'), 73968.0)), ((('M13', 'E12'), 149068.0), (('M13', 'E12'), 259723.0), (('M13', 'E12'), 91510.0), (('M13', 'E12'), 149640.0), (('M13', 'E12'), 177082.0), (('M13', 'E12'), 175974.0), (('M13', 'E12'), 163698.0), (('M13', 'E12'), 163536.0)), ((('M13', 'ECAT'), 158273.0), (('M13', 'ECAT'), 259723.0), (('M13', 'ECAT'), 91086.0), (('M13', 'ECAT'), 158436.0), (('M13', 'ECAT'), 195458.0), (('M13', 'ECAT'), 193658.0), (('M13', 'ECAT'), 185701.0), (('M13', 'ECAT'), 194956.0)), ((('C18', 'E12'), 119535.0), (('C18', 'E12'), 264108.0), (('C18', 'E12'), 86218.0), (('C18', 'E12'), 113759.0), (('C18', 'E12'), 150605.0), (('C18', 'E12'), 145580.0), (('C18', 'E12'), 126779.0), (('C18', 'E12'), 134473.0)), ((('C18', 'GCAT'), 122764.0), (('C18', 'GCAT'), 264108.0), (('C18', 'GCAT'), 86063.0), (('C18', 'GCAT'), 113257.0), (('C18', 'GCAT'), 157354.0), (('C18', 'GCAT'), 145815.0), (('C18', 'GCAT'), 138324.0), (('C18', 'GCAT'), 152739.0)), ((('C18', 'C152'), 158961.0), (('C18', 'C152'), 264108.0), (('C18', 'C152'), 104937.0), (('C18', 'C152'), 153832.0), (('C18', 'C152'), 204701.0), (('C18', 'C152'), 198873.0), (('C18', 'C152'), 182592.0), (('C18', 'C152'), 201697.0)), ((('C18', 'C15'), 170909.0), (('C18', 'C15'), 264108.0), (('C18', 'C15'), 112122.0), (('C18', 'C15'), 169476.0), (('C18', 'C15'), 215089.0), (('C18', 'C15'), 212011.0), (('C18', 'C15'), 191513.0), (('C18', 'C15'), 216408.0)), ((('C18', 'C17'), 175170.0), (('C18', 'C17'), 264108.0), (('C18', 'C17'), 118776.0), (('C18', 'C17'), 177600.0), (('C18', 'C17'), 214601.0), (('C18', 'C17'), 215564.0), (('C18', 'C17'), 183390.0), (('C18', 'C17'), 197712.0)), ((('GPOL', 'MCAT'), 106524.0), (('GPOL', 'MCAT'), 273678.0), (('GPOL', 'MCAT'), 86211.0), (('GPOL', 'MCAT'), 84319.0), (('GPOL', 'MCAT'), 137246.0), (('GPOL', 'MCAT'), 118528.0), (('GPOL', 'MCAT'), 113924.0), (('GPOL', 'MCAT'), 133450.0)), ((('GPOL', 'CCAT'), 178987.0), (('GPOL', 'CCAT'), 273678.0), (('GPOL', 'CCAT'), 121953.0), (('GPOL', 'CCAT'), 173875.0), (('GPOL', 'CCAT'), 216978.0), (('GPOL', 'CCAT'), 214240.0), (('GPOL', 'CCAT'), 196872.0), (('GPOL', 'CCAT'), 208658.0)), ((('GPOL', 'GCRIM'), 143000.0), (('GPOL', 'GCRIM'), 273678.0), (('GPOL', 'GCRIM'), 94113.0), (('GPOL', 'GCRIM'), 129108.0), (('GPOL', 'GCRIM'), 170994.0), (('GPOL', 'GCRIM'), 161549.0), (('GPOL', 'GCRIM'), 144642.0), (('GPOL', 'GCRIM'), 160283.0)), ((('GPOL', 'E21'), 131772.0), (('GPOL', 'E21'), 273678.0), (('GPOL', 'E21'), 91771.0), (('GPOL', 'E21'), 120118.0), (('GPOL', 'E21'), 166168.0), (('GPOL', 'E21'), 155980.0), (('GPOL', 'E21'), 131943.0), (('GPOL', 'E21'), 157442.0)), ((('GPOL', 'GVIO'), 178911.0), (('GPOL', 'GVIO'), 273678.0), (('GPOL', 'GVIO'), 116682.0), (('GPOL', 'GVIO'), 176381.0), (('GPOL', 'GVIO'), 219043.0), (('GPOL', 'GVIO'), 218841.0), (('GPOL', 'GVIO'), 185354.0), (('GPOL', 'GVIO'), 199486.0)), ((('C152', 'M11'), 133964.0), (('C152', 'M11'), 296888.0), (('C152', 'M11'), 102367.0), (('C152', 'M11'), 123428.0), (('C152', 'M11'), 164293.0), (('C152', 'M11'), 145808.0), (('C152', 'M11'), 132733.0), (('C152', 'M11'), 161916.0)), ((('C152', 'C17'), 121091.0), (('C152', 'C17'), 296888.0), (('C152', 'C17'), 103609.0), (('C152', 'C17'), 108813.0), (('C152', 'C17'), 157315.0), (('C152', 'C17'), 136084.0), (('C152', 'C17'), 129791.0), (('C152', 'C17'), 153707.0)), ((('C152', 'C31'), 142826.0), (('C152', 'C31'), 296888.0), (('C152', 'C31'), 120075.0), (('C152', 'C31'), 133107.0), (('C152', 'C31'), 197488.0), (('C152', 'C31'), 187891.0), (('C152', 'C31'), 172554.0), (('C152', 'C31'), 184904.0)), ((('C152', 'C181'), 134568.0), (('C152', 'C181'), 296888.0), (('C152', 'C181'), 102692.0), (('C152', 'C181'), 124901.0), (('C152', 'C181'), 169435.0), (('C152', 'C181'), 152619.0), (('C152', 'C181'), 142028.0), (('C152', 'C181'), 162462.0)), ((('C152', 'C18'), 141090.0), (('C152', 'C18'), 296888.0), (('C152', 'C18'), 107923.0), (('C152', 'C18'), 134554.0), (('C152', 'C18'), 176196.0), (('C152', 'C18'), 161594.0), (('C152', 'C18'), 154455.0), (('C152', 'C18'), 168065.0)), ((('M14', 'M132'), 45835.0), (('M14', 'M132'), 297423.0), (('M14', 'M132'), 36913.0), (('M14', 'M132'), 35375.0), (('M14', 'M132'), 63433.0), (('M14', 'M132'), 51475.0), (('M14', 'M132'), 44939.0), (('M14', 'M132'), 57973.0)), ((('M14', 'M13'), 56520.0), (('M14', 'M13'), 297423.0), (('M14', 'M13'), 48648.0), (('M14', 'M13'), 46149.0), (('M14', 'M13'), 82434.0), (('M14', 'M13'), 70571.0), (('M14', 'M13'), 66049.0), (('M14', 'M13'), 82280.0)), ((('M14', 'GCAT'), 108447.0), (('M14', 'GCAT'), 297423.0), (('M14', 'GCAT'), 80173.0), (('M14', 'GCAT'), 105895.0), (('M14', 'GCAT'), 149488.0), (('M14', 'GCAT'), 146551.0), (('M14', 'GCAT'), 146052.0), (('M14', 'GCAT'), 149769.0)), ((('M14', 'C24'), 134691.0), (('M14', 'C24'), 297423.0), (('M14', 'C24'), 89854.0), (('M14', 'C24'), 128812.0), (('M14', 'C24'), 181085.0), (('M14', 'C24'), 177820.0), (('M14', 'C24'), 156647.0), (('M14', 'C24'), 164364.0)), ((('M14', 'C31'), 204277.0), (('M14', 'C31'), 297423.0), (('M14', 'C31'), 114475.0), (('M14', 'C31'), 209546.0), (('M14', 'C31'), 268873.0), (('M14', 'C31'), 274864.0), (('M14', 'C31'), 231674.0), (('M14', 'C31'), 226929.0)), ((('C151', 'C181'), 68086.0), (('C151', 'C181'), 302448.0), (('C151', 'C181'), 56101.0), (('C151', 'C181'), 61556.0), (('C151', 'C181'), 88779.0), (('C151', 'C181'), 78430.0), (('C151', 'C181'), 73676.0), (('C151', 'C181'), 84319.0)), ((('C151', 'C18'), 72673.0), (('C151', 'C18'), 302448.0), (('C151', 'C18'), 61714.0), (('C151', 'C18'), 67328.0), (('C151', 'C18'), 93317.0), (('C151', 'C18'), 85107.0), (('C151', 'C18'), 79933.0), (('C151', 'C18'), 90914.0)), ((('C151', 'C17'), 82386.0), (('C151', 'C17'), 302448.0), (('C151', 'C17'), 67943.0), (('C151', 'C17'), 75729.0), (('C151', 'C17'), 114802.0), (('C151', 'C17'), 102537.0), (('C151', 'C17'), 93594.0), (('C151', 'C17'), 102593.0)), ((('C151', 'C31'), 87066.0), (('C151', 'C31'), 302448.0), (('C151', 'C31'), 77376.0), (('C151', 'C31'), 87808.0), (('C151', 'C31'), 117707.0), (('C151', 'C31'), 115831.0), (('C151', 'C31'), 112092.0), (('C151', 'C31'), 114159.0)), ((('C151', 'C152'), 157796.0), (('C151', 'C152'), 302448.0), (('C151', 'C152'), 103501.0), (('C151', 'C152'), 160630.0), (('C151', 'C152'), 211064.0), (('C151', 'C152'), 209408.0), (('C151', 'C152'), 175929.0), (('C151', 'C152'), 185663.0)), ((('ECAT', 'GVIO'), 154835.0), (('ECAT', 'GVIO'), 351008.0), (('ECAT', 'GVIO'), 119398.0), (('ECAT', 'GVIO'), 124461.0), (('ECAT', 'GVIO'), 191566.0), (('ECAT', 'GVIO'), 155371.0), (('ECAT', 'GVIO'), 144946.0), (('ECAT', 'GVIO'), 184043.0)), ((('ECAT', 'C17'), 226106.0), (('ECAT', 'C17'), 351008.0), (('ECAT', 'C17'), 172519.0), (('ECAT', 'C17'), 209871.0), (('ECAT', 'C17'), 275356.0), (('ECAT', 'C17'), 256661.0), (('ECAT', 'C17'), 235000.0), (('ECAT', 'C17'), 258363.0)), ((('ECAT', 'M13'), 253882.0), (('ECAT', 'M13'), 351008.0), (('ECAT', 'M13'), 159235.0), (('ECAT', 'M13'), 237414.0), (('ECAT', 'M13'), 311696.0), (('ECAT', 'M13'), 294289.0), (('ECAT', 'M13'), 225756.0), (('ECAT', 'M13'), 294280.0)), ((('ECAT', 'GPOL'), 297417.0), (('ECAT', 'GPOL'), 351008.0), (('ECAT', 'GPOL'), 202729.0), (('ECAT', 'GPOL'), 291038.0), (('ECAT', 'GPOL'), 378817.0), (('ECAT', 'GPOL'), 365715.0), (('ECAT', 'GPOL'), 306960.0), (('ECAT', 'GPOL'), 342218.0)), ((('ECAT', 'MCAT'), 350634.0), (('ECAT', 'MCAT'), 351008.0), (('ECAT', 'MCAT'), 228012.0), (('ECAT', 'MCAT'), 340468.0), (('ECAT', 'MCAT'), 432157.0), (('ECAT', 'MCAT'), 412720.0), (('ECAT', 'MCAT'), 362555.0), (('ECAT', 'MCAT'), 416547.0))]\n"
     ]
    }
   ],
   "source": [
    "print(list(zip(cost_auto.items(),cost_manual.items(),cost_3.items(),cost_2.items(),cost_rr.items(),cost_ur.items(),cost_alus.items(),cost_alrs.items())))"
   ]
  },
  {
   "cell_type": "code",
   "execution_count": 50,
   "metadata": {},
   "outputs": [
    {
     "name": "stdout",
     "output_type": "stream",
     "text": [
      "learn GDIP     3.729\n",
      "learn C13     8.203\n",
      "learn GVIO     4.126\n",
      "learn ECAT    10.557\n",
      "learn E212     3.348\n",
      "learn MCAT     8.972\n",
      "learn C31     6.968\n",
      "learn M131     3.265\n",
      "learn M13     4.579\n",
      "learn M132     3.794\n",
      "learn M14     5.714\n",
      "learn C18     5.865\n",
      "learn M141     4.425\n",
      "learn GCRIM     5.199\n",
      "learn C181     4.967\n",
      "learn C21     6.677\n",
      "learn GPOL     7.526\n",
      "learn C152     7.157\n",
      "learn C151     4.648\n",
      "learn E12     5.631\n",
      "learn GCAT    11.099\n",
      "learn CCAT    13.895\n",
      "learn M12     3.446\n",
      "learn E21     3.552\n",
      "learn C17     5.280\n",
      "learn C24     3.987\n",
      "learn C15     7.994\n",
      "learn M11     4.608\n",
      "classify GDIP     0.892\n",
      "classify C13     0.522\n",
      "classify GVIO     0.522\n",
      "classify ECAT     0.522\n",
      "classify E212     0.515\n",
      "classify MCAT     0.515\n",
      "classify C31     0.515\n",
      "classify M131     0.515\n",
      "classify M13     0.536\n",
      "classify M132     0.515\n",
      "classify M14     0.514\n",
      "classify C18     0.516\n",
      "classify M141     0.516\n",
      "classify GCRIM     0.515\n",
      "classify C181     0.526\n",
      "classify C21     0.515\n",
      "classify GPOL     0.514\n",
      "classify C152     0.515\n",
      "classify C151     0.514\n",
      "classify E12     0.516\n",
      "classify GCAT     0.515\n",
      "classify CCAT     0.515\n",
      "classify M12     0.516\n",
      "classify E21     0.515\n",
      "classify C17     0.537\n",
      "classify C24     0.581\n",
      "classify C15     0.596\n",
      "classify M11     0.517\n",
      "FM M12 M14     0.000\n",
      "FM M12 CCAT     0.000\n",
      "FM M12 M132     0.000\n",
      "FM M12 E21     0.000\n",
      "FM M12 M131     0.000\n",
      "FM M132 GPOL     0.000\n",
      "FM M132 CCAT     0.000\n",
      "FM M132 M12     0.000\n",
      "FM M132 M131     0.000\n",
      "FM M132 GCAT     0.000\n",
      "FM M131 CCAT     0.000\n",
      "FM M131 M132     0.000\n",
      "FM M131 E12     0.000\n",
      "FM M131 ECAT     0.000\n",
      "FM M131 M12     0.000\n",
      "FM E12 M11     0.000\n",
      "FM E12 GDIP     0.000\n",
      "FM E12 E212     0.000\n",
      "FM E12 M131     0.000\n",
      "FM E12 E21     0.000\n",
      "FM C21 C17     0.000\n",
      "FM C21 C15     0.000\n",
      "FM C21 ECAT     0.000\n",
      "FM C21 C31     0.000\n",
      "FM C21 M141     0.000\n",
      "FM E212 GPOL     0.000\n",
      "FM E212 E12     0.000\n",
      "FM E212 M12     0.000\n",
      "FM E212 MCAT     0.000\n",
      "FM E212 C17     0.000\n",
      "FM GCRIM E212     0.000\n",
      "FM GCRIM C15     0.000\n",
      "FM GCRIM C18     0.000\n",
      "FM GCRIM GDIP     0.000\n",
      "FM GCRIM GPOL     0.000\n",
      "FM C24 GDIP     0.000\n",
      "FM C24 C15     0.000\n",
      "FM C24 C31     0.000\n",
      "FM C24 MCAT     0.000\n",
      "FM C24 C21     0.000\n",
      "FM GVIO C21     0.000\n",
      "FM GVIO C24     0.000\n",
      "FM GVIO CCAT     0.000\n",
      "FM GVIO ECAT     0.000\n",
      "FM GVIO GCRIM     0.000\n",
      "FM C13 M12     0.000\n",
      "FM C13 C15     0.000\n",
      "FM C13 GPOL     0.000\n",
      "FM C13 M14     0.000\n",
      "FM C13 MCAT     0.000\n",
      "FM GDIP C31     0.000\n",
      "FM GDIP E12     0.000\n",
      "FM GDIP CCAT     0.000\n",
      "FM GDIP ECAT     0.000\n",
      "FM GDIP GPOL     0.000\n",
      "FM C31 C151     0.000\n",
      "FM C31 C15     0.000\n",
      "FM C31 ECAT     0.000\n",
      "FM C31 C21     0.000\n",
      "FM C31 M14     0.000\n",
      "FM C181 C151     0.000\n",
      "FM C181 GCAT     0.000\n",
      "FM C181 C152     0.000\n",
      "FM C181 C15     0.000\n",
      "FM C181 C17     0.000\n",
      "FM M141 ECAT     0.000\n",
      "FM M141 GCAT     0.000\n",
      "FM M141 C24     0.000\n",
      "FM M141 C31     0.000\n",
      "FM M141 C21     0.000\n",
      "FM M11 ECAT     0.000\n",
      "FM M11 C152     0.000\n",
      "FM M11 M132     0.000\n",
      "FM M11 M13     0.000\n",
      "FM M11 CCAT     0.000\n",
      "FM E21 C31     0.000\n",
      "FM E21 M12     0.000\n",
      "FM E21 MCAT     0.000\n",
      "FM E21 E12     0.000\n",
      "FM E21 GPOL     0.000\n",
      "FM C17 MCAT     0.000\n",
      "FM C17 C152     0.000\n",
      "FM C17 C15     0.000\n",
      "FM C17 C18     0.000\n",
      "FM C17 ECAT     0.000\n",
      "FM M13 E21     0.000\n",
      "FM M13 M11     0.000\n",
      "FM M13 GCAT     0.000\n",
      "FM M13 E12     0.000\n",
      "FM M13 ECAT     0.000\n",
      "FM C18 E12     0.000\n",
      "FM C18 GCAT     0.000\n",
      "FM C18 C152     0.000\n",
      "FM C18 C15     0.000\n",
      "FM C18 C17     0.000\n",
      "FM GPOL MCAT     0.000\n",
      "FM GPOL CCAT     0.000\n",
      "FM GPOL GCRIM     0.000\n",
      "FM GPOL E21     0.000\n",
      "FM GPOL GVIO     0.000\n",
      "FM C152 M11     0.000\n",
      "FM C152 C17     0.000\n",
      "FM C152 C31     0.000\n",
      "FM C152 C181     0.000\n",
      "FM C152 C18     0.000\n",
      "FM M14 M132     0.000\n",
      "FM M14 M13     0.000\n",
      "FM M14 GCAT     0.000\n",
      "FM M14 C24     0.000\n",
      "FM M14 C31     0.000\n",
      "FM C151 C181     0.000\n",
      "FM C151 C18     0.000\n",
      "FM C151 C17     0.000\n",
      "FM C151 C31     0.000\n",
      "FM C151 C152     0.000\n",
      "FM ECAT GVIO     0.000\n",
      "FM ECAT C17     0.000\n",
      "FM ECAT M13     0.000\n",
      "FM ECAT GPOL     0.000\n",
      "FM ECAT MCAT     0.000\n",
      "FA M12 M14     0.185\n",
      "FA M12 CCAT     0.170\n",
      "FA M12 M132     0.183\n",
      "FA M12 E21     0.177\n",
      "FA M12 M131     0.179\n",
      "FA M132 GPOL     0.178\n",
      "FA M132 CCAT     0.184\n",
      "FA M132 M12     0.183\n",
      "FA M132 M131     0.173\n",
      "FA M132 GCAT     0.193\n",
      "FA M131 CCAT     0.177\n",
      "FA M131 M132     0.171\n",
      "FA M131 E12     0.168\n",
      "FA M131 ECAT     0.170\n",
      "FA M131 M12     0.173\n",
      "FA E12 M11     0.171\n",
      "FA E12 GDIP     0.169\n",
      "FA E12 E212     0.187\n",
      "FA E12 M131     0.174\n",
      "FA E12 E21     0.193\n",
      "FA C21 C17     0.170\n",
      "FA C21 C15     0.171\n",
      "FA C21 ECAT     0.197\n",
      "FA C21 C31     0.168\n",
      "FA C21 M141     0.169\n",
      "FA E212 GPOL     0.171\n",
      "FA E212 E12     0.167\n",
      "FA E212 M12     0.166\n",
      "FA E212 MCAT     0.182\n",
      "FA E212 C17     0.165\n",
      "FA GCRIM E212     0.198\n",
      "FA GCRIM C15     0.163\n",
      "FA GCRIM C18     0.170\n",
      "FA GCRIM GDIP     0.174\n",
      "FA GCRIM GPOL     0.167\n",
      "FA C24 GDIP     0.168\n",
      "FA C24 C15     0.169\n",
      "FA C24 C31     0.167\n",
      "FA C24 MCAT     0.172\n",
      "FA C24 C21     0.170\n",
      "FA GVIO C21     0.188\n",
      "FA GVIO C24     0.167\n",
      "FA GVIO CCAT     0.170\n",
      "FA GVIO ECAT     0.165\n",
      "FA GVIO GCRIM     0.166\n",
      "FA C13 M12     0.174\n",
      "FA C13 C15     0.176\n",
      "FA C13 GPOL     0.173\n",
      "FA C13 M14     0.166\n",
      "FA C13 MCAT     0.174\n",
      "FA GDIP C31     0.167\n",
      "FA GDIP E12     0.171\n",
      "FA GDIP CCAT     0.179\n",
      "FA GDIP ECAT     0.169\n",
      "FA GDIP GPOL     0.175\n",
      "FA C31 C151     0.175\n",
      "FA C31 C15     0.170\n",
      "FA C31 ECAT     0.174\n",
      "FA C31 C21     0.169\n",
      "FA C31 M14     0.172\n",
      "FA C181 C151     0.175\n",
      "FA C181 GCAT     0.172\n",
      "FA C181 C152     0.166\n",
      "FA C181 C15     0.186\n",
      "FA C181 C17     0.171\n",
      "FA M141 ECAT     0.173\n",
      "FA M141 GCAT     0.170\n",
      "FA M141 C24     0.209\n",
      "FA M141 C31     0.177\n",
      "FA M141 C21     0.170\n",
      "FA M11 ECAT     0.207\n",
      "FA M11 C152     0.183\n",
      "FA M11 M132     0.181\n",
      "FA M11 M13     0.173\n",
      "FA M11 CCAT     0.173\n",
      "FA E21 C31     0.183\n",
      "FA E21 M12     0.181\n",
      "FA E21 MCAT     0.183\n",
      "FA E21 E12     0.180\n",
      "FA E21 GPOL     0.173\n",
      "FA C17 MCAT     0.197\n",
      "FA C17 C152     0.174\n",
      "FA C17 C15     0.173\n",
      "FA C17 C18     0.166\n",
      "FA C17 ECAT     0.193\n",
      "FA M13 E21     0.171\n",
      "FA M13 M11     0.171\n",
      "FA M13 GCAT     0.168\n",
      "FA M13 E12     0.174\n",
      "FA M13 ECAT     0.166\n",
      "FA C18 E12     0.165\n",
      "FA C18 GCAT     0.168\n",
      "FA C18 C152     0.179\n",
      "FA C18 C15     0.166\n",
      "FA C18 C17     0.166\n",
      "FA GPOL MCAT     0.170\n",
      "FA GPOL CCAT     0.171\n",
      "FA GPOL GCRIM     0.172\n",
      "FA GPOL E21     0.174\n",
      "FA GPOL GVIO     0.167\n",
      "FA C152 M11     0.187\n",
      "FA C152 C17     0.178\n",
      "FA C152 C31     0.171\n",
      "FA C152 C181     0.175\n",
      "FA C152 C18     0.175\n",
      "FA M14 M132     0.175\n",
      "FA M14 M13     0.209\n",
      "FA M14 GCAT     0.183\n",
      "FA M14 C24     0.179\n",
      "FA M14 C31     0.169\n",
      "FA C151 C181     0.166\n",
      "FA C151 C18     0.207\n",
      "FA C151 C17     0.175\n",
      "FA C151 C31     0.163\n",
      "FA C151 C152     0.167\n",
      "FA ECAT GVIO     0.173\n",
      "FA ECAT C17     0.168\n",
      "FA ECAT M13     0.171\n",
      "FA ECAT GPOL     0.182\n",
      "FA ECAT MCAT     0.176\n",
      "RM M12 M14     1.006\n",
      "RM M12 CCAT     0.981\n",
      "RM M12 M132     0.936\n",
      "RM M12 E21     0.938\n",
      "RM M12 M131     0.945\n",
      "RM M132 GPOL     0.939\n",
      "RM M132 CCAT     0.944\n",
      "RM M132 M12     0.945\n",
      "RM M132 M131     0.938\n",
      "RM M132 GCAT     0.936\n",
      "RM M131 CCAT     0.935\n",
      "RM M131 M132     0.925\n",
      "RM M131 E12     0.947\n",
      "RM M131 ECAT     0.932\n",
      "RM M131 M12     0.939\n",
      "RM E12 M11     0.936\n",
      "RM E12 GDIP     0.935\n",
      "RM E12 E212     0.936\n",
      "RM E12 M131     0.940\n",
      "RM E12 E21     0.950\n",
      "RM C21 C17     0.947\n",
      "RM C21 C15     0.944\n",
      "RM C21 ECAT     0.939\n",
      "RM C21 C31     0.938\n",
      "RM C21 M141     0.938\n",
      "RM E212 GPOL     0.936\n",
      "RM E212 E12     0.934\n",
      "RM E212 M12     0.929\n",
      "RM E212 MCAT     0.935\n",
      "RM E212 C17     0.936\n",
      "RM GCRIM E212     0.972\n",
      "RM GCRIM C15     0.938\n",
      "RM GCRIM C18     0.955\n",
      "RM GCRIM GDIP     0.973\n",
      "RM GCRIM GPOL     0.973\n",
      "RM C24 GDIP     0.962\n",
      "RM C24 C15     0.941\n",
      "RM C24 C31     0.933\n",
      "RM C24 MCAT     0.934\n",
      "RM C24 C21     0.936\n",
      "RM GVIO C21     0.932\n",
      "RM GVIO C24     0.930\n",
      "RM GVIO CCAT     0.943\n",
      "RM GVIO ECAT     0.945\n",
      "RM GVIO GCRIM     0.931\n",
      "RM C13 M12     0.930\n",
      "RM C13 C15     0.938\n",
      "RM C13 GPOL     0.935\n",
      "RM C13 M14     0.934\n",
      "RM C13 MCAT     0.931\n",
      "RM GDIP C31     0.930\n",
      "RM GDIP E12     0.932\n",
      "RM GDIP CCAT     0.929\n",
      "RM GDIP ECAT     0.931\n",
      "RM GDIP GPOL     0.931\n",
      "RM C31 C151     0.934\n",
      "RM C31 C15     0.925\n",
      "RM C31 ECAT     0.931\n",
      "RM C31 C21     0.920\n",
      "RM C31 M14     0.938\n",
      "RM C181 C151     0.927\n",
      "RM C181 GCAT     0.945\n",
      "RM C181 C152     1.120\n",
      "RM C181 C15     1.039\n",
      "RM C181 C17     0.952\n",
      "RM M141 ECAT     0.939\n",
      "RM M141 GCAT     0.947\n",
      "RM M141 C24     1.011\n",
      "RM M141 C31     1.306\n",
      "RM M141 C21     1.189\n",
      "RM M11 ECAT     0.934\n",
      "RM M11 C152     0.921\n",
      "RM M11 M132     0.936\n",
      "RM M11 M13     0.927\n",
      "RM M11 CCAT     0.928\n",
      "RM E21 C31     0.955\n",
      "RM E21 M12     0.968\n",
      "RM E21 MCAT     0.954\n",
      "RM E21 E12     0.929\n",
      "RM E21 GPOL     0.942\n",
      "RM C17 MCAT     1.069\n",
      "RM C17 C152     0.933\n",
      "RM C17 C15     0.954\n",
      "RM C17 C18     0.942\n",
      "RM C17 ECAT     0.944\n",
      "RM M13 E21     0.938\n",
      "RM M13 M11     0.938\n",
      "RM M13 GCAT     0.937\n",
      "RM M13 E12     0.947\n",
      "RM M13 ECAT     0.943\n",
      "RM C18 E12     0.939\n",
      "RM C18 GCAT     0.940\n",
      "RM C18 C152     0.947\n",
      "RM C18 C15     0.953\n",
      "RM C18 C17     0.936\n",
      "RM GPOL MCAT     0.945\n",
      "RM GPOL CCAT     0.932\n",
      "RM GPOL GCRIM     2.596\n",
      "RM GPOL E21     0.980\n",
      "RM GPOL GVIO     0.952\n",
      "RM C152 M11     0.938\n",
      "RM C152 C17     0.945\n",
      "RM C152 C31     1.121\n",
      "RM C152 C181     0.971\n",
      "RM C152 C18     0.948\n",
      "RM M14 M132     0.955\n",
      "RM M14 M13     0.956\n",
      "RM M14 GCAT     0.942\n",
      "RM M14 C24     1.067\n",
      "RM M14 C31     0.942\n",
      "RM C151 C181     0.966\n",
      "RM C151 C18     0.973\n",
      "RM C151 C17     0.972\n",
      "RM C151 C31     0.964\n",
      "RM C151 C152     0.937\n",
      "RM ECAT GVIO     0.943\n",
      "RM ECAT C17     0.948\n",
      "RM ECAT M13     0.943\n",
      "RM ECAT GPOL     0.958\n",
      "RM ECAT MCAT     1.184\n",
      "UR M12 M14     0.243\n",
      "UR M12 CCAT     0.203\n",
      "UR M12 M132     0.208\n",
      "UR M12 E21     0.203\n",
      "UR M12 M131     0.193\n",
      "UR M132 GPOL     0.200\n",
      "UR M132 CCAT     0.193\n",
      "UR M132 M12     0.199\n",
      "UR M132 M131     0.202\n",
      "UR M132 GCAT     0.196\n",
      "UR M131 CCAT     0.185\n",
      "UR M131 M132     0.191\n",
      "UR M131 E12     0.193\n",
      "UR M131 ECAT     0.187\n",
      "UR M131 M12     0.192\n",
      "UR E12 M11     0.194\n",
      "UR E12 GDIP     0.194\n",
      "UR E12 E212     0.188\n",
      "UR E12 M131     0.195\n",
      "UR E12 E21     0.192\n",
      "UR C21 C17     0.192\n",
      "UR C21 C15     0.194\n",
      "UR C21 ECAT     0.195\n",
      "UR C21 C31     0.194\n",
      "UR C21 M141     0.192\n",
      "UR E212 GPOL     0.193\n",
      "UR E212 E12     0.188\n",
      "UR E212 M12     0.191\n",
      "UR E212 MCAT     0.197\n",
      "UR E212 C17     0.191\n",
      "UR GCRIM E212     0.194\n",
      "UR GCRIM C15     0.181\n",
      "UR GCRIM C18     0.192\n",
      "UR GCRIM GDIP     0.193\n",
      "UR GCRIM GPOL     0.193\n",
      "UR C24 GDIP     0.192\n",
      "UR C24 C15     0.192\n",
      "UR C24 C31     0.189\n",
      "UR C24 MCAT     0.197\n",
      "UR C24 C21     0.193\n",
      "UR GVIO C21     0.193\n",
      "UR GVIO C24     0.194\n",
      "UR GVIO CCAT     0.191\n",
      "UR GVIO ECAT     0.201\n",
      "UR GVIO GCRIM     0.194\n",
      "UR C13 M12     0.188\n",
      "UR C13 C15     0.191\n",
      "UR C13 GPOL     0.195\n",
      "UR C13 M14     0.196\n",
      "UR C13 MCAT     0.198\n",
      "UR GDIP C31     0.195\n",
      "UR GDIP E12     0.195\n",
      "UR GDIP CCAT     0.183\n",
      "UR GDIP ECAT     0.195\n",
      "UR GDIP GPOL     0.197\n",
      "UR C31 C151     0.196\n",
      "UR C31 C15     0.192\n",
      "UR C31 ECAT     0.196\n",
      "UR C31 C21     0.188\n",
      "UR C31 M14     0.193\n",
      "UR C181 C151     0.194\n",
      "UR C181 GCAT     0.193\n",
      "UR C181 C152     0.190\n",
      "UR C181 C15     0.193\n",
      "UR C181 C17     0.191\n",
      "UR M141 ECAT     0.194\n",
      "UR M141 GCAT     0.192\n",
      "UR M141 C24     0.191\n",
      "UR M141 C31     0.191\n",
      "UR M141 C21     0.185\n",
      "UR M11 ECAT     0.196\n",
      "UR M11 C152     0.277\n",
      "UR M11 M132     0.187\n",
      "UR M11 M13     0.185\n",
      "UR M11 CCAT     0.194\n",
      "UR E21 C31     0.196\n",
      "UR E21 M12     0.199\n",
      "UR E21 MCAT     0.195\n",
      "UR E21 E12     0.196\n",
      "UR E21 GPOL     0.195\n",
      "UR C17 MCAT     0.196\n",
      "UR C17 C152     0.194\n",
      "UR C17 C15     0.197\n",
      "UR C17 C18     0.185\n",
      "UR C17 ECAT     0.196\n",
      "UR M13 E21     0.190\n",
      "UR M13 M11     0.197\n",
      "UR M13 GCAT     0.197\n",
      "UR M13 E12     0.191\n",
      "UR M13 ECAT     0.192\n",
      "UR C18 E12     0.191\n",
      "UR C18 GCAT     0.194\n",
      "UR C18 C152     0.197\n",
      "UR C18 C15     0.192\n",
      "UR C18 C17     0.196\n",
      "UR GPOL MCAT     0.195\n",
      "UR GPOL CCAT     0.194\n",
      "UR GPOL GCRIM     0.191\n",
      "UR GPOL E21     0.189\n",
      "UR GPOL GVIO     0.186\n",
      "UR C152 M11     0.195\n",
      "UR C152 C17     0.199\n",
      "UR C152 C31     0.196\n",
      "UR C152 C181     0.200\n",
      "UR C152 C18     0.193\n",
      "UR M14 M132     0.198\n",
      "UR M14 M13     0.267\n",
      "UR M14 GCAT     0.198\n",
      "UR M14 C24     0.198\n",
      "UR M14 C31     0.192\n",
      "UR C151 C181     0.198\n",
      "UR C151 C18     0.193\n",
      "UR C151 C17     0.191\n",
      "UR C151 C31     0.192\n",
      "UR C151 C152     0.195\n",
      "UR ECAT GVIO     0.200\n",
      "UR ECAT C17     0.200\n",
      "UR ECAT M13     0.196\n",
      "UR ECAT GPOL     0.192\n",
      "UR ECAT MCAT     0.192\n",
      "RR M12 M14     0.239\n",
      "RR M12 CCAT     0.201\n",
      "RR M12 M132     0.197\n",
      "RR M12 E21     0.202\n",
      "RR M12 M131     0.194\n",
      "RR M132 GPOL     0.199\n",
      "RR M132 CCAT     0.292\n",
      "RR M132 M12     0.209\n",
      "RR M132 M131     0.207\n",
      "RR M132 GCAT     0.198\n",
      "RR M131 CCAT     0.186\n",
      "RR M131 M132     0.196\n",
      "RR M131 E12     0.198\n",
      "RR M131 ECAT     0.199\n",
      "RR M131 M12     0.193\n",
      "RR E12 M11     0.251\n",
      "RR E12 GDIP     0.200\n",
      "RR E12 E212     0.197\n",
      "RR E12 M131     0.190\n",
      "RR E12 E21     0.192\n",
      "RR C21 C17     0.193\n",
      "RR C21 C15     0.194\n",
      "RR C21 ECAT     0.188\n",
      "RR C21 C31     0.200\n",
      "RR C21 M141     0.197\n",
      "RR E212 GPOL     0.195\n",
      "RR E212 E12     0.197\n",
      "RR E212 M12     0.193\n",
      "RR E212 MCAT     0.190\n",
      "RR E212 C17     0.192\n",
      "RR GCRIM E212     0.188\n",
      "RR GCRIM C15     0.191\n",
      "RR GCRIM C18     0.192\n",
      "RR GCRIM GDIP     0.193\n",
      "RR GCRIM GPOL     0.195\n",
      "RR C24 GDIP     0.191\n",
      "RR C24 C15     0.190\n",
      "RR C24 C31     0.189\n",
      "RR C24 MCAT     0.198\n",
      "RR C24 C21     0.194\n",
      "RR GVIO C21     0.204\n",
      "RR GVIO C24     0.186\n",
      "RR GVIO CCAT     0.191\n",
      "RR GVIO ECAT     0.189\n",
      "RR GVIO GCRIM     0.192\n",
      "RR C13 M12     0.196\n",
      "RR C13 C15     0.194\n",
      "RR C13 GPOL     0.196\n",
      "RR C13 M14     0.193\n",
      "RR C13 MCAT     0.196\n",
      "RR GDIP C31     0.190\n",
      "RR GDIP E12     0.191\n",
      "RR GDIP CCAT     0.194\n",
      "RR GDIP ECAT     0.195\n",
      "RR GDIP GPOL     0.192\n",
      "RR C31 C151     0.196\n",
      "RR C31 C15     0.202\n",
      "RR C31 ECAT     0.193\n",
      "RR C31 C21     0.192\n",
      "RR C31 M14     0.192\n",
      "RR C181 C151     0.195\n",
      "RR C181 GCAT     0.193\n",
      "RR C181 C152     0.188\n",
      "RR C181 C15     0.189\n",
      "RR C181 C17     0.194\n",
      "RR M141 ECAT     0.190\n",
      "RR M141 GCAT     0.193\n",
      "RR M141 C24     0.198\n",
      "RR M141 C31     0.198\n",
      "RR M141 C21     0.193\n",
      "RR M11 ECAT     0.186\n",
      "RR M11 C152     0.193\n",
      "RR M11 M132     0.185\n",
      "RR M11 M13     0.192\n",
      "RR M11 CCAT     0.192\n",
      "RR E21 C31     0.197\n",
      "RR E21 M12     0.185\n",
      "RR E21 MCAT     0.199\n",
      "RR E21 E12     0.190\n",
      "RR E21 GPOL     0.187\n",
      "RR C17 MCAT     0.192\n",
      "RR C17 C152     0.193\n",
      "RR C17 C15     0.184\n",
      "RR C17 C18     0.191\n",
      "RR C17 ECAT     0.192\n",
      "RR M13 E21     0.213\n",
      "RR M13 M11     0.200\n",
      "RR M13 GCAT     0.202\n",
      "RR M13 E12     0.212\n",
      "RR M13 ECAT     0.199\n",
      "RR C18 E12     0.199\n",
      "RR C18 GCAT     0.208\n",
      "RR C18 C152     0.202\n",
      "RR C18 C15     0.204\n",
      "RR C18 C17     0.202\n",
      "RR GPOL MCAT     0.199\n",
      "RR GPOL CCAT     0.195\n",
      "RR GPOL GCRIM     0.202\n",
      "RR GPOL E21     0.204\n",
      "RR GPOL GVIO     0.195\n",
      "RR C152 M11     0.194\n",
      "RR C152 C17     0.199\n",
      "RR C152 C31     0.189\n",
      "RR C152 C181     0.200\n",
      "RR C152 C18     0.199\n",
      "RR M14 M132     0.187\n",
      "RR M14 M13     0.193\n",
      "RR M14 GCAT     0.187\n",
      "RR M14 C24     0.192\n",
      "RR M14 C31     0.197\n",
      "RR C151 C181     0.195\n",
      "RR C151 C18     0.197\n",
      "RR C151 C17     0.196\n",
      "RR C151 C31     0.185\n",
      "RR C151 C152     0.191\n",
      "RR ECAT GVIO     0.204\n",
      "RR ECAT C17     0.196\n",
      "RR ECAT M13     0.201\n",
      "RR ECAT GPOL     0.200\n",
      "RR ECAT MCAT     0.183\n",
      "ALUS M12 M14    34.961\n",
      "ALUS M12 CCAT    57.509\n",
      "ALUS M12 M132    30.163\n",
      "ALUS M12 E21    30.173\n",
      "ALUS M12 M131    23.513\n",
      "ALUS M132 GPOL    33.337\n",
      "ALUS M132 CCAT    59.442\n",
      "ALUS M132 M12    29.872\n",
      "ALUS M132 M131    27.368\n",
      "ALUS M132 GCAT    39.486\n",
      "ALUS M131 CCAT    70.583\n",
      "ALUS M131 M132    18.240\n",
      "ALUS M131 E12    28.455\n",
      "ALUS M131 ECAT    53.731\n",
      "ALUS M131 M12    23.181\n",
      "ALUS E12 M11    66.367\n",
      "ALUS E12 GDIP    63.852\n",
      "ALUS E12 E212    60.979\n",
      "ALUS E12 M131    62.143\n",
      "ALUS E12 E21    55.509\n",
      "ALUS C21 C17    73.628\n",
      "ALUS C21 C15    60.369\n",
      "ALUS C21 ECAT    71.059\n",
      "ALUS C21 C31    42.500\n",
      "ALUS C21 M141    77.367\n",
      "ALUS E212 GPOL    45.568\n",
      "ALUS E212 E12    32.085\n",
      "ALUS E212 M12    27.773\n",
      "ALUS E212 MCAT    54.393\n",
      "ALUS E212 C17    27.453\n",
      "ALUS GCRIM E212    53.201\n",
      "ALUS GCRIM C15    77.141\n",
      "ALUS GCRIM C18    56.936\n",
      "ALUS GCRIM GDIP    54.048\n",
      "ALUS GCRIM GPOL    73.984\n",
      "ALUS C24 GDIP    63.097\n",
      "ALUS C24 C15    65.351\n",
      "ALUS C24 C31    56.427\n",
      "ALUS C24 MCAT    71.556\n",
      "ALUS C24 C21    60.829\n",
      "ALUS GVIO C21    69.674\n",
      "ALUS GVIO C24    55.562\n",
      "ALUS GVIO CCAT    84.383\n",
      "ALUS GVIO ECAT    78.751\n",
      "ALUS GVIO GCRIM    58.191\n",
      "ALUS C13 M12   203.134\n",
      "ALUS C13 C15   156.128\n",
      "ALUS C13 GPOL   133.505\n",
      "ALUS C13 M14   175.070\n",
      "ALUS C13 MCAT   136.943\n",
      "ALUS GDIP C31    98.184\n",
      "ALUS GDIP E12    68.957\n",
      "ALUS GDIP CCAT   106.452\n",
      "ALUS GDIP ECAT   110.038\n",
      "ALUS GDIP GPOL    84.645\n",
      "ALUS C31 C151   174.991\n",
      "ALUS C31 C15   149.966\n",
      "ALUS C31 ECAT   117.606\n",
      "ALUS C31 C21   111.800\n",
      "ALUS C31 M14   190.485\n",
      "ALUS C181 C151    90.131\n",
      "ALUS C181 GCAT   112.118\n",
      "ALUS C181 C152   103.466\n",
      "ALUS C181 C15   102.727\n",
      "ALUS C181 C17    89.002\n",
      "ALUS M141 ECAT    86.026\n",
      "ALUS M141 GCAT    75.959\n",
      "ALUS M141 C24    41.932\n",
      "ALUS M141 C31    83.131\n",
      "ALUS M141 C21    62.065\n",
      "ALUS M11 ECAT    72.153\n",
      "ALUS M11 C152    80.941\n",
      "ALUS M11 M132    50.522\n",
      "ALUS M11 M13    54.313\n",
      "ALUS M11 CCAT   124.843\n",
      "ALUS E21 C31    81.177\n",
      "ALUS E21 M12    54.752\n",
      "ALUS E21 MCAT    94.262\n",
      "ALUS E21 E12    60.436\n",
      "ALUS E21 GPOL    84.933\n",
      "ALUS C17 MCAT   103.213\n",
      "ALUS C17 C152    93.546\n",
      "ALUS C17 C15    98.032\n",
      "ALUS C17 C18    86.392\n",
      "ALUS C17 ECAT   123.309\n",
      "ALUS M13 E21    43.802\n",
      "ALUS M13 M11    46.595\n",
      "ALUS M13 GCAT    66.560\n",
      "ALUS M13 E12    56.276\n",
      "ALUS M13 ECAT   116.498\n",
      "ALUS C18 E12   127.672\n",
      "ALUS C18 GCAT   151.869\n",
      "ALUS C18 C152   139.517\n",
      "ALUS C18 C15   136.194\n",
      "ALUS C18 C17   118.147\n",
      "ALUS GPOL MCAT   194.166\n",
      "ALUS GPOL CCAT   195.913\n",
      "ALUS GPOL GCRIM   169.200\n",
      "ALUS GPOL E21   157.378\n",
      "ALUS GPOL GVIO   136.219\n",
      "ALUS C152 M11   185.418\n",
      "ALUS C152 C17   162.095\n",
      "ALUS C152 C31   187.975\n",
      "ALUS C152 C181   159.066\n",
      "ALUS C152 C18   169.327\n",
      "ALUS M14 M132    56.826\n",
      "ALUS M14 M13    72.498\n",
      "ALUS M14 GCAT   131.400\n",
      "ALUS M14 C24    80.886\n",
      "ALUS M14 C31   145.603\n",
      "ALUS C151 C181    63.571\n",
      "ALUS C151 C18    63.553\n",
      "ALUS C151 C17    74.703\n",
      "ALUS C151 C31    77.143\n",
      "ALUS C151 C152   122.100\n",
      "ALUS ECAT GVIO   402.662\n",
      "ALUS ECAT C17   407.326\n",
      "ALUS ECAT M13   462.095\n",
      "ALUS ECAT GPOL   398.106\n",
      "ALUS ECAT MCAT   456.915\n",
      "ALRS M12 M14    35.743\n",
      "ALRS M12 CCAT    56.024\n",
      "ALRS M12 M132    30.546\n",
      "ALRS M12 E21    30.236\n",
      "ALRS M12 M131    24.074\n",
      "ALRS M132 GPOL    32.548\n",
      "ALRS M132 CCAT    61.441\n",
      "ALRS M132 M12    29.656\n",
      "ALRS M132 M131    27.614\n",
      "ALRS M132 GCAT    38.944\n",
      "ALRS M131 CCAT    69.267\n",
      "ALRS M131 M132    19.102\n",
      "ALRS M131 E12    28.849\n",
      "ALRS M131 ECAT    54.715\n",
      "ALRS M131 M12    23.369\n",
      "ALRS E12 M11    69.280\n",
      "ALRS E12 GDIP    66.257\n",
      "ALRS E12 E212    65.982\n",
      "ALRS E12 M131    66.191\n",
      "ALRS E12 E21    56.715\n",
      "ALRS C21 C17    68.977\n",
      "ALRS C21 C15    58.214\n",
      "ALRS C21 ECAT    68.867\n",
      "ALRS C21 C31    40.549\n",
      "ALRS C21 M141    79.451\n",
      "ALRS E212 GPOL    49.733\n",
      "ALRS E212 E12    33.540\n",
      "ALRS E212 M12    28.522\n",
      "ALRS E212 MCAT    57.418\n",
      "ALRS E212 C17    27.978\n",
      "ALRS GCRIM E212    59.910\n",
      "ALRS GCRIM C15    80.196\n"
     ]
    },
    {
     "name": "stdout",
     "output_type": "stream",
     "text": [
      "ALRS GCRIM C18    59.651\n",
      "ALRS GCRIM GDIP    55.254\n",
      "ALRS GCRIM GPOL    77.259\n",
      "ALRS C24 GDIP    64.215\n",
      "ALRS C24 C15    63.906\n",
      "ALRS C24 C31    55.096\n",
      "ALRS C24 MCAT    71.718\n",
      "ALRS C24 C21    62.516\n",
      "ALRS GVIO C21    73.521\n",
      "ALRS GVIO C24    59.086\n",
      "ALRS GVIO CCAT    87.322\n",
      "ALRS GVIO ECAT    85.693\n",
      "ALRS GVIO GCRIM    59.123\n",
      "ALRS C13 M12   215.280\n",
      "ALRS C13 C15   162.264\n",
      "ALRS C13 GPOL   134.895\n",
      "ALRS C13 M14   186.900\n",
      "ALRS C13 MCAT   143.079\n",
      "ALRS GDIP C31    93.946\n",
      "ALRS GDIP E12    67.680\n",
      "ALRS GDIP CCAT   100.374\n",
      "ALRS GDIP ECAT   108.793\n",
      "ALRS GDIP GPOL    86.429\n",
      "ALRS C31 C151   177.679\n",
      "ALRS C31 C15   150.874\n",
      "ALRS C31 ECAT   116.432\n",
      "ALRS C31 C21   108.661\n",
      "ALRS C31 M14   190.457\n",
      "ALRS C181 C151    92.982\n",
      "ALRS C181 GCAT   111.857\n",
      "ALRS C181 C152   101.890\n",
      "ALRS C181 C15   102.467\n",
      "ALRS C181 C17    89.829\n",
      "ALRS M141 ECAT    88.096\n",
      "ALRS M141 GCAT    75.873\n",
      "ALRS M141 C24    42.158\n",
      "ALRS M141 C31    79.374\n",
      "ALRS M141 C21    60.236\n",
      "ALRS M11 ECAT    70.710\n",
      "ALRS M11 C152    78.101\n",
      "ALRS M11 M132    48.178\n",
      "ALRS M11 M13    52.275\n",
      "ALRS M11 CCAT   122.303\n",
      "ALRS E21 C31    79.742\n",
      "ALRS E21 M12    59.881\n",
      "ALRS E21 MCAT    93.991\n",
      "ALRS E21 E12    64.537\n",
      "ALRS E21 GPOL    89.283\n",
      "ALRS C17 MCAT   102.389\n",
      "ALRS C17 C152    93.438\n",
      "ALRS C17 C15   100.287\n",
      "ALRS C17 C18    90.774\n",
      "ALRS C17 ECAT   123.560\n",
      "ALRS M13 E21    45.039\n",
      "ALRS M13 M11    46.890\n",
      "ALRS M13 GCAT    67.809\n",
      "ALRS M13 E12    59.010\n",
      "ALRS M13 ECAT   120.851\n",
      "ALRS C18 E12   125.953\n",
      "ALRS C18 GCAT   150.019\n",
      "ALRS C18 C152   139.990\n",
      "ALRS C18 C15   138.117\n",
      "ALRS C18 C17   120.572\n",
      "ALRS GPOL MCAT   199.379\n",
      "ALRS GPOL CCAT   189.927\n",
      "ALRS GPOL GCRIM   171.630\n",
      "ALRS GPOL E21   165.152\n",
      "ALRS GPOL GVIO   140.973\n",
      "ALRS C152 M11   186.557\n",
      "ALRS C152 C17   160.570\n",
      "ALRS C152 C31   184.460\n",
      "ALRS C152 C181   163.034\n",
      "ALRS C152 C18   172.478\n",
      "ALRS M14 M132    59.368\n",
      "ALRS M14 M13    73.821\n",
      "ALRS M14 GCAT   136.375\n",
      "ALRS M14 C24    83.648\n",
      "ALRS M14 C31   148.878\n",
      "ALRS C151 C181    61.495\n",
      "ALRS C151 C18    63.366\n",
      "ALRS C151 C17    74.311\n",
      "ALRS C151 C31    77.701\n",
      "ALRS C151 C152   123.196\n",
      "ALRS ECAT GVIO   420.122\n",
      "ALRS ECAT C17   411.548\n",
      "ALRS ECAT M13   475.103\n",
      "ALRS ECAT GPOL   410.311\n",
      "ALRS ECAT MCAT   464.107\n"
     ]
    }
   ],
   "source": [
    "dump_timers()"
   ]
  },
  {
   "cell_type": "code",
   "execution_count": 51,
   "metadata": {},
   "outputs": [],
   "source": [
    "with open('times_TOIS_all_cs'+str(selected_cost_structure)+'.pkl', mode='wb') as outputfile:\n",
    "    pickle.dump(_timers,outputfile)"
   ]
  },
  {
   "cell_type": "code",
   "execution_count": 52,
   "metadata": {},
   "outputs": [
    {
     "name": "stdout",
     "output_type": "stream",
     "text": [
      "[((('M12', 'M14'), array([[  4153,      0,   1219],\n",
      "       [     3,      1,     57],\n",
      "       [  1024,      5, 192866]])), (('M12', 'M14'), array([[  4735,      0,    637],\n",
      "       [     3,      6,     52],\n",
      "       [   333,      4, 193558]])), (('M12', 'M14'), array([[  4470,      0,    902],\n",
      "       [     6,      2,     53],\n",
      "       [   309,      0, 193586]])), (('M12', 'M14'), array([[  4160,      0,   1212],\n",
      "       [     3,      1,     57],\n",
      "       [   755,      5, 193135]])), (('M12', 'M14'), array([[  4409,      1,    962],\n",
      "       [     4,      3,     54],\n",
      "       [   223,      0, 193672]])), (('M12', 'M14'), array([[  4441,      1,    930],\n",
      "       [     3,      2,     56],\n",
      "       [   227,      0, 193668]])), (('M12', 'M14'), array([[  4196,      0,   1176],\n",
      "       [     2,      1,     58],\n",
      "       [   773,      4, 193118]]))), ((('M12', 'CCAT'), array([[  2899,      4,   2253],\n",
      "       [    10,      4,    263],\n",
      "       [   384,     77, 193434]])), (('M12', 'CCAT'), array([[  4364,      2,    790],\n",
      "       [     7,    117,    153],\n",
      "       [   334,    173, 193388]])), (('M12', 'CCAT'), array([[  3099,     11,   2046],\n",
      "       [    16,      6,    255],\n",
      "       [   133,     15, 193747]])), (('M12', 'CCAT'), array([[  2907,      4,   2245],\n",
      "       [     9,      7,    261],\n",
      "       [   342,     79, 193474]])), (('M12', 'CCAT'), array([[  2984,      8,   2164],\n",
      "       [    12,      9,    256],\n",
      "       [   141,     18, 193736]])), (('M12', 'CCAT'), array([[  2967,      6,   2183],\n",
      "       [    16,     22,    239],\n",
      "       [   147,     31, 193717]])), (('M12', 'CCAT'), array([[  2832,      4,   2320],\n",
      "       [    10,      4,    263],\n",
      "       [   305,     65, 193525]]))), ((('M12', 'M132'), array([[  3625,      4,   1423],\n",
      "       [    36,     53,    292],\n",
      "       [   879,     33, 192983]])), (('M12', 'M132'), array([[  4406,      0,    646],\n",
      "       [    23,    187,    171],\n",
      "       [   329,     31, 193535]])), (('M12', 'M132'), array([[  3893,      4,   1155],\n",
      "       [    42,     56,    283],\n",
      "       [   279,      4, 193612]])), (('M12', 'M132'), array([[  3632,      4,   1416],\n",
      "       [    36,     54,    291],\n",
      "       [   705,     32, 193158]])), (('M12', 'M132'), array([[  3823,      6,   1223],\n",
      "       [    47,     61,    273],\n",
      "       [   230,      1, 193664]])), (('M12', 'M132'), array([[  3886,      8,   1158],\n",
      "       [    37,    110,    234],\n",
      "       [   212,      5, 193678]])), (('M12', 'M132'), array([[  3741,      4,   1307],\n",
      "       [    36,     63,    282],\n",
      "       [   730,     32, 193133]]))), ((('M12', 'E21'), array([[  2923,     24,   1889],\n",
      "       [    47,     34,    516],\n",
      "       [   484,     74, 193337]])), (('M12', 'E21'), array([[  4196,      4,    636],\n",
      "       [    24,    362,    211],\n",
      "       [   291,    190, 193414]])), (('M12', 'E21'), array([[  3170,     25,   1641],\n",
      "       [    55,     44,    498],\n",
      "       [   148,     19, 193728]])), (('M12', 'E21'), array([[  2935,     24,   1877],\n",
      "       [    46,     35,    516],\n",
      "       [   426,     72, 193397]])), (('M12', 'E21'), array([[  3059,     24,   1753],\n",
      "       [    56,     38,    503],\n",
      "       [   145,     20, 193730]])), (('M12', 'E21'), array([[  3127,     29,   1680],\n",
      "       [    44,    135,    418],\n",
      "       [   141,     56, 193698]])), (('M12', 'E21'), array([[  2923,      7,   1906],\n",
      "       [    45,     36,    516],\n",
      "       [   378,     65, 193452]]))), ((('M12', 'M131'), array([[  3035,     50,   1381],\n",
      "       [   225,    206,    536],\n",
      "       [   709,     99, 193087]])), (('M12', 'M131'), array([[  3914,      7,    545],\n",
      "       [   169,    529,    269],\n",
      "       [   283,    127, 193485]])), (('M12', 'M131'), array([[  3277,     52,   1137],\n",
      "       [   254,    220,    493],\n",
      "       [   227,     35, 193633]])), (('M12', 'M131'), array([[  3043,     50,   1373],\n",
      "       [   225,    208,    534],\n",
      "       [   587,     80, 193228]])), (('M12', 'M131'), array([[  3196,     51,   1219],\n",
      "       [   249,    220,    498],\n",
      "       [   193,     26, 193676]])), (('M12', 'M131'), array([[  3331,     53,   1082],\n",
      "       [   237,    369,    361],\n",
      "       [   177,     48, 193670]])), (('M12', 'M131'), array([[  3051,     49,   1366],\n",
      "       [   225,    215,    527],\n",
      "       [   579,     97, 193219]]))), ((('M132', 'GPOL'), array([[  4386,      2,   1460],\n",
      "       [     7,      5,     72],\n",
      "       [   643,     21, 192732]])), (('M132', 'GPOL'), array([[  5100,      1,    747],\n",
      "       [     0,     38,     46],\n",
      "       [   217,     32, 193147]])), (('M132', 'GPOL'), array([[  4673,      3,   1172],\n",
      "       [     8,      8,     68],\n",
      "       [   134,      4, 193258]])), (('M132', 'GPOL'), array([[  4391,      2,   1455],\n",
      "       [     7,      6,     71],\n",
      "       [   593,     22, 192781]])), (('M132', 'GPOL'), array([[  4577,      3,   1268],\n",
      "       [     8,      8,     68],\n",
      "       [   113,      1, 193282]])), (('M132', 'GPOL'), array([[  4604,      3,   1241],\n",
      "       [     5,     12,     67],\n",
      "       [   114,      2, 193280]])), (('M132', 'GPOL'), array([[  4393,      3,   1452],\n",
      "       [     6,      5,     73],\n",
      "       [   544,     21, 192831]]))), ((('M132', 'CCAT'), array([[  3419,      3,   2400],\n",
      "       [     6,      3,    101],\n",
      "       [   547,     20, 192829]])), (('M132', 'CCAT'), array([[  5016,      3,    803],\n",
      "       [     5,     23,     82],\n",
      "       [   286,     24, 193086]])), (('M132', 'CCAT'), array([[  3622,      4,   2196],\n",
      "       [     9,      4,     97],\n",
      "       [   119,      3, 193274]])), (('M132', 'CCAT'), array([[  3438,      3,   2381],\n",
      "       [     5,      5,    100],\n",
      "       [   533,     21, 192842]])), (('M132', 'CCAT'), array([[  3520,      4,   2298],\n",
      "       [     7,      7,     96],\n",
      "       [   119,      2, 193275]])), (('M132', 'CCAT'), array([[  3502,      4,   2316],\n",
      "       [     9,     10,     91],\n",
      "       [   132,      3, 193261]])), (('M132', 'CCAT'), array([[  3492,      3,   2327],\n",
      "       [     5,      1,    104],\n",
      "       [   490,     18, 192888]]))), ((('M132', 'M12'), array([[  3976,      2,   1573],\n",
      "       [     8,     52,    321],\n",
      "       [   667,     27, 192702]])), (('M132', 'M12'), array([[  4988,      0,    563],\n",
      "       [     7,    152,    222],\n",
      "       [   207,     33, 193156]])), (('M132', 'M12'), array([[  4268,      3,   1280],\n",
      "       [    12,     60,    309],\n",
      "       [   136,      4, 193256]])), (('M132', 'M12'), array([[  3987,      2,   1562],\n",
      "       [     8,     53,    320],\n",
      "       [   621,     27, 192748]])), (('M132', 'M12'), array([[  4183,      5,   1363],\n",
      "       [    12,     60,    309],\n",
      "       [   107,      2, 193287]])), (('M132', 'M12'), array([[  4317,      4,   1230],\n",
      "       [    11,    147,    223],\n",
      "       [   111,     10, 193275]])), (('M132', 'M12'), array([[  4063,      0,   1488],\n",
      "       [     7,     52,    322],\n",
      "       [   520,     22, 192854]]))), ((('M132', 'M131'), array([[  3963,     17,   1557],\n",
      "       [    51,     28,    316],\n",
      "       [   641,     67, 192688]])), (('M132', 'M131'), array([[  4992,     10,    535],\n",
      "       [    37,    159,    199],\n",
      "       [   159,    110, 193127]])), (('M132', 'M131'), array([[  4261,     19,   1257],\n",
      "       [    67,     35,    293],\n",
      "       [   141,      7, 193248]])), (('M132', 'M131'), array([[  3974,     17,   1546],\n",
      "       [    50,     31,    314],\n",
      "       [   586,     68, 192742]])), (('M132', 'M131'), array([[  4170,     20,   1347],\n",
      "       [    63,     37,    295],\n",
      "       [   116,      0, 193280]])), (('M132', 'M131'), array([[  4390,     17,   1130],\n",
      "       [    65,    128,    202],\n",
      "       [   113,     13, 193270]])), (('M132', 'M131'), array([[  4084,     10,   1443],\n",
      "       [    53,     34,    308],\n",
      "       [   507,     70, 192819]]))), ((('M132', 'GCAT'), array([[  3755,     22,   1259],\n",
      "       [    11,    383,    502],\n",
      "       [   523,    308, 192565]])), (('M132', 'GCAT'), array([[  4455,     16,    565],\n",
      "       [     6,    664,    226],\n",
      "       [   138,    128, 193130]])), (('M132', 'GCAT'), array([[  3960,     26,   1050],\n",
      "       [    14,    458,    424],\n",
      "       [   102,     76, 193218]])), (('M132', 'GCAT'), array([[  3761,     22,   1253],\n",
      "       [    11,    383,    502],\n",
      "       [   480,    304, 192612]])), (('M132', 'GCAT'), array([[  3889,     26,   1121],\n",
      "       [    12,    402,    482],\n",
      "       [    86,     36, 193274]])), (('M132', 'GCAT'), array([[  3935,     30,   1071],\n",
      "       [    12,    426,    458],\n",
      "       [    85,     41, 193270]])), (('M132', 'GCAT'), array([[  3796,     24,   1216],\n",
      "       [    11,    369,    516],\n",
      "       [   440,    256, 192700]]))), ((('M131', 'CCAT'), array([[  3218,      0,   3125],\n",
      "       [    12,      0,     75],\n",
      "       [   314,     16, 192568]])), (('M131', 'CCAT'), array([[  5337,      0,   1006],\n",
      "       [    10,     18,     59],\n",
      "       [   230,     28, 192640]])), (('M131', 'CCAT'), array([[  3422,      1,   2920],\n",
      "       [    15,      1,     71],\n",
      "       [    97,      3, 192798]])), (('M131', 'CCAT'), array([[  3230,      0,   3113],\n",
      "       [    12,      1,     74],\n",
      "       [   305,     18, 192575]])), (('M131', 'CCAT'), array([[  3314,      1,   3028],\n",
      "       [    15,      1,     71],\n",
      "       [    97,      6, 192795]])), (('M131', 'CCAT'), array([[  3392,      1,   2950],\n",
      "       [    13,      2,     72],\n",
      "       [   100,     10, 192788]])), (('M131', 'CCAT'), array([[  3259,      1,   3083],\n",
      "       [    11,      0,     76],\n",
      "       [   345,     19, 192534]]))), ((('M131', 'M132'), array([[  4475,      2,   1558],\n",
      "       [    32,     25,    338],\n",
      "       [   405,     68, 192425]])), (('M131', 'M132'), array([[  5248,      5,    782],\n",
      "       [    18,    146,    231],\n",
      "       [   161,     78, 192659]])), (('M131', 'M132'), array([[  4709,      6,   1320],\n",
      "       [    46,     33,    316],\n",
      "       [   142,     17, 192739]])), (('M131', 'M132'), array([[  4482,      2,   1551],\n",
      "       [    31,     31,    333],\n",
      "       [   389,     68, 192441]])), (('M131', 'M132'), array([[  4619,      3,   1413],\n",
      "       [    45,     37,    313],\n",
      "       [   126,      8, 192764]])), (('M131', 'M132'), array([[  4771,      5,   1259],\n",
      "       [    42,     91,    262],\n",
      "       [   125,     14, 192759]])), (('M131', 'M132'), array([[  4548,      1,   1486],\n",
      "       [    34,     30,    331],\n",
      "       [   435,     74, 192389]]))), ((('M131', 'E12'), array([[  3851,      6,   2108],\n",
      "       [    75,     18,    372],\n",
      "       [   304,     26, 192568]])), (('M131', 'E12'), array([[  5153,      4,    808],\n",
      "       [    35,    212,    218],\n",
      "       [   203,     63, 192632]])), (('M131', 'E12'), array([[  4078,      8,   1879],\n",
      "       [    78,     27,    360],\n",
      "       [   100,      3, 192795]])), (('M131', 'E12'), array([[  3860,      6,   2099],\n",
      "       [    74,     21,    370],\n",
      "       [   297,     25, 192576]])), (('M131', 'E12'), array([[  3939,      8,   2018],\n",
      "       [    76,     25,    364],\n",
      "       [   100,      3, 192795]])), (('M131', 'E12'), array([[  4041,      8,   1916],\n",
      "       [    72,     74,    319],\n",
      "       [   101,     13, 192784]])), (('M131', 'E12'), array([[  3898,      0,   2067],\n",
      "       [    79,     58,    328],\n",
      "       [   307,     70, 192521]]))), ((('M131', 'ECAT'), array([[  2542,     12,   3314],\n",
      "       [    53,     20,    489],\n",
      "       [   218,     37, 192643]])), (('M131', 'ECAT'), array([[  4964,      5,    899],\n",
      "       [    21,    257,    284],\n",
      "       [   198,     97, 192603]])), (('M131', 'ECAT'), array([[  2646,     17,   3205],\n",
      "       [    53,     36,    473],\n",
      "       [    87,      5, 192806]])), (('M131', 'ECAT'), array([[  2548,     12,   3308],\n",
      "       [    53,     21,    488],\n",
      "       [   213,     39, 192646]])), (('M131', 'ECAT'), array([[  2570,     13,   3285],\n",
      "       [    53,     24,    485],\n",
      "       [   105,     16, 192777]])), (('M131', 'ECAT'), array([[  2677,     11,   3180],\n",
      "       [    55,     54,    453],\n",
      "       [   105,     40, 192753]])), (('M131', 'ECAT'), array([[  2575,     10,   3283],\n",
      "       [    52,     24,    486],\n",
      "       [   216,     37, 192645]]))), ((('M131', 'M12'), array([[  3996,     34,   1433],\n",
      "       [    57,    187,    723],\n",
      "       [   321,     47, 192530]])), (('M131', 'M12'), array([[  4881,     27,    555],\n",
      "       [    29,    417,    521],\n",
      "       [   138,    102, 192658]])), (('M131', 'M12'), array([[  4167,     36,   1260],\n",
      "       [    62,    213,    692],\n",
      "       [    95,     15, 192788]])), (('M131', 'M12'), array([[  4011,     33,   1419],\n",
      "       [    57,    190,    720],\n",
      "       [   305,     51, 192542]])), (('M131', 'M12'), array([[  4124,     34,   1305],\n",
      "       [    62,    196,    709],\n",
      "       [    84,     12, 192802]])), (('M131', 'M12'), array([[  4343,     38,   1082],\n",
      "       [    71,    334,    562],\n",
      "       [    90,     45, 192763]])), (('M131', 'M12'), array([[  4105,      9,   1349],\n",
      "       [    54,    194,    719],\n",
      "       [   305,    117, 192476]]))), ((('E12', 'M11'), array([[  3573,      0,   2913],\n",
      "       [     4,      2,     75],\n",
      "       [  1687,     13, 191061]])), (('E12', 'M11'), array([[  4801,      1,   1684],\n",
      "       [     3,      5,     73],\n",
      "       [   352,      7, 192402]])), (('E12', 'M11'), array([[  4736,      1,   1749],\n",
      "       [     4,      2,     75],\n",
      "       [   319,      1, 192441]])), (('E12', 'M11'), array([[  4461,      0,   2025],\n",
      "       [     5,      2,     74],\n",
      "       [     0,      0, 192761]])), (('E12', 'M11'), array([[  4651,      0,   1835],\n",
      "       [     7,      2,     72],\n",
      "       [   150,      0, 192611]])), (('E12', 'M11'), array([[  4805,      2,   1679],\n",
      "       [     7,      8,     66],\n",
      "       [   164,      0, 192597]])), (('E12', 'M11'), array([[  4600,      1,   1885],\n",
      "       [     7,      2,     72],\n",
      "       [     0,      0, 192761]]))), ((('E12', 'GDIP'), array([[  3163,      0,   3232],\n",
      "       [    28,      0,    144],\n",
      "       [  1597,      0, 191164]])), (('E12', 'GDIP'), array([[  4468,      0,   1927],\n",
      "       [    27,     42,    103],\n",
      "       [   374,     17, 192370]])), (('E12', 'GDIP'), array([[  4165,      0,   2230],\n",
      "       [    37,      0,    135],\n",
      "       [   298,      0, 192463]])), (('E12', 'GDIP'), array([[  3764,      0,   2631],\n",
      "       [    37,      1,    134],\n",
      "       [     0,      0, 192761]])), (('E12', 'GDIP'), array([[  4006,      0,   2389],\n",
      "       [    40,      1,    131],\n",
      "       [   170,      0, 192591]])), (('E12', 'GDIP'), array([[  4094,      0,   2301],\n",
      "       [    39,      5,    128],\n",
      "       [   178,      1, 192582]])), (('E12', 'GDIP'), array([[  3854,      0,   2541],\n",
      "       [    36,      0,    136],\n",
      "       [     8,      0, 192753]]))), ((('E12', 'E212'), array([[  3080,      0,   3201],\n",
      "       [    22,      0,    264],\n",
      "       [  1415,      5, 191341]])), (('E12', 'E212'), array([[  4460,      0,   1821],\n",
      "       [    14,    108,    164],\n",
      "       [   384,     87, 192290]])), (('E12', 'E212'), array([[  4141,      1,   2139],\n",
      "       [    31,      1,    254],\n",
      "       [   281,      0, 192480]])), (('E12', 'E212'), array([[  3769,      1,   2511],\n",
      "       [    34,      2,    250],\n",
      "       [     0,      0, 192761]])), (('E12', 'E212'), array([[  4021,      1,   2259],\n",
      "       [    38,      1,    247],\n",
      "       [   154,      0, 192607]])), (('E12', 'E212'), array([[  4169,      1,   2111],\n",
      "       [    38,     74,    174],\n",
      "       [   166,      9, 192586]])), (('E12', 'E212'), array([[  3874,      1,   2406],\n",
      "       [    36,      0,    250],\n",
      "       [     9,      0, 192752]]))), ((('E12', 'M131'), array([[  2775,     11,   3316],\n",
      "       [    36,     31,    398],\n",
      "       [  1457,     85, 191219]])), (('E12', 'M131'), array([[  4376,      8,   1718],\n",
      "       [    22,    190,    253],\n",
      "       [   358,     77, 192326]])), (('E12', 'M131'), array([[  3849,     13,   2240],\n",
      "       [    43,     43,    379],\n",
      "       [   275,     22, 192464]])), (('E12', 'M131'), array([[  3481,     13,   2608],\n",
      "       [    47,     33,    385],\n",
      "       [     0,      0, 192761]])), (('E12', 'M131'), array([[  3729,     13,   2360],\n",
      "       [    52,     33,    380],\n",
      "       [   150,      3, 192608]])), (('E12', 'M131'), array([[  4063,     12,   2027],\n",
      "       [    52,    151,    262],\n",
      "       [   174,     10, 192577]])), (('E12', 'M131'), array([[  3640,     10,   2452],\n",
      "       [    49,     36,    380],\n",
      "       [     4,      2, 192755]]))), ((('E12', 'E21'), array([[  2359,      9,   3362],\n",
      "       [    39,     35,    763],\n",
      "       [  1019,     91, 191651]])), (('E12', 'E21'), array([[  3703,      5,   2022],\n",
      "       [    20,    331,    486],\n",
      "       [   386,    195, 192180]])), (('E12', 'E21'), array([[  3029,     11,   2690],\n",
      "       [    49,     56,    732],\n",
      "       [   216,     19, 192526]])), (('E12', 'E21'), array([[  2489,      9,   3232],\n",
      "       [    44,     45,    748],\n",
      "       [    49,     24, 192688]])), (('E12', 'E21'), array([[  2835,      9,   2886],\n",
      "       [    56,     54,    727],\n",
      "       [   173,      6, 192582]])), (('E12', 'E21'), array([[  2975,     14,   2741],\n",
      "       [    57,    179,    601],\n",
      "       [   185,     45, 192531]])), (('E12', 'E21'), array([[  2639,     10,   3081],\n",
      "       [    51,     54,    732],\n",
      "       [   158,     28, 192575]]))), ((('C21', 'C17'), array([[  2434,      0,   4637],\n",
      "       [     3,      0,     67],\n",
      "       [   918,      3, 191266]])), (('C21', 'C17'), array([[  3821,      0,   3250],\n",
      "       [     3,      5,     62],\n",
      "       [   220,      6, 191961]])), (('C21', 'C17'), array([[  3456,      0,   3615],\n",
      "       [     6,      0,     64],\n",
      "       [   170,      0, 192017]])), (('C21', 'C17'), array([[  3116,      0,   3955],\n",
      "       [     6,      0,     64],\n",
      "       [     0,      0, 192187]])), (('C21', 'C17'), array([[  3333,      0,   3738],\n",
      "       [     7,      0,     63],\n",
      "       [    99,      0, 192088]])), (('C21', 'C17'), array([[  3457,      0,   3614],\n",
      "       [     8,      0,     62],\n",
      "       [    96,      0, 192091]])), (('C21', 'C17'), array([[  3231,      1,   3839],\n",
      "       [     6,      0,     64],\n",
      "       [     1,      0, 192186]]))), ((('C21', 'C15'), array([[  2147,      2,   4808],\n",
      "       [     7,      1,    176],\n",
      "       [   770,     16, 191401]])), (('C21', 'C15'), array([[  3429,      2,   3526],\n",
      "       [     4,     20,    160],\n",
      "       [   247,     10, 191930]])), (('C21', 'C15'), array([[  2941,      2,   4014],\n",
      "       [    11,      4,    169],\n",
      "       [   153,      0, 192034]])), (('C21', 'C15'), array([[  2541,      2,   4414],\n",
      "       [    10,      2,    172],\n",
      "       [     0,      5, 192182]])), (('C21', 'C15'), array([[  2814,      2,   4141],\n",
      "       [    12,      2,    170],\n",
      "       [   107,      0, 192080]])), (('C21', 'C15'), array([[  2847,      3,   4107],\n",
      "       [    11,      9,    164],\n",
      "       [   109,      2, 192076]])), (('C21', 'C15'), array([[  2604,      1,   4352],\n",
      "       [    10,      4,    170],\n",
      "       [    10,      4, 192173]]))), ((('C21', 'ECAT'), array([[  1587,      3,   5202],\n",
      "       [     7,      1,    341],\n",
      "       [   544,     50, 191593]])), (('C21', 'ECAT'), array([[  3064,      2,   3726],\n",
      "       [     7,     33,    309],\n",
      "       [   288,     55, 191844]])), (('C21', 'ECAT'), array([[  2155,      4,   4633],\n",
      "       [     9,      4,    336],\n",
      "       [   129,      5, 192053]])), (('C21', 'ECAT'), array([[  1706,      3,   5083],\n",
      "       [     8,      2,    339],\n",
      "       [   123,     32, 192032]])), (('C21', 'ECAT'), array([[  1966,      4,   4822],\n",
      "       [    10,      3,    336],\n",
      "       [   124,      3, 192060]])), (('C21', 'ECAT'), array([[  1991,      4,   4797],\n",
      "       [    11,      5,    333],\n",
      "       [   135,      7, 192045]])), (('C21', 'ECAT'), array([[  1787,      4,   5001],\n",
      "       [     6,      3,    340],\n",
      "       [   149,     27, 192011]]))), ((('C21', 'C31'), array([[  1142,      7,   4715],\n",
      "       [    16,      2,   1259],\n",
      "       [   308,      6, 191873]])), (('C21', 'C31'), array([[  2491,      3,   3370],\n",
      "       [     7,    245,   1025],\n",
      "       [   287,    110, 191790]])), (('C21', 'C31'), array([[  1411,     10,   4443],\n",
      "       [    31,      7,   1239],\n",
      "       [    83,      2, 192102]])), (('C21', 'C31'), array([[  1163,      7,   4694],\n",
      "       [    16,      7,   1254],\n",
      "       [   220,     11, 191956]])), (('C21', 'C31'), array([[  1257,      9,   4598],\n",
      "       [    23,      7,   1247],\n",
      "       [   126,      5, 192056]])), (('C21', 'C31'), array([[  1402,     10,   4452],\n",
      "       [    22,     94,   1161],\n",
      "       [   151,     46, 191990]])), (('C21', 'C31'), array([[  1165,      0,   4699],\n",
      "       [    15,     42,   1220],\n",
      "       [   218,     64, 191905]]))), ((('C21', 'M141'), array([[  1545,    152,   4026],\n",
      "       [     3,    683,    732],\n",
      "       [   754,    269, 191164]])), (('C21', 'M141'), array([[  2824,     91,   2808],\n",
      "       [     2,   1022,    394],\n",
      "       [   111,    188, 191888]])), (('C21', 'M141'), array([[  2554,    158,   3011],\n",
      "       [     5,    736,    677],\n",
      "       [    53,    121, 192013]])), (('C21', 'M141'), array([[  2234,    162,   3327],\n",
      "       [     5,    760,    653],\n",
      "       [     0,      0, 192187]])), (('C21', 'M141'), array([[  2387,    164,   3172],\n",
      "       [     6,    774,    638],\n",
      "       [    18,     52, 192117]])), (('C21', 'M141'), array([[  2598,    172,   2953],\n",
      "       [     7,    923,    488],\n",
      "       [    22,     60, 192105]])), (('C21', 'M141'), array([[  2363,    156,   3204],\n",
      "       [     7,    782,    629],\n",
      "       [     0,      0, 192187]]))), ((('E212', 'GPOL'), array([[  4578,      0,   2491],\n",
      "       [     4,      1,    172],\n",
      "       [   514,      4, 191564]])), (('E212', 'GPOL'), array([[  5649,      0,   1420],\n",
      "       [     1,     44,    132],\n",
      "       [   142,      7, 191933]])), (('E212', 'GPOL'), array([[  4978,      0,   2091],\n",
      "       [     7,      1,    169],\n",
      "       [   110,      0, 191972]])), (('E212', 'GPOL'), array([[  4583,      0,   2486],\n",
      "       [     4,      1,    172],\n",
      "       [   503,      4, 191575]])), (('E212', 'GPOL'), array([[  4920,      0,   2149],\n",
      "       [     7,      1,    169],\n",
      "       [    95,      0, 191987]])), (('E212', 'GPOL'), array([[  4820,      0,   2249],\n",
      "       [     7,     19,    151],\n",
      "       [    97,      1, 191984]])), (('E212', 'GPOL'), array([[  4638,      0,   2431],\n",
      "       [     5,      1,    171],\n",
      "       [   499,      2, 191581]]))), ((('E212', 'E12'), array([[  4947,      5,   2008],\n",
      "       [     1,      1,    284],\n",
      "       [   506,      0, 191576]])), (('E212', 'E12'), array([[  5649,      3,   1308],\n",
      "       [     1,     44,    241],\n",
      "       [   150,     15, 191917]])), (('E212', 'E12'), array([[  5332,      6,   1622],\n",
      "       [     2,      3,    281],\n",
      "       [   113,      0, 191969]])), (('E212', 'E12'), array([[  4950,      5,   2005],\n",
      "       [     1,      3,    282],\n",
      "       [   494,      0, 191588]])), (('E212', 'E12'), array([[  5214,      6,   1740],\n",
      "       [     4,      7,    275],\n",
      "       [    98,      0, 191984]])), (('E212', 'E12'), array([[  5200,      5,   1755],\n",
      "       [     3,     47,    236],\n",
      "       [    98,      0, 191984]])), (('E212', 'E12'), array([[  4957,      0,   2003],\n",
      "       [     3,     15,    268],\n",
      "       [   471,     14, 191597]]))), ((('E212', 'M12'), array([[  4214,     40,   2420],\n",
      "       [    32,     99,    441],\n",
      "       [   248,    138, 191696]])), (('E212', 'M12'), array([[  5409,     28,   1237],\n",
      "       [    21,    251,    300],\n",
      "       [   112,    148, 191822]])), (('E212', 'M12'), array([[  4561,     46,   2067],\n",
      "       [    43,    126,    403],\n",
      "       [    37,     73, 191972]])), (('E212', 'M12'), array([[  4218,     39,   2417],\n",
      "       [    32,    101,    439],\n",
      "       [   245,    138, 191699]])), (('E212', 'M12'), array([[  4455,     41,   2178],\n",
      "       [    41,    117,    414],\n",
      "       [    35,     48, 191999]])), (('E212', 'M12'), array([[  4703,     43,   1928],\n",
      "       [    38,    194,    340],\n",
      "       [    32,     61, 191989]])), (('E212', 'M12'), array([[  4298,     17,   2359],\n",
      "       [    39,     96,    437],\n",
      "       [   293,    136, 191653]]))), ((('E212', 'MCAT'), array([[  3567,     37,   3016],\n",
      "       [    23,    123,    480],\n",
      "       [   228,    172, 191682]])), (('E212', 'MCAT'), array([[  5316,     30,   1274],\n",
      "       [    12,    268,    346],\n",
      "       [   112,    142, 191828]])), (('E212', 'MCAT'), array([[  3859,     46,   2715],\n",
      "       [    26,    156,    444],\n",
      "       [    44,     58, 191980]])), (('E212', 'MCAT'), array([[  3570,     37,   3013],\n",
      "       [    23,    125,    478],\n",
      "       [   228,    172, 191682]])), (('E212', 'MCAT'), array([[  3754,     40,   2826],\n",
      "       [    27,    134,    465],\n",
      "       [    45,     40, 191997]])), (('E212', 'MCAT'), array([[  3914,     35,   2671],\n",
      "       [    23,    151,    452],\n",
      "       [    44,     61, 191977]])), (('E212', 'MCAT'), array([[  3598,     47,   2975],\n",
      "       [    21,    135,    470],\n",
      "       [   224,    212, 191646]]))), ((('E212', 'C17'), array([[  2892,     45,   2927],\n",
      "       [    10,   1001,    371],\n",
      "       [   227,    162, 191693]])), (('E212', 'C17'), array([[  4327,     30,   1507],\n",
      "       [     9,   1157,    216],\n",
      "       [   150,     87, 191845]])), (('E212', 'C17'), array([[  3121,     55,   2688],\n",
      "       [    18,   1016,    348],\n",
      "       [    46,     28, 192008]])), (('E212', 'C17'), array([[  2898,     45,   2921],\n",
      "       [    10,   1003,    369],\n",
      "       [   224,    163, 191695]])), (('E212', 'C17'), array([[  3005,     48,   2811],\n",
      "       [    14,   1008,    360],\n",
      "       [    53,     50, 191979]])), (('E212', 'C17'), array([[  3208,     49,   2607],\n",
      "       [    16,   1050,    316],\n",
      "       [    58,     68, 191956]])), (('E212', 'C17'), array([[  2919,     30,   2915],\n",
      "       [    11,    996,    375],\n",
      "       [   250,    145, 191687]]))), ((('GCRIM', 'E212'), array([[  5649,      0,   1839],\n",
      "       [    13,      0,     63],\n",
      "       [  1445,      4, 190315]])), (('GCRIM', 'E212'), array([[  6629,      0,    859],\n",
      "       [     1,     55,     20],\n",
      "       [   357,     13, 191394]])), (('GCRIM', 'E212'), array([[  6491,      1,    996],\n",
      "       [    16,      0,     60],\n",
      "       [   316,      2, 191446]])), (('GCRIM', 'E212'), array([[  5674,      0,   1814],\n",
      "       [    14,      0,     62],\n",
      "       [   443,      1, 191320]])), (('GCRIM', 'E212'), array([[  6385,      1,   1102],\n",
      "       [    16,      0,     60],\n",
      "       [   195,      0, 191569]])), (('GCRIM', 'E212'), array([[  6485,      1,   1002],\n",
      "       [    18,      9,     49],\n",
      "       [   209,      0, 191555]])), (('GCRIM', 'E212'), array([[  5668,      0,   1820],\n",
      "       [    15,      1,     60],\n",
      "       [   365,      1, 191398]]))), ((('GCRIM', 'C15'), array([[  4706,      1,   2699],\n",
      "       [    12,      8,    138],\n",
      "       [  1177,      5, 190582]])), (('GCRIM', 'C15'), array([[  6250,      0,   1156],\n",
      "       [     4,     64,     90],\n",
      "       [   411,     14, 191339]])), (('GCRIM', 'C15'), array([[  5394,      1,   2011],\n",
      "       [    13,      8,    137],\n",
      "       [   291,      2, 191471]])), (('GCRIM', 'C15'), array([[  4747,      1,   2658],\n",
      "       [    12,      9,    137],\n",
      "       [   779,      3, 190982]])), (('GCRIM', 'C15'), array([[  5276,      1,   2129],\n",
      "       [    13,      9,    136],\n",
      "       [   235,      0, 191529]])), (('GCRIM', 'C15'), array([[  5261,      1,   2144],\n",
      "       [    11,     24,    123],\n",
      "       [   247,      3, 191514]])), (('GCRIM', 'C15'), array([[  4750,      0,   2656],\n",
      "       [    11,      8,    139],\n",
      "       [   690,      6, 191068]]))), ((('GCRIM', 'C18'), array([[  4981,      6,   2376],\n",
      "       [     2,     38,    161],\n",
      "       [  1268,     24, 190472]])), (('GCRIM', 'C18'), array([[  6256,      2,   1105],\n",
      "       [     0,    116,     85],\n",
      "       [   385,     19, 191360]])), (('GCRIM', 'C18'), array([[  5696,      6,   1661],\n",
      "       [     7,     45,    149],\n",
      "       [   303,      3, 191458]])), (('GCRIM', 'C18'), array([[  5017,      6,   2340],\n",
      "       [     3,     38,    160],\n",
      "       [   741,     20, 191003]])), (('GCRIM', 'C18'), array([[  5575,      6,   1782],\n",
      "       [     7,     44,    150],\n",
      "       [   226,      1, 191537]])), (('GCRIM', 'C18'), array([[  5661,      4,   1698],\n",
      "       [    12,     65,    124],\n",
      "       [   244,      7, 191513]])), (('GCRIM', 'C18'), array([[  5111,      6,   2246],\n",
      "       [     5,     38,    158],\n",
      "       [   666,     20, 191078]]))), ((('GCRIM', 'GDIP'), array([[  4304,      3,   2798],\n",
      "       [    35,     15,    409],\n",
      "       [   887,     19, 190858]])), (('GCRIM', 'GDIP'), array([[  5895,      0,   1210],\n",
      "       [    21,    242,    196],\n",
      "       [   401,    106, 191257]])), (('GCRIM', 'GDIP'), array([[  4885,      3,   2217],\n",
      "       [    42,     20,    397],\n",
      "       [   257,      4, 191503]])), (('GCRIM', 'GDIP'), array([[  4333,      3,   2769],\n",
      "       [    35,     17,    407],\n",
      "       [   675,     17, 191072]])), (('GCRIM', 'GDIP'), array([[  4713,      4,   2388],\n",
      "       [    47,     22,    390],\n",
      "       [   252,      2, 191510]])), (('GCRIM', 'GDIP'), array([[  4765,      2,   2338],\n",
      "       [    44,     84,    331],\n",
      "       [   246,     24, 191494]])), (('GCRIM', 'GDIP'), array([[  4228,      1,   2876],\n",
      "       [    31,     23,    405],\n",
      "       [   590,     30, 191144]]))), ((('GCRIM', 'GPOL'), array([[  1998,     18,   4035],\n",
      "       [    28,    201,   1284],\n",
      "       [   343,    118, 191303]])), (('GCRIM', 'GPOL'), array([[  4726,      8,   1317],\n",
      "       [     7,   1053,    453],\n",
      "       [   483,    223, 191058]])), (('GCRIM', 'GPOL'), array([[  2384,     19,   3648],\n",
      "       [    32,    223,   1258],\n",
      "       [    99,     25, 191640]])), (('GCRIM', 'GPOL'), array([[  2024,     18,   4009],\n",
      "       [    29,    211,   1273],\n",
      "       [   329,    122, 191313]])), (('GCRIM', 'GPOL'), array([[  2185,     19,   3847],\n",
      "       [    31,    221,   1261],\n",
      "       [   146,     55, 191563]])), (('GCRIM', 'GPOL'), array([[  2418,     20,   3613],\n",
      "       [    29,    641,    843],\n",
      "       [   173,    144, 191447]])), (('GCRIM', 'GPOL'), array([[  2164,      5,   3882],\n",
      "       [    29,    244,   1240],\n",
      "       [   359,    146, 191259]]))), ((('C24', 'GDIP'), array([[  3826,      0,   4214],\n",
      "       [     4,      0,     93],\n",
      "       [  1930,      0, 189261]])), (('C24', 'GDIP'), array([[  5536,      0,   2504],\n",
      "       [     3,     10,     84],\n",
      "       [   395,      8, 190788]])), (('C24', 'GDIP'), array([[  5247,      1,   2792],\n",
      "       [     4,      0,     93],\n",
      "       [   345,      0, 190846]])), (('C24', 'GDIP'), array([[  4786,      1,   3253],\n",
      "       [     5,      0,     92],\n",
      "       [     0,      0, 191191]])), (('C24', 'GDIP'), array([[  5123,      2,   2915],\n",
      "       [     6,      3,     88],\n",
      "       [   193,      0, 190998]])), (('C24', 'GDIP'), array([[  5260,      3,   2777],\n",
      "       [     6,     12,     79],\n",
      "       [   168,      0, 191023]])), (('C24', 'GDIP'), array([[  4982,      1,   3057],\n",
      "       [     5,      1,     91],\n",
      "       [     2,      0, 191189]]))), ((('C24', 'C15'), array([[  2757,      1,   5193],\n",
      "       [     2,      2,    182],\n",
      "       [  1334,     41, 189816]])), (('C24', 'C15'), array([[  4899,      1,   3051],\n",
      "       [     2,     36,    148],\n",
      "       [   525,     60, 190606]])), (('C24', 'C15'), array([[  3900,      3,   4048],\n",
      "       [     7,      3,    176],\n",
      "       [   274,      5, 190912]])), (('C24', 'C15'), array([[  3103,      1,   4847],\n",
      "       [     7,      2,    177],\n",
      "       [    37,     19, 191135]])), (('C24', 'C15'), array([[  3630,      2,   4319],\n",
      "       [     8,      5,    173],\n",
      "       [   240,      3, 190948]])), (('C24', 'C15'), array([[  3792,      2,   4157],\n",
      "       [     9,     16,    161],\n",
      "       [   210,     19, 190962]])), (('C24', 'C15'), array([[  3167,      1,   4783],\n",
      "       [     5,      3,    178],\n",
      "       [    82,     23, 191086]]))), ((('C24', 'C31'), array([[  1941,      1,   5741],\n",
      "       [    13,      0,    441],\n",
      "       [   800,      1, 190390]])), (('C24', 'C31'), array([[  4185,      0,   3498],\n",
      "       [     4,     95,    355],\n",
      "       [   650,    102, 190439]])), (('C24', 'C31'), array([[  2635,      1,   5047],\n",
      "       [    19,      0,    435],\n",
      "       [   213,      0, 190978]])), (('C24', 'C31'), array([[  2048,      1,   5634],\n",
      "       [    15,      5,    434],\n",
      "       [   394,      7, 190790]])), (('C24', 'C31'), array([[  2335,      1,   5347],\n",
      "       [    18,      5,    431],\n",
      "       [   280,      4, 190907]])), (('C24', 'C31'), array([[  2531,      1,   5151],\n",
      "       [    16,     32,    406],\n",
      "       [   286,     52, 190853]])), (('C24', 'C31'), array([[  2177,      0,   5506],\n",
      "       [    13,     15,    426],\n",
      "       [   467,     87, 190637]]))), ((('C24', 'MCAT'), array([[  2766,     55,   4523],\n",
      "       [    40,    146,    607],\n",
      "       [  1165,    229, 189797]])), (('C24', 'MCAT'), array([[  4654,     49,   2641],\n",
      "       [    22,    359,    412],\n",
      "       [   407,    229, 190555]])), (('C24', 'MCAT'), array([[  3819,     78,   3447],\n",
      "       [    44,    203,    546],\n",
      "       [   216,     61, 190914]])), (('C24', 'MCAT'), array([[  3057,     59,   4228],\n",
      "       [    42,    178,    573],\n",
      "       [     0,     45, 191146]])), (('C24', 'MCAT'), array([[  3502,     69,   3773],\n",
      "       [    45,    196,    552],\n",
      "       [   168,     35, 190988]])), (('C24', 'MCAT'), array([[  3663,     63,   3618],\n",
      "       [    49,    220,    524],\n",
      "       [   168,     37, 190986]])), (('C24', 'MCAT'), array([[  3189,     55,   4100],\n",
      "       [    44,    151,    598],\n",
      "       [    76,     42, 191073]]))), ((('C24', 'C21'), array([[   876,     22,   5642],\n",
      "       [    46,    154,   1397],\n",
      "       [   493,    203, 190495]])), (('C24', 'C21'), array([[  3266,     12,   3262],\n",
      "       [    11,    883,    703],\n",
      "       [   512,    304, 190375]])), (('C24', 'C21'), array([[  1390,     28,   5122],\n",
      "       [    65,    213,   1319],\n",
      "       [   100,     69, 191022]])), (('C24', 'C21'), array([[   938,     22,   5580],\n",
      "       [    52,    165,   1380],\n",
      "       [   349,    145, 190697]])), (('C24', 'C21'), array([[  1120,     23,   5397],\n",
      "       [    57,    175,   1365],\n",
      "       [   175,    107, 190909]])), (('C24', 'C21'), array([[  1709,     27,   4804],\n",
      "       [    54,    641,    902],\n",
      "       [   226,    292, 190673]])), (('C24', 'C21'), array([[  1368,      0,   5172],\n",
      "       [    46,    540,   1011],\n",
      "       [   425,    418, 190348]]))), ((('GVIO', 'C21'), array([[  4834,      0,   3623],\n",
      "       [     3,      0,     53],\n",
      "       [  1309,      0, 189506]])), (('GVIO', 'C21'), array([[  6650,      0,   1807],\n",
      "       [     2,      9,     45],\n",
      "       [   565,      1, 190249]])), (('GVIO', 'C21'), array([[  5804,      0,   2653],\n",
      "       [     9,      0,     47],\n",
      "       [   370,      0, 190445]])), (('GVIO', 'C21'), array([[  5028,      0,   3429],\n",
      "       [     2,      2,     52],\n",
      "       [   701,      0, 190114]])), (('GVIO', 'C21'), array([[  5759,      0,   2698],\n",
      "       [     8,      2,     46],\n",
      "       [   381,      0, 190434]])), (('GVIO', 'C21'), array([[  6021,      0,   2436],\n",
      "       [     6,      2,     48],\n",
      "       [   351,      2, 190462]])), (('GVIO', 'C21'), array([[  5163,      0,   3294],\n",
      "       [     2,      2,     52],\n",
      "       [   708,      2, 190105]]))), ((('GVIO', 'C24'), array([[  5317,      0,   3113],\n",
      "       [     9,      1,     73],\n",
      "       [  1633,      0, 189182]])), (('GVIO', 'C24'), array([[  6990,      0,   1440],\n",
      "       [     6,     25,     52],\n",
      "       [   511,      6, 190298]])), (('GVIO', 'C24'), array([[  6406,      0,   2024],\n",
      "       [    16,      1,     66],\n",
      "       [   404,      0, 190411]])), (('GVIO', 'C24'), array([[  5480,      0,   2950],\n",
      "       [    12,      1,     70],\n",
      "       [   551,      0, 190264]])), (('GVIO', 'C24'), array([[  6253,      0,   2177],\n",
      "       [    16,      1,     66],\n",
      "       [   329,      0, 190486]])), (('GVIO', 'C24'), array([[  6194,      0,   2236],\n",
      "       [    12,      8,     63],\n",
      "       [   318,      0, 190497]])), (('GVIO', 'C24'), array([[  5597,      0,   2833],\n",
      "       [    12,      1,     70],\n",
      "       [   555,      3, 190257]]))), ((('GVIO', 'CCAT'), array([[  4035,      2,   3998],\n",
      "       [    15,     21,    442],\n",
      "       [  1089,     19, 189707]])), (('GVIO', 'CCAT'), array([[  6135,      0,   1900],\n",
      "       [    10,    141,    327],\n",
      "       [   678,     43, 190094]])), (('GVIO', 'CCAT'), array([[  4585,      5,   3445],\n",
      "       [    30,     37,    411],\n",
      "       [   312,      0, 190503]])), (('GVIO', 'CCAT'), array([[  4129,      1,   3905],\n",
      "       [    13,     31,    434],\n",
      "       [   811,     24, 189980]])), (('GVIO', 'CCAT'), array([[  4383,      0,   3652],\n",
      "       [    24,     37,    417],\n",
      "       [   409,     11, 190395]])), (('GVIO', 'CCAT'), array([[  4518,      4,   3513],\n",
      "       [    18,     40,    420],\n",
      "       [   415,     20, 190380]])), (('GVIO', 'CCAT'), array([[  4066,      5,   3964],\n",
      "       [    15,     27,    436],\n",
      "       [   746,      9, 190060]]))), ((('GVIO', 'ECAT'), array([[  3480,      0,   4523],\n",
      "       [    23,     13,    474],\n",
      "       [   886,     26, 189903]])), (('GVIO', 'ECAT'), array([[  5947,      1,   2055],\n",
      "       [     9,    218,    283],\n",
      "       [   687,     89, 190039]])), (('GVIO', 'ECAT'), array([[  4038,      1,   3964],\n",
      "       [    27,     22,    461],\n",
      "       [   244,      0, 190571]])), (('GVIO', 'ECAT'), array([[  3589,      0,   4414],\n",
      "       [    23,     24,    463],\n",
      "       [   723,     32, 190060]])), (('GVIO', 'ECAT'), array([[  3873,      0,   4130],\n",
      "       [    30,     26,    454],\n",
      "       [   372,     14, 190429]])), (('GVIO', 'ECAT'), array([[  4038,      0,   3965],\n",
      "       [    38,     42,    430],\n",
      "       [   346,     32, 190437]])), (('GVIO', 'ECAT'), array([[  3869,      0,   4134],\n",
      "       [    28,     13,    469],\n",
      "       [   731,     19, 190065]]))), ((('GVIO', 'GCRIM'), array([[  3939,     32,   3455],\n",
      "       [    27,    297,    763],\n",
      "       [  1175,    224, 189416]])), (('GVIO', 'GCRIM'), array([[  5854,     15,   1557],\n",
      "       [    11,    756,    320],\n",
      "       [   492,    216, 190107]])), (('GVIO', 'GCRIM'), array([[  4599,     36,   2791],\n",
      "       [    32,    344,    711],\n",
      "       [   308,     54, 190453]])), (('GVIO', 'GCRIM'), array([[  4011,     32,   3383],\n",
      "       [    28,    305,    754],\n",
      "       [   696,    174, 189945]])), (('GVIO', 'GCRIM'), array([[  4312,     38,   3076],\n",
      "       [    34,    320,    733],\n",
      "       [   315,     36, 190464]])), (('GVIO', 'GCRIM'), array([[  4830,     35,   2561],\n",
      "       [    36,    560,    491],\n",
      "       [   320,     79, 190416]])), (('GVIO', 'GCRIM'), array([[  4361,      2,   3063],\n",
      "       [    37,    323,    727],\n",
      "       [   731,    213, 189871]]))), ((('C13', 'M12'), array([[  3884,      2,   5495],\n",
      "       [    10,      0,     94],\n",
      "       [  2789,      1, 187053]])), (('C13', 'M12'), array([[  6556,      0,   2825],\n",
      "       [    10,     32,     62],\n",
      "       [   296,      4, 189543]])), (('C13', 'M12'), array([[  6461,      2,   2918],\n",
      "       [    16,      0,     88],\n",
      "       [   273,      0, 189570]])), (('C13', 'M12'), array([[  6300,      2,   3079],\n",
      "       [    18,      0,     86],\n",
      "       [     0,      0, 189843]])), (('C13', 'M12'), array([[  6372,      2,   3007],\n",
      "       [    18,      0,     86],\n",
      "       [    88,      0, 189755]])), (('C13', 'M12'), array([[  6959,      2,   2420],\n",
      "       [    23,     10,     71],\n",
      "       [    77,      0, 189766]])), (('C13', 'M12'), array([[  6847,      3,   2531],\n",
      "       [    22,      0,     82],\n",
      "       [     1,      0, 189842]]))), ((('C13', 'C15'), array([[  2908,      1,   6203],\n",
      "       [    28,      1,    344],\n",
      "       [  1919,     26, 187898]])), (('C13', 'C15'), array([[  5271,      1,   3840],\n",
      "       [    31,     70,    272],\n",
      "       [   422,     51, 189370]])), (('C13', 'C15'), array([[  4792,      1,   4319],\n",
      "       [    50,      3,    320],\n",
      "       [   245,      2, 189596]])), (('C13', 'C15'), array([[  4363,      1,   4748],\n",
      "       [    46,      7,    320],\n",
      "       [     0,      0, 189843]])), (('C13', 'C15'), array([[  4523,      1,   4588],\n",
      "       [    44,      9,    320],\n",
      "       [   155,      0, 189688]])), (('C13', 'C15'), array([[  4857,      1,   4254],\n",
      "       [    49,     12,    312],\n",
      "       [   142,      2, 189699]])), (('C13', 'C15'), array([[  4724,      2,   4386],\n",
      "       [    54,      1,    318],\n",
      "       [     0,      1, 189842]]))), ((('C13', 'GPOL'), array([[  1896,      2,   7059],\n",
      "       [    13,     13,    502],\n",
      "       [  1300,     59, 188484]])), (('C13', 'GPOL'), array([[  4416,      1,   4540],\n",
      "       [     9,    120,    399],\n",
      "       [   482,    123, 189238]])), (('C13', 'GPOL'), array([[  3382,      3,   5572],\n",
      "       [    24,     18,    486],\n",
      "       [   149,      4, 189690]])), (('C13', 'GPOL'), array([[  2903,      4,   6050],\n",
      "       [    23,     19,    486],\n",
      "       [     0,      3, 189840]])), (('C13', 'GPOL'), array([[  3114,      4,   5839],\n",
      "       [    26,     21,    481],\n",
      "       [   126,      1, 189716]])), (('C13', 'GPOL'), array([[  3430,      2,   5525],\n",
      "       [    25,     68,    435],\n",
      "       [   115,     22, 189706]])), (('C13', 'GPOL'), array([[  3223,      4,   5730],\n",
      "       [    25,     22,    481],\n",
      "       [     9,     22, 189812]]))), ((('C13', 'M14'), array([[  3261,     11,   5539],\n",
      "       [    15,     30,    629],\n",
      "       [  2294,     96, 187453]])), (('C13', 'M14'), array([[  5674,     12,   3125],\n",
      "       [    15,    173,    486],\n",
      "       [   363,     72, 189408]])), (('C13', 'M14'), array([[  5352,     20,   3439],\n",
      "       [    28,     63,    583],\n",
      "       [   245,      4, 189594]])), (('C13', 'M14'), array([[  5093,     25,   3693],\n",
      "       [    33,     66,    575],\n",
      "       [     0,      0, 189843]])), (('C13', 'M14'), array([[  5178,     27,   3606],\n",
      "       [    32,     68,    574],\n",
      "       [   102,      2, 189739]])), (('C13', 'M14'), array([[  5635,     24,   3152],\n",
      "       [    43,    161,    470],\n",
      "       [    86,      3, 189754]])), (('C13', 'M14'), array([[  5465,     22,   3324],\n",
      "       [    47,     69,    558],\n",
      "       [     2,      0, 189841]]))), ((('C13', 'MCAT'), array([[  2078,     21,   6069],\n",
      "       [    22,     87,   1208],\n",
      "       [  1498,    138, 188207]])), (('C13', 'MCAT'), array([[  4255,     18,   3895],\n",
      "       [    14,    404,    899],\n",
      "       [   499,    103, 189241]])), (('C13', 'MCAT'), array([[  3465,     27,   4676],\n",
      "       [    38,    132,   1147],\n",
      "       [   200,      9, 189634]])), (('C13', 'MCAT'), array([[  2969,     30,   5169],\n",
      "       [    35,    119,   1163],\n",
      "       [     0,      1, 189842]])), (('C13', 'MCAT'), array([[  3116,     30,   5022],\n",
      "       [    40,    124,   1153],\n",
      "       [   143,      2, 189698]])), (('C13', 'MCAT'), array([[  3413,     35,   4720],\n",
      "       [    45,    262,   1010],\n",
      "       [   126,     10, 189707]])), (('C13', 'MCAT'), array([[  3103,     37,   5028],\n",
      "       [    51,    143,   1123],\n",
      "       [     2,     31, 189810]]))), ((('GDIP', 'C31'), array([[  4189,      0,   5664],\n",
      "       [     6,      0,    110],\n",
      "       [  1151,      1, 188207]])), (('GDIP', 'C31'), array([[  7342,      0,   2511],\n",
      "       [     1,     57,     58],\n",
      "       [   707,     43, 188609]])), (('GDIP', 'C31'), array([[  5185,      0,   4668],\n",
      "       [     7,      0,    109],\n",
      "       [   328,      0, 189031]])), (('GDIP', 'C31'), array([[  4385,      0,   5468],\n",
      "       [     7,      9,    100],\n",
      "       [   776,      4, 188579]])), (('GDIP', 'C31'), array([[  5046,      0,   4807],\n",
      "       [     6,      9,    101],\n",
      "       [   402,      1, 188956]])), (('GDIP', 'C31'), array([[  5474,      0,   4379],\n",
      "       [     9,     14,     93],\n",
      "       [   420,     34, 188905]])), (('GDIP', 'C31'), array([[  4902,      0,   4951],\n",
      "       [    12,      4,    100],\n",
      "       [  1006,     24, 188329]]))), ((('GDIP', 'E12'), array([[  5674,      1,   4122],\n",
      "       [    16,      0,    156],\n",
      "       [  1629,      3, 187727]])), (('GDIP', 'E12'), array([[  7731,      0,   2066],\n",
      "       [     6,     38,    128],\n",
      "       [   569,     14, 188776]])), (('GDIP', 'E12'), array([[  6760,      1,   3036],\n",
      "       [    22,      2,    148],\n",
      "       [   412,      0, 188947]])), (('GDIP', 'E12'), array([[  5816,      1,   3980],\n",
      "       [    18,      2,    152],\n",
      "       [   678,      6, 188675]])), (('GDIP', 'E12'), array([[  6623,      1,   3173],\n",
      "       [    22,      4,    146],\n",
      "       [   364,      1, 188994]])), (('GDIP', 'E12'), array([[  6929,      2,   2866],\n",
      "       [    31,     23,    118],\n",
      "       [   351,     10, 188998]])), (('GDIP', 'E12'), array([[  6197,      0,   3600],\n",
      "       [    21,     17,    134],\n",
      "       [   909,     32, 188418]]))), ((('GDIP', 'CCAT'), array([[  3865,      3,   5605],\n",
      "       [    23,      4,    469],\n",
      "       [  1146,     37, 188176]])), (('GDIP', 'CCAT'), array([[  6871,      2,   2600],\n",
      "       [     9,    152,    335],\n",
      "       [   724,    131, 188504]])), (('GDIP', 'CCAT'), array([[  4461,      5,   5007],\n",
      "       [    24,     10,    462],\n",
      "       [   344,      4, 189011]])), (('GDIP', 'CCAT'), array([[  4032,      3,   5438],\n",
      "       [    23,     13,    460],\n",
      "       [   897,     42, 188420]])), (('GDIP', 'CCAT'), array([[  4258,      4,   5211],\n",
      "       [    26,     15,    455],\n",
      "       [   475,     20, 188864]])), (('GDIP', 'CCAT'), array([[  4549,      4,   4920],\n",
      "       [    24,     42,    430],\n",
      "       [   513,     67, 188779]])), (('GDIP', 'CCAT'), array([[  4193,      5,   5275],\n",
      "       [    23,      6,    467],\n",
      "       [   936,     33, 188390]]))), ((('GDIP', 'ECAT'), array([[  1774,     11,   6461],\n",
      "       [    33,     74,   1616],\n",
      "       [   652,     73, 188634]])), (('GDIP', 'ECAT'), array([[  5778,      3,   2465],\n",
      "       [    14,    953,    756],\n",
      "       [   729,    254, 188376]])), (('GDIP', 'ECAT'), array([[  2244,     12,   5990],\n",
      "       [    46,     92,   1585],\n",
      "       [   169,     17, 189173]])), (('GDIP', 'ECAT'), array([[  1877,     11,   6358],\n",
      "       [    32,    104,   1587],\n",
      "       [   626,     76, 188657]])), (('GDIP', 'ECAT'), array([[  2108,     14,   6124],\n",
      "       [    35,    112,   1576],\n",
      "       [   346,     46, 188967]])), (('GDIP', 'ECAT'), array([[  2520,     13,   5713],\n",
      "       [    50,    401,   1272],\n",
      "       [   415,    159, 188785]])), (('GDIP', 'ECAT'), array([[  2039,      8,   6199],\n",
      "       [    37,     81,   1605],\n",
      "       [   628,    107, 188624]]))), ((('GDIP', 'GPOL'), array([[  1852,     88,   6097],\n",
      "       [    52,    176,   1704],\n",
      "       [   655,    222, 188482]])), (('GDIP', 'GPOL'), array([[  5683,     33,   2321],\n",
      "       [    16,   1032,    884],\n",
      "       [   614,    404, 188341]])), (('GDIP', 'GPOL'), array([[  2186,    106,   5745],\n",
      "       [    66,    229,   1637],\n",
      "       [   163,     78, 189118]])), (('GDIP', 'GPOL'), array([[  1943,     87,   6007],\n",
      "       [    48,    202,   1682],\n",
      "       [   585,    227, 188547]])), (('GDIP', 'GPOL'), array([[  2081,     97,   5859],\n",
      "       [    55,    213,   1664],\n",
      "       [   311,    155, 188893]])), (('GDIP', 'GPOL'), array([[  3365,     66,   4606],\n",
      "       [    88,    743,   1101],\n",
      "       [   437,    430, 188492]])), (('GDIP', 'GPOL'), array([[  2530,      5,   5502],\n",
      "       [    73,    349,   1510],\n",
      "       [   683,    388, 188288]]))), ((('C31', 'C151'), array([[  3437,      2,   6674],\n",
      "       [    14,      6,    379],\n",
      "       [  1918,     34, 186864]])), (('C31', 'C151'), array([[  6483,      1,   3629],\n",
      "       [    12,     48,    339],\n",
      "       [   278,     65, 188473]])), (('C31', 'C151'), array([[  5750,      4,   4359],\n",
      "       [    23,     11,    365],\n",
      "       [   168,      2, 188646]])), (('C31', 'C151'), array([[  5361,      5,   4747],\n",
      "       [    27,     10,    362],\n",
      "       [     0,      0, 188816]])), (('C31', 'C151'), array([[  5505,      6,   4602],\n",
      "       [    27,     12,    360],\n",
      "       [    66,      0, 188750]])), (('C31', 'C151'), array([[  6140,      3,   3970],\n",
      "       [    38,     67,    294],\n",
      "       [   107,      2, 188707]])), (('C31', 'C151'), array([[  5675,      6,   4432],\n",
      "       [    27,     13,    359],\n",
      "       [     0,      0, 188816]]))), ((('C31', 'C15'), array([[  2552,     15,   6886],\n",
      "       [    18,     56,    985],\n",
      "       [  1375,    326, 187115]])), (('C31', 'C15'), array([[  5354,     16,   4083],\n",
      "       [    12,    238,    809],\n",
      "       [   319,    105, 188392]])), (('C31', 'C15'), array([[  4120,     22,   5311],\n",
      "       [    41,    115,    903],\n",
      "       [   139,     16, 188661]])), (('C31', 'C15'), array([[  3638,     19,   5796],\n",
      "       [    45,     87,    927],\n",
      "       [     0,      2, 188814]])), (('C31', 'C15'), array([[  3830,     20,   5603],\n",
      "       [    47,     92,    920],\n",
      "       [    79,      2, 188735]])), (('C31', 'C15'), array([[  4244,     22,   5187],\n",
      "       [    51,    157,    851],\n",
      "       [   119,     18, 188679]])), (('C31', 'C15'), array([[  3730,     24,   5699],\n",
      "       [    39,     89,    931],\n",
      "       [     0,     59, 188757]]))), ((('C31', 'ECAT'), array([[  1497,     13,   7896],\n",
      "       [    26,     29,   1051],\n",
      "       [   836,    223, 187757]])), (('C31', 'ECAT'), array([[  4131,      6,   5269],\n",
      "       [    10,    269,    827],\n",
      "       [   417,    167, 188232]])), (('C31', 'ECAT'), array([[  2380,     22,   7004],\n",
      "       [    38,     52,   1016],\n",
      "       [    90,     25, 188701]])), (('C31', 'ECAT'), array([[  1841,     27,   7538],\n",
      "       [    34,     42,   1030],\n",
      "       [    83,    106, 188627]])), (('C31', 'ECAT'), array([[  2062,     30,   7314],\n",
      "       [    38,     45,   1023],\n",
      "       [   104,     52, 188660]])), (('C31', 'ECAT'), array([[  2417,     16,   6973],\n",
      "       [    31,    115,    960],\n",
      "       [   158,    140, 188518]])), (('C31', 'ECAT'), array([[  1923,     17,   7466],\n",
      "       [    32,     46,   1028],\n",
      "       [   263,    119, 188434]]))), ((('C31', 'C21'), array([[  2128,      6,   7101],\n",
      "       [    44,     34,   1199],\n",
      "       [   990,     50, 187776]])), (('C31', 'C21'), array([[  4596,      3,   4636],\n",
      "       [    43,    297,    937],\n",
      "       [   362,    157, 188297]])), (('C31', 'C21'), array([[  3390,      9,   5836],\n",
      "       [   127,     44,   1106],\n",
      "       [   107,      3, 188706]])), (('C31', 'C21'), array([[  2770,      6,   6459],\n",
      "       [    92,     46,   1139],\n",
      "       [     3,     15, 188798]])), (('C31', 'C21'), array([[  3080,      7,   6148],\n",
      "       [   109,     45,   1123],\n",
      "       [   114,      4, 188698]])), (('C31', 'C21'), array([[  3412,     10,   5813],\n",
      "       [   112,    264,    901],\n",
      "       [   162,    104, 188550]])), (('C31', 'C21'), array([[  3012,      0,   6223],\n",
      "       [    83,    202,    992],\n",
      "       [   109,    151, 188556]]))), ((('C31', 'M14'), array([[  2542,     67,   5811],\n",
      "       [    10,    538,   1544],\n",
      "       [  1653,    530, 186633]])), (('C31', 'M14'), array([[  5099,     51,   3270],\n",
      "       [    23,    924,   1145],\n",
      "       [   229,    174, 188413]])), (('C31', 'M14'), array([[  4316,     87,   4017],\n",
      "       [    37,    665,   1390],\n",
      "       [   106,     68, 188642]])), (('C31', 'M14'), array([[  4027,     95,   4298],\n",
      "       [    41,    667,   1384],\n",
      "       [     0,      0, 188816]])), (('C31', 'M14'), array([[  4115,     97,   4208],\n",
      "       [    43,    682,   1367],\n",
      "       [    33,     11, 188772]])), (('C31', 'M14'), array([[  5003,    102,   3315],\n",
      "       [    51,   1049,    992],\n",
      "       [    77,     23, 188716]])), (('C31', 'M14'), array([[  4495,     85,   3840],\n",
      "       [    41,    717,   1334],\n",
      "       [     0,      0, 188816]]))), ((('C181', 'C151'), array([[  6458,      2,   4017],\n",
      "       [    20,      4,    151],\n",
      "       [  1963,    113, 186600]])), (('C181', 'C151'), array([[  8809,      0,   1668],\n",
      "       [    12,     67,     96],\n",
      "       [   707,     95, 187874]])), (('C181', 'C151'), array([[  7512,      2,   2963],\n",
      "       [    27,      4,    144],\n",
      "       [   471,     17, 188188]])), (('C181', 'C151'), array([[  6579,      2,   3896],\n",
      "       [    21,      8,    146],\n",
      "       [   962,     87, 187627]])), (('C181', 'C151'), array([[  7348,      2,   3127],\n",
      "       [    27,      6,    142],\n",
      "       [   419,      9, 188248]])), (('C181', 'C151'), array([[  7572,      3,   2902],\n",
      "       [    27,     45,    103],\n",
      "       [   393,     14, 188269]])), (('C181', 'C151'), array([[  6788,      1,   3688],\n",
      "       [    20,      4,    151],\n",
      "       [   914,     69, 187693]]))), ((('C181', 'GCAT'), array([[  5590,      7,   4562],\n",
      "       [    23,     50,    420],\n",
      "       [  1785,     84, 186807]])), (('C181', 'GCAT'), array([[  8174,      0,   1985],\n",
      "       [    12,    310,    171],\n",
      "       [   800,     94, 187782]])), (('C181', 'GCAT'), array([[  6365,      9,   3785],\n",
      "       [    26,     56,    411],\n",
      "       [   441,      3, 188232]])), (('C181', 'GCAT'), array([[  5687,      7,   4465],\n",
      "       [    25,     54,    414],\n",
      "       [  1227,     89, 187360]])), (('C181', 'GCAT'), array([[  6121,     13,   4025],\n",
      "       [    26,     62,    405],\n",
      "       [   477,      9, 188190]])), (('C181', 'GCAT'), array([[  6223,      9,   3927],\n",
      "       [    24,    144,    325],\n",
      "       [   430,     33, 188213]])), (('C181', 'GCAT'), array([[  5625,      5,   4529],\n",
      "       [    16,     59,    418],\n",
      "       [  1130,     67, 187479]]))), ((('C181', 'C152'), array([[  3574,     11,   6038],\n",
      "       [    42,     48,    939],\n",
      "       [  1244,    104, 187328]])), (('C181', 'C152'), array([[  7576,      6,   2041],\n",
      "       [    16,    552,    461],\n",
      "       [   873,    213, 187590]])), (('C181', 'C152'), array([[  4201,     16,   5406],\n",
      "       [    48,     60,    921],\n",
      "       [   321,     26, 188329]])), (('C181', 'C152'), array([[  3700,     10,   5913],\n",
      "       [    43,     62,    924],\n",
      "       [   991,    103, 187582]])), (('C181', 'C152'), array([[  4037,     10,   5576],\n",
      "       [    50,     68,    911],\n",
      "       [   432,     53, 188191]])), (('C181', 'C152'), array([[  4536,     14,   5073],\n",
      "       [    46,    379,    604],\n",
      "       [   408,    135, 188133]])), (('C181', 'C152'), array([[  3721,     10,   5892],\n",
      "       [    45,     67,    917],\n",
      "       [   898,    107, 187671]]))), ((('C181', 'C15'), array([[  3529,     18,   5926],\n",
      "       [    53,     77,   1049],\n",
      "       [  1195,    277, 187204]])), (('C181', 'C15'), array([[  7362,     13,   2098],\n",
      "       [    21,    637,    521],\n",
      "       [   790,    289, 187597]])), (('C181', 'C15'), array([[  4016,     24,   5433],\n",
      "       [    60,     94,   1025],\n",
      "       [   315,     52, 188309]])), (('C181', 'C15'), array([[  3641,     18,   5814],\n",
      "       [    52,     90,   1037],\n",
      "       [   968,    274, 187434]])), (('C181', 'C15'), array([[  3853,     26,   5594],\n",
      "       [    61,     94,   1024],\n",
      "       [   441,    127, 188108]])), (('C181', 'C15'), array([[  4506,     24,   4943],\n",
      "       [    64,    404,    711],\n",
      "       [   467,    211, 187998]])), (('C181', 'C15'), array([[  3659,     17,   5797],\n",
      "       [    60,     97,   1022],\n",
      "       [   883,    256, 187537]]))), ((('C181', 'C17'), array([[  4641,     37,   4742],\n",
      "       [    46,    328,    858],\n",
      "       [  1421,    229, 187026]])), (('C181', 'C17'), array([[  7682,     26,   1712],\n",
      "       [    29,    813,    390],\n",
      "       [   704,    292, 187680]])), (('C181', 'C17'), array([[  5412,     42,   3966],\n",
      "       [    77,    351,    804],\n",
      "       [   336,     66, 188274]])), (('C181', 'C17'), array([[  4768,     37,   4615],\n",
      "       [    46,    344,    842],\n",
      "       [  1036,    185, 187455]])), (('C181', 'C17'), array([[  5223,     40,   4157],\n",
      "       [    69,    354,    809],\n",
      "       [   364,     75, 188237]])), (('C181', 'C17'), array([[  5936,     42,   3442],\n",
      "       [    63,    649,    520],\n",
      "       [   368,    137, 188171]])), (('C181', 'C17'), array([[  4817,      0,   4603],\n",
      "       [    49,    351,    832],\n",
      "       [  1012,    219, 187445]]))), ((('M141', 'ECAT'), array([[  7459,      4,   3135],\n",
      "       [    12,      0,     92],\n",
      "       [   527,     10, 188089]])), (('M141', 'ECAT'), array([[ 10065,      0,    533],\n",
      "       [     2,     69,     33],\n",
      "       [   561,     73, 187992]])), (('M141', 'ECAT'), array([[  7572,     16,   3010],\n",
      "       [    14,      0,     90],\n",
      "       [   314,      1, 188311]])), (('M141', 'ECAT'), array([[  7470,      4,   3124],\n",
      "       [    12,      0,     92],\n",
      "       [   517,     11, 188098]])), (('M141', 'ECAT'), array([[  7546,     15,   3037],\n",
      "       [    13,      0,     91],\n",
      "       [   368,      2, 188256]])), (('M141', 'ECAT'), array([[  7730,      1,   2867],\n",
      "       [    12,     12,     80],\n",
      "       [   372,      8, 188246]])), (('M141', 'ECAT'), array([[  7665,      0,   2933],\n",
      "       [    11,      0,     93],\n",
      "       [   486,      6, 188134]]))), ((('M141', 'GCAT'), array([[  7831,     20,   2406],\n",
      "       [    24,     95,    326],\n",
      "       [   494,     59, 188073]])), (('M141', 'GCAT'), array([[  9776,     10,    471],\n",
      "       [    10,    368,     67],\n",
      "       [   461,    148, 188017]])), (('M141', 'GCAT'), array([[  7934,     21,   2302],\n",
      "       [    26,     99,    320],\n",
      "       [   262,     29, 188335]])), (('M141', 'GCAT'), array([[  7845,     20,   2392],\n",
      "       [    24,     95,    326],\n",
      "       [   483,     61, 188082]])), (('M141', 'GCAT'), array([[  7926,     20,   2311],\n",
      "       [    26,     98,    321],\n",
      "       [   292,     32, 188302]])), (('M141', 'GCAT'), array([[  7832,     16,   2409],\n",
      "       [    26,    155,    264],\n",
      "       [   303,     52, 188271]])), (('M141', 'GCAT'), array([[  7598,     22,   2637],\n",
      "       [    20,     97,    328],\n",
      "       [   433,     58, 188135]]))), ((('M141', 'C24'), array([[  7607,     18,   2576],\n",
      "       [    42,     28,    431],\n",
      "       [   439,     19, 188168]])), (('M141', 'C24'), array([[  9781,      4,    416],\n",
      "       [    11,    434,     56],\n",
      "       [   411,    215, 188000]])), (('M141', 'C24'), array([[  7757,     18,   2426],\n",
      "       [    45,     28,    428],\n",
      "       [   199,     17, 188410]])), (('M141', 'C24'), array([[  7620,     18,   2563],\n",
      "       [    41,     29,    431],\n",
      "       [   434,     20, 188172]])), (('M141', 'C24'), array([[  7720,     19,   2462],\n",
      "       [    45,     29,    427],\n",
      "       [   224,     18, 188384]])), (('M141', 'C24'), array([[  8018,     14,   2169],\n",
      "       [    45,    263,    193],\n",
      "       [   257,     96, 188273]])), (('M141', 'C24'), array([[  7910,      0,   2291],\n",
      "       [    43,    158,    300],\n",
      "       [   463,     83, 188080]]))), ((('M141', 'C31'), array([[  5717,     11,   3743],\n",
      "       [    62,     53,   1116],\n",
      "       [   313,     23, 188290]])), (('M141', 'C31'), array([[  9075,      1,    395],\n",
      "       [    19,   1023,    189],\n",
      "       [   460,    241, 187925]])), (('M141', 'C31'), array([[  5787,     12,   3672],\n",
      "       [    67,     56,   1108],\n",
      "       [   196,     16, 188414]])), (('M141', 'C31'), array([[  5724,     11,   3736],\n",
      "       [    62,     53,   1116],\n",
      "       [   308,     23, 188295]])), (('M141', 'C31'), array([[  5752,     11,   3708],\n",
      "       [    67,     54,   1110],\n",
      "       [   253,     21, 188352]])), (('M141', 'C31'), array([[  6253,     18,   3200],\n",
      "       [    59,    562,    610],\n",
      "       [   297,    160, 188169]])), (('M141', 'C31'), array([[  5941,      0,   3530],\n",
      "       [    50,    570,    611],\n",
      "       [   374,    186, 188066]]))), ((('M141', 'C21'), array([[  7013,     57,   2214],\n",
      "       [    70,    465,    883],\n",
      "       [   283,    149, 188194]])), (('M141', 'C21'), array([[  8860,     28,    396],\n",
      "       [    31,   1253,    134],\n",
      "       [   337,    323, 187966]])), (('M141', 'C21'), array([[  7114,     57,   2113],\n",
      "       [    73,    470,    875],\n",
      "       [    99,    132, 188395]])), (('M141', 'C21'), array([[  7023,     57,   2204],\n",
      "       [    70,    469,    879],\n",
      "       [   281,    144, 188201]])), (('M141', 'C21'), array([[  7074,     57,   2153],\n",
      "       [    72,    474,    872],\n",
      "       [   134,    126, 188366]])), (('M141', 'C21'), array([[  7400,     60,   1824],\n",
      "       [    60,   1101,    257],\n",
      "       [   209,    280, 188137]])), (('M141', 'C21'), array([[  7208,      0,   2076],\n",
      "       [    61,   1099,    258],\n",
      "       [   330,    327, 187969]]))), ((('M11', 'ECAT'), array([[  8320,      3,   2314],\n",
      "       [    40,      3,    192],\n",
      "       [   862,     20, 187574]])), (('M11', 'ECAT'), array([[  9722,      1,    914],\n",
      "       [    25,     82,    128],\n",
      "       [   333,     39, 188084]])), (('M11', 'ECAT'), array([[  8591,      4,   2042],\n",
      "       [    44,      4,    187],\n",
      "       [   251,      0, 188205]])), (('M11', 'ECAT'), array([[  8348,      3,   2286],\n",
      "       [    39,      7,    189],\n",
      "       [   826,     22, 187608]])), (('M11', 'ECAT'), array([[  8603,      3,   2031],\n",
      "       [    46,      7,    182],\n",
      "       [   240,      1, 188215]])), (('M11', 'ECAT'), array([[  8559,      3,   2075],\n",
      "       [    46,     11,    178],\n",
      "       [   234,      3, 188219]])), (('M11', 'ECAT'), array([[  8378,      3,   2256],\n",
      "       [    40,      4,    191],\n",
      "       [   802,     14, 187640]]))), ((('M11', 'C152'), array([[  5712,     21,   4703],\n",
      "       [    58,     22,    356],\n",
      "       [   321,    124, 188011]])), (('M11', 'C152'), array([[  9446,     11,    979],\n",
      "       [    23,    237,    176],\n",
      "       [   250,    348, 187858]])), (('M11', 'C152'), array([[  5932,     23,   4481],\n",
      "       [    62,     29,    345],\n",
      "       [   106,     24, 188326]])), (('M11', 'C152'), array([[  5748,     21,   4667],\n",
      "       [    58,     25,    353],\n",
      "       [   295,    132, 188029]])), (('M11', 'C152'), array([[  5845,     25,   4566],\n",
      "       [    63,     28,    345],\n",
      "       [   115,     53, 188288]])), (('M11', 'C152'), array([[  6416,     28,   3992],\n",
      "       [    66,    101,    269],\n",
      "       [   140,    206, 188110]])), (('M11', 'C152'), array([[  5850,     22,   4564],\n",
      "       [    52,     28,    356],\n",
      "       [   308,    154, 187994]]))), ((('M11', 'M132'), array([[  8304,     12,   1995],\n",
      "       [    23,    241,    297],\n",
      "       [  1036,     14, 187406]])), (('M11', 'M132'), array([[  9631,      2,    678],\n",
      "       [     9,    485,     67],\n",
      "       [   313,     15, 188128]])), (('M11', 'M132'), array([[  8736,     12,   1563],\n",
      "       [    31,    244,    286],\n",
      "       [   265,      5, 188186]])), (('M11', 'M132'), array([[  8315,     12,   1984],\n",
      "       [    23,    251,    287],\n",
      "       [   990,     12, 187454]])), (('M11', 'M132'), array([[  8722,     12,   1577],\n",
      "       [    34,    252,    275],\n",
      "       [   207,      5, 188244]])), (('M11', 'M132'), array([[  9012,     12,   1287],\n",
      "       [    31,    393,    137],\n",
      "       [   204,      7, 188245]])), (('M11', 'M132'), array([[  8472,      4,   1835],\n",
      "       [    24,    273,    264],\n",
      "       [   990,     18, 187448]]))), ((('M11', 'M13'), array([[  7840,      5,   2429],\n",
      "       [    39,    124,    435],\n",
      "       [   971,      8, 187477]])), (('M11', 'M13'), array([[  9558,      2,    714],\n",
      "       [    19,    492,     87],\n",
      "       [   319,     22, 188115]])), (('M11', 'M13'), array([[  8283,      6,   1985],\n",
      "       [    48,    127,    423],\n",
      "       [   257,      1, 188198]])), (('M11', 'M13'), array([[  7875,      5,   2394],\n",
      "       [    38,    135,    425],\n",
      "       [   927,      9, 187520]])), (('M11', 'M13'), array([[  8247,      6,   2021],\n",
      "       [    49,    136,    413],\n",
      "       [   215,      1, 188240]])), (('M11', 'M13'), array([[  8377,     12,   1885],\n",
      "       [    52,    397,    149],\n",
      "       [   216,      8, 188232]])), (('M11', 'M13'), array([[  8042,      9,   2223],\n",
      "       [    46,    138,    414],\n",
      "       [   900,     13, 187543]]))), ((('M11', 'CCAT'), array([[  5188,     70,   4519],\n",
      "       [    51,     94,    950],\n",
      "       [   153,    379, 187924]])), (('M11', 'CCAT'), array([[  9046,     29,    702],\n",
      "       [    29,    541,    525],\n",
      "       [   121,    510, 187825]])), (('M11', 'CCAT'), array([[  5269,     87,   4421],\n",
      "       [    53,    149,    893],\n",
      "       [    81,     93, 188282]])), (('M11', 'CCAT'), array([[  5229,     70,   4478],\n",
      "       [    51,     98,    946],\n",
      "       [   130,    389, 187937]])), (('M11', 'CCAT'), array([[  5267,     77,   4433],\n",
      "       [    52,    113,    930],\n",
      "       [    90,    143, 188223]])), (('M11', 'CCAT'), array([[  5224,     76,   4477],\n",
      "       [    53,    223,    819],\n",
      "       [    90,    222, 188144]])), (('M11', 'CCAT'), array([[  5122,     75,   4580],\n",
      "       [    42,    126,    927],\n",
      "       [   128,    409, 187919]]))), ((('E21', 'C31'), array([[  6330,      0,   4352],\n",
      "       [     4,      0,    121],\n",
      "       [   957,      0, 187564]])), (('E21', 'C31'), array([[  8693,      0,   1989],\n",
      "       [     2,     31,     92],\n",
      "       [   381,     15, 188125]])), (('E21', 'C31'), array([[  7166,      0,   3516],\n",
      "       [     8,      1,    116],\n",
      "       [   231,      0, 188290]])), (('E21', 'C31'), array([[  6375,      0,   4307],\n",
      "       [     5,      3,    117],\n",
      "       [   869,      3, 187649]])), (('E21', 'C31'), array([[  7014,      0,   3668],\n",
      "       [     8,      2,    115],\n",
      "       [   200,      1, 188320]])), (('E21', 'C31'), array([[  7295,      0,   3387],\n",
      "       [     8,     16,    101],\n",
      "       [   212,      4, 188305]])), (('E21', 'C31'), array([[  6431,      0,   4251],\n",
      "       [     8,     11,    106],\n",
      "       [   887,     17, 187617]]))), ((('E21', 'M12'), array([[  6726,     45,   3439],\n",
      "       [    35,     87,    475],\n",
      "       [  1102,    128, 187291]])), (('E21', 'M12'), array([[  8685,     32,   1493],\n",
      "       [    26,    263,    308],\n",
      "       [   280,    119, 188122]])), (('E21', 'M12'), array([[  7597,     49,   2564],\n",
      "       [    49,    119,    429],\n",
      "       [   199,     55, 188267]])), (('E21', 'M12'), array([[  6768,     46,   3396],\n",
      "       [    35,     92,    470],\n",
      "       [   866,     90, 187565]])), (('E21', 'M12'), array([[  7434,     54,   2722],\n",
      "       [    51,    115,    431],\n",
      "       [   132,     26, 188363]])), (('E21', 'M12'), array([[  7877,     56,   2277],\n",
      "       [    41,    272,    284],\n",
      "       [   143,     32, 188346]])), (('E21', 'M12'), array([[  6972,      6,   3232],\n",
      "       [    39,    104,    454],\n",
      "       [   870,    126, 187525]]))), ((('E21', 'MCAT'), array([[  5330,     42,   4681],\n",
      "       [    33,    110,    611],\n",
      "       [   748,    192, 187581]])), (('E21', 'MCAT'), array([[  8114,     29,   1910],\n",
      "       [    19,    326,    409],\n",
      "       [   301,    164, 188056]])), (('E21', 'MCAT'), array([[  5884,     49,   4120],\n",
      "       [    40,    162,    552],\n",
      "       [   153,     40, 188328]])), (('E21', 'MCAT'), array([[  5401,     42,   4610],\n",
      "       [    32,    122,    600],\n",
      "       [   707,    203, 187611]])), (('E21', 'MCAT'), array([[  5799,     46,   4208],\n",
      "       [    39,    140,    575],\n",
      "       [   145,     25, 188351]])), (('E21', 'MCAT'), array([[  6185,     49,   3819],\n",
      "       [    40,    197,    517],\n",
      "       [   127,     63, 188331]])), (('E21', 'MCAT'), array([[  5500,     46,   4507],\n",
      "       [    36,    126,    592],\n",
      "       [   667,    223, 187631]]))), ((('E21', 'E12'), array([[  6206,     10,   3754],\n",
      "       [    37,     12,    788],\n",
      "       [   728,     23, 187770]])), (('E21', 'E12'), array([[  8127,      5,   1838],\n",
      "       [    25,    364,    448],\n",
      "       [   350,    151, 188020]])), (('E21', 'E12'), array([[  6851,     13,   3106],\n",
      "       [    65,     21,    751],\n",
      "       [   144,      2, 188375]])), (('E21', 'E12'), array([[  6247,     10,   3713],\n",
      "       [    35,     20,    782],\n",
      "       [   695,     33, 187793]])), (('E21', 'E12'), array([[  6632,     12,   3326],\n",
      "       [    55,     24,    758],\n",
      "       [   145,      5, 188371]])), (('E21', 'E12'), array([[  6922,     24,   3024],\n",
      "       [    52,    284,    501],\n",
      "       [   137,     51, 188333]])), (('E21', 'E12'), array([[  6258,      0,   3712],\n",
      "       [    34,    189,    614],\n",
      "       [   692,    176, 187653]]))), ((('E21', 'GPOL'), array([[  4874,     24,   4262],\n",
      "       [    37,    323,   1287],\n",
      "       [   629,    137, 187755]])), (('E21', 'GPOL'), array([[  7241,      9,   1910],\n",
      "       [    11,   1152,    484],\n",
      "       [   404,    110, 188007]])), (('E21', 'GPOL'), array([[  5441,     26,   3693],\n",
      "       [    57,    349,   1241],\n",
      "       [   135,     29, 188357]])), (('E21', 'GPOL'), array([[  4922,     24,   4214],\n",
      "       [    37,    334,   1276],\n",
      "       [   592,    142, 187787]])), (('E21', 'GPOL'), array([[  5235,     24,   3901],\n",
      "       [    52,    351,   1244],\n",
      "       [   148,     42, 188331]])), (('E21', 'GPOL'), array([[  5373,     24,   3763],\n",
      "       [    47,    746,    854],\n",
      "       [   183,     53, 188285]])), (('E21', 'GPOL'), array([[  5072,      3,   4085],\n",
      "       [    37,    394,   1216],\n",
      "       [   608,    145, 187768]]))), ((('C17', 'MCAT'), array([[  6026,     12,   5184],\n",
      "       [     6,      8,    223],\n",
      "       [  1337,     85, 186447]])), (('C17', 'MCAT'), array([[  8734,     15,   2473],\n",
      "       [     5,     70,    162],\n",
      "       [   579,    164, 187126]])), (('C17', 'MCAT'), array([[  6745,     18,   4459],\n",
      "       [     9,     11,    217],\n",
      "       [   284,     10, 187575]])), (('C17', 'MCAT'), array([[  6088,     12,   5122],\n",
      "       [     6,     11,    220],\n",
      "       [  1061,     92, 186716]])), (('C17', 'MCAT'), array([[  6619,     16,   4587],\n",
      "       [     9,     13,    215],\n",
      "       [   254,      4, 187611]])), (('C17', 'MCAT'), array([[  7106,     19,   4097],\n",
      "       [    11,     45,    181],\n",
      "       [   284,     26, 187559]])), (('C17', 'MCAT'), array([[  6048,     18,   5156],\n",
      "       [     5,      8,    224],\n",
      "       [  1049,     80, 186740]]))), ((('C17', 'C152'), array([[  5546,      7,   5292],\n",
      "       [    36,     22,    556],\n",
      "       [  1288,     62, 186519]])), (('C17', 'C152'), array([[  8381,      4,   2460],\n",
      "       [    19,    280,    315],\n",
      "       [   577,    140, 187152]])), (('C17', 'C152'), array([[  6253,      8,   4584],\n",
      "       [    44,     29,    541],\n",
      "       [   321,      9, 187539]])), (('C17', 'C152'), array([[  5605,      6,   5234],\n",
      "       [    36,     23,    555],\n",
      "       [  1047,     63, 186759]])), (('C17', 'C152'), array([[  6087,      6,   4752],\n",
      "       [    44,     31,    539],\n",
      "       [   308,      6, 187555]])), (('C17', 'C152'), array([[  6382,      7,   4456],\n",
      "       [    46,    160,    408],\n",
      "       [   336,     36, 187497]])), (('C17', 'C152'), array([[  5603,      8,   5234],\n",
      "       [    36,     38,    540],\n",
      "       [   971,     51, 186847]]))), ((('C17', 'C15'), array([[  4913,     23,   5594],\n",
      "       [    59,     75,    795],\n",
      "       [  1101,    219, 186549]])), (('C17', 'C15'), array([[  8049,     16,   2465],\n",
      "       [    40,    428,    461],\n",
      "       [   556,    231, 187082]])), (('C17', 'C15'), array([[  5457,     31,   5042],\n",
      "       [    77,     96,    756],\n",
      "       [   311,     22, 187536]])), (('C17', 'C15'), array([[  4993,     22,   5515],\n",
      "       [    59,     77,    793],\n",
      "       [   904,    224, 186741]])), (('C17', 'C15'), array([[  5330,     31,   5169],\n",
      "       [    70,     88,    771],\n",
      "       [   314,     31, 187524]])), (('C17', 'C15'), array([[  5805,     30,   4695],\n",
      "       [    73,    262,    594],\n",
      "       [   336,     92, 187441]])), (('C17', 'C15'), array([[  5233,     20,   5277],\n",
      "       [    56,     69,    804],\n",
      "       [   907,    174, 186788]]))), ((('C17', 'C18'), array([[  5155,     81,   4651],\n",
      "       [    61,    401,   1110],\n",
      "       [  1178,    336, 186355]])), (('C17', 'C18'), array([[  7692,     47,   2148],\n",
      "       [    34,    875,    663],\n",
      "       [   502,    247, 187120]])), (('C17', 'C18'), array([[  5684,     97,   4106],\n",
      "       [    77,    449,   1046],\n",
      "       [   306,     63, 187500]])), (('C17', 'C18'), array([[  5207,     79,   4601],\n",
      "       [    61,    412,   1099],\n",
      "       [   923,    326, 186620]])), (('C17', 'C18'), array([[  5554,     93,   4240],\n",
      "       [    79,    442,   1051],\n",
      "       [   287,     44, 187538]])), (('C17', 'C18'), array([[  6087,     96,   3704],\n",
      "       [    76,    638,    858],\n",
      "       [   317,     68, 187484]])), (('C17', 'C18'), array([[  5318,     26,   4543],\n",
      "       [    57,    410,   1105],\n",
      "       [   879,    389, 186601]]))), ((('C17', 'ECAT'), array([[  3872,      9,   5894],\n",
      "       [    18,    919,    747],\n",
      "       [   918,    151, 186800]])), (('C17', 'ECAT'), array([[  7289,      7,   2479],\n",
      "       [     3,   1251,    430],\n",
      "       [   482,    337, 187050]])), (('C17', 'ECAT'), array([[  4445,      9,   5321],\n",
      "       [    22,    932,    730],\n",
      "       [   190,     35, 187644]])), (('C17', 'ECAT'), array([[  3955,      7,   5813],\n",
      "       [    18,    922,    744],\n",
      "       [   851,    145, 186873]])), (('C17', 'ECAT'), array([[  4286,      8,   5481],\n",
      "       [    21,    933,    730],\n",
      "       [   211,     51, 187607]])), (('C17', 'ECAT'), array([[  4489,      9,   5277],\n",
      "       [    17,    996,    671],\n",
      "       [   254,    101, 187514]])), (('C17', 'ECAT'), array([[  4087,      7,   5681],\n",
      "       [    17,    964,    703],\n",
      "       [   818,    123, 186928]]))), ((('M13', 'E21'), array([[  9339,      2,   2612],\n",
      "       [    11,      2,    113],\n",
      "       [   890,      8, 186351]])), (('M13', 'E21'), array([[ 10739,      3,   1211],\n",
      "       [     5,     39,     82],\n",
      "       [   310,     48, 186891]])), (('M13', 'E21'), array([[  9885,      3,   2065],\n",
      "       [    12,      3,    111],\n",
      "       [   189,      0, 187060]])), (('M13', 'E21'), array([[  9355,      2,   2596],\n",
      "       [    11,      2,    113],\n",
      "       [   870,     11, 186368]])), (('M13', 'E21'), array([[  9732,      3,   2218],\n",
      "       [    13,      3,    110],\n",
      "       [   149,      0, 187100]])), (('M13', 'E21'), array([[  9853,      3,   2097],\n",
      "       [    13,     11,    102],\n",
      "       [   162,      1, 187086]])), (('M13', 'E21'), array([[  9425,      2,   2526],\n",
      "       [     7,      1,    118],\n",
      "       [   892,     10, 186347]]))), ((('M13', 'M11'), array([[  9555,      6,   1920],\n",
      "       [    10,    354,    234],\n",
      "       [  1083,     94, 186072]])), (('M13', 'M11'), array([[ 10522,      6,    953],\n",
      "       [     8,    411,    179],\n",
      "       [   239,     54, 186956]])), (('M13', 'M11'), array([[ 10170,      8,   1303],\n",
      "       [    12,    375,    211],\n",
      "       [   230,     21, 186998]])), (('M13', 'M11'), array([[  9563,      6,   1912],\n",
      "       [    10,    355,    233],\n",
      "       [  1051,     97, 186101]])), (('M13', 'M11'), array([[ 10015,      7,   1459],\n",
      "       [    12,    372,    214],\n",
      "       [   169,      3, 187077]])), (('M13', 'M11'), array([[ 10129,      7,   1345],\n",
      "       [    14,    404,    180],\n",
      "       [   176,     11, 187062]])), (('M13', 'M11'), array([[  9639,      6,   1836],\n",
      "       [    10,    360,    228],\n",
      "       [  1065,    101, 186083]]))), ((('M13', 'GCAT'), array([[  8929,     22,   2218],\n",
      "       [    12,    378,    520],\n",
      "       [   782,    286, 186181]])), (('M13', 'GCAT'), array([[ 10020,     16,   1133],\n",
      "       [     6,    623,    281],\n",
      "       [   246,    108, 186895]])), (('M13', 'GCAT'), array([[  9345,     24,   1800],\n",
      "       [    13,    437,    460],\n",
      "       [   179,     55, 187015]])), (('M13', 'GCAT'), array([[  8954,     21,   2194],\n",
      "       [    11,    379,    520],\n",
      "       [   772,    287, 186190]])), (('M13', 'GCAT'), array([[  9212,     25,   1932],\n",
      "       [    14,    408,    488],\n",
      "       [   150,     25, 187074]])), (('M13', 'GCAT'), array([[  9288,     28,   1853],\n",
      "       [    11,    450,    449],\n",
      "       [   150,     25, 187074]])), (('M13', 'GCAT'), array([[  8938,     25,   2206],\n",
      "       [    11,    382,    517],\n",
      "       [   858,    272, 186119]]))), ((('M13', 'E12'), array([[  6443,     44,   3660],\n",
      "       [   106,    416,   1410],\n",
      "       [   434,    216, 186599]])), (('M13', 'E12'), array([[  9146,     30,    971],\n",
      "       [    49,   1200,    683],\n",
      "       [   247,    225, 186777]])), (('M13', 'E12'), array([[  6710,     47,   3390],\n",
      "       [   113,    461,   1358],\n",
      "       [    91,     75, 187083]])), (('M13', 'E12'), array([[  6481,     42,   3624],\n",
      "       [   103,    437,   1392],\n",
      "       [   439,    219, 186591]])), (('M13', 'E12'), array([[  6573,     46,   3528],\n",
      "       [   107,    466,   1359],\n",
      "       [   101,     58, 187090]])), (('M13', 'E12'), array([[  7113,     46,   2988],\n",
      "       [   114,   1048,    770],\n",
      "       [   137,    151, 186961]])), (('M13', 'E12'), array([[  6793,      0,   3354],\n",
      "       [   111,   1048,    773],\n",
      "       [   536,    487, 186226]]))), ((('M13', 'ECAT'), array([[  4752,     69,   5134],\n",
      "       [    74,    452,   1598],\n",
      "       [   289,    366, 186594]])), (('M13', 'ECAT'), array([[  8898,     52,   1005],\n",
      "       [    27,   1372,    725],\n",
      "       [   219,    288, 186742]])), (('M13', 'ECAT'), array([[  4901,     89,   4965],\n",
      "       [    75,    548,   1501],\n",
      "       [    73,     88, 187088]])), (('M13', 'ECAT'), array([[  4821,     68,   5066],\n",
      "       [    73,    471,   1580],\n",
      "       [   292,    377, 186580]])), (('M13', 'ECAT'), array([[  4875,     72,   5008],\n",
      "       [    74,    495,   1555],\n",
      "       [    85,    137, 187027]])), (('M13', 'ECAT'), array([[  5164,     74,   4717],\n",
      "       [    74,    774,   1276],\n",
      "       [   107,    198, 186944]])), (('M13', 'ECAT'), array([[  4721,     65,   5169],\n",
      "       [    72,    536,   1516],\n",
      "       [   293,    363, 186593]]))), ((('C18', 'E12'), array([[  8726,      0,   3839],\n",
      "       [    76,      0,    315],\n",
      "       [  2325,      0, 184047]])), (('C18', 'E12'), array([[ 11123,      0,   1442],\n",
      "       [    35,    211,    145],\n",
      "       [   842,     18, 185512]])), (('C18', 'E12'), array([[  9898,      0,   2667],\n",
      "       [    95,      0,    296],\n",
      "       [   558,      0, 185814]])), (('C18', 'E12'), array([[  8833,      0,   3732],\n",
      "       [    76,      9,    306],\n",
      "       [  1456,      2, 184914]])), (('C18', 'E12'), array([[  9770,      0,   2795],\n",
      "       [   100,     10,    281],\n",
      "       [   457,      2, 185913]])), (('C18', 'E12'), array([[ 10057,      0,   2508],\n",
      "       [    77,     75,    239],\n",
      "       [   445,      0, 185927]])), (('C18', 'E12'), array([[  9205,      0,   3360],\n",
      "       [    59,     52,    280],\n",
      "       [  1457,     13, 184902]]))), ((('C18', 'GCAT'), array([[  6770,     24,   5474],\n",
      "       [    31,     79,    578],\n",
      "       [  1877,    133, 184362]])), (('C18', 'GCAT'), array([[ 10235,      7,   2026],\n",
      "       [    14,    435,    239],\n",
      "       [   900,    163, 185309]])), (('C18', 'GCAT'), array([[  7530,     30,   4708],\n",
      "       [    34,     94,    560],\n",
      "       [   488,     16, 185868]])), (('C18', 'GCAT'), array([[  6894,     23,   5351],\n",
      "       [    32,     89,    567],\n",
      "       [  1573,    140, 184659]])), (('C18', 'GCAT'), array([[  7330,     28,   4910],\n",
      "       [    32,     99,    557],\n",
      "       [   536,     27, 185809]])), (('C18', 'GCAT'), array([[  7598,     25,   4645],\n",
      "       [    30,    235,    423],\n",
      "       [   536,     75, 185761]])), (('C18', 'GCAT'), array([[  6840,     23,   5405],\n",
      "       [    24,     90,    574],\n",
      "       [  1424,    145, 184803]]))), ((('C18', 'C152'), array([[  5010,     12,   6807],\n",
      "       [    53,     48,   1026],\n",
      "       [  1491,    137, 184744]])), (('C18', 'C152'), array([[  9838,      6,   1985],\n",
      "       [    21,    649,    457],\n",
      "       [   948,    272, 185152]])), (('C18', 'C152'), array([[  5652,     16,   6161],\n",
      "       [    60,     69,    998],\n",
      "       [   349,     32, 185991]])), (('C18', 'C152'), array([[  5158,     11,   6660],\n",
      "       [    53,     70,   1004],\n",
      "       [  1315,    155, 184902]])), (('C18', 'C152'), array([[  5526,     11,   6292],\n",
      "       [    61,     81,    985],\n",
      "       [   408,     59, 185905]])), (('C18', 'C152'), array([[  6326,     15,   5488],\n",
      "       [    62,    467,    598],\n",
      "       [   423,    162, 185787]])), (('C18', 'C152'), array([[  5258,     10,   6561],\n",
      "       [    53,     81,    993],\n",
      "       [  1082,    142, 185148]]))), ((('C18', 'C15'), array([[  4826,     21,   6791],\n",
      "       [    68,     84,   1166],\n",
      "       [  1318,    338, 184716]])), (('C18', 'C15'), array([[  9558,     14,   2066],\n",
      "       [    29,    747,    542],\n",
      "       [   895,    350, 185127]])), (('C18', 'C15'), array([[  5338,     26,   6274],\n",
      "       [    78,    104,   1136],\n",
      "       [   351,     58, 185963]])), (('C18', 'C15'), array([[  4970,     21,   6647],\n",
      "       [    67,    106,   1145],\n",
      "       [  1164,    354, 184854]])), (('C18', 'C15'), array([[  5258,     28,   6352],\n",
      "       [    75,    114,   1129],\n",
      "       [   444,    133, 185795]])), (('C18', 'C15'), array([[  6100,     30,   5508],\n",
      "       [    71,    534,    713],\n",
      "       [   461,    272, 185639]])), (('C18', 'C15'), array([[  5000,     22,   6616],\n",
      "       [    71,    113,   1134],\n",
      "       [  1072,    307, 184993]]))), ((('C18', 'C17'), array([[  5951,     41,   5392],\n",
      "       [   104,    334,   1134],\n",
      "       [  1581,    275, 184516]])), (('C18', 'C17'), array([[  9685,     29,   1670],\n",
      "       [    55,    988,    529],\n",
      "       [   724,    388, 185260]])), (('C18', 'C17'), array([[  6697,     46,   4641],\n",
      "       [   126,    356,   1090],\n",
      "       [   329,     96, 185947]])), (('C18', 'C17'), array([[  6126,     41,   5217],\n",
      "       [   104,    362,   1106],\n",
      "       [  1373,    228, 184771]])), (('C18', 'C17'), array([[  6610,     44,   4730],\n",
      "       [   127,    372,   1073],\n",
      "       [   359,     89, 185924]])), (('C18', 'C17'), array([[  7657,     42,   3685],\n",
      "       [   110,    832,    630],\n",
      "       [   403,    231, 185738]])), (('C18', 'C17'), array([[  6160,      0,   5224],\n",
      "       [    89,    512,    971],\n",
      "       [  1291,    425, 184656]]))), ((('GPOL', 'MCAT'), array([[  9084,      6,   5542],\n",
      "       [     9,     21,    208],\n",
      "       [  2718,    128, 181612]])), (('GPOL', 'MCAT'), array([[ 12296,      5,   2331],\n",
      "       [     3,    104,    131],\n",
      "       [   931,     89, 183438]])), (('GPOL', 'MCAT'), array([[ 10703,      7,   3922],\n",
      "       [    11,     29,    198],\n",
      "       [   546,     20, 183892]])), (('GPOL', 'MCAT'), array([[  9298,      6,   5328],\n",
      "       [     9,     24,    205],\n",
      "       [  1172,     94, 183192]])), (('GPOL', 'MCAT'), array([[ 10445,      7,   4180],\n",
      "       [    13,     29,    196],\n",
      "       [   441,      8, 184009]])), (('GPOL', 'MCAT'), array([[ 10809,      9,   3814],\n",
      "       [    16,     60,    162],\n",
      "       [   293,     20, 184145]])), (('GPOL', 'MCAT'), array([[  9637,      5,   4990],\n",
      "       [    12,     31,    195],\n",
      "       [  1131,     87, 183240]]))), ((('GPOL', 'CCAT'), array([[  6318,     13,   7337],\n",
      "       [    67,     40,   1095],\n",
      "       [  1994,    129, 182335]])), (('GPOL', 'CCAT'), array([[ 10676,      3,   2989],\n",
      "       [    27,    466,    709],\n",
      "       [  1051,    243, 183164]])), (('GPOL', 'CCAT'), array([[  7080,     18,   6570],\n",
      "       [    79,     62,   1061],\n",
      "       [   465,      7, 183986]])), (('GPOL', 'CCAT'), array([[  6504,     13,   7151],\n",
      "       [    65,     73,   1064],\n",
      "       [  1693,    163, 182602]])), (('GPOL', 'CCAT'), array([[  6791,     18,   6859],\n",
      "       [    76,     82,   1044],\n",
      "       [   666,     72, 183720]])), (('GPOL', 'CCAT'), array([[  7186,     18,   6464],\n",
      "       [    60,    189,    953],\n",
      "       [   529,    141, 183788]])), (('GPOL', 'CCAT'), array([[  6630,     11,   7027],\n",
      "       [    55,     46,   1101],\n",
      "       [  1553,    158, 182747]]))), ((('GPOL', 'GCRIM'), array([[  8241,     28,   5088],\n",
      "       [    53,    412,   1048],\n",
      "       [  2827,    275, 181356]])), (('GPOL', 'GCRIM'), array([[ 11167,     18,   2172],\n",
      "       [    16,   1037,    460],\n",
      "       [   841,    157, 183460]])), (('GPOL', 'GCRIM'), array([[  9520,     32,   3805],\n",
      "       [    63,    494,    956],\n",
      "       [   562,     57, 183839]])), (('GPOL', 'GCRIM'), array([[  8398,     29,   4930],\n",
      "       [    55,    434,   1024],\n",
      "       [  1222,    189, 183047]])), (('GPOL', 'GCRIM'), array([[  9214,     31,   4112],\n",
      "       [    68,    483,    962],\n",
      "       [   455,     19, 183984]])), (('GPOL', 'GCRIM'), array([[ 10185,     40,   3132],\n",
      "       [    77,   1025,    411],\n",
      "       [   307,     35, 184116]])), (('GPOL', 'GCRIM'), array([[  9036,      0,   4321],\n",
      "       [    65,    686,    762],\n",
      "       [  1289,    312, 182857]]))), ((('GPOL', 'E21'), array([[  7866,      7,   5350],\n",
      "       [    28,    327,   1292],\n",
      "       [  2739,    199, 181520]])), (('GPOL', 'E21'), array([[ 11315,      3,   1905],\n",
      "       [    10,   1062,    575],\n",
      "       [   812,    194, 183452]])), (('GPOL', 'E21'), array([[  9297,     10,   3916],\n",
      "       [    45,    390,   1212],\n",
      "       [   522,     53, 183883]])), (('GPOL', 'E21'), array([[  8043,      7,   5173],\n",
      "       [    31,    366,   1250],\n",
      "       [  1262,    128, 183068]])), (('GPOL', 'E21'), array([[  8965,     10,   4248],\n",
      "       [    45,    398,   1204],\n",
      "       [   431,     22, 184005]])), (('GPOL', 'E21'), array([[  9615,     15,   3593],\n",
      "       [    39,   1119,    489],\n",
      "       [   288,     48, 184122]])), (('GPOL', 'E21'), array([[  8522,      0,   4701],\n",
      "       [    34,    503,   1110],\n",
      "       [  1138,    236, 183084]]))), ((('GPOL', 'GVIO'), array([[  6646,     55,   6038],\n",
      "       [    72,    294,   1765],\n",
      "       [  1944,    232, 182282]])), (('GPOL', 'GVIO'), array([[ 10564,     29,   2146],\n",
      "       [    24,   1284,    823],\n",
      "       [   953,    385, 183120]])), (('GPOL', 'GVIO'), array([[  7776,     72,   4891],\n",
      "       [    92,    362,   1677],\n",
      "       [   383,     53, 184022]])), (('GPOL', 'GVIO'), array([[  6813,     53,   5873],\n",
      "       [    71,    348,   1712],\n",
      "       [  1318,    217, 182923]])), (('GPOL', 'GVIO'), array([[  7441,     63,   5235],\n",
      "       [    94,    379,   1658],\n",
      "       [   398,     43, 184017]])), (('GPOL', 'GVIO'), array([[  8936,     70,   3733],\n",
      "       [    96,   1260,    775],\n",
      "       [   342,    149, 183967]])), (('GPOL', 'GVIO'), array([[  7665,      0,   5074],\n",
      "       [    85,   1002,   1044],\n",
      "       [  1480,    613, 182365]]))), ((('C152', 'M11'), array([[ 13616,     43,   5417],\n",
      "       [    41,     38,    357],\n",
      "       [  3031,    383, 176402]])), (('C152', 'M11'), array([[ 16567,     34,   2475],\n",
      "       [    25,    178,    233],\n",
      "       [   608,    278, 178930]])), (('C152', 'M11'), array([[ 14924,     54,   4098],\n",
      "       [    51,     65,    320],\n",
      "       [   466,    105, 179245]])), (('C152', 'M11'), array([[ 13722,     44,   5310],\n",
      "       [    42,     42,    352],\n",
      "       [  1802,    260, 177754]])), (('C152', 'M11'), array([[ 14870,     61,   4145],\n",
      "       [    51,     66,    319],\n",
      "       [   259,     10, 179547]])), (('C152', 'M11'), array([[ 16125,     73,   2878],\n",
      "       [    61,    169,    206],\n",
      "       [   218,     20, 179578]])), (('C152', 'M11'), array([[ 14214,     45,   4817],\n",
      "       [    51,     31,    354],\n",
      "       [  1695,    251, 177870]]))), ((('C152', 'C17'), array([[ 13320,     15,   5563],\n",
      "       [    22,     35,    557],\n",
      "       [  2695,    122, 176999]])), (('C152', 'C17'), array([[ 16316,     11,   2571],\n",
      "       [    22,    221,    371],\n",
      "       [   756,    134, 178926]])), (('C152', 'C17'), array([[ 14546,     16,   4336],\n",
      "       [    31,     58,    525],\n",
      "       [   498,      7, 179311]])), (('C152', 'C17'), array([[ 13419,     14,   5465],\n",
      "       [    21,     45,    548],\n",
      "       [  2313,    136, 177367]])), (('C152', 'C17'), array([[ 14458,     18,   4422],\n",
      "       [    28,     60,    526],\n",
      "       [   381,      4, 179431]])), (('C152', 'C17'), array([[ 14981,     24,   3893],\n",
      "       [    35,    260,    319],\n",
      "       [   305,     13, 179498]])), (('C152', 'C17'), array([[ 13534,      0,   5364],\n",
      "       [    24,     64,    526],\n",
      "       [  1991,    185, 177640]]))), ((('C152', 'C31'), array([[ 11637,      2,   7202],\n",
      "       [    27,      1,    643],\n",
      "       [  1726,      7, 178083]])), (('C152', 'C31'), array([[ 15925,      0,   2916],\n",
      "       [    11,    227,    433],\n",
      "       [  1007,    202, 178607]])), (('C152', 'C31'), array([[ 12790,      2,   6049],\n",
      "       [    36,      3,    632],\n",
      "       [   334,      1, 179481]])), (('C152', 'C31'), array([[ 11821,      2,   7018],\n",
      "       [    27,     21,    623],\n",
      "       [  1741,     23, 178052]])), (('C152', 'C31'), array([[ 12659,      3,   6179],\n",
      "       [    44,     24,    603],\n",
      "       [   340,      4, 179472]])), (('C152', 'C31'), array([[ 13578,      2,   5261],\n",
      "       [    45,    161,    465],\n",
      "       [   329,     40, 179447]])), (('C152', 'C31'), array([[ 12590,      0,   6251],\n",
      "       [    28,    143,    500],\n",
      "       [  1707,    235, 177874]]))), ((('C152', 'C181'), array([[ 12999,     26,   5458],\n",
      "       [    35,     88,    906],\n",
      "       [  2691,    251, 176874]])), (('C152', 'C181'), array([[ 16001,     10,   2472],\n",
      "       [    21,    453,    555],\n",
      "       [   724,    190, 178902]])), (('C152', 'C181'), array([[ 14136,     27,   4320],\n",
      "       [    47,    116,    866],\n",
      "       [   501,     28, 179287]])), (('C152', 'C181'), array([[ 13111,     27,   5345],\n",
      "       [    34,    100,    895],\n",
      "       [  2321,    261, 177234]])), (('C152', 'C181'), array([[ 14002,     31,   4450],\n",
      "       [    46,    138,    845],\n",
      "       [   384,      9, 179423]])), (('C152', 'C181'), array([[ 14580,     28,   3875],\n",
      "       [    51,    411,    567],\n",
      "       [   310,     17, 179489]])), (('C152', 'C181'), array([[ 13146,      0,   5337],\n",
      "       [    34,    194,    801],\n",
      "       [  1965,    390, 177461]]))), ((('C152', 'C18'), array([[ 13019,     35,   5331],\n",
      "       [    45,    114,    968],\n",
      "       [  2661,    350, 176805]])), (('C152', 'C18'), array([[ 15941,     20,   2424],\n",
      "       [    28,    506,    593],\n",
      "       [   743,    196, 178877]])), (('C152', 'C18'), array([[ 14091,     41,   4253],\n",
      "       [    60,    159,    908],\n",
      "       [   490,     38, 179288]])), (('C152', 'C18'), array([[ 13114,     36,   5235],\n",
      "       [    45,    128,    954],\n",
      "       [  2265,    357, 177194]])), (('C152', 'C18'), array([[ 13956,     40,   4389],\n",
      "       [    60,    181,    886],\n",
      "       [   373,     13, 179430]])), (('C152', 'C18'), array([[ 14490,     42,   3853],\n",
      "       [    68,    427,    632],\n",
      "       [   294,     15, 179507]])), (('C152', 'C18'), array([[ 13054,     14,   5317],\n",
      "       [    39,    178,    910],\n",
      "       [  1891,    380, 177545]]))), ((('M14', 'M132'), array([[ 17347,      2,   1837],\n",
      "       [     7,     60,    366],\n",
      "       [  1649,     15, 178045]])), (('M14', 'M132'), array([[ 18537,      2,    647],\n",
      "       [     3,    221,    209],\n",
      "       [   637,     17, 179055]])), (('M14', 'M132'), array([[ 17966,      3,   1217],\n",
      "       [     7,    164,    262],\n",
      "       [   618,      6, 179085]])), (('M14', 'M132'), array([[ 17359,      2,   1825],\n",
      "       [     6,     66,    361],\n",
      "       [  1591,     17, 178101]])), (('M14', 'M132'), array([[ 17816,      3,   1367],\n",
      "       [     8,    123,    302],\n",
      "       [   490,      1, 179218]])), (('M14', 'M132'), array([[ 18096,      2,   1088],\n",
      "       [     7,    219,    207],\n",
      "       [   453,      4, 179252]])), (('M14', 'M132'), array([[ 17692,      0,   1494],\n",
      "       [     9,    174,    250],\n",
      "       [  1522,     22, 178165]]))), ((('M14', 'M13'), array([[ 16903,      3,   2275],\n",
      "       [    13,     16,    409],\n",
      "       [  1599,      5, 178105]])), (('M14', 'M13'), array([[ 18486,      1,    694],\n",
      "       [     6,    177,    255],\n",
      "       [   631,     15, 179063]])), (('M14', 'M13'), array([[ 17526,      3,   1652],\n",
      "       [    13,     96,    329],\n",
      "       [   613,      2, 179094]])), (('M14', 'M13'), array([[ 16935,      3,   2243],\n",
      "       [    12,     32,    394],\n",
      "       [  1549,      7, 178153]])), (('M14', 'M13'), array([[ 17405,      3,   1773],\n",
      "       [    13,     43,    382],\n",
      "       [   506,      1, 179202]])), (('M14', 'M13'), array([[ 17543,      3,   1635],\n",
      "       [    14,    235,    189],\n",
      "       [   474,      2, 179233]])), (('M14', 'M13'), array([[ 16965,      3,   2213],\n",
      "       [    13,     36,    389],\n",
      "       [  1502,      9, 178198]]))), ((('M14', 'GCAT'), array([[ 14159,     22,   4876],\n",
      "       [    35,     99,    428],\n",
      "       [   876,     69, 178764]])), (('M14', 'GCAT'), array([[ 17760,     14,   1283],\n",
      "       [    17,    422,    123],\n",
      "       [   674,    178, 178857]])), (('M14', 'GCAT'), array([[ 14572,     25,   4460],\n",
      "       [    40,    108,    414],\n",
      "       [   375,     32, 179302]])), (('M14', 'GCAT'), array([[ 14234,     22,   4801],\n",
      "       [    34,    102,    426],\n",
      "       [   857,     73, 178779]])), (('M14', 'GCAT'), array([[ 14423,     22,   4612],\n",
      "       [    38,    107,    417],\n",
      "       [   410,     29, 179270]])), (('M14', 'GCAT'), array([[ 14488,     27,   4542],\n",
      "       [    40,    203,    319],\n",
      "       [   393,     81, 179235]])), (('M14', 'GCAT'), array([[ 14217,     22,   4818],\n",
      "       [    34,     96,    432],\n",
      "       [   846,     70, 178793]]))), ((('M14', 'C24'), array([[ 13663,     27,   5170],\n",
      "       [    66,     39,    654],\n",
      "       [   708,     47, 178954]])), (('M14', 'C24'), array([[ 17726,      9,   1125],\n",
      "       [    26,    519,    214],\n",
      "       [   602,    270, 178837]])), (('M14', 'C24'), array([[ 14158,     29,   4673],\n",
      "       [    67,     44,    648],\n",
      "       [   268,     26, 179415]])), (('M14', 'C24'), array([[ 13711,     27,   5122],\n",
      "       [    63,     45,    651],\n",
      "       [   697,     52, 178960]])), (('M14', 'C24'), array([[ 13917,     28,   4915],\n",
      "       [    66,     46,    647],\n",
      "       [   302,     27, 179380]])), (('M14', 'C24'), array([[ 15213,     17,   3630],\n",
      "       [    73,    390,    296],\n",
      "       [   382,    166, 179161]])), (('M14', 'C24'), array([[ 14804,      0,   4056],\n",
      "       [    74,    343,    342],\n",
      "       [   831,    280, 178598]]))), ((('M14', 'C31'), array([[ 10447,     12,   7068],\n",
      "       [   110,    102,   1880],\n",
      "       [   428,     39, 179242]])), (('M14', 'C31'), array([[ 16462,      2,   1063],\n",
      "       [    34,   1516,    542],\n",
      "       [   597,    418, 178694]])), (('M14', 'C31'), array([[ 10777,     13,   6737],\n",
      "       [   126,    106,   1860],\n",
      "       [   232,     25, 179452]])), (('M14', 'C31'), array([[ 10491,     12,   7024],\n",
      "       [   110,    113,   1869],\n",
      "       [   417,     44, 179248]])), (('M14', 'C31'), array([[ 10554,     12,   6961],\n",
      "       [   123,    116,   1853],\n",
      "       [   300,     31, 179378]])), (('M14', 'C31'), array([[ 11555,     20,   5952],\n",
      "       [    99,   1221,    772],\n",
      "       [   395,    326, 178988]])), (('M14', 'C31'), array([[ 11504,      0,   6023],\n",
      "       [    90,   1166,    836],\n",
      "       [   622,    491, 178596]]))), ((('C151', 'C181'), array([[ 17192,     12,   3245],\n",
      "       [    14,      5,    156],\n",
      "       [  1364,     17, 177323]])), (('C151', 'C181'), array([[ 18938,      5,   1506],\n",
      "       [    14,     48,    113],\n",
      "       [   334,     27, 178343]])), (('C151', 'C181'), array([[ 18000,     14,   2435],\n",
      "       [    22,     10,    143],\n",
      "       [   261,      2, 178441]])), (('C151', 'C181'), array([[ 17208,     12,   3229],\n",
      "       [    14,      5,    156],\n",
      "       [  1364,     23, 177317]])), (('C151', 'C181'), array([[ 17813,     17,   2619],\n",
      "       [    21,      8,    146],\n",
      "       [   178,      0, 178526]])), (('C151', 'C181'), array([[ 18132,     16,   2301],\n",
      "       [    22,     29,    124],\n",
      "       [   156,      2, 178546]])), (('C151', 'C181'), array([[ 17430,      6,   3013],\n",
      "       [    14,      7,    154],\n",
      "       [  1306,     23, 177375]]))), ((('C151', 'C18'), array([[ 17131,     14,   3261],\n",
      "       [    20,      6,    192],\n",
      "       [  1340,     26, 177338]])), (('C151', 'C18'), array([[ 18882,     11,   1513],\n",
      "       [    21,     52,    145],\n",
      "       [   338,     39, 178327]])), (('C151', 'C18'), array([[ 17894,     20,   2492],\n",
      "       [    28,     13,    177],\n",
      "       [   258,      2, 178444]])), (('C151', 'C18'), array([[ 17142,     14,   3250],\n",
      "       [    20,      6,    192],\n",
      "       [  1339,     35, 177330]])), (('C151', 'C18'), array([[ 17718,     18,   2670],\n",
      "       [    30,     10,    178],\n",
      "       [   180,      0, 178524]])), (('C151', 'C18'), array([[ 18075,     18,   2313],\n",
      "       [    31,     31,    156],\n",
      "       [   161,      2, 178541]])), (('C151', 'C18'), array([[ 17342,     12,   3052],\n",
      "       [    22,      9,    187],\n",
      "       [  1285,     39, 177380]]))), ((('C151', 'C17'), array([[ 16204,      2,   4095],\n",
      "       [    17,     33,    273],\n",
      "       [  1248,     42, 177414]])), (('C151', 'C17'), array([[ 18798,      3,   1500],\n",
      "       [    13,    127,    183],\n",
      "       [   316,     57, 178331]])), (('C151', 'C17'), array([[ 17003,      5,   3293],\n",
      "       [    24,     35,    264],\n",
      "       [   242,      9, 178453]])), (('C151', 'C17'), array([[ 16224,      2,   4075],\n",
      "       [    17,     36,    270],\n",
      "       [  1259,     45, 177400]])), (('C151', 'C17'), array([[ 16850,      5,   3446],\n",
      "       [    21,     41,    261],\n",
      "       [   174,      5, 178525]])), (('C151', 'C17'), array([[ 17362,      5,   2934],\n",
      "       [    21,    120,    182],\n",
      "       [   156,      9, 178539]])), (('C151', 'C17'), array([[ 16941,      1,   3359],\n",
      "       [    15,     35,    273],\n",
      "       [  1219,     57, 177428]]))), ((('C151', 'C31'), array([[ 16134,      0,   4091],\n",
      "       [    27,      0,    372],\n",
      "       [   777,     12, 177915]])), (('C151', 'C31'), array([[ 18224,      0,   2001],\n",
      "       [    17,    121,    261],\n",
      "       [   407,     71, 178226]])), (('C151', 'C31'), array([[ 16642,      0,   3583],\n",
      "       [    40,      0,    359],\n",
      "       [   186,      0, 178518]])), (('C151', 'C31'), array([[ 16162,      0,   4063],\n",
      "       [    27,      1,    371],\n",
      "       [   789,     18, 177897]])), (('C151', 'C31'), array([[ 16444,      0,   3781],\n",
      "       [    36,      1,    362],\n",
      "       [   217,      1, 178486]])), (('C151', 'C31'), array([[ 16590,      3,   3632],\n",
      "       [    34,     52,    313],\n",
      "       [   200,     23, 178481]])), (('C151', 'C31'), array([[ 16396,      0,   3829],\n",
      "       [    27,     44,    328],\n",
      "       [   845,    127, 177732]]))), ((('C151', 'C152'), array([[ 11430,     54,   8294],\n",
      "       [    19,     92,    735],\n",
      "       [   370,    337, 177997]])), (('C151', 'C152'), array([[ 17822,     30,   1926],\n",
      "       [    10,    313,    523],\n",
      "       [   131,    519, 178054]])), (('C151', 'C152'), array([[ 11697,     85,   7996],\n",
      "       [    23,    127,    696],\n",
      "       [    50,     67, 178587]])), (('C151', 'C152'), array([[ 11482,     54,   8242],\n",
      "       [    19,     98,    729],\n",
      "       [   376,    355, 177973]])), (('C151', 'C152'), array([[ 11616,     75,   8087],\n",
      "       [    19,    112,    715],\n",
      "       [    64,    118, 178522]])), (('C151', 'C152'), array([[ 13622,     66,   6090],\n",
      "       [    19,    310,    517],\n",
      "       [    69,    375, 178260]])), (('C151', 'C152'), array([[ 12741,     22,   7015],\n",
      "       [    16,    108,    722],\n",
      "       [   310,    368, 178026]]))), ((('ECAT', 'GVIO'), array([[ 22826,      1,   6999],\n",
      "       [    28,      3,    479],\n",
      "       [  5134,     15, 163843]])), (('ECAT', 'GVIO'), array([[ 26549,      0,   3277],\n",
      "       [    13,    171,    326],\n",
      "       [  1098,     44, 167850]])), (('ECAT', 'GVIO'), array([[ 25488,      3,   4335],\n",
      "       [    38,     16,    456],\n",
      "       [   925,      0, 168067]])), (('ECAT', 'GVIO'), array([[ 22973,      1,   6852],\n",
      "       [    27,     12,    471],\n",
      "       [  2667,     35, 166290]])), (('ECAT', 'GVIO'), array([[ 25119,      5,   4702],\n",
      "       [    37,     23,    450],\n",
      "       [   642,      0, 168350]])), (('ECAT', 'GVIO'), array([[ 26168,      5,   3653],\n",
      "       [    50,    157,    303],\n",
      "       [   585,      0, 168407]])), (('ECAT', 'GVIO'), array([[ 24044,      0,   5782],\n",
      "       [    42,     57,    411],\n",
      "       [  2729,    124, 166139]]))), ((('ECAT', 'C17'), array([[ 19688,     42,   8922],\n",
      "       [    90,   1005,    589],\n",
      "       [  4525,    172, 164295]])), (('ECAT', 'C17'), array([[ 24920,     36,   3696],\n",
      "       [    59,   1328,    297],\n",
      "       [  1145,    173, 167674]])), (('ECAT', 'C17'), array([[ 22120,     61,   6471],\n",
      "       [   114,   1020,    550],\n",
      "       [   797,     17, 168178]])), (('ECAT', 'C17'), array([[ 19937,     40,   8675],\n",
      "       [    83,   1036,    565],\n",
      "       [  2975,    167, 165850]])), (('ECAT', 'C17'), array([[ 21917,     48,   6687],\n",
      "       [   121,   1036,    527],\n",
      "       [   610,      7, 168375]])), (('ECAT', 'C17'), array([[ 23526,     68,   5058],\n",
      "       [   127,   1281,    276],\n",
      "       [   590,     20, 168382]])), (('ECAT', 'C17'), array([[ 20738,      0,   7914],\n",
      "       [    87,   1145,    452],\n",
      "       [  2823,    326, 165843]]))), ((('ECAT', 'M13'), array([[ 19386,     36,   8790],\n",
      "       [   115,    386,   1623],\n",
      "       [  4397,    434, 164161]])), (('ECAT', 'M13'), array([[ 25036,     14,   3162],\n",
      "       [    39,   1544,    541],\n",
      "       [   983,    374, 167635]])), (('ECAT', 'M13'), array([[ 21956,     41,   6215],\n",
      "       [   143,    428,   1553],\n",
      "       [   655,     67, 168270]])), (('ECAT', 'M13'), array([[ 19707,     36,   8469],\n",
      "       [   119,    448,   1557],\n",
      "       [  2317,    256, 166419]])), (('ECAT', 'M13'), array([[ 21763,     43,   6406],\n",
      "       [   158,    463,   1503],\n",
      "       [   428,     37, 168527]])), (('ECAT', 'M13'), array([[ 24653,     24,   3535],\n",
      "       [   148,   1601,    375],\n",
      "       [   429,    136, 168427]])), (('ECAT', 'M13'), array([[ 20928,      0,   7284],\n",
      "       [   134,    663,   1327],\n",
      "       [  2273,    399, 166320]]))), ((('ECAT', 'GPOL'), array([[ 15712,     36,  11729],\n",
      "       [   107,    414,   2338],\n",
      "       [  3162,    334, 165496]])), (('ECAT', 'GPOL'), array([[ 23078,     12,   4387],\n",
      "       [    33,   1993,    833],\n",
      "       [  1354,    365, 167273]])), (('ECAT', 'GPOL'), array([[ 17530,     47,   9900],\n",
      "       [   136,    465,   2258],\n",
      "       [   639,     63, 168290]])), (('ECAT', 'GPOL'), array([[ 16310,     34,  11133],\n",
      "       [   105,    559,   2195],\n",
      "       [  2932,    391, 165669]])), (('ECAT', 'GPOL'), array([[ 17474,     45,   9958],\n",
      "       [   132,    596,   2131],\n",
      "       [   662,     52, 168278]])), (('ECAT', 'GPOL'), array([[ 20427,     44,   7006],\n",
      "       [   145,   2098,    616],\n",
      "       [   680,    222, 168090]])), (('ECAT', 'GPOL'), array([[ 17869,      0,   9608],\n",
      "       [   117,   1732,   1010],\n",
      "       [  3009,    913, 165070]]))), ((('ECAT', 'MCAT'), array([[ 13593,     94,  13456],\n",
      "       [   135,    584,   2474],\n",
      "       [  2745,    953, 165294]])), (('ECAT', 'MCAT'), array([[ 22815,     70,   4258],\n",
      "       [    49,   2061,   1083],\n",
      "       [  1074,    710, 167208]])), (('ECAT', 'MCAT'), array([[ 15206,    124,  11813],\n",
      "       [   149,    710,   2334],\n",
      "       [   449,    127, 168416]])), (('ECAT', 'MCAT'), array([[ 14401,     92,  12650],\n",
      "       [   128,    709,   2356],\n",
      "       [  2579,   1025, 165388]])), (('ECAT', 'MCAT'), array([[ 15493,    108,  11542],\n",
      "       [   143,    750,   2300],\n",
      "       [   431,    146, 168415]])), (('ECAT', 'MCAT'), array([[ 19096,    107,   7940],\n",
      "       [   180,   1976,   1037],\n",
      "       [   469,    336, 168187]])), (('ECAT', 'MCAT'), array([[ 15345,     88,  11710],\n",
      "       [   127,    613,   2453],\n",
      "       [  2352,    815, 165825]])))]\n"
     ]
    }
   ],
   "source": [
    "print(list(zip(cm_auto.items(),cm_3.items(),cm_2.items(),cm_rr.items(),cm_ur.items(),cm_alus.items(),cm_alrs.items())))"
   ]
  },
  {
   "cell_type": "code",
   "execution_count": 54,
   "metadata": {},
   "outputs": [],
   "source": [
    "with open('results_TOIS_cs'+str(selected_cost_structure)+'.csv', mode='w', encoding='utf-8') as outputfile:\n",
    "    sep = ','\n",
    "    print('c_r','c_p',\n",
    "          'p(c_r|RCV1)','\"p(c_p|c_r,RCV1)\"',\n",
    "          'p(c_r|qRCV1)','\"p(c_p|c_r,qRCV1)\"',\n",
    "          'tau_r','tau_p',\n",
    "          'K_FM^a','K_FA^a','K_RM^a','K_UR^a','K_RR^a','K_ALUS^a','K_ALRS^a',\n",
    "          'K_FM^m','K_FA^m','K_RM^m','K_UR^m','K_RR^m','K_ALUS^m','K_ALRS^m',\n",
    "          'K_FM^o','K_FA^o','K_RM^o','K_UR^o','K_RR^o','K_ALUS^o','K_ALRS^o',\n",
    "          't^learn_{c_r}','t^classify_{c_r}','t^learn_{c_p}','t^classify{c_p}',\n",
    "          't_FM', 't_FA', 't_RM', 't_UR', 't_RR', 't_ALUS', 't_ALRS',\n",
    "          sep=sep,file=outputfile)\n",
    "\n",
    "    prob_precision = 4\n",
    "    cost_precision = 10\n",
    "    time_precision = 5\n",
    "    for pair in pairs:\n",
    "        c_r,c_p = pair\n",
    "\n",
    "        print(c_r,c_p,\n",
    "              tau_rs[pair],tau_ps[pair],\n",
    "              f'{cost_manual_ann[pair]:{cost_precision}.{cost_precision}}',f'{cost_auto_ann[pair]:{cost_precision}.{cost_precision}}',\n",
    "              f'{cost_3_ann[pair]:{cost_precision}.{cost_precision}}',\n",
    "              f'{cost_ur_ann[pair]:{cost_precision}.{cost_precision}}',f'{cost_rr_ann[pair]:{cost_precision}.{cost_precision}}',\n",
    "              f'{cost_alus_ann[pair]:{cost_precision}.{cost_precision}}',f'{cost_alrs_ann[pair]:{cost_precision}.{cost_precision}}',\n",
    "              f'{cost_manual_misc[pair]:{cost_precision}.{cost_precision}}',f'{cost_auto_misc[pair]:{cost_precision}.{cost_precision}}',\n",
    "              f'{cost_3_misc[pair]:{cost_precision}.{cost_precision}}',\n",
    "              f'{cost_ur_misc[pair]:{cost_precision}.{cost_precision}}',f'{cost_rr_misc[pair]:{cost_precision}.{cost_precision}}',\n",
    "              f'{cost_alus_misc[pair]:{cost_precision}.{cost_precision}}',f'{cost_alrs_misc[pair]:{cost_precision}.{cost_precision}}',\n",
    "              f'{cost_manual[pair]:{cost_precision}.{cost_precision}}',f'{cost_auto[pair]:{cost_precision}.{cost_precision}}',\n",
    "              f'{cost_3[pair]:{cost_precision}.{cost_precision}}',\n",
    "              f'{cost_ur[pair]:{cost_precision}.{cost_precision}}',f'{cost_rr[pair]:{cost_precision}.{cost_precision}}',\n",
    "              f'{cost_alus[pair]:{cost_precision}.{cost_precision}}',f'{cost_alrs[pair]:{cost_precision}.{cost_precision}}',\n",
    "              f'{_timers[\" \".join([\"learn\",c_r])]:{time_precision}.{time_precision}}',f'{_timers[\" \".join([\"classify\",c_r])]:{time_precision}.{time_precision}}',\n",
    "              f'{_timers[\" \".join([\"learn\",c_p])]:{time_precision}.{time_precision}}',f'{_timers[\" \".join([\"classify\",c_p])]:{time_precision}.{time_precision}}',\n",
    "              0, 0, f'{_timers[\" \".join([\"RM\",c_r,c_p])]:{time_precision}.{time_precision}}',\n",
    "              f'{_timers[\" \".join([\"UR\",c_r,c_p])]:{time_precision}.{time_precision}}',f'{_timers[\" \".join([\"RR\",c_r,c_p])]:{time_precision}.{time_precision}}',\n",
    "              f'{_timers[\" \".join([\"ALUS\",c_r,c_p])]:{time_precision}.{time_precision}}',f'{_timers[\" \".join([\"ALRS\",c_r,c_p])]:{time_precision}.{time_precision}}',\n",
    "              sep=sep,file=outputfile)"
   ]
  },
  {
   "cell_type": "code",
   "execution_count": null,
   "metadata": {},
   "outputs": [],
   "source": []
  }
 ],
 "metadata": {
  "kernelspec": {
   "display_name": "nn",
   "language": "python",
   "name": "py3"
  }
 },
 "nbformat": 4,
 "nbformat_minor": 2
}
